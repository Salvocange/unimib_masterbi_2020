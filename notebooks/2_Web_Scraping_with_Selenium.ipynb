{
  "cells": [
    {
      "cell_type": "markdown",
      "metadata": {
        "id": "VYfg3I_fSt6e",
        "colab_type": "text"
      },
      "source": [
        "# WebScraping with Selenium\n",
        "\n",
        "This notebook shows how use selenium to scrape data from Kickstarter.com\n",
        "The scope is only to understand the capabilities of web scraping and prepare a dataset for academic purporse.\n",
        "\n",
        "Let’s begin writing our scraper!\n",
        "\n",
        "We will first install important modules and packages for our Notebook\n",
        "\n",
        "\n",
        "*   Selenium\n",
        "*   Chromium-chromedriver\n",
        "\n",
        "<a href=\"https://colab.research.google.com/drive/1_WyM24eXWf-pdcqJKCcsb1pWwnbEWRi8?authuser=2#scrollTo=VYfg3I_fSt6e\"><img align=\"left\" src=\"https://colab.research.google.com/assets/colab-badge.svg\" alt=\"Open in Colab\" title=\"Open and Execute in Google Colaboratory\"></a>\n"
      ]
    },
    {
      "cell_type": "code",
      "metadata": {
        "id": "6E11q1711nmO",
        "colab_type": "code",
        "colab": {}
      },
      "source": [
        "!pip install selenium\n",
        "!apt-get update\n",
        "!apt install chromium-chromedriver\n",
        "!cp /usr/lib/chromium-browser/chromedriver /usr/bin"
      ],
      "execution_count": 0,
      "outputs": []
    },
    {
      "cell_type": "markdown",
      "metadata": {
        "id": "kuhZcDh4UHYp",
        "colab_type": "text"
      },
      "source": [
        "And now we will import some modules on our Notebook\n",
        "\n",
        "\n",
        "1.   sys: to setup the path of chrome driver\n",
        "2.   selenium: to emulate the user behaviour\n",
        "3.   pandas: to work with data\n",
        "4.   tqdm: to show a progress bar in our notebook\n",
        "5.   json: to work with json format\n",
        "\n",
        "\n",
        "\n"
      ]
    },
    {
      "cell_type": "code",
      "metadata": {
        "id": "YRt5yEXxA-jW",
        "colab_type": "code",
        "colab": {}
      },
      "source": [
        "import sys\n",
        "sys.path.insert(0,'/usr/lib/chromium-browser/chromedriver')\n",
        "from selenium import webdriver\n",
        "from tqdm import tqdm_notebook as tqdm\n",
        "import pandas\n",
        "import json\n",
        "import pprint"
      ],
      "execution_count": 0,
      "outputs": []
    },
    {
      "cell_type": "markdown",
      "metadata": {
        "id": "ksyefP35VQc2",
        "colab_type": "text"
      },
      "source": [
        "First we need to set the options for the ghost browser.\n",
        "The most important is `--headless` because we are in a \"cloud\" ntotebook. In our local notebook we can remove the `--headless` option.  \n"
      ]
    },
    {
      "cell_type": "code",
      "metadata": {
        "id": "DTfvdy_gBCBU",
        "colab_type": "code",
        "colab": {}
      },
      "source": [
        "chrome_options = webdriver.ChromeOptions()\n",
        "chrome_options.add_argument('--headless')\n",
        "chrome_options.add_argument('--no-sandbox')\n",
        "chrome_options.add_argument('--disable-dev-shm-usage')"
      ],
      "execution_count": 0,
      "outputs": []
    },
    {
      "cell_type": "markdown",
      "metadata": {
        "id": "0DpumOn7VoFw",
        "colab_type": "text"
      },
      "source": [
        "`webdriver` is the most importa object in Selenium.\n",
        "With `webdriver` we can start the phantom browser, emulate the user navigation and scrape our data. \n",
        "\n",
        "Let’s now create a new instance of google chrome.\n",
        "\n",
        "\n",
        "We will navitage to page by a `get` request. With http we can do a get or a post (or others but they are not important for us): https://www.w3schools.com/tags/ref_httpmethods.asp \n",
        "\n",
        "\n",
        "\n",
        "```\n",
        "wd.get(\"https://www.kickstarter.com/discover/advanced?ref=nav_search&term=\")\n",
        "```\n",
        "\n"
      ]
    },
    {
      "cell_type": "code",
      "metadata": {
        "id": "D6MLvqs9BIzI",
        "colab_type": "code",
        "outputId": "62d602cc-2eb6-4bca-8730-6101417dc9cb",
        "colab": {
          "base_uri": "https://localhost:8080/",
          "height": 51
        }
      },
      "source": [
        "wd = webdriver.Chrome('chromedriver',chrome_options=chrome_options)\n",
        "wd.get(\"https://www.kickstarter.com/discover/advanced?ref=nav_search&term=\")"
      ],
      "execution_count": 4,
      "outputs": [
        {
          "output_type": "stream",
          "text": [
            "/usr/local/lib/python3.6/dist-packages/ipykernel_launcher.py:1: DeprecationWarning: use options instead of chrome_options\n",
            "  \"\"\"Entry point for launching an IPython kernel.\n"
          ],
          "name": "stderr"
        }
      ]
    },
    {
      "cell_type": "markdown",
      "metadata": {
        "id": "p3Sbfud-WbV-",
        "colab_type": "text"
      },
      "source": [
        "Take a look to the screenshot from our phantom browser.\n",
        "\n",
        "Note:\n",
        "- la language and the locale: It is en_US!\n",
        "- the screen ration: is it the same of our notebook?"
      ]
    },
    {
      "cell_type": "code",
      "metadata": {
        "id": "iBCZSC4dWfKW",
        "colab_type": "code",
        "outputId": "c5070378-5c9d-4203-f5f1-f436e1501e64",
        "colab": {
          "base_uri": "https://localhost:8080/",
          "height": 286
        }
      },
      "source": [
        "wd.save_screenshot('screenshot.png')\n",
        "\n",
        "%pylab inline\n",
        "import matplotlib.pyplot as plt\n",
        "import matplotlib.image as mpimg\n",
        "img=mpimg.imread('/content/screenshot.png')\n",
        "imgplot = plt.imshow(img)\n",
        "plt.show()"
      ],
      "execution_count": 5,
      "outputs": [
        {
          "output_type": "stream",
          "text": [
            "Populating the interactive namespace from numpy and matplotlib\n"
          ],
          "name": "stdout"
        },
        {
          "output_type": "display_data",
          "data": {
            "image/png": "[encoded data removed]",
            "text/plain": [
              "<Figure size 432x288 with 1 Axes>"
            ]
          },
          "metadata": {
            "tags": [],
            "needs_background": "light"
          }
        }
      ]
    },
    {
      "cell_type": "markdown",
      "metadata": {
        "id": "kRr2IAQsa1s_",
        "colab_type": "text"
      },
      "source": [
        "Let's try to extract some information from the page\n",
        "\n",
        "\n",
        "\n",
        "`title` contains the title of our page.\n",
        "\n",
        "\n"
      ]
    },
    {
      "cell_type": "code",
      "metadata": {
        "id": "X033nUzra6uq",
        "colab_type": "code",
        "outputId": "7fb70984-f13b-409a-a4b1-b7a7fb2a702e",
        "colab": {
          "base_uri": "https://localhost:8080/",
          "height": 34
        }
      },
      "source": [
        "print(wd.title)"
      ],
      "execution_count": 12,
      "outputs": [
        {
          "output_type": "stream",
          "text": [
            "Discover Projects — Kickstarter\n"
          ],
          "name": "stdout"
        }
      ]
    },
    {
      "cell_type": "markdown",
      "metadata": {
        "id": "C2FL7PA0jXdP",
        "colab_type": "text"
      },
      "source": [
        "### First exercise with *Selenium*\n",
        "\n",
        "Try it yourself... Print the contents of the page on the screen!\n",
        "\n",
        "Complete the code and annotate the different behaviour. Try to use the attributes/methods applied to `wd`\n",
        "\n",
        "- `page_source`\n",
        "- `find_element_by_tag_name(\"body\")`\n",
        "- `find_element_by_tag_name(\"body\").text`\n",
        "\n",
        "\n"
      ]
    },
    {
      "cell_type": "code",
      "metadata": {
        "id": "wkPbJsAPj19o",
        "colab_type": "code",
        "colab": {}
      },
      "source": [
        "print(....)"
      ],
      "execution_count": 0,
      "outputs": []
    },
    {
      "cell_type": "markdown",
      "metadata": {
        "id": "zK7Cf_mradiL",
        "colab_type": "text"
      },
      "source": [
        "### How do we extract the values inside a page with CSS Selector?\n",
        "\n",
        "Selenium has a method called `find_elements_by_css_selector`.\n",
        "\n",
        "We will pass our CSS Selector into this method and get a list of selenium elements. Once we have the element, we can extract the text inside it using the `text` function."
      ]
    },
    {
      "cell_type": "code",
      "metadata": {
        "id": "WFuRVKIdbWN3",
        "colab_type": "code",
        "outputId": "cf208412-5196-4723-c27e-f2e381ee11a1",
        "colab": {
          "base_uri": "https://localhost:8080/",
          "height": 34
        }
      },
      "source": [
        "list_h3 = wd.find_elements_by_css_selector(\"h3\")\n",
        "print(len(list_h3))"
      ],
      "execution_count": 6,
      "outputs": [
        {
          "output_type": "stream",
          "text": [
            "17\n"
          ],
          "name": "stdout"
        }
      ]
    },
    {
      "cell_type": "code",
      "metadata": {
        "id": "cRPP5xUrbwcE",
        "colab_type": "code",
        "outputId": "819082ba-518c-464e-8f8f-9300d78b2020",
        "colab": {
          "base_uri": "https://localhost:8080/",
          "height": 34
        }
      },
      "source": [
        "print(list_h3[0].text)"
      ],
      "execution_count": 19,
      "outputs": [
        {
          "output_type": "stream",
          "text": [
            "Explore 480,677 projects\n"
          ],
          "name": "stdout"
        }
      ]
    },
    {
      "cell_type": "markdown",
      "metadata": {
        "id": "bAtLMeKVb8Wp",
        "colab_type": "text"
      },
      "source": [
        "### Exercise on *find_elements_by_css_selector*\n",
        "\n",
        "Try to export the list of `p` elements and show the content of the first element.\n",
        "\n",
        "\n"
      ]
    },
    {
      "cell_type": "code",
      "metadata": {
        "id": "6_4-y31fcEYq",
        "colab_type": "code",
        "colab": {}
      },
      "source": [
        "list_p = wd......(\"...\")\n",
        "print(len(list_p))"
      ],
      "execution_count": 0,
      "outputs": []
    },
    {
      "cell_type": "markdown",
      "metadata": {
        "id": "A1ETBqlPcQhl",
        "colab_type": "text"
      },
      "source": [
        "# Project List from Kickstarter\n",
        "\n",
        "Let's begin to download the list of projects.\n",
        "\n",
        "The list of projects is defined by the css selection rule\n",
        "`#projects_list > div > div.js-react-proj-card`\n",
        "\n"
      ]
    },
    {
      "cell_type": "code",
      "metadata": {
        "id": "_V1hNO9ZcJy6",
        "colab_type": "code",
        "outputId": "c25354cf-b00b-4869-d249-f259d24ad027",
        "colab": {
          "base_uri": "https://localhost:8080/",
          "height": 34
        }
      },
      "source": [
        "list_projects = wd.find_elements_by_css_selector(\"#projects_list > div > div.js-react-proj-card\")\n",
        "print(len(list_projects))"
      ],
      "execution_count": 7,
      "outputs": [
        {
          "output_type": "stream",
          "text": [
            "12\n"
          ],
          "name": "stdout"
        }
      ]
    },
    {
      "cell_type": "markdown",
      "metadata": {
        "id": "k_fSFWX0cktI",
        "colab_type": "text"
      },
      "source": [
        "Gread! We find 12 project!\n",
        "\n",
        "Now, we will extract the attribute from each single element.\n",
        "The scope is to create one dict for each project in the list with the attribute:\n",
        "\n",
        "\n",
        "1.   url\n",
        "2.   title\n",
        "3.   description\n",
        "4.   category\n",
        "5.   location\n",
        "\n"
      ]
    },
    {
      "cell_type": "code",
      "metadata": {
        "id": "1J2xAL6qcj9-",
        "colab_type": "code",
        "outputId": "cf535e72-5e52-401a-abf5-840e3643eadd",
        "colab": {
          "base_uri": "https://localhost:8080/",
          "height": 1000
        }
      },
      "source": [
        "import pprint\n",
        "detail_projects = []\n",
        "for project in list_projects:\n",
        "    title = project.find_elements_by_css_selector(\"h3\")[0].text\n",
        "    url = project.find_elements_by_css_selector(\"a\")[0].get_attribute(\"href\")\n",
        "    description = project.find_elements_by_css_selector(\".mb3 p\")[0].text\n",
        "    category = project.find_elements_by_css_selector(\".pb3 a\")[4].text\n",
        "    location = project.find_elements_by_css_selector(\".pb3 a\")[5].text\n",
        "    project_id = project.get_attribute(\"data-pid\")\n",
        "\n",
        "    detail_projects.append({'url': url,\n",
        "                            'title': title,\n",
        "                            'description': description,\n",
        "                            'category': category,\n",
        "                            'location': location,\n",
        "                            'project_id': project_id})\n",
        "\n",
        "len(detail_projects)\n",
        "pprint.pprint(detail_projects)"
      ],
      "execution_count": 8,
      "outputs": [
        {
          "output_type": "stream",
          "text": [
            "[{'category': 'Nonfiction',\n",
            "  'description': 'After 7 years of research I am excited to write the first '\n",
            "                 'English book about Jewish-German circus legends: The Lorch '\n",
            "                 'Family, 1880-1945.',\n",
            "  'location': 'Bristol, UK',\n",
            "  'project_id': '186177193',\n",
            "  'title': 'The Lorchs: The Rise and Fall of a Jewish Circus Dynasty',\n",
            "  'url': 'https://www.kickstarter.com/projects/stavmeishar/the-lorchs-the-rise-and-fall-of-a-jewish-circus-dynasty?ref=discovery'},\n",
            " {'category': 'Drinks',\n",
            "  'description': 'The Tea Crane is opening its physical flagship store in the '\n",
            "                 'heart of Kyoto, and needs your help to share authentic '\n",
            "                 'Japanese tea culture',\n",
            "  'location': 'Kyoto-shi, Japan',\n",
            "  'project_id': '305444630',\n",
            "  'title': 'Thé Japanese Tea Hub For Tea Lovers From All Over The World',\n",
            "  'url': 'https://www.kickstarter.com/projects/tyas-sosen/the-japanese-tea-hub-for-tea-lovers-from-all-over-the-world?ref=discovery'},\n",
            " {'category': 'Product Design',\n",
            "  'description': 'Beautifully crafted eco-friendly bags to store your '\n",
            "                 'treasures through your journey',\n",
            "  'location': 'Los Angeles, CA',\n",
            "  'project_id': '1706943935',\n",
            "  'title': 'Montage - Designed for all Your Moments of Life',\n",
            "  'url': 'https://www.kickstarter.com/projects/montage/montage-designed-for-all-your-moments-of-life?ref=discovery'},\n",
            " {'category': 'Comic Books',\n",
            "  'description': 'A pulse-pounding sci-fi mystery about a scientist who '\n",
            "                 'becomes a victim of his own technology.',\n",
            "  'location': 'Lehighton, PA',\n",
            "  'project_id': '971445610',\n",
            "  'title': 'Duplicant 1-3: A Dystopian Biopunk Thriller',\n",
            "  'url': 'https://www.kickstarter.com/projects/2007016434/duplicant-1-3-a-dystopian-biopunk-thriller?ref=discovery'},\n",
            " {'category': \"Children's Books\",\n",
            "  'description': 'An illustrated story written in the C programming language '\n",
            "                 '(with English translations!).',\n",
            "  'location': 'Simi Valley, CA',\n",
            "  'project_id': '2047084002',\n",
            "  'title': 'A Day in Code - A picture book written in code',\n",
            "  'url': 'https://www.kickstarter.com/projects/914595512/a-day-in-code?ref=discovery'},\n",
            " {'category': 'Fiction',\n",
            "  'description': 'Beautiful Hardback Book filled with Monstrous Stories, '\n",
            "                 'Stunning Artwork and RPG Rules!',\n",
            "  'location': 'Kirkcaldy, UK',\n",
            "  'project_id': '811926054',\n",
            "  'title': 'The Book of Beastly Creatures (Stories, Artwork & RPG Rules)',\n",
            "  'url': 'https://www.kickstarter.com/projects/lawriebrewster/the-book-of-beastly-creatures-stories-rpg-rules-and-artwork?ref=discovery'},\n",
            " {'category': 'Fashion',\n",
            "  'description': 'Quilted-cotton bags for great escapes.',\n",
            "  'location': 'Pittsburgh, PA',\n",
            "  'project_id': '632552919',\n",
            "  'title': 'Skedaddleosaurus Bags',\n",
            "  'url': 'https://www.kickstarter.com/projects/159974695/skedaddleosaurus-bags?ref=discovery'},\n",
            " {'category': 'Tabletop Games',\n",
            "  'description': 'The road is costly, but the rewards are great! Merchants of '\n",
            "                 'the Dark Road is a strategy board game set in an exciting '\n",
            "                 'new fantasy world',\n",
            "  'location': 'Champaign, IL',\n",
            "  'project_id': '1446671987',\n",
            "  'title': 'Merchants of the Dark Road',\n",
            "  'url': 'https://www.kickstarter.com/projects/brentdickman/merchants-of-the-dark-road?ref=discovery'},\n",
            " {'category': 'Hardware',\n",
            "  'description': 'Instafloss is a multi-jet water flosser delivering an '\n",
            "                 'amazingly comfortable and effective flossing experience in '\n",
            "                 'only 10 seconds.',\n",
            "  'location': 'Miami, FL',\n",
            "  'project_id': '748081064',\n",
            "  'title': 'Instafloss - The 10 Second Floss That Will Make You Smile',\n",
            "  'url': 'https://www.kickstarter.com/projects/instafloss/instafloss-say-bye-to-painful-time-consuming-flossing?ref=discovery'},\n",
            " {'category': 'Tabletop Games',\n",
            "  'description': 'Fight fire with fire in this award-winning, fiercely '\n",
            "                 'competitive board game, now with legendary firehawks!',\n",
            "  'location': 'Brooklyn, NY',\n",
            "  'project_id': '1944804664',\n",
            "  'title': 'Fire Tower: Rising Flames Expansion + Reprint 🔥',\n",
            "  'url': 'https://www.kickstarter.com/projects/575448464/fire-tower-rising-flames-expansion-reprint?ref=discovery'},\n",
            " {'category': 'Nonfiction',\n",
            "  'description': 'Independent Games at the Dawn of the Internet',\n",
            "  'location': 'London, UK',\n",
            "  'project_id': '647651357',\n",
            "  'title': 'Shareware Heroes',\n",
            "  'url': 'https://www.kickstarter.com/projects/vicreeves/shareware-heroes?ref=discovery'},\n",
            " {'category': 'Tabletop Games',\n",
            "  'description': 'A candy stealing card game and pint-sized brawl.',\n",
            "  'location': 'Los Angeles, CA',\n",
            "  'project_id': '194383029',\n",
            "  'title': 'Sugar Heist',\n",
            "  'url': 'https://www.kickstarter.com/projects/979360119/sugar-heist?ref=discovery'}]\n"
          ],
          "name": "stdout"
        }
      ]
    },
    {
      "cell_type": "markdown",
      "metadata": {
        "id": "9Sn0txryfR4c",
        "colab_type": "text"
      },
      "source": [
        "Now let's try downloading all the ads on the front page...\n",
        "and then move on to the second.\n",
        "\n",
        "First we define a `parse_project` function to make the code cleaner and to reuse the function."
      ]
    },
    {
      "cell_type": "code",
      "metadata": {
        "id": "tD3KLUrIfTJd",
        "colab_type": "code",
        "colab": {}
      },
      "source": [
        "def parse_project(project):\n",
        "  title = project.find_elements_by_css_selector(\"h3\")[0].text\n",
        "  url = project.find_elements_by_css_selector(\"a\")[0].get_attribute(\"href\")\n",
        "  description = project.find_elements_by_css_selector(\".mb3 p\")[0].text\n",
        "  category = project.find_elements_by_css_selector(\".pb3 a\")[4].text\n",
        "  location = project.find_elements_by_css_selector(\".pb3 a\")[5].text\n",
        "  project_id = project.get_attribute(\"data-pid\")\n",
        "  return {'url': url,\n",
        "          'title': title,\n",
        "          'description': description,\n",
        "          'category': category,\n",
        "          'location': location,\n",
        "          'project_id': project_id}\n"
      ],
      "execution_count": 0,
      "outputs": []
    },
    {
      "cell_type": "markdown",
      "metadata": {
        "id": "SR-xG0FIgf7u",
        "colab_type": "text"
      },
      "source": [
        "Here's how to download the first two pages of projects..."
      ]
    },
    {
      "cell_type": "code",
      "metadata": {
        "id": "TfWSS_33fbZg",
        "colab_type": "code",
        "outputId": "b64bf9d0-f782-438b-8404-1da6e5f22ce4",
        "colab": {
          "base_uri": "https://localhost:8080/",
          "height": 134,
          "referenced_widgets": [
            "805ba751362b4e1a9bad678a341a0376",
            "6406942f963a481db0518c879398dc2c",
            "b10593c9e1c64fddbff0e82e949c3886",
            "54de0a65ac5843ee94e805c8b17be6df",
            "fffdd8440ae94d078f39d22916ffafd7",
            "f6f50573522e403c93a21ba7dff2770b",
            "f34078c73d0a442d8ca7ed41d59ab91a",
            "a071077aa9f04459ac1494d4c9367ed0"
          ]
        }
      },
      "source": [
        "detail_projects = []\n",
        "wd.get(\"https://www.kickstarter.com/discover/advanced?ref=nav_search&term=\")\n",
        "for num in tqdm(range(1,3)):\n",
        "  wd.save_screenshot(f'screenshot_{num}.png')\n",
        "  list_projects = wd.find_elements_by_css_selector(\"#projects_list > div > div.js-react-proj-card\")\n",
        "  for project in list_projects:\n",
        "    detail_projects.append(parse_project(project))\n",
        "  load_more = wd.find_element_by_css_selector(\".load_more\")\n",
        "  load_more.click()\n",
        "\n",
        "print(len(detail_projects))"
      ],
      "execution_count": 10,
      "outputs": [
        {
          "output_type": "stream",
          "text": [
            "/usr/local/lib/python3.6/dist-packages/ipykernel_launcher.py:3: TqdmDeprecationWarning: This function will be removed in tqdm==5.0.0\n",
            "Please use `tqdm.notebook.tqdm` instead of `tqdm.tqdm_notebook`\n",
            "  This is separate from the ipykernel package so we can avoid doing imports until\n"
          ],
          "name": "stderr"
        },
        {
          "output_type": "display_data",
          "data": {
            "application/vnd.jupyter.widget-view+json": {
              "model_id": "805ba751362b4e1a9bad678a341a0376",
              "version_minor": 0,
              "version_major": 2
            },
            "text/plain": [
              "HBox(children=(FloatProgress(value=0.0, max=2.0), HTML(value='')))"
            ]
          },
          "metadata": {
            "tags": []
          }
        },
        {
          "output_type": "stream",
          "text": [
            "\n",
            "24\n"
          ],
          "name": "stdout"
        }
      ]
    },
    {
      "cell_type": "markdown",
      "metadata": {
        "id": "HbjVFLOOgnNx",
        "colab_type": "text"
      },
      "source": [
        "Have you seen the bookstore **tqdm**!\n",
        "Find at this link all the documentation **https://github.com/tqdm/tqdm**:\n",
        "is very useful to make our notebook more nice..."
      ]
    },
    {
      "cell_type": "markdown",
      "metadata": {
        "id": "S9MsWLutg4Oi",
        "colab_type": "text"
      },
      "source": [
        "### How to end scraping?\n",
        "Problem: When do we stop?\n",
        "\n",
        "There are several ways. Some simpler and some more advanced:\n",
        "- We can search inside the page for the ad number and divide it by 12\n",
        "- We can check the status of the request (if (status_code == 200):... for a list of possible http status codes please check https://en.wikipedia.org/wiki/List_of_HTTP_status_codes)\n",
        "- We can check the number of ads found (if > 0...)\n",
        "- Other more advanced techniques...\n",
        "\n",
        "For example, in our case, let's go to verify the presence, or not, of the *Load more* button inside the page. If present, we continue scraping, otherwise we stop.\n",
        "\n",
        "Actually, we can also combine more than one of these techniques.\n",
        "\n",
        "For this exercise we will just download the first 10 pages."
      ]
    },
    {
      "cell_type": "code",
      "metadata": {
        "id": "nkofmsCGgwQA",
        "colab_type": "code",
        "outputId": "4d1df9b3-06a6-4cc9-98fd-f2bea2a149a5",
        "colab": {
          "base_uri": "https://localhost:8080/",
          "height": 134,
          "referenced_widgets": [
            "fe07f0c745d242e9b540648122dc0230",
            "da1da4948f654000a0426d44aa2fb0ad",
            "fa8f9a10883e4a4aa229f1c3e70d576a",
            "ae5f7d66d96546dfa10bc07ac605ae08",
            "5e53b1d6bfb241188f10c7a8b2b99d48",
            "2b4594b88f2a463b987572a69441c0eb",
            "339d02684df74044a338864c796a5792",
            "caba4f667f9c4e5da51ac42cd10fe5b1"
          ]
        }
      },
      "source": [
        "import time\n",
        "detail_projects = []\n",
        "wd.get(\"https://www.kickstarter.com/discover/advanced?ref=nav_search&term=\")\n",
        "for num in tqdm(range(1,10)):\n",
        "  time.sleep(10)\n",
        "  wd.save_screenshot(f'screenshot_{num}.png')\n",
        "  list_projects = wd.find_elements_by_css_selector(\"#projects_list > div > div.js-react-proj-card\")\n",
        "  for project in list_projects:\n",
        "    detail_projects.append(parse_project(project))\n",
        "  load_more = wd.find_elements_by_css_selector(\".load_more\")\n",
        "  if(len(load_more)) > 0:\n",
        "    load_more[0].click()\n",
        "  else:\n",
        "    break\n",
        "\n",
        "print(len(detail_projects))"
      ],
      "execution_count": 11,
      "outputs": [
        {
          "output_type": "stream",
          "text": [
            "/usr/local/lib/python3.6/dist-packages/ipykernel_launcher.py:4: TqdmDeprecationWarning: This function will be removed in tqdm==5.0.0\n",
            "Please use `tqdm.notebook.tqdm` instead of `tqdm.tqdm_notebook`\n",
            "  after removing the cwd from sys.path.\n"
          ],
          "name": "stderr"
        },
        {
          "output_type": "display_data",
          "data": {
            "application/vnd.jupyter.widget-view+json": {
              "model_id": "fe07f0c745d242e9b540648122dc0230",
              "version_minor": 0,
              "version_major": 2
            },
            "text/plain": [
              "HBox(children=(FloatProgress(value=0.0, max=9.0), HTML(value='')))"
            ]
          },
          "metadata": {
            "tags": []
          }
        },
        {
          "output_type": "stream",
          "text": [
            "\n",
            "108\n"
          ],
          "name": "stdout"
        }
      ]
    },
    {
      "cell_type": "markdown",
      "metadata": {
        "id": "nCV7EJoYm2S-",
        "colab_type": "text"
      },
      "source": [
        "### Question for you!\n",
        "\n",
        "Have you noticed anything new?\n",
        "\n",
        "How do we use the `click` method? What happens to the browser?\n",
        "Try checking the screenshots we saved!\n",
        "\n",
        " "
      ]
    },
    {
      "cell_type": "markdown",
      "metadata": {
        "id": "TqxsicNNovfy",
        "colab_type": "text"
      },
      "source": [
        "# Pandas and data processing\n",
        "\n",
        "**Well!**\n",
        "We're starting to see another amazing library for working with data!\n",
        "\n",
        "It's **pandas**: *Python library for data analysis*.\n",
        "\n",
        "Basically, with pandas we can manipulate a data set or a historical series in Python.\n",
        "\n",
        "For now, we start to give a couple of concepts.\n",
        "\n",
        "Pandas is based on two types of data: **Series** and **DataFrame**:\n",
        "- `Series` represents a list of data\n",
        "- `DataFrame` represent a data set in tabular format\n",
        "\n",
        "Each column of a `DataFrame` is a `Series`.\n",
        "\n",
        "We can create a `DataFrame` using the `pd.DataFrame` method by passing our dictionary as an input parameter.\n",
        "\n",
        "A `DataFrame` pandas can be easily exported in *CSV*, *Excel*, ...\n",
        "\n",
        "For more information about `Pandas` see\n",
        "\n",
        "https://pandas.pydata.org/getting_started.html\n"
      ]
    },
    {
      "cell_type": "code",
      "metadata": {
        "id": "MumFgyNypoBo",
        "colab_type": "code",
        "colab": {
          "base_uri": "https://localhost:8080/",
          "height": 204
        },
        "outputId": "84cd705a-8f18-4b13-a0f6-6045a622f957"
      },
      "source": [
        "import pandas as pd\n",
        "ds_detail_projects = pd.DataFrame(detail_projects)\n",
        "ds_detail_projects.set_index(\"project_id\")\n",
        "ds_detail_projects.head()"
      ],
      "execution_count": 12,
      "outputs": [
        {
          "output_type": "execute_result",
          "data": {
            "text/html": [
              "<div>\n",
              "<style scoped>\n",
              "    .dataframe tbody tr th:only-of-type {\n",
              "        vertical-align: middle;\n",
              "    }\n",
              "\n",
              "    .dataframe tbody tr th {\n",
              "        vertical-align: top;\n",
              "    }\n",
              "\n",
              "    .dataframe thead th {\n",
              "        text-align: right;\n",
              "    }\n",
              "</style>\n",
              "<table border=\"1\" class=\"dataframe\">\n",
              "  <thead>\n",
              "    <tr style=\"text-align: right;\">\n",
              "      <th></th>\n",
              "      <th>url</th>\n",
              "      <th>title</th>\n",
              "      <th>description</th>\n",
              "      <th>category</th>\n",
              "      <th>location</th>\n",
              "      <th>project_id</th>\n",
              "    </tr>\n",
              "  </thead>\n",
              "  <tbody>\n",
              "    <tr>\n",
              "      <th>0</th>\n",
              "      <td>https://www.kickstarter.com/projects/barisieur...</td>\n",
              "      <td>Barisieur 2.0 - Coffee &amp; Tea Brewing Alarm Clock</td>\n",
              "      <td>Automatic Immersion Brewer with Alarm Clock Fu...</td>\n",
              "      <td>Product Design</td>\n",
              "      <td>London, UK</td>\n",
              "      <td>1010744379</td>\n",
              "    </tr>\n",
              "    <tr>\n",
              "      <th>1</th>\n",
              "      <td>https://www.kickstarter.com/projects/198623978...</td>\n",
              "      <td>Kombo King</td>\n",
              "      <td>Kombo King is an Action-Arcade Platformer with...</td>\n",
              "      <td>Video Games</td>\n",
              "      <td>Savannah, GA</td>\n",
              "      <td>1015125619</td>\n",
              "    </tr>\n",
              "    <tr>\n",
              "      <th>2</th>\n",
              "      <td>https://www.kickstarter.com/projects/lumoshelm...</td>\n",
              "      <td>Lumos Ultra - The New Standard In Bike Helmets</td>\n",
              "      <td>Integrated LED lighting, turn signals, and sma...</td>\n",
              "      <td>Hardware</td>\n",
              "      <td>Boston, MA</td>\n",
              "      <td>1774324319</td>\n",
              "    </tr>\n",
              "    <tr>\n",
              "      <th>3</th>\n",
              "      <td>https://www.kickstarter.com/projects/z2comics/...</td>\n",
              "      <td>Madi: Once Upon A Time In The Future</td>\n",
              "      <td>A sci-fi graphic novel by Duncan Jones, Alex d...</td>\n",
              "      <td>Graphic Novels</td>\n",
              "      <td>New York, NY</td>\n",
              "      <td>245959053</td>\n",
              "    </tr>\n",
              "    <tr>\n",
              "      <th>4</th>\n",
              "      <td>https://www.kickstarter.com/projects/francesca...</td>\n",
              "      <td>Doctor Li and the Crown-wearing Virus</td>\n",
              "      <td>A children's book about the global pandemic fr...</td>\n",
              "      <td>Children's Books</td>\n",
              "      <td>Los Angeles, CA</td>\n",
              "      <td>1949440126</td>\n",
              "    </tr>\n",
              "  </tbody>\n",
              "</table>\n",
              "</div>"
            ],
            "text/plain": [
              "                                                 url  ...  project_id\n",
              "0  https://www.kickstarter.com/projects/barisieur...  ...  1010744379\n",
              "1  https://www.kickstarter.com/projects/198623978...  ...  1015125619\n",
              "2  https://www.kickstarter.com/projects/lumoshelm...  ...  1774324319\n",
              "3  https://www.kickstarter.com/projects/z2comics/...  ...   245959053\n",
              "4  https://www.kickstarter.com/projects/francesca...  ...  1949440126\n",
              "\n",
              "[5 rows x 6 columns]"
            ]
          },
          "metadata": {
            "tags": []
          },
          "execution_count": 12
        }
      ]
    },
    {
      "cell_type": "markdown",
      "metadata": {
        "id": "GwW7Sj7irFDT",
        "colab_type": "text"
      },
      "source": [
        "The `.info()` method provides an indication of the structure and data of the `DataFrame`."
      ]
    },
    {
      "cell_type": "code",
      "metadata": {
        "id": "_tFbyPwcrNY4",
        "colab_type": "code",
        "colab": {
          "base_uri": "https://localhost:8080/",
          "height": 238
        },
        "outputId": "689b0e5e-1af4-4b63-c025-9020f527fbc7"
      },
      "source": [
        "ds_detail_projects.info()"
      ],
      "execution_count": 13,
      "outputs": [
        {
          "output_type": "stream",
          "text": [
            "<class 'pandas.core.frame.DataFrame'>\n",
            "RangeIndex: 108 entries, 0 to 107\n",
            "Data columns (total 6 columns):\n",
            " #   Column       Non-Null Count  Dtype \n",
            "---  ------       --------------  ----- \n",
            " 0   url          108 non-null    object\n",
            " 1   title        108 non-null    object\n",
            " 2   description  108 non-null    object\n",
            " 3   category     108 non-null    object\n",
            " 4   location     108 non-null    object\n",
            " 5   project_id   108 non-null    object\n",
            "dtypes: object(6)\n",
            "memory usage: 5.2+ KB\n"
          ],
          "name": "stdout"
        }
      ]
    },
    {
      "cell_type": "code",
      "metadata": {
        "id": "3lUw4-_BrQDh",
        "colab_type": "code",
        "colab": {}
      },
      "source": [
        "ds_detail_projects.to_csv('ds_projects.csv')"
      ],
      "execution_count": 0,
      "outputs": []
    },
    {
      "cell_type": "markdown",
      "metadata": {
        "id": "AXdgP8t3q_A-",
        "colab_type": "text"
      },
      "source": [
        "# Kickstarter Project pages ###\n",
        "\n",
        "Now, the goal is to navigate and download the details of each project and pictures of the houses.\n",
        "\n",
        "**Pandas** provides the *.read_csv* method that allows you to upload in CSV format files within a DataFrame."
      ]
    },
    {
      "cell_type": "code",
      "metadata": {
        "id": "yVnUyfGsvcac",
        "colab_type": "code",
        "colab": {
          "base_uri": "https://localhost:8080/",
          "height": 235
        },
        "outputId": "c6508138-df97-47ec-c016-b974f8da6f40"
      },
      "source": [
        "# open csv file\n",
        "import pandas as pd\n",
        "ds_detail_projects = pd.read_csv(\"ds_projects.csv\", index_col=\"project_id\")\n",
        "ds_detail_projects.head()"
      ],
      "execution_count": 15,
      "outputs": [
        {
          "output_type": "execute_result",
          "data": {
            "text/html": [
              "<div>\n",
              "<style scoped>\n",
              "    .dataframe tbody tr th:only-of-type {\n",
              "        vertical-align: middle;\n",
              "    }\n",
              "\n",
              "    .dataframe tbody tr th {\n",
              "        vertical-align: top;\n",
              "    }\n",
              "\n",
              "    .dataframe thead th {\n",
              "        text-align: right;\n",
              "    }\n",
              "</style>\n",
              "<table border=\"1\" class=\"dataframe\">\n",
              "  <thead>\n",
              "    <tr style=\"text-align: right;\">\n",
              "      <th></th>\n",
              "      <th>Unnamed: 0</th>\n",
              "      <th>url</th>\n",
              "      <th>title</th>\n",
              "      <th>description</th>\n",
              "      <th>category</th>\n",
              "      <th>location</th>\n",
              "    </tr>\n",
              "    <tr>\n",
              "      <th>project_id</th>\n",
              "      <th></th>\n",
              "      <th></th>\n",
              "      <th></th>\n",
              "      <th></th>\n",
              "      <th></th>\n",
              "      <th></th>\n",
              "    </tr>\n",
              "  </thead>\n",
              "  <tbody>\n",
              "    <tr>\n",
              "      <th>1010744379</th>\n",
              "      <td>0</td>\n",
              "      <td>https://www.kickstarter.com/projects/barisieur...</td>\n",
              "      <td>Barisieur 2.0 - Coffee &amp; Tea Brewing Alarm Clock</td>\n",
              "      <td>Automatic Immersion Brewer with Alarm Clock Fu...</td>\n",
              "      <td>Product Design</td>\n",
              "      <td>London, UK</td>\n",
              "    </tr>\n",
              "    <tr>\n",
              "      <th>1015125619</th>\n",
              "      <td>1</td>\n",
              "      <td>https://www.kickstarter.com/projects/198623978...</td>\n",
              "      <td>Kombo King</td>\n",
              "      <td>Kombo King is an Action-Arcade Platformer with...</td>\n",
              "      <td>Video Games</td>\n",
              "      <td>Savannah, GA</td>\n",
              "    </tr>\n",
              "    <tr>\n",
              "      <th>1774324319</th>\n",
              "      <td>2</td>\n",
              "      <td>https://www.kickstarter.com/projects/lumoshelm...</td>\n",
              "      <td>Lumos Ultra - The New Standard In Bike Helmets</td>\n",
              "      <td>Integrated LED lighting, turn signals, and sma...</td>\n",
              "      <td>Hardware</td>\n",
              "      <td>Boston, MA</td>\n",
              "    </tr>\n",
              "    <tr>\n",
              "      <th>245959053</th>\n",
              "      <td>3</td>\n",
              "      <td>https://www.kickstarter.com/projects/z2comics/...</td>\n",
              "      <td>Madi: Once Upon A Time In The Future</td>\n",
              "      <td>A sci-fi graphic novel by Duncan Jones, Alex d...</td>\n",
              "      <td>Graphic Novels</td>\n",
              "      <td>New York, NY</td>\n",
              "    </tr>\n",
              "    <tr>\n",
              "      <th>1949440126</th>\n",
              "      <td>4</td>\n",
              "      <td>https://www.kickstarter.com/projects/francesca...</td>\n",
              "      <td>Doctor Li and the Crown-wearing Virus</td>\n",
              "      <td>A children's book about the global pandemic fr...</td>\n",
              "      <td>Children's Books</td>\n",
              "      <td>Los Angeles, CA</td>\n",
              "    </tr>\n",
              "  </tbody>\n",
              "</table>\n",
              "</div>"
            ],
            "text/plain": [
              "            Unnamed: 0  ...         location\n",
              "project_id              ...                 \n",
              "1010744379           0  ...       London, UK\n",
              "1015125619           1  ...     Savannah, GA\n",
              "1774324319           2  ...       Boston, MA\n",
              "245959053            3  ...     New York, NY\n",
              "1949440126           4  ...  Los Angeles, CA\n",
              "\n",
              "[5 rows x 6 columns]"
            ]
          },
          "metadata": {
            "tags": []
          },
          "execution_count": 15
        }
      ]
    },
    {
      "cell_type": "markdown",
      "metadata": {
        "id": "8VaXQ52Kv2am",
        "colab_type": "text"
      },
      "source": [
        "***For each project we go to the link... how do you think we do it?***\n",
        "\n",
        "Let's try the first 5 projects.\n",
        "\n",
        "\n",
        "\n",
        "These days most of the web apps are using AJAX techniques. When a page is loaded by the browser, the elements within that page may load at different time intervals. Using waits, we can stop our scraping and wait the loading of a element.\n",
        "\n",
        "Selenium Webdriver provides two types of waits - implicit & explicit. An explicit wait makes WebDriver wait for a certain condition to occur before proceeding further with execution. An implicit wait makes WebDriver poll the DOM for a certain amount of time when trying to locate an element.\n"
      ]
    },
    {
      "cell_type": "code",
      "metadata": {
        "id": "7RJTIyFfv-Ig",
        "colab_type": "code",
        "colab": {
          "base_uri": "https://localhost:8080/",
          "height": 442
        },
        "outputId": "dfbcce3b-5e25-466d-e5d5-728e11c9d11b"
      },
      "source": [
        "from selenium.webdriver.common.by import By\n",
        "from selenium.webdriver.support.ui import WebDriverWait\n",
        "from selenium.webdriver.support import expected_conditions as EC\n",
        "import time\n",
        "details = []\n",
        "for project_id, project in ds_detail_projects.head().iterrows():\n",
        "    time.sleep(10)\n",
        "    link = project[\"url\"]\n",
        "    print(link)\n",
        "    wd.set_window_size(1920, 1080)\n",
        "    wd.get(link)\n",
        "    try:\n",
        "      WebDriverWait(wd, 10).until(\n",
        "          EC.element_to_be_clickable((By.ID, \"back-project-button\"))\n",
        "      )\n",
        "    except:\n",
        "      continue\n",
        "\n",
        "    wd.save_screenshot(f'screenshot_{project_id}.png')\n",
        "    backers = wd.find_elements_by_css_selector(\".type-16.dark-grey-500\")[0].text\n",
        "    goal = wd.find_elements_by_css_selector(\".ksr-green-500\")[0].text\n",
        "    pledged = wd.find_elements_by_css_selector(\"span.money\")[1].text\n",
        "    details.append({'project_id': project_id,\n",
        "                    'backers': backers,\n",
        "                    'goal': goal,\n",
        "                    'pledged': pledged})\n",
        "  \n",
        "len(details)\n",
        "pprint.pprint(details)\n"
      ],
      "execution_count": 16,
      "outputs": [
        {
          "output_type": "stream",
          "text": [
            "https://www.kickstarter.com/projects/barisieurimmersion/barisieur-20-coffee-and-tea-brewing-alarm-clock?ref=discovery\n",
            "https://www.kickstarter.com/projects/1986239782/kombo-king?ref=discovery\n",
            "https://www.kickstarter.com/projects/lumoshelmet/lumos-ultra-the-new-standard-in-bike-helmets?ref=discovery\n",
            "https://www.kickstarter.com/projects/z2comics/madi-once-upon-a-time-in-the-future?ref=discovery\n",
            "https://www.kickstarter.com/projects/francescavallo/doctor-li-and-the-crown-wearing-virus?ref=discovery\n",
            "[{'backers': '534',\n",
            "  'goal': '$114,868',\n",
            "  'pledged': '$12,544',\n",
            "  'project_id': 1010744379},\n",
            " {'backers': '4',\n",
            "  'goal': 'US$ 56',\n",
            "  'pledged': 'US$ 1,000',\n",
            "  'project_id': 1015125619},\n",
            " {'backers': '10,811',\n",
            "  'goal': 'US$ 1,272,289',\n",
            "  'pledged': 'US$ 60,000',\n",
            "  'project_id': 1774324319},\n",
            " {'backers': '6,095',\n",
            "  'goal': 'US$ 322,099',\n",
            "  'pledged': 'US$ 50,000',\n",
            "  'project_id': 245959053},\n",
            " {'backers': '1,028',\n",
            "  'goal': 'US$ 39,704',\n",
            "  'pledged': 'US$ 50,000',\n",
            "  'project_id': 1949440126}]\n"
          ],
          "name": "stdout"
        }
      ]
    },
    {
      "cell_type": "code",
      "metadata": {
        "id": "xf7bDTWTxLlf",
        "colab_type": "code",
        "colab": {
          "base_uri": "https://localhost:8080/",
          "height": 1000
        },
        "outputId": "384a3cd0-e579-4012-d8ad-1272f4ad13b7"
      },
      "source": [
        "from selenium.webdriver.common.by import By\n",
        "from selenium.webdriver.support.ui import WebDriverWait\n",
        "from selenium.webdriver.support import expected_conditions as EC\n",
        "import time\n",
        "details = []\n",
        "for project_id, project in ds_detail_projects.iterrows():\n",
        "    time.sleep(10)\n",
        "    link = project[\"url\"]\n",
        "    backers = 0\n",
        "    goal = 0\n",
        "    pledged = 0\n",
        "    print(link)\n",
        "    try:\n",
        "      wd.set_window_size(1920, 1080)\n",
        "      wd.get(link)\n",
        "      try:\n",
        "        WebDriverWait(wd, 10).until(\n",
        "            EC.element_to_be_clickable((By.ID, \"back-project-button\"))\n",
        "        )\n",
        "      except:\n",
        "        continue\n",
        "\n",
        "      wd.save_screenshot(f'screenshot_{project_id}.png')\n",
        "      backers_list = wd.find_elements_by_css_selector(\".type-16.dark-grey-500\")\n",
        "      goal_list = wd.find_elements_by_css_selector(\".ksr-green-500\")\n",
        "      pledged_list = wd.find_elements_by_css_selector(\"span.money\")\n",
        "      if(len(backers_list) > 0):\n",
        "        backers = int(backers_list[0].text.replace(\",\", \"\"))\n",
        "      if(len(goal_list) > 0):\n",
        "        goal = int(goal_list[0].text.replace(\",\", \"\").replace(\"$\", \"\").replace(\"US\", \"\"))\n",
        "      if(len(pledged_list) > 1):\n",
        "        pledged = int(pledged_list[1].text.replace(\",\", \"\").replace(\"$\", \"\").replace(\"US\", \"\"))\n",
        "    except Exception as e:\n",
        "      print(e)\n",
        "    details.append({'project_id': project_id,\n",
        "                    'backers': backers,\n",
        "                    'goal': goal,\n",
        "                    'pledged': pledged})\n",
        "  \n",
        "len(details)\n",
        "pprint.pprint(details)\n"
      ],
      "execution_count": 17,
      "outputs": [
        {
          "output_type": "stream",
          "text": [
            "https://www.kickstarter.com/projects/barisieurimmersion/barisieur-20-coffee-and-tea-brewing-alarm-clock?ref=discovery\n",
            "https://www.kickstarter.com/projects/1986239782/kombo-king?ref=discovery\n",
            "https://www.kickstarter.com/projects/lumoshelmet/lumos-ultra-the-new-standard-in-bike-helmets?ref=discovery\n",
            "https://www.kickstarter.com/projects/z2comics/madi-once-upon-a-time-in-the-future?ref=discovery\n",
            "https://www.kickstarter.com/projects/francescavallo/doctor-li-and-the-crown-wearing-virus?ref=discovery\n",
            "https://www.kickstarter.com/projects/strangehorizons2019/strange-horizons-2021?ref=discovery\n",
            "https://www.kickstarter.com/projects/travishancock/bristol-1350-race-against-the-black-death?ref=discovery\n",
            "https://www.kickstarter.com/projects/princessor/princess-or?ref=discovery\n",
            "https://www.kickstarter.com/projects/ottowildegrillers/ottos-g32-the-first-smart-and-modular-gas-grill?ref=discovery\n",
            "https://www.kickstarter.com/projects/ankamaanimations/wakfu-the-animated-series-season-4?ref=discovery\n",
            "https://www.kickstarter.com/projects/oyo/oyo-nova-gym?ref=discovery\n",
            "https://www.kickstarter.com/projects/terraplanter/terra-planter-the-inside-out-hydroponic-planter-pot?ref=discovery\n",
            "https://www.kickstarter.com/projects/barisieurimmersion/barisieur-20-coffee-and-tea-brewing-alarm-clock?ref=discovery\n",
            "https://www.kickstarter.com/projects/1986239782/kombo-king?ref=discovery\n",
            "https://www.kickstarter.com/projects/lumoshelmet/lumos-ultra-the-new-standard-in-bike-helmets?ref=discovery\n",
            "https://www.kickstarter.com/projects/z2comics/madi-once-upon-a-time-in-the-future?ref=discovery\n",
            "https://www.kickstarter.com/projects/francescavallo/doctor-li-and-the-crown-wearing-virus?ref=discovery\n",
            "https://www.kickstarter.com/projects/strangehorizons2019/strange-horizons-2021?ref=discovery\n",
            "https://www.kickstarter.com/projects/travishancock/bristol-1350-race-against-the-black-death?ref=discovery\n",
            "https://www.kickstarter.com/projects/princessor/princess-or?ref=discovery\n",
            "https://www.kickstarter.com/projects/ottowildegrillers/ottos-g32-the-first-smart-and-modular-gas-grill?ref=discovery\n",
            "https://www.kickstarter.com/projects/ankamaanimations/wakfu-the-animated-series-season-4?ref=discovery\n",
            "https://www.kickstarter.com/projects/oyo/oyo-nova-gym?ref=discovery\n",
            "https://www.kickstarter.com/projects/terraplanter/terra-planter-the-inside-out-hydroponic-planter-pot?ref=discovery\n",
            "https://www.kickstarter.com/projects/barisieurimmersion/barisieur-20-coffee-and-tea-brewing-alarm-clock?ref=discovery\n",
            "https://www.kickstarter.com/projects/1986239782/kombo-king?ref=discovery\n",
            "https://www.kickstarter.com/projects/lumoshelmet/lumos-ultra-the-new-standard-in-bike-helmets?ref=discovery\n",
            "https://www.kickstarter.com/projects/z2comics/madi-once-upon-a-time-in-the-future?ref=discovery\n",
            "https://www.kickstarter.com/projects/francescavallo/doctor-li-and-the-crown-wearing-virus?ref=discovery\n",
            "https://www.kickstarter.com/projects/strangehorizons2019/strange-horizons-2021?ref=discovery\n",
            "https://www.kickstarter.com/projects/travishancock/bristol-1350-race-against-the-black-death?ref=discovery\n",
            "https://www.kickstarter.com/projects/princessor/princess-or?ref=discovery\n",
            "https://www.kickstarter.com/projects/ottowildegrillers/ottos-g32-the-first-smart-and-modular-gas-grill?ref=discovery\n",
            "https://www.kickstarter.com/projects/ankamaanimations/wakfu-the-animated-series-season-4?ref=discovery\n",
            "https://www.kickstarter.com/projects/oyo/oyo-nova-gym?ref=discovery\n",
            "https://www.kickstarter.com/projects/terraplanter/terra-planter-the-inside-out-hydroponic-planter-pot?ref=discovery\n",
            "https://www.kickstarter.com/projects/barisieurimmersion/barisieur-20-coffee-and-tea-brewing-alarm-clock?ref=discovery\n",
            "https://www.kickstarter.com/projects/1986239782/kombo-king?ref=discovery\n",
            "https://www.kickstarter.com/projects/lumoshelmet/lumos-ultra-the-new-standard-in-bike-helmets?ref=discovery\n",
            "https://www.kickstarter.com/projects/z2comics/madi-once-upon-a-time-in-the-future?ref=discovery\n",
            "https://www.kickstarter.com/projects/francescavallo/doctor-li-and-the-crown-wearing-virus?ref=discovery\n",
            "https://www.kickstarter.com/projects/strangehorizons2019/strange-horizons-2021?ref=discovery\n",
            "https://www.kickstarter.com/projects/travishancock/bristol-1350-race-against-the-black-death?ref=discovery\n",
            "https://www.kickstarter.com/projects/princessor/princess-or?ref=discovery\n",
            "https://www.kickstarter.com/projects/ottowildegrillers/ottos-g32-the-first-smart-and-modular-gas-grill?ref=discovery\n",
            "https://www.kickstarter.com/projects/ankamaanimations/wakfu-the-animated-series-season-4?ref=discovery\n",
            "https://www.kickstarter.com/projects/oyo/oyo-nova-gym?ref=discovery\n",
            "https://www.kickstarter.com/projects/terraplanter/terra-planter-the-inside-out-hydroponic-planter-pot?ref=discovery\n",
            "https://www.kickstarter.com/projects/barisieurimmersion/barisieur-20-coffee-and-tea-brewing-alarm-clock?ref=discovery\n",
            "https://www.kickstarter.com/projects/1986239782/kombo-king?ref=discovery\n",
            "https://www.kickstarter.com/projects/lumoshelmet/lumos-ultra-the-new-standard-in-bike-helmets?ref=discovery\n",
            "https://www.kickstarter.com/projects/z2comics/madi-once-upon-a-time-in-the-future?ref=discovery\n",
            "https://www.kickstarter.com/projects/francescavallo/doctor-li-and-the-crown-wearing-virus?ref=discovery\n",
            "https://www.kickstarter.com/projects/strangehorizons2019/strange-horizons-2021?ref=discovery\n",
            "https://www.kickstarter.com/projects/travishancock/bristol-1350-race-against-the-black-death?ref=discovery\n",
            "https://www.kickstarter.com/projects/princessor/princess-or?ref=discovery\n",
            "https://www.kickstarter.com/projects/ottowildegrillers/ottos-g32-the-first-smart-and-modular-gas-grill?ref=discovery\n",
            "https://www.kickstarter.com/projects/ankamaanimations/wakfu-the-animated-series-season-4?ref=discovery\n",
            "https://www.kickstarter.com/projects/oyo/oyo-nova-gym?ref=discovery\n",
            "https://www.kickstarter.com/projects/terraplanter/terra-planter-the-inside-out-hydroponic-planter-pot?ref=discovery\n",
            "https://www.kickstarter.com/projects/barisieurimmersion/barisieur-20-coffee-and-tea-brewing-alarm-clock?ref=discovery\n",
            "https://www.kickstarter.com/projects/1986239782/kombo-king?ref=discovery\n",
            "https://www.kickstarter.com/projects/lumoshelmet/lumos-ultra-the-new-standard-in-bike-helmets?ref=discovery\n",
            "https://www.kickstarter.com/projects/z2comics/madi-once-upon-a-time-in-the-future?ref=discovery\n",
            "https://www.kickstarter.com/projects/francescavallo/doctor-li-and-the-crown-wearing-virus?ref=discovery\n",
            "https://www.kickstarter.com/projects/strangehorizons2019/strange-horizons-2021?ref=discovery\n",
            "https://www.kickstarter.com/projects/travishancock/bristol-1350-race-against-the-black-death?ref=discovery\n",
            "https://www.kickstarter.com/projects/princessor/princess-or?ref=discovery\n",
            "https://www.kickstarter.com/projects/ottowildegrillers/ottos-g32-the-first-smart-and-modular-gas-grill?ref=discovery\n",
            "https://www.kickstarter.com/projects/ankamaanimations/wakfu-the-animated-series-season-4?ref=discovery\n",
            "https://www.kickstarter.com/projects/oyo/oyo-nova-gym?ref=discovery\n",
            "https://www.kickstarter.com/projects/terraplanter/terra-planter-the-inside-out-hydroponic-planter-pot?ref=discovery\n",
            "https://www.kickstarter.com/projects/barisieurimmersion/barisieur-20-coffee-and-tea-brewing-alarm-clock?ref=discovery\n",
            "https://www.kickstarter.com/projects/1986239782/kombo-king?ref=discovery\n",
            "https://www.kickstarter.com/projects/lumoshelmet/lumos-ultra-the-new-standard-in-bike-helmets?ref=discovery\n",
            "https://www.kickstarter.com/projects/z2comics/madi-once-upon-a-time-in-the-future?ref=discovery\n",
            "https://www.kickstarter.com/projects/francescavallo/doctor-li-and-the-crown-wearing-virus?ref=discovery\n",
            "https://www.kickstarter.com/projects/strangehorizons2019/strange-horizons-2021?ref=discovery\n",
            "https://www.kickstarter.com/projects/travishancock/bristol-1350-race-against-the-black-death?ref=discovery\n",
            "https://www.kickstarter.com/projects/princessor/princess-or?ref=discovery\n",
            "https://www.kickstarter.com/projects/ottowildegrillers/ottos-g32-the-first-smart-and-modular-gas-grill?ref=discovery\n",
            "https://www.kickstarter.com/projects/ankamaanimations/wakfu-the-animated-series-season-4?ref=discovery\n",
            "https://www.kickstarter.com/projects/oyo/oyo-nova-gym?ref=discovery\n",
            "https://www.kickstarter.com/projects/terraplanter/terra-planter-the-inside-out-hydroponic-planter-pot?ref=discovery\n",
            "https://www.kickstarter.com/projects/barisieurimmersion/barisieur-20-coffee-and-tea-brewing-alarm-clock?ref=discovery\n",
            "https://www.kickstarter.com/projects/1986239782/kombo-king?ref=discovery\n",
            "https://www.kickstarter.com/projects/lumoshelmet/lumos-ultra-the-new-standard-in-bike-helmets?ref=discovery\n",
            "https://www.kickstarter.com/projects/z2comics/madi-once-upon-a-time-in-the-future?ref=discovery\n",
            "https://www.kickstarter.com/projects/francescavallo/doctor-li-and-the-crown-wearing-virus?ref=discovery\n",
            "https://www.kickstarter.com/projects/strangehorizons2019/strange-horizons-2021?ref=discovery\n",
            "https://www.kickstarter.com/projects/travishancock/bristol-1350-race-against-the-black-death?ref=discovery\n",
            "https://www.kickstarter.com/projects/princessor/princess-or?ref=discovery\n",
            "https://www.kickstarter.com/projects/ottowildegrillers/ottos-g32-the-first-smart-and-modular-gas-grill?ref=discovery\n",
            "invalid literal for int() with base 10: ''\n",
            "https://www.kickstarter.com/projects/ankamaanimations/wakfu-the-animated-series-season-4?ref=discovery\n",
            "invalid literal for int() with base 10: ''\n",
            "https://www.kickstarter.com/projects/oyo/oyo-nova-gym?ref=discovery\n",
            "invalid literal for int() with base 10: ''\n",
            "https://www.kickstarter.com/projects/terraplanter/terra-planter-the-inside-out-hydroponic-planter-pot?ref=discovery\n",
            "invalid literal for int() with base 10: ''\n",
            "https://www.kickstarter.com/projects/barisieurimmersion/barisieur-20-coffee-and-tea-brewing-alarm-clock?ref=discovery\n",
            "invalid literal for int() with base 10: ''\n",
            "https://www.kickstarter.com/projects/1986239782/kombo-king?ref=discovery\n",
            "invalid literal for int() with base 10: ''\n",
            "https://www.kickstarter.com/projects/lumoshelmet/lumos-ultra-the-new-standard-in-bike-helmets?ref=discovery\n",
            "invalid literal for int() with base 10: ''\n",
            "https://www.kickstarter.com/projects/z2comics/madi-once-upon-a-time-in-the-future?ref=discovery\n",
            "invalid literal for int() with base 10: ''\n",
            "https://www.kickstarter.com/projects/francescavallo/doctor-li-and-the-crown-wearing-virus?ref=discovery\n",
            "invalid literal for int() with base 10: ''\n",
            "https://www.kickstarter.com/projects/strangehorizons2019/strange-horizons-2021?ref=discovery\n",
            "invalid literal for int() with base 10: ''\n",
            "https://www.kickstarter.com/projects/travishancock/bristol-1350-race-against-the-black-death?ref=discovery\n",
            "invalid literal for int() with base 10: ''\n",
            "https://www.kickstarter.com/projects/princessor/princess-or?ref=discovery\n",
            "invalid literal for int() with base 10: ''\n",
            "https://www.kickstarter.com/projects/ottowildegrillers/ottos-g32-the-first-smart-and-modular-gas-grill?ref=discovery\n",
            "invalid literal for int() with base 10: ''\n",
            "https://www.kickstarter.com/projects/ankamaanimations/wakfu-the-animated-series-season-4?ref=discovery\n",
            "invalid literal for int() with base 10: ''\n",
            "https://www.kickstarter.com/projects/oyo/oyo-nova-gym?ref=discovery\n",
            "invalid literal for int() with base 10: ''\n",
            "https://www.kickstarter.com/projects/terraplanter/terra-planter-the-inside-out-hydroponic-planter-pot?ref=discovery\n",
            "invalid literal for int() with base 10: ''\n",
            "[{'backers': 534, 'goal': 114868, 'pledged': 12544, 'project_id': 1010744379},\n",
            " {'backers': 4, 'goal': 56, 'pledged': 1000, 'project_id': 1015125619},\n",
            " {'backers': 10811,\n",
            "  'goal': 1272289,\n",
            "  'pledged': 60000,\n",
            "  'project_id': 1774324319},\n",
            " {'backers': 6095, 'goal': 322099, 'pledged': 50000, 'project_id': 245959053},\n",
            " {'backers': 1028, 'goal': 39704, 'pledged': 50000, 'project_id': 1949440126},\n",
            " {'backers': 391, 'goal': 16717, 'pledged': 14000, 'project_id': 1602201731},\n",
            " {'backers': 10348, 'goal': 568704, 'pledged': 30000, 'project_id': 125859400},\n",
            " {'backers': 199, 'goal': 10898, 'pledged': 17900, 'project_id': 1376306706},\n",
            " {'backers': 2693, 'goal': 4907726, 'pledged': 33766, 'project_id': 1845881184},\n",
            " {'backers': 11262,\n",
            "  'goal': 1056137,\n",
            "  'pledged': 112554,\n",
            "  'project_id': 575271961},\n",
            " {'backers': 23191, 'goal': 3886686, 'pledged': 30000, 'project_id': 142016465},\n",
            " {'backers': 41140, 'goal': 4772761, 'pledged': 20000, 'project_id': 374051904},\n",
            " {'backers': 534, 'goal': 114868, 'pledged': 12544, 'project_id': 1010744379},\n",
            " {'backers': 4, 'goal': 56, 'pledged': 1000, 'project_id': 1015125619},\n",
            " {'backers': 10811,\n",
            "  'goal': 1272289,\n",
            "  'pledged': 60000,\n",
            "  'project_id': 1774324319},\n",
            " {'backers': 6095, 'goal': 322099, 'pledged': 50000, 'project_id': 245959053},\n",
            " {'backers': 1028, 'goal': 39704, 'pledged': 50000, 'project_id': 1949440126},\n",
            " {'backers': 391, 'goal': 16717, 'pledged': 14000, 'project_id': 1602201731},\n",
            " {'backers': 10348, 'goal': 568704, 'pledged': 30000, 'project_id': 125859400},\n",
            " {'backers': 199, 'goal': 10898, 'pledged': 17900, 'project_id': 1376306706},\n",
            " {'backers': 2693, 'goal': 4907726, 'pledged': 33766, 'project_id': 1845881184},\n",
            " {'backers': 11264,\n",
            "  'goal': 1056259,\n",
            "  'pledged': 112554,\n",
            "  'project_id': 575271961},\n",
            " {'backers': 23191, 'goal': 3886686, 'pledged': 30000, 'project_id': 142016465},\n",
            " {'backers': 41141, 'goal': 4772889, 'pledged': 20000, 'project_id': 374051904},\n",
            " {'backers': 534, 'goal': 114868, 'pledged': 12544, 'project_id': 1010744379},\n",
            " {'backers': 4, 'goal': 56, 'pledged': 1000, 'project_id': 1015125619},\n",
            " {'backers': 10811,\n",
            "  'goal': 1272289,\n",
            "  'pledged': 60000,\n",
            "  'project_id': 1774324319},\n",
            " {'backers': 6095, 'goal': 322099, 'pledged': 50000, 'project_id': 245959053},\n",
            " {'backers': 1028, 'goal': 39704, 'pledged': 50000, 'project_id': 1949440126},\n",
            " {'backers': 391, 'goal': 16717, 'pledged': 14000, 'project_id': 1602201731},\n",
            " {'backers': 10348, 'goal': 568704, 'pledged': 30000, 'project_id': 125859400},\n",
            " {'backers': 199, 'goal': 10898, 'pledged': 17900, 'project_id': 1376306706},\n",
            " {'backers': 2694, 'goal': 4909807, 'pledged': 33766, 'project_id': 1845881184},\n",
            " {'backers': 11264,\n",
            "  'goal': 1056259,\n",
            "  'pledged': 112554,\n",
            "  'project_id': 575271961},\n",
            " {'backers': 23192, 'goal': 3886861, 'pledged': 30000, 'project_id': 142016465},\n",
            " {'backers': 41142, 'goal': 4773007, 'pledged': 20000, 'project_id': 374051904},\n",
            " {'backers': 534, 'goal': 114868, 'pledged': 12544, 'project_id': 1010744379},\n",
            " {'backers': 4, 'goal': 56, 'pledged': 1000, 'project_id': 1015125619},\n",
            " {'backers': 10812,\n",
            "  'goal': 1272368,\n",
            "  'pledged': 60000,\n",
            "  'project_id': 1774324319},\n",
            " {'backers': 6095, 'goal': 322099, 'pledged': 50000, 'project_id': 245959053},\n",
            " {'backers': 1028, 'goal': 39704, 'pledged': 50000, 'project_id': 1949440126},\n",
            " {'backers': 391, 'goal': 16717, 'pledged': 14000, 'project_id': 1602201731},\n",
            " {'backers': 10349, 'goal': 568751, 'pledged': 30000, 'project_id': 125859400},\n",
            " {'backers': 199, 'goal': 10898, 'pledged': 17900, 'project_id': 1376306706},\n",
            " {'backers': 2695, 'goal': 4911326, 'pledged': 33766, 'project_id': 1845881184},\n",
            " {'backers': 11264,\n",
            "  'goal': 1056282,\n",
            "  'pledged': 112554,\n",
            "  'project_id': 575271961},\n",
            " {'backers': 23193, 'goal': 3887036, 'pledged': 30000, 'project_id': 142016465},\n",
            " {'backers': 41144, 'goal': 4773493, 'pledged': 20000, 'project_id': 374051904},\n",
            " {'backers': 534, 'goal': 114868, 'pledged': 12544, 'project_id': 1010744379},\n",
            " {'backers': 4, 'goal': 56, 'pledged': 1000, 'project_id': 1015125619},\n",
            " {'backers': 10812,\n",
            "  'goal': 1272368,\n",
            "  'pledged': 60000,\n",
            "  'project_id': 1774324319},\n",
            " {'backers': 6095, 'goal': 322099, 'pledged': 50000, 'project_id': 245959053},\n",
            " {'backers': 1028, 'goal': 39704, 'pledged': 50000, 'project_id': 1949440126},\n",
            " {'backers': 391, 'goal': 16717, 'pledged': 14000, 'project_id': 1602201731},\n",
            " {'backers': 10349, 'goal': 568751, 'pledged': 30000, 'project_id': 125859400},\n",
            " {'backers': 199, 'goal': 10898, 'pledged': 17900, 'project_id': 1376306706},\n",
            " {'backers': 2695, 'goal': 4911326, 'pledged': 33766, 'project_id': 1845881184},\n",
            " {'backers': 11264,\n",
            "  'goal': 1056282,\n",
            "  'pledged': 112554,\n",
            "  'project_id': 575271961},\n",
            " {'backers': 23193, 'goal': 3887036, 'pledged': 30000, 'project_id': 142016465},\n",
            " {'backers': 41144, 'goal': 4773493, 'pledged': 20000, 'project_id': 374051904},\n",
            " {'backers': 534, 'goal': 114868, 'pledged': 12544, 'project_id': 1010744379},\n",
            " {'backers': 4, 'goal': 56, 'pledged': 1000, 'project_id': 1015125619},\n",
            " {'backers': 10813,\n",
            "  'goal': 1272477,\n",
            "  'pledged': 60000,\n",
            "  'project_id': 1774324319},\n",
            " {'backers': 6095, 'goal': 322099, 'pledged': 50000, 'project_id': 245959053},\n",
            " {'backers': 1028, 'goal': 39704, 'pledged': 50000, 'project_id': 1949440126},\n",
            " {'backers': 391, 'goal': 16717, 'pledged': 14000, 'project_id': 1602201731},\n",
            " {'backers': 10351, 'goal': 568887, 'pledged': 30000, 'project_id': 125859400},\n",
            " {'backers': 199, 'goal': 10898, 'pledged': 17900, 'project_id': 1376306706},\n",
            " {'backers': 2696, 'goal': 4912844, 'pledged': 33766, 'project_id': 1845881184},\n",
            " {'backers': 11266,\n",
            "  'goal': 1056421,\n",
            "  'pledged': 112554,\n",
            "  'project_id': 575271961},\n",
            " {'backers': 23194, 'goal': 3887195, 'pledged': 30000, 'project_id': 142016465},\n",
            " {'backers': 41145, 'goal': 4773621, 'pledged': 20000, 'project_id': 374051904},\n",
            " {'backers': 534, 'goal': 114868, 'pledged': 12544, 'project_id': 1010744379},\n",
            " {'backers': 4, 'goal': 56, 'pledged': 1000, 'project_id': 1015125619},\n",
            " {'backers': 10813,\n",
            "  'goal': 1272477,\n",
            "  'pledged': 60000,\n",
            "  'project_id': 1774324319},\n",
            " {'backers': 6096, 'goal': 322198, 'pledged': 50000, 'project_id': 245959053},\n",
            " {'backers': 1028, 'goal': 39704, 'pledged': 50000, 'project_id': 1949440126},\n",
            " {'backers': 391, 'goal': 16717, 'pledged': 14000, 'project_id': 1602201731},\n",
            " {'backers': 10352, 'goal': 568916, 'pledged': 30000, 'project_id': 125859400},\n",
            " {'backers': 199, 'goal': 10898, 'pledged': 17900, 'project_id': 1376306706},\n",
            " {'backers': 2698, 'goal': 4916443, 'pledged': 33766, 'project_id': 1845881184},\n",
            " {'backers': 11266,\n",
            "  'goal': 1056421,\n",
            "  'pledged': 112554,\n",
            "  'project_id': 575271961},\n",
            " {'backers': 23194, 'goal': 3887195, 'pledged': 30000, 'project_id': 142016465},\n",
            " {'backers': 41146, 'goal': 4773739, 'pledged': 20000, 'project_id': 374051904},\n",
            " {'backers': 534, 'goal': 114868, 'pledged': 12544, 'project_id': 1010744379},\n",
            " {'backers': 4, 'goal': 56, 'pledged': 1000, 'project_id': 1015125619},\n",
            " {'backers': 10813,\n",
            "  'goal': 1272477,\n",
            "  'pledged': 60000,\n",
            "  'project_id': 1774324319},\n",
            " {'backers': 6096, 'goal': 322198, 'pledged': 50000, 'project_id': 245959053},\n",
            " {'backers': 1028, 'goal': 39704, 'pledged': 50000, 'project_id': 1949440126},\n",
            " {'backers': 391, 'goal': 16717, 'pledged': 14000, 'project_id': 1602201731},\n",
            " {'backers': 10353, 'goal': 569019, 'pledged': 30000, 'project_id': 125859400},\n",
            " {'backers': 199, 'goal': 10898, 'pledged': 17900, 'project_id': 1376306706},\n",
            " {'backers': 0, 'goal': 0, 'pledged': 0, 'project_id': 1845881184},\n",
            " {'backers': 0, 'goal': 0, 'pledged': 0, 'project_id': 575271961},\n",
            " {'backers': 0, 'goal': 0, 'pledged': 0, 'project_id': 142016465},\n",
            " {'backers': 0, 'goal': 0, 'pledged': 0, 'project_id': 374051904},\n",
            " {'backers': 0, 'goal': 0, 'pledged': 0, 'project_id': 1010744379},\n",
            " {'backers': 0, 'goal': 0, 'pledged': 0, 'project_id': 1015125619},\n",
            " {'backers': 0, 'goal': 0, 'pledged': 0, 'project_id': 1774324319},\n",
            " {'backers': 0, 'goal': 0, 'pledged': 0, 'project_id': 245959053},\n",
            " {'backers': 0, 'goal': 0, 'pledged': 0, 'project_id': 1949440126},\n",
            " {'backers': 0, 'goal': 0, 'pledged': 0, 'project_id': 1602201731},\n",
            " {'backers': 0, 'goal': 0, 'pledged': 0, 'project_id': 125859400},\n",
            " {'backers': 0, 'goal': 0, 'pledged': 0, 'project_id': 1376306706},\n",
            " {'backers': 0, 'goal': 0, 'pledged': 0, 'project_id': 1845881184},\n",
            " {'backers': 0, 'goal': 0, 'pledged': 0, 'project_id': 575271961},\n",
            " {'backers': 0, 'goal': 0, 'pledged': 0, 'project_id': 142016465},\n",
            " {'backers': 0, 'goal': 0, 'pledged': 0, 'project_id': 374051904}]\n"
          ],
          "name": "stdout"
        }
      ]
    },
    {
      "cell_type": "markdown",
      "metadata": {
        "id": "fcfGcK4O4R2-",
        "colab_type": "text"
      },
      "source": [
        "Store the data with *pandas*"
      ]
    },
    {
      "cell_type": "code",
      "metadata": {
        "id": "4xik7JIr4J-n",
        "colab_type": "code",
        "colab": {
          "base_uri": "https://localhost:8080/",
          "height": 204
        },
        "outputId": "b45b74bd-1bc0-4384-902e-d5c461093332"
      },
      "source": [
        "import pandas as pd\n",
        "ds_details = pd.DataFrame(details)\n",
        "ds_details.set_index(\"project_id\")\n",
        "ds_details.head()"
      ],
      "execution_count": 18,
      "outputs": [
        {
          "output_type": "execute_result",
          "data": {
            "text/html": [
              "<div>\n",
              "<style scoped>\n",
              "    .dataframe tbody tr th:only-of-type {\n",
              "        vertical-align: middle;\n",
              "    }\n",
              "\n",
              "    .dataframe tbody tr th {\n",
              "        vertical-align: top;\n",
              "    }\n",
              "\n",
              "    .dataframe thead th {\n",
              "        text-align: right;\n",
              "    }\n",
              "</style>\n",
              "<table border=\"1\" class=\"dataframe\">\n",
              "  <thead>\n",
              "    <tr style=\"text-align: right;\">\n",
              "      <th></th>\n",
              "      <th>project_id</th>\n",
              "      <th>backers</th>\n",
              "      <th>goal</th>\n",
              "      <th>pledged</th>\n",
              "    </tr>\n",
              "  </thead>\n",
              "  <tbody>\n",
              "    <tr>\n",
              "      <th>0</th>\n",
              "      <td>1010744379</td>\n",
              "      <td>534</td>\n",
              "      <td>114868</td>\n",
              "      <td>12544</td>\n",
              "    </tr>\n",
              "    <tr>\n",
              "      <th>1</th>\n",
              "      <td>1015125619</td>\n",
              "      <td>4</td>\n",
              "      <td>56</td>\n",
              "      <td>1000</td>\n",
              "    </tr>\n",
              "    <tr>\n",
              "      <th>2</th>\n",
              "      <td>1774324319</td>\n",
              "      <td>10811</td>\n",
              "      <td>1272289</td>\n",
              "      <td>60000</td>\n",
              "    </tr>\n",
              "    <tr>\n",
              "      <th>3</th>\n",
              "      <td>245959053</td>\n",
              "      <td>6095</td>\n",
              "      <td>322099</td>\n",
              "      <td>50000</td>\n",
              "    </tr>\n",
              "    <tr>\n",
              "      <th>4</th>\n",
              "      <td>1949440126</td>\n",
              "      <td>1028</td>\n",
              "      <td>39704</td>\n",
              "      <td>50000</td>\n",
              "    </tr>\n",
              "  </tbody>\n",
              "</table>\n",
              "</div>"
            ],
            "text/plain": [
              "   project_id  backers     goal  pledged\n",
              "0  1010744379      534   114868    12544\n",
              "1  1015125619        4       56     1000\n",
              "2  1774324319    10811  1272289    60000\n",
              "3   245959053     6095   322099    50000\n",
              "4  1949440126     1028    39704    50000"
            ]
          },
          "metadata": {
            "tags": []
          },
          "execution_count": 18
        }
      ]
    },
    {
      "cell_type": "code",
      "metadata": {
        "id": "pBkNRigl4b9G",
        "colab_type": "code",
        "colab": {
          "base_uri": "https://localhost:8080/",
          "height": 204
        },
        "outputId": "e9b85a7f-5ad6-4f5d-f34d-198beaee505b"
      },
      "source": [
        "ds_details.info()"
      ],
      "execution_count": 20,
      "outputs": [
        {
          "output_type": "stream",
          "text": [
            "<class 'pandas.core.frame.DataFrame'>\n",
            "RangeIndex: 108 entries, 0 to 107\n",
            "Data columns (total 4 columns):\n",
            " #   Column      Non-Null Count  Dtype\n",
            "---  ------      --------------  -----\n",
            " 0   project_id  108 non-null    int64\n",
            " 1   backers     108 non-null    int64\n",
            " 2   goal        108 non-null    int64\n",
            " 3   pledged     108 non-null    int64\n",
            "dtypes: int64(4)\n",
            "memory usage: 3.5 KB\n"
          ],
          "name": "stdout"
        }
      ]
    },
    {
      "cell_type": "code",
      "metadata": {
        "id": "YSlNICg94fKj",
        "colab_type": "code",
        "colab": {}
      },
      "source": [
        "ds_details.to_csv(\"ds_project_details.csv\")"
      ],
      "execution_count": 0,
      "outputs": []
    },
    {
      "cell_type": "markdown",
      "metadata": {
        "id": "dJdurd8345Jp",
        "colab_type": "text"
      },
      "source": [
        "# Kickstarter Project images\n",
        "\n",
        "\n",
        "Now we're going to download Kickstarter images for each project.\n",
        "\n",
        "Our goal is to create a dataset of images and a `Dataframe` composed by:\n",
        "- `project_id`\n",
        "- `image_id`\n",
        "\n",
        "We will use the library `requests`.\n",
        "\n",
        "The `requests` library is python library for making HTTP requests.\n",
        "It abstracts the complexities of making requests behind a simple API so that you can focus on interacting with services and consuming data in your application."
      ]
    },
    {
      "cell_type": "code",
      "metadata": {
        "id": "q1cy5Jzt6ab-",
        "colab_type": "code",
        "colab": {
          "base_uri": "https://localhost:8080/",
          "height": 134,
          "referenced_widgets": [
            "b787493a08e443e79bce1992ca91d424",
            "cda6528df0994fd1b66aa4f11eeabbe4",
            "cac5afd80c4044c1953c9a0601d0325c",
            "4861c10f3d8d4c2e869384d47d09d879",
            "b3f0fa130c594ed18d34d3fe64dc5ac7",
            "9cfa5ca7d8cc4a6ab906d780758687da",
            "89fd7a066acc49e1b2966937dbda63a8",
            "6f05c4b3a183401bb183e169a759e2d9"
          ]
        },
        "outputId": "29984ea7-118d-4647-ad1e-7a0e452fd7a7"
      },
      "source": [
        "import time\n",
        "import requests\n",
        "\n",
        "detail_projects = []\n",
        "wd.get(\"https://www.kickstarter.com/discover/advanced?ref=nav_search&term=\")\n",
        "for num in tqdm(range(1,3)):\n",
        "  time.sleep(10)\n",
        "  list_projects = wd.find_elements_by_css_selector(\"#projects_list > div > div.js-react-proj-card\")\n",
        "  list_images = []\n",
        "  for project in list_projects:\n",
        "    try:\n",
        "      project_id = project.get_attribute(\"data-pid\")\n",
        "      src = project.find_element_by_css_selector(\"a img\").get_attribute(\"src\")\n",
        "      img_file = requests.get(src, stream=True)\n",
        "      if img_file.status_code == 200:\n",
        "        with open(\"/content/images/img_\" + str(project_id) + \".jpg\", 'wb') as f:\n",
        "          f.write(img_file.content)\n",
        "        list_images.append({\n",
        "            \"project_id\": project_id,\n",
        "            \"img_file\": \"img_\" + str(project_id) + \".jpg\"})\n",
        "    except Exception as e:\n",
        "      print(e)\n",
        "  load_more = wd.find_elements_by_css_selector(\".load_more\")\n",
        "  if(len(load_more)) > 0:\n",
        "    load_more[0].click()\n",
        "  else:\n",
        "    break\n",
        "\n",
        "print(len(list_images))"
      ],
      "execution_count": 29,
      "outputs": [
        {
          "output_type": "stream",
          "text": [
            "/usr/local/lib/python3.6/dist-packages/ipykernel_launcher.py:6: TqdmDeprecationWarning: This function will be removed in tqdm==5.0.0\n",
            "Please use `tqdm.notebook.tqdm` instead of `tqdm.tqdm_notebook`\n",
            "  \n"
          ],
          "name": "stderr"
        },
        {
          "output_type": "display_data",
          "data": {
            "application/vnd.jupyter.widget-view+json": {
              "model_id": "b787493a08e443e79bce1992ca91d424",
              "version_minor": 0,
              "version_major": 2
            },
            "text/plain": [
              "HBox(children=(FloatProgress(value=0.0, max=2.0), HTML(value='')))"
            ]
          },
          "metadata": {
            "tags": []
          }
        },
        {
          "output_type": "stream",
          "text": [
            "\n",
            "12\n"
          ],
          "name": "stdout"
        }
      ]
    },
    {
      "cell_type": "code",
      "metadata": {
        "id": "BSPk4TWtAvWj",
        "colab_type": "code",
        "colab": {
          "base_uri": "https://localhost:8080/",
          "height": 257
        },
        "outputId": "deebcde0-4b46-45ce-f2ab-2a0c5a9098d1"
      },
      "source": [
        "%pylab inline\n",
        "import matplotlib.pyplot as plt\n",
        "import matplotlib.image as mpimg\n",
        "img=mpimg.imread('/content/images/img_142016465.jpg')\n",
        "imgplot = plt.imshow(img)\n",
        "plt.show()"
      ],
      "execution_count": 31,
      "outputs": [
        {
          "output_type": "stream",
          "text": [
            "Populating the interactive namespace from numpy and matplotlib\n"
          ],
          "name": "stdout"
        },
        {
          "output_type": "display_data",
          "data": {
            "image/png": "[encoded data removed]",
            "text/plain": [
              "<Figure size 432x288 with 1 Axes>"
            ]
          },
          "metadata": {
            "tags": [],
            "needs_background": "light"
          }
        }
      ]
    },
    {
      "cell_type": "code",
      "metadata": {
        "id": "9oq-mP-v8LZl",
        "colab_type": "code",
        "colab": {
          "base_uri": "https://localhost:8080/",
          "height": 204
        },
        "outputId": "00e9f441-f0f1-40cc-a267-559e7b2a2c97"
      },
      "source": [
        "import pandas as pd\n",
        "ds_images = pd.DataFrame(list_images)\n",
        "ds_images.set_index(\"project_id\")\n",
        "ds_images.head()"
      ],
      "execution_count": 32,
      "outputs": [
        {
          "output_type": "execute_result",
          "data": {
            "text/html": [
              "<div>\n",
              "<style scoped>\n",
              "    .dataframe tbody tr th:only-of-type {\n",
              "        vertical-align: middle;\n",
              "    }\n",
              "\n",
              "    .dataframe tbody tr th {\n",
              "        vertical-align: top;\n",
              "    }\n",
              "\n",
              "    .dataframe thead th {\n",
              "        text-align: right;\n",
              "    }\n",
              "</style>\n",
              "<table border=\"1\" class=\"dataframe\">\n",
              "  <thead>\n",
              "    <tr style=\"text-align: right;\">\n",
              "      <th></th>\n",
              "      <th>project_id</th>\n",
              "      <th>img_file</th>\n",
              "    </tr>\n",
              "  </thead>\n",
              "  <tbody>\n",
              "    <tr>\n",
              "      <th>0</th>\n",
              "      <td>142016465</td>\n",
              "      <td>img_142016465.jpg</td>\n",
              "    </tr>\n",
              "    <tr>\n",
              "      <th>1</th>\n",
              "      <td>374051904</td>\n",
              "      <td>img_374051904.jpg</td>\n",
              "    </tr>\n",
              "    <tr>\n",
              "      <th>2</th>\n",
              "      <td>93028791</td>\n",
              "      <td>img_93028791.jpg</td>\n",
              "    </tr>\n",
              "    <tr>\n",
              "      <th>3</th>\n",
              "      <td>186177193</td>\n",
              "      <td>img_186177193.jpg</td>\n",
              "    </tr>\n",
              "    <tr>\n",
              "      <th>4</th>\n",
              "      <td>224052425</td>\n",
              "      <td>img_224052425.jpg</td>\n",
              "    </tr>\n",
              "  </tbody>\n",
              "</table>\n",
              "</div>"
            ],
            "text/plain": [
              "  project_id           img_file\n",
              "0  142016465  img_142016465.jpg\n",
              "1  374051904  img_374051904.jpg\n",
              "2   93028791   img_93028791.jpg\n",
              "3  186177193  img_186177193.jpg\n",
              "4  224052425  img_224052425.jpg"
            ]
          },
          "metadata": {
            "tags": []
          },
          "execution_count": 32
        }
      ]
    },
    {
      "cell_type": "code",
      "metadata": {
        "id": "2CLUnkOW8O0Q",
        "colab_type": "code",
        "colab": {}
      },
      "source": [
        "ds_images.to_csv(\"ds_images.csv\")"
      ],
      "execution_count": 0,
      "outputs": []
    },
    {
      "cell_type": "markdown",
      "metadata": {
        "id": "g_f5pD019XW6",
        "colab_type": "text"
      },
      "source": [
        "# API\n",
        "\n",
        "Let's see how to use the **requests** library to hook APIs provided by our suppliers or colleagues."
      ]
    },
    {
      "cell_type": "markdown",
      "metadata": {
        "id": "GuDgoTW29jH_",
        "colab_type": "text"
      },
      "source": [
        "## Crarifai\n",
        "\n",
        "Let's try the services provided by Clarifai to increase the data we have available.\n",
        "\n",
        "\n",
        "First, we need to install the `crarifai` python library.\n",
        "For more details, please visit https://github.com/Clarifai/clarifai-python\n",
        "\n",
        "To install the API client:\n",
        "\n",
        "\n",
        "```\n",
        "pip install clarifai\n",
        "```\n",
        "\n",
        "\n",
        "\n",
        "\n"
      ]
    },
    {
      "cell_type": "code",
      "metadata": {
        "id": "WgBUGy519fzQ",
        "colab_type": "code",
        "colab": {}
      },
      "source": [
        "!pip install clarifai"
      ],
      "execution_count": 0,
      "outputs": []
    },
    {
      "cell_type": "code",
      "metadata": {
        "id": "U7O5yiMD-BHm",
        "colab_type": "code",
        "colab": {}
      },
      "source": [
        "from clarifai.rest import ClarifaiApp\n",
        "\n",
        "# setup your key!!!\n",
        "clarifai_key = \"<your_key>\"\n",
        "app = ClarifaiApp(api_key=clarifai_key)\n",
        "\n",
        "# and use the general model\n",
        "model = app.public_models.general_model"
      ],
      "execution_count": 0,
      "outputs": []
    },
    {
      "cell_type": "markdown",
      "metadata": {
        "id": "vi3vpTjo-JlU",
        "colab_type": "text"
      },
      "source": [
        "We will use the `predict_by_filename` method to obtain the **concepts** within the page.\n"
      ]
    },
    {
      "cell_type": "code",
      "metadata": {
        "id": "Kv3BOOAG-PAt",
        "colab_type": "code",
        "colab": {}
      },
      "source": [
        "response = model.predict_by_filename(\"/content/images/img_142016465.jpg\")"
      ],
      "execution_count": 0,
      "outputs": []
    },
    {
      "cell_type": "markdown",
      "metadata": {
        "id": "6gNKcVLk-bU-",
        "colab_type": "text"
      },
      "source": [
        "What type of data does that give us back?\n",
        "Let's have a look!"
      ]
    },
    {
      "cell_type": "code",
      "metadata": {
        "id": "vUKxISg_-kht",
        "colab_type": "code",
        "colab": {}
      },
      "source": [
        "pprint.pprint(response)"
      ],
      "execution_count": 0,
      "outputs": []
    },
    {
      "cell_type": "markdown",
      "metadata": {
        "id": "W0vFofm3-o67",
        "colab_type": "text"
      },
      "source": [
        "And get the data:"
      ]
    },
    {
      "cell_type": "code",
      "metadata": {
        "id": "bLXAR3GS-oYX",
        "colab_type": "code",
        "colab": {
          "base_uri": "https://localhost:8080/",
          "height": 357
        },
        "outputId": "d2b147e7-157e-457a-a061-56f717f72ab4"
      },
      "source": [
        "if(response['status']['description'] == \"Ok\"):\n",
        "    for concept in response[\"outputs\"][0][\"data\"][\"concepts\"]:\n",
        "        name = concept[\"name\"]\n",
        "        value = concept[\"value\"]\n",
        "        print(name + \" \" + str(value))"
      ],
      "execution_count": 39,
      "outputs": [
        {
          "output_type": "stream",
          "text": [
            "horizontal 0.9519128203392029\n",
            "isolated 0.9426192045211792\n",
            "no person 0.9122359752655029\n",
            "transportation system 0.9029916524887085\n",
            "business 0.8892199993133545\n",
            "service 0.8800047636032104\n",
            "technology 0.8767427206039429\n",
            "illustration 0.8746852874755859\n",
            "equipment 0.8589984178543091\n",
            "connection 0.8415480852127075\n",
            "wheel 0.8403968811035156\n",
            "desktop 0.8387061357498169\n",
            "vector 0.8360087871551514\n",
            "symbol 0.8336005210876465\n",
            "sport 0.7958953380584717\n",
            "control 0.7861691117286682\n",
            "text 0.7860429286956787\n",
            "modern 0.7815584540367126\n",
            "designing 0.766112208366394\n",
            "focus 0.7455539703369141\n"
          ],
          "name": "stdout"
        }
      ]
    },
    {
      "cell_type": "markdown",
      "metadata": {
        "id": "0RiAZbNkB5Au",
        "colab_type": "text"
      },
      "source": [
        "Now let's go and identify all the concepts for each image of each project."
      ]
    },
    {
      "cell_type": "code",
      "metadata": {
        "id": "uu3J01GhB_w4",
        "colab_type": "code",
        "colab": {
          "base_uri": "https://localhost:8080/",
          "height": 34
        },
        "outputId": "372a99f9-2f4e-4543-e426-5468dc313a76"
      },
      "source": [
        "ds_images = pd.read_csv(\"ds_images.csv\", index_col=\"project_id\")\n",
        "\n",
        "img_details = []\n",
        "for project_id, image in ds_images.iterrows():\n",
        "  try:\n",
        "    response = model.predict_by_filename(\"/content/images/\" + image['img_file'])\n",
        "    if(response['status']['description'] == \"Ok\"):\n",
        "      for concept in response[\"outputs\"][0][\"data\"][\"concepts\"]:\n",
        "          name = concept[\"name\"]\n",
        "          value = concept[\"value\"]\n",
        "          img_details.append({\n",
        "            \"project_id\": project_id,\n",
        "            \"image\": image['img_file'],\n",
        "            \"name\": name,\n",
        "            \"value\": value\n",
        "          })\n",
        "  except Exception as e:\n",
        "    print(e)\n",
        "\n",
        "print(len(img_details))"
      ],
      "execution_count": 42,
      "outputs": [
        {
          "output_type": "stream",
          "text": [
            "240\n"
          ],
          "name": "stdout"
        }
      ]
    },
    {
      "cell_type": "code",
      "metadata": {
        "id": "5nIUezSrDTKK",
        "colab_type": "code",
        "colab": {
          "base_uri": "https://localhost:8080/",
          "height": 204
        },
        "outputId": "2db0d1ce-3249-44d5-ff7c-57da4e71688c"
      },
      "source": [
        "import pandas as pd\n",
        "ds_img_details = pd.DataFrame(img_details)\n",
        "ds_img_details.set_index(\"image\")\n",
        "ds_img_details.head()"
      ],
      "execution_count": 44,
      "outputs": [
        {
          "output_type": "execute_result",
          "data": {
            "text/html": [
              "<div>\n",
              "<style scoped>\n",
              "    .dataframe tbody tr th:only-of-type {\n",
              "        vertical-align: middle;\n",
              "    }\n",
              "\n",
              "    .dataframe tbody tr th {\n",
              "        vertical-align: top;\n",
              "    }\n",
              "\n",
              "    .dataframe thead th {\n",
              "        text-align: right;\n",
              "    }\n",
              "</style>\n",
              "<table border=\"1\" class=\"dataframe\">\n",
              "  <thead>\n",
              "    <tr style=\"text-align: right;\">\n",
              "      <th></th>\n",
              "      <th>project_id</th>\n",
              "      <th>image</th>\n",
              "      <th>name</th>\n",
              "      <th>value</th>\n",
              "    </tr>\n",
              "  </thead>\n",
              "  <tbody>\n",
              "    <tr>\n",
              "      <th>0</th>\n",
              "      <td>142016465</td>\n",
              "      <td>img_142016465.jpg</td>\n",
              "      <td>horizontal</td>\n",
              "      <td>0.951913</td>\n",
              "    </tr>\n",
              "    <tr>\n",
              "      <th>1</th>\n",
              "      <td>142016465</td>\n",
              "      <td>img_142016465.jpg</td>\n",
              "      <td>isolated</td>\n",
              "      <td>0.942619</td>\n",
              "    </tr>\n",
              "    <tr>\n",
              "      <th>2</th>\n",
              "      <td>142016465</td>\n",
              "      <td>img_142016465.jpg</td>\n",
              "      <td>no person</td>\n",
              "      <td>0.912236</td>\n",
              "    </tr>\n",
              "    <tr>\n",
              "      <th>3</th>\n",
              "      <td>142016465</td>\n",
              "      <td>img_142016465.jpg</td>\n",
              "      <td>transportation system</td>\n",
              "      <td>0.902992</td>\n",
              "    </tr>\n",
              "    <tr>\n",
              "      <th>4</th>\n",
              "      <td>142016465</td>\n",
              "      <td>img_142016465.jpg</td>\n",
              "      <td>business</td>\n",
              "      <td>0.889220</td>\n",
              "    </tr>\n",
              "  </tbody>\n",
              "</table>\n",
              "</div>"
            ],
            "text/plain": [
              "   project_id              image                   name     value\n",
              "0   142016465  img_142016465.jpg             horizontal  0.951913\n",
              "1   142016465  img_142016465.jpg               isolated  0.942619\n",
              "2   142016465  img_142016465.jpg              no person  0.912236\n",
              "3   142016465  img_142016465.jpg  transportation system  0.902992\n",
              "4   142016465  img_142016465.jpg               business  0.889220"
            ]
          },
          "metadata": {
            "tags": []
          },
          "execution_count": 44
        }
      ]
    },
    {
      "cell_type": "code",
      "metadata": {
        "id": "1WR4kQBsDXwx",
        "colab_type": "code",
        "colab": {}
      },
      "source": [
        "ds_img_details.to_csv('ds_img_details.csv')"
      ],
      "execution_count": 0,
      "outputs": []
    },
    {
      "cell_type": "markdown",
      "metadata": {
        "id": "Kt_AIhQM-6zi",
        "colab_type": "text"
      },
      "source": [
        "# Geocoding\n",
        "\n",
        "What's geocoding?\n",
        "\n"
      ]
    },
    {
      "cell_type": "markdown",
      "metadata": {
        "id": "tBcxapgb_lGp",
        "colab_type": "text"
      },
      "source": [
        "Let's try to geolocalize the projects..."
      ]
    },
    {
      "cell_type": "code",
      "metadata": {
        "id": "B4IO9haO_o7W",
        "colab_type": "code",
        "colab": {
          "base_uri": "https://localhost:8080/",
          "height": 139
        },
        "outputId": "19f31131-4bab-4ffd-995a-f30c69eb58e8"
      },
      "source": [
        "address = \"via finazzi 46, carvico(bg)\"\n",
        "key = \"<your_key>\"\n",
        "geocode_url = f\"http://www.mapquestapi.com/geocoding/v1/address?key={key}&location={address}\"\n",
        "response = requests.get(geocode_url)\n",
        "\n",
        "import json\n",
        "geo = json.loads(response.text)\n",
        "pprint.pprint(response.text)"
      ],
      "execution_count": 48,
      "outputs": [
        {
          "output_type": "stream",
          "text": [
            "('{\"info\":{\"statuscode\":0,\"copyright\":{\"text\":\"\\\\u00A9 2020 MapQuest, '\n",
            " 'Inc.\",\"imageUrl\":\"http://api.mqcdn.com/res/mqlogo.gif\",\"imageAltText\":\"\\\\u00A9 '\n",
            " '2020 MapQuest, '\n",
            " 'Inc.\"},\"messages\":[]},\"options\":{\"maxResults\":-1,\"thumbMaps\":true,\"ignoreLatLngInput\":false},\"results\":[{\"providedLocation\":{\"location\":\"via '\n",
            " 'finazzi 46, '\n",
            " 'carvico(bg)\"},\"locations\":[{\"street\":\"\",\"adminArea6\":\"\",\"adminArea6Type\":\"Neighborhood\",\"adminArea5\":\"Carvico\",\"adminArea5Type\":\"City\",\"adminArea4\":\"BG\",\"adminArea4Type\":\"County\",\"adminArea3\":\"Lombardy\",\"adminArea3Type\":\"State\",\"adminArea1\":\"IT\",\"adminArea1Type\":\"Country\",\"postalCode\":\"\",\"geocodeQualityCode\":\"A5XAX\",\"geocodeQuality\":\"CITY\",\"dragPoint\":false,\"sideOfStreet\":\"N\",\"linkId\":\"282493759\",\"unknownInput\":\"\",\"type\":\"s\",\"latLng\":{\"lat\":45.703779,\"lng\":9.482249},\"displayLatLng\":{\"lat\":45.703779,\"lng\":9.482249},\"mapUrl\":\"http://www.mapquestapi.com/staticmap/v5/map?key=r3xgNwBAviBMdOj4Op90kvyy2iO1CDGz&type=map&size=225,160&locations=45.703779,9.482249|marker-sm-50318A-1&scalebar=true&zoom=12&rand=708249821\"}]}]}')\n"
          ],
          "name": "stdout"
        }
      ]
    },
    {
      "cell_type": "code",
      "metadata": {
        "id": "LRQ24oZf_0XB",
        "colab_type": "code",
        "colab": {
          "base_uri": "https://localhost:8080/",
          "height": 51
        },
        "outputId": "3526b876-f823-4572-9c74-369a924b8947"
      },
      "source": [
        "print(geo['results'][0]['locations'][0]['latLng']['lat'])\n",
        "print(geo['results'][0]['locations'][0]['latLng']['lng'])"
      ],
      "execution_count": 49,
      "outputs": [
        {
          "output_type": "stream",
          "text": [
            "45.703779\n",
            "9.482249\n"
          ],
          "name": "stdout"
        }
      ]
    },
    {
      "cell_type": "code",
      "metadata": {
        "id": "feuWng0zDudp",
        "colab_type": "code",
        "colab": {
          "base_uri": "https://localhost:8080/",
          "height": 34
        },
        "outputId": "196572d6-3225-40ab-84f7-448119ec6be4"
      },
      "source": [
        "ds_projects = pd.read_csv(\"ds_projects.csv\", index_col=\"project_id\")\n",
        "\n",
        "project_location = []\n",
        "for project_id, project in ds_projects.iterrows():\n",
        "  address = project['location']\n",
        "  key = \"<your_key>\"\n",
        "  try:\n",
        "    geocode_url = f\"http://www.mapquestapi.com/geocoding/v1/address?key={key}&location={address}\"\n",
        "    response = requests.get(geocode_url)\n",
        "    if(response.status_code == 200):\n",
        "      geo = json.loads(response.text)\n",
        "      lat = geo['results'][0]['locations'][0]['latLng']['lat']\n",
        "      lng = geo['results'][0]['locations'][0]['latLng']['lng']\n",
        "      project_location.append({\n",
        "            \"project_id\": project_id,\n",
        "            \"lat\": lat,\n",
        "            \"lng\": lng\n",
        "          })\n",
        "  except Exception as e:\n",
        "    print(e)\n",
        "    \n",
        "\n",
        "print(len(project_location))"
      ],
      "execution_count": 58,
      "outputs": [
        {
          "output_type": "stream",
          "text": [
            "108\n"
          ],
          "name": "stdout"
        }
      ]
    },
    {
      "cell_type": "code",
      "metadata": {
        "id": "KdlXXE24E9Es",
        "colab_type": "code",
        "colab": {
          "base_uri": "https://localhost:8080/",
          "height": 204
        },
        "outputId": "f408b7c5-b76c-4ae5-8158-de3608167481"
      },
      "source": [
        "import pandas as pd\n",
        "ds_project_location = pd.DataFrame(project_location)\n",
        "ds_project_location.set_index(\"project_id\")\n",
        "ds_project_location.head()"
      ],
      "execution_count": 59,
      "outputs": [
        {
          "output_type": "execute_result",
          "data": {
            "text/html": [
              "<div>\n",
              "<style scoped>\n",
              "    .dataframe tbody tr th:only-of-type {\n",
              "        vertical-align: middle;\n",
              "    }\n",
              "\n",
              "    .dataframe tbody tr th {\n",
              "        vertical-align: top;\n",
              "    }\n",
              "\n",
              "    .dataframe thead th {\n",
              "        text-align: right;\n",
              "    }\n",
              "</style>\n",
              "<table border=\"1\" class=\"dataframe\">\n",
              "  <thead>\n",
              "    <tr style=\"text-align: right;\">\n",
              "      <th></th>\n",
              "      <th>project_id</th>\n",
              "      <th>lat</th>\n",
              "      <th>lng</th>\n",
              "    </tr>\n",
              "  </thead>\n",
              "  <tbody>\n",
              "    <tr>\n",
              "      <th>0</th>\n",
              "      <td>1010744379</td>\n",
              "      <td>51.500150</td>\n",
              "      <td>-0.126240</td>\n",
              "    </tr>\n",
              "    <tr>\n",
              "      <th>1</th>\n",
              "      <td>1015125619</td>\n",
              "      <td>32.080590</td>\n",
              "      <td>-81.090103</td>\n",
              "    </tr>\n",
              "    <tr>\n",
              "      <th>2</th>\n",
              "      <td>1774324319</td>\n",
              "      <td>42.358894</td>\n",
              "      <td>-71.056742</td>\n",
              "    </tr>\n",
              "    <tr>\n",
              "      <th>3</th>\n",
              "      <td>245959053</td>\n",
              "      <td>40.713054</td>\n",
              "      <td>-74.007228</td>\n",
              "    </tr>\n",
              "    <tr>\n",
              "      <th>4</th>\n",
              "      <td>1949440126</td>\n",
              "      <td>34.052238</td>\n",
              "      <td>-118.243344</td>\n",
              "    </tr>\n",
              "  </tbody>\n",
              "</table>\n",
              "</div>"
            ],
            "text/plain": [
              "   project_id        lat         lng\n",
              "0  1010744379  51.500150   -0.126240\n",
              "1  1015125619  32.080590  -81.090103\n",
              "2  1774324319  42.358894  -71.056742\n",
              "3   245959053  40.713054  -74.007228\n",
              "4  1949440126  34.052238 -118.243344"
            ]
          },
          "metadata": {
            "tags": []
          },
          "execution_count": 59
        }
      ]
    },
    {
      "cell_type": "code",
      "metadata": {
        "id": "sg8TZopsFC3b",
        "colab_type": "code",
        "colab": {}
      },
      "source": [
        "ds_project_location.to_csv('ds_project_location.csv')"
      ],
      "execution_count": 0,
      "outputs": []
    }
  ],
  "metadata": {
    "colab": {
      "name": "2_Web_Scraping_with_Selenium",
      "provenance": [],
      "collapsed_sections": [],
      "toc_visible": true
    },
    "kernelspec": {
      "name": "python3",
      "display_name": "Python 3"
    },
    "widgets": {
      "application/vnd.jupyter.widget-state+json": {
        "805ba751362b4e1a9bad678a341a0376": {
          "model_module": "@jupyter-widgets/controls",
          "model_name": "HBoxModel",
          "state": {
            "_view_name": "HBoxView",
            "_dom_classes": [],
            "_model_name": "HBoxModel",
            "_view_module": "@jupyter-widgets/controls",
            "_model_module_version": "1.5.0",
            "_view_count": null,
            "_view_module_version": "1.5.0",
            "box_style": "",
            "layout": "IPY_MODEL_6406942f963a481db0518c879398dc2c",
            "_model_module": "@jupyter-widgets/controls",
            "children": [
              "IPY_MODEL_b10593c9e1c64fddbff0e82e949c3886",
              "IPY_MODEL_54de0a65ac5843ee94e805c8b17be6df"
            ]
          }
        },
        "6406942f963a481db0518c879398dc2c": {
          "model_module": "@jupyter-widgets/base",
          "model_name": "LayoutModel",
          "state": {
            "_view_name": "LayoutView",
            "grid_template_rows": null,
            "right": null,
            "justify_content": null,
            "_view_module": "@jupyter-widgets/base",
            "overflow": null,
            "_model_module_version": "1.2.0",
            "_view_count": null,
            "flex_flow": null,
            "width": null,
            "min_width": null,
            "border": null,
            "align_items": null,
            "bottom": null,
            "_model_module": "@jupyter-widgets/base",
            "top": null,
            "grid_column": null,
            "overflow_y": null,
            "overflow_x": null,
            "grid_auto_flow": null,
            "grid_area": null,
            "grid_template_columns": null,
            "flex": null,
            "_model_name": "LayoutModel",
            "justify_items": null,
            "grid_row": null,
            "max_height": null,
            "align_content": null,
            "visibility": null,
            "align_self": null,
            "height": null,
            "min_height": null,
            "padding": null,
            "grid_auto_rows": null,
            "grid_gap": null,
            "max_width": null,
            "order": null,
            "_view_module_version": "1.2.0",
            "grid_template_areas": null,
            "object_position": null,
            "object_fit": null,
            "grid_auto_columns": null,
            "margin": null,
            "display": null,
            "left": null
          }
        },
        "b10593c9e1c64fddbff0e82e949c3886": {
          "model_module": "@jupyter-widgets/controls",
          "model_name": "FloatProgressModel",
          "state": {
            "_view_name": "ProgressView",
            "style": "IPY_MODEL_fffdd8440ae94d078f39d22916ffafd7",
            "_dom_classes": [],
            "description": "100%",
            "_model_name": "FloatProgressModel",
            "bar_style": "success",
            "max": 2,
            "_view_module": "@jupyter-widgets/controls",
            "_model_module_version": "1.5.0",
            "value": 2,
            "_view_count": null,
            "_view_module_version": "1.5.0",
            "orientation": "horizontal",
            "min": 0,
            "description_tooltip": null,
            "_model_module": "@jupyter-widgets/controls",
            "layout": "IPY_MODEL_f6f50573522e403c93a21ba7dff2770b"
          }
        },
        "54de0a65ac5843ee94e805c8b17be6df": {
          "model_module": "@jupyter-widgets/controls",
          "model_name": "HTMLModel",
          "state": {
            "_view_name": "HTMLView",
            "style": "IPY_MODEL_f34078c73d0a442d8ca7ed41d59ab91a",
            "_dom_classes": [],
            "description": "",
            "_model_name": "HTMLModel",
            "placeholder": "​",
            "_view_module": "@jupyter-widgets/controls",
            "_model_module_version": "1.5.0",
            "value": " 2/2 [02:59&lt;00:00, 89.91s/it]",
            "_view_count": null,
            "_view_module_version": "1.5.0",
            "description_tooltip": null,
            "_model_module": "@jupyter-widgets/controls",
            "layout": "IPY_MODEL_a071077aa9f04459ac1494d4c9367ed0"
          }
        },
        "fffdd8440ae94d078f39d22916ffafd7": {
          "model_module": "@jupyter-widgets/controls",
          "model_name": "ProgressStyleModel",
          "state": {
            "_view_name": "StyleView",
            "_model_name": "ProgressStyleModel",
            "description_width": "initial",
            "_view_module": "@jupyter-widgets/base",
            "_model_module_version": "1.5.0",
            "_view_count": null,
            "_view_module_version": "1.2.0",
            "bar_color": null,
            "_model_module": "@jupyter-widgets/controls"
          }
        },
        "f6f50573522e403c93a21ba7dff2770b": {
          "model_module": "@jupyter-widgets/base",
          "model_name": "LayoutModel",
          "state": {
            "_view_name": "LayoutView",
            "grid_template_rows": null,
            "right": null,
            "justify_content": null,
            "_view_module": "@jupyter-widgets/base",
            "overflow": null,
            "_model_module_version": "1.2.0",
            "_view_count": null,
            "flex_flow": null,
            "width": null,
            "min_width": null,
            "border": null,
            "align_items": null,
            "bottom": null,
            "_model_module": "@jupyter-widgets/base",
            "top": null,
            "grid_column": null,
            "overflow_y": null,
            "overflow_x": null,
            "grid_auto_flow": null,
            "grid_area": null,
            "grid_template_columns": null,
            "flex": null,
            "_model_name": "LayoutModel",
            "justify_items": null,
            "grid_row": null,
            "max_height": null,
            "align_content": null,
            "visibility": null,
            "align_self": null,
            "height": null,
            "min_height": null,
            "padding": null,
            "grid_auto_rows": null,
            "grid_gap": null,
            "max_width": null,
            "order": null,
            "_view_module_version": "1.2.0",
            "grid_template_areas": null,
            "object_position": null,
            "object_fit": null,
            "grid_auto_columns": null,
            "margin": null,
            "display": null,
            "left": null
          }
        },
        "f34078c73d0a442d8ca7ed41d59ab91a": {
          "model_module": "@jupyter-widgets/controls",
          "model_name": "DescriptionStyleModel",
          "state": {
            "_view_name": "StyleView",
            "_model_name": "DescriptionStyleModel",
            "description_width": "",
            "_view_module": "@jupyter-widgets/base",
            "_model_module_version": "1.5.0",
            "_view_count": null,
            "_view_module_version": "1.2.0",
            "_model_module": "@jupyter-widgets/controls"
          }
        },
        "a071077aa9f04459ac1494d4c9367ed0": {
          "model_module": "@jupyter-widgets/base",
          "model_name": "LayoutModel",
          "state": {
            "_view_name": "LayoutView",
            "grid_template_rows": null,
            "right": null,
            "justify_content": null,
            "_view_module": "@jupyter-widgets/base",
            "overflow": null,
            "_model_module_version": "1.2.0",
            "_view_count": null,
            "flex_flow": null,
            "width": null,
            "min_width": null,
            "border": null,
            "align_items": null,
            "bottom": null,
            "_model_module": "@jupyter-widgets/base",
            "top": null,
            "grid_column": null,
            "overflow_y": null,
            "overflow_x": null,
            "grid_auto_flow": null,
            "grid_area": null,
            "grid_template_columns": null,
            "flex": null,
            "_model_name": "LayoutModel",
            "justify_items": null,
            "grid_row": null,
            "max_height": null,
            "align_content": null,
            "visibility": null,
            "align_self": null,
            "height": null,
            "min_height": null,
            "padding": null,
            "grid_auto_rows": null,
            "grid_gap": null,
            "max_width": null,
            "order": null,
            "_view_module_version": "1.2.0",
            "grid_template_areas": null,
            "object_position": null,
            "object_fit": null,
            "grid_auto_columns": null,
            "margin": null,
            "display": null,
            "left": null
          }
        },
        "fe07f0c745d242e9b540648122dc0230": {
          "model_module": "@jupyter-widgets/controls",
          "model_name": "HBoxModel",
          "state": {
            "_view_name": "HBoxView",
            "_dom_classes": [],
            "_model_name": "HBoxModel",
            "_view_module": "@jupyter-widgets/controls",
            "_model_module_version": "1.5.0",
            "_view_count": null,
            "_view_module_version": "1.5.0",
            "box_style": "",
            "layout": "IPY_MODEL_da1da4948f654000a0426d44aa2fb0ad",
            "_model_module": "@jupyter-widgets/controls",
            "children": [
              "IPY_MODEL_fa8f9a10883e4a4aa229f1c3e70d576a",
              "IPY_MODEL_ae5f7d66d96546dfa10bc07ac605ae08"
            ]
          }
        },
        "da1da4948f654000a0426d44aa2fb0ad": {
          "model_module": "@jupyter-widgets/base",
          "model_name": "LayoutModel",
          "state": {
            "_view_name": "LayoutView",
            "grid_template_rows": null,
            "right": null,
            "justify_content": null,
            "_view_module": "@jupyter-widgets/base",
            "overflow": null,
            "_model_module_version": "1.2.0",
            "_view_count": null,
            "flex_flow": null,
            "width": null,
            "min_width": null,
            "border": null,
            "align_items": null,
            "bottom": null,
            "_model_module": "@jupyter-widgets/base",
            "top": null,
            "grid_column": null,
            "overflow_y": null,
            "overflow_x": null,
            "grid_auto_flow": null,
            "grid_area": null,
            "grid_template_columns": null,
            "flex": null,
            "_model_name": "LayoutModel",
            "justify_items": null,
            "grid_row": null,
            "max_height": null,
            "align_content": null,
            "visibility": null,
            "align_self": null,
            "height": null,
            "min_height": null,
            "padding": null,
            "grid_auto_rows": null,
            "grid_gap": null,
            "max_width": null,
            "order": null,
            "_view_module_version": "1.2.0",
            "grid_template_areas": null,
            "object_position": null,
            "object_fit": null,
            "grid_auto_columns": null,
            "margin": null,
            "display": null,
            "left": null
          }
        },
        "fa8f9a10883e4a4aa229f1c3e70d576a": {
          "model_module": "@jupyter-widgets/controls",
          "model_name": "FloatProgressModel",
          "state": {
            "_view_name": "ProgressView",
            "style": "IPY_MODEL_5e53b1d6bfb241188f10c7a8b2b99d48",
            "_dom_classes": [],
            "description": "100%",
            "_model_name": "FloatProgressModel",
            "bar_style": "success",
            "max": 9,
            "_view_module": "@jupyter-widgets/controls",
            "_model_module_version": "1.5.0",
            "value": 9,
            "_view_count": null,
            "_view_module_version": "1.5.0",
            "orientation": "horizontal",
            "min": 0,
            "description_tooltip": null,
            "_model_module": "@jupyter-widgets/controls",
            "layout": "IPY_MODEL_2b4594b88f2a463b987572a69441c0eb"
          }
        },
        "ae5f7d66d96546dfa10bc07ac605ae08": {
          "model_module": "@jupyter-widgets/controls",
          "model_name": "HTMLModel",
          "state": {
            "_view_name": "HTMLView",
            "style": "IPY_MODEL_339d02684df74044a338864c796a5792",
            "_dom_classes": [],
            "description": "",
            "_model_name": "HTMLModel",
            "placeholder": "​",
            "_view_module": "@jupyter-widgets/controls",
            "_model_module_version": "1.5.0",
            "value": " 9/9 [01:41&lt;00:00, 11.29s/it]",
            "_view_count": null,
            "_view_module_version": "1.5.0",
            "description_tooltip": null,
            "_model_module": "@jupyter-widgets/controls",
            "layout": "IPY_MODEL_caba4f667f9c4e5da51ac42cd10fe5b1"
          }
        },
        "5e53b1d6bfb241188f10c7a8b2b99d48": {
          "model_module": "@jupyter-widgets/controls",
          "model_name": "ProgressStyleModel",
          "state": {
            "_view_name": "StyleView",
            "_model_name": "ProgressStyleModel",
            "description_width": "initial",
            "_view_module": "@jupyter-widgets/base",
            "_model_module_version": "1.5.0",
            "_view_count": null,
            "_view_module_version": "1.2.0",
            "bar_color": null,
            "_model_module": "@jupyter-widgets/controls"
          }
        },
        "2b4594b88f2a463b987572a69441c0eb": {
          "model_module": "@jupyter-widgets/base",
          "model_name": "LayoutModel",
          "state": {
            "_view_name": "LayoutView",
            "grid_template_rows": null,
            "right": null,
            "justify_content": null,
            "_view_module": "@jupyter-widgets/base",
            "overflow": null,
            "_model_module_version": "1.2.0",
            "_view_count": null,
            "flex_flow": null,
            "width": null,
            "min_width": null,
            "border": null,
            "align_items": null,
            "bottom": null,
            "_model_module": "@jupyter-widgets/base",
            "top": null,
            "grid_column": null,
            "overflow_y": null,
            "overflow_x": null,
            "grid_auto_flow": null,
            "grid_area": null,
            "grid_template_columns": null,
            "flex": null,
            "_model_name": "LayoutModel",
            "justify_items": null,
            "grid_row": null,
            "max_height": null,
            "align_content": null,
            "visibility": null,
            "align_self": null,
            "height": null,
            "min_height": null,
            "padding": null,
            "grid_auto_rows": null,
            "grid_gap": null,
            "max_width": null,
            "order": null,
            "_view_module_version": "1.2.0",
            "grid_template_areas": null,
            "object_position": null,
            "object_fit": null,
            "grid_auto_columns": null,
            "margin": null,
            "display": null,
            "left": null
          }
        },
        "339d02684df74044a338864c796a5792": {
          "model_module": "@jupyter-widgets/controls",
          "model_name": "DescriptionStyleModel",
          "state": {
            "_view_name": "StyleView",
            "_model_name": "DescriptionStyleModel",
            "description_width": "",
            "_view_module": "@jupyter-widgets/base",
            "_model_module_version": "1.5.0",
            "_view_count": null,
            "_view_module_version": "1.2.0",
            "_model_module": "@jupyter-widgets/controls"
          }
        },
        "caba4f667f9c4e5da51ac42cd10fe5b1": {
          "model_module": "@jupyter-widgets/base",
          "model_name": "LayoutModel",
          "state": {
            "_view_name": "LayoutView",
            "grid_template_rows": null,
            "right": null,
            "justify_content": null,
            "_view_module": "@jupyter-widgets/base",
            "overflow": null,
            "_model_module_version": "1.2.0",
            "_view_count": null,
            "flex_flow": null,
            "width": null,
            "min_width": null,
            "border": null,
            "align_items": null,
            "bottom": null,
            "_model_module": "@jupyter-widgets/base",
            "top": null,
            "grid_column": null,
            "overflow_y": null,
            "overflow_x": null,
            "grid_auto_flow": null,
            "grid_area": null,
            "grid_template_columns": null,
            "flex": null,
            "_model_name": "LayoutModel",
            "justify_items": null,
            "grid_row": null,
            "max_height": null,
            "align_content": null,
            "visibility": null,
            "align_self": null,
            "height": null,
            "min_height": null,
            "padding": null,
            "grid_auto_rows": null,
            "grid_gap": null,
            "max_width": null,
            "order": null,
            "_view_module_version": "1.2.0",
            "grid_template_areas": null,
            "object_position": null,
            "object_fit": null,
            "grid_auto_columns": null,
            "margin": null,
            "display": null,
            "left": null
          }
        },
        "b787493a08e443e79bce1992ca91d424": {
          "model_module": "@jupyter-widgets/controls",
          "model_name": "HBoxModel",
          "state": {
            "_view_name": "HBoxView",
            "_dom_classes": [],
            "_model_name": "HBoxModel",
            "_view_module": "@jupyter-widgets/controls",
            "_model_module_version": "1.5.0",
            "_view_count": null,
            "_view_module_version": "1.5.0",
            "box_style": "",
            "layout": "IPY_MODEL_cda6528df0994fd1b66aa4f11eeabbe4",
            "_model_module": "@jupyter-widgets/controls",
            "children": [
              "IPY_MODEL_cac5afd80c4044c1953c9a0601d0325c",
              "IPY_MODEL_4861c10f3d8d4c2e869384d47d09d879"
            ]
          }
        },
        "cda6528df0994fd1b66aa4f11eeabbe4": {
          "model_module": "@jupyter-widgets/base",
          "model_name": "LayoutModel",
          "state": {
            "_view_name": "LayoutView",
            "grid_template_rows": null,
            "right": null,
            "justify_content": null,
            "_view_module": "@jupyter-widgets/base",
            "overflow": null,
            "_model_module_version": "1.2.0",
            "_view_count": null,
            "flex_flow": null,
            "width": null,
            "min_width": null,
            "border": null,
            "align_items": null,
            "bottom": null,
            "_model_module": "@jupyter-widgets/base",
            "top": null,
            "grid_column": null,
            "overflow_y": null,
            "overflow_x": null,
            "grid_auto_flow": null,
            "grid_area": null,
            "grid_template_columns": null,
            "flex": null,
            "_model_name": "LayoutModel",
            "justify_items": null,
            "grid_row": null,
            "max_height": null,
            "align_content": null,
            "visibility": null,
            "align_self": null,
            "height": null,
            "min_height": null,
            "padding": null,
            "grid_auto_rows": null,
            "grid_gap": null,
            "max_width": null,
            "order": null,
            "_view_module_version": "1.2.0",
            "grid_template_areas": null,
            "object_position": null,
            "object_fit": null,
            "grid_auto_columns": null,
            "margin": null,
            "display": null,
            "left": null
          }
        },
        "cac5afd80c4044c1953c9a0601d0325c": {
          "model_module": "@jupyter-widgets/controls",
          "model_name": "FloatProgressModel",
          "state": {
            "_view_name": "ProgressView",
            "style": "IPY_MODEL_b3f0fa130c594ed18d34d3fe64dc5ac7",
            "_dom_classes": [],
            "description": "100%",
            "_model_name": "FloatProgressModel",
            "bar_style": "success",
            "max": 2,
            "_view_module": "@jupyter-widgets/controls",
            "_model_module_version": "1.5.0",
            "value": 2,
            "_view_count": null,
            "_view_module_version": "1.5.0",
            "orientation": "horizontal",
            "min": 0,
            "description_tooltip": null,
            "_model_module": "@jupyter-widgets/controls",
            "layout": "IPY_MODEL_9cfa5ca7d8cc4a6ab906d780758687da"
          }
        },
        "4861c10f3d8d4c2e869384d47d09d879": {
          "model_module": "@jupyter-widgets/controls",
          "model_name": "HTMLModel",
          "state": {
            "_view_name": "HTMLView",
            "style": "IPY_MODEL_89fd7a066acc49e1b2966937dbda63a8",
            "_dom_classes": [],
            "description": "",
            "_model_name": "HTMLModel",
            "placeholder": "​",
            "_view_module": "@jupyter-widgets/controls",
            "_model_module_version": "1.5.0",
            "value": " 2/2 [01:10&lt;00:00, 35.41s/it]",
            "_view_count": null,
            "_view_module_version": "1.5.0",
            "description_tooltip": null,
            "_model_module": "@jupyter-widgets/controls",
            "layout": "IPY_MODEL_6f05c4b3a183401bb183e169a759e2d9"
          }
        },
        "b3f0fa130c594ed18d34d3fe64dc5ac7": {
          "model_module": "@jupyter-widgets/controls",
          "model_name": "ProgressStyleModel",
          "state": {
            "_view_name": "StyleView",
            "_model_name": "ProgressStyleModel",
            "description_width": "initial",
            "_view_module": "@jupyter-widgets/base",
            "_model_module_version": "1.5.0",
            "_view_count": null,
            "_view_module_version": "1.2.0",
            "bar_color": null,
            "_model_module": "@jupyter-widgets/controls"
          }
        },
        "9cfa5ca7d8cc4a6ab906d780758687da": {
          "model_module": "@jupyter-widgets/base",
          "model_name": "LayoutModel",
          "state": {
            "_view_name": "LayoutView",
            "grid_template_rows": null,
            "right": null,
            "justify_content": null,
            "_view_module": "@jupyter-widgets/base",
            "overflow": null,
            "_model_module_version": "1.2.0",
            "_view_count": null,
            "flex_flow": null,
            "width": null,
            "min_width": null,
            "border": null,
            "align_items": null,
            "bottom": null,
            "_model_module": "@jupyter-widgets/base",
            "top": null,
            "grid_column": null,
            "overflow_y": null,
            "overflow_x": null,
            "grid_auto_flow": null,
            "grid_area": null,
            "grid_template_columns": null,
            "flex": null,
            "_model_name": "LayoutModel",
            "justify_items": null,
            "grid_row": null,
            "max_height": null,
            "align_content": null,
            "visibility": null,
            "align_self": null,
            "height": null,
            "min_height": null,
            "padding": null,
            "grid_auto_rows": null,
            "grid_gap": null,
            "max_width": null,
            "order": null,
            "_view_module_version": "1.2.0",
            "grid_template_areas": null,
            "object_position": null,
            "object_fit": null,
            "grid_auto_columns": null,
            "margin": null,
            "display": null,
            "left": null
          }
        },
        "89fd7a066acc49e1b2966937dbda63a8": {
          "model_module": "@jupyter-widgets/controls",
          "model_name": "DescriptionStyleModel",
          "state": {
            "_view_name": "StyleView",
            "_model_name": "DescriptionStyleModel",
            "description_width": "",
            "_view_module": "@jupyter-widgets/base",
            "_model_module_version": "1.5.0",
            "_view_count": null,
            "_view_module_version": "1.2.0",
            "_model_module": "@jupyter-widgets/controls"
          }
        },
        "6f05c4b3a183401bb183e169a759e2d9": {
          "model_module": "@jupyter-widgets/base",
          "model_name": "LayoutModel",
          "state": {
            "_view_name": "LayoutView",
            "grid_template_rows": null,
            "right": null,
            "justify_content": null,
            "_view_module": "@jupyter-widgets/base",
            "overflow": null,
            "_model_module_version": "1.2.0",
            "_view_count": null,
            "flex_flow": null,
            "width": null,
            "min_width": null,
            "border": null,
            "align_items": null,
            "bottom": null,
            "_model_module": "@jupyter-widgets/base",
            "top": null,
            "grid_column": null,
            "overflow_y": null,
            "overflow_x": null,
            "grid_auto_flow": null,
            "grid_area": null,
            "grid_template_columns": null,
            "flex": null,
            "_model_name": "LayoutModel",
            "justify_items": null,
            "grid_row": null,
            "max_height": null,
            "align_content": null,
            "visibility": null,
            "align_self": null,
            "height": null,
            "min_height": null,
            "padding": null,
            "grid_auto_rows": null,
            "grid_gap": null,
            "max_width": null,
            "order": null,
            "_view_module_version": "1.2.0",
            "grid_template_areas": null,
            "object_position": null,
            "object_fit": null,
            "grid_auto_columns": null,
            "margin": null,
            "display": null,
            "left": null
          }
        }
      }
    }
  },
  "nbformat": 4,
  "nbformat_minor": 0
}