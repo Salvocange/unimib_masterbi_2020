{
  "cells": [
    {
      "cell_type": "markdown",
      "metadata": {
        "id": "VYfg3I_fSt6e",
        "colab_type": "text"
      },
      "source": [
        "# WebScraping with Selenium\n",
        "\n",
        "This notebook shows how use selenium to scrape data from Kickstarter.com\n",
        "The scope is only to understand the capabilities of web scraping and prepare a dataset for academic purporse.\n",
        "\n",
        "Let’s begin writing our scraper!\n",
        "\n",
        "We will first install important modules and packages for our Notebook\n",
        "\n",
        "\n",
        "*   Selenium\n",
        "*   Chromium-chromedriver\n",
        "\n",
        "<a href=\"https://colab.research.google.com/drive/1_WyM24eXWf-pdcqJKCcsb1pWwnbEWRi8?authuser=2#scrollTo=VYfg3I_fSt6e\"><img align=\"left\" src=\"https://colab.research.google.com/assets/colab-badge.svg\" alt=\"Open in Colab\" title=\"Open and Execute in Google Colaboratory\"></a>\n"
      ]
    },
    {
      "cell_type": "code",
      "metadata": {
        "id": "6E11q1711nmO",
        "colab_type": "code",
        "colab": {
          "base_uri": "https://localhost:8080/",
          "height": 408
        },
        "outputId": "f0fd77a9-2721-44fd-e087-adbd6ece43f0"
      },
      "source": [
        "!pip install selenium\n",
        "!apt-get update\n",
        "!apt install chromium-chromedriver\n",
        "!cp /usr/lib/chromium-browser/chromedriver /usr/bin"
      ],
      "execution_count": 10,
      "outputs": [
        {
          "output_type": "stream",
          "text": [
            "Requirement already satisfied: selenium in /usr/local/lib/python3.6/dist-packages (3.141.0)\n",
            "Requirement already satisfied: urllib3 in /usr/local/lib/python3.6/dist-packages (from selenium) (1.24.3)\n",
            "Hit:1 http://ppa.launchpad.net/graphics-drivers/ppa/ubuntu bionic InRelease\n",
            "Hit:2 http://archive.ubuntu.com/ubuntu bionic InRelease\n",
            "Hit:3 http://archive.ubuntu.com/ubuntu bionic-updates InRelease\n",
            "Hit:4 http://ppa.launchpad.net/marutter/c2d4u3.5/ubuntu bionic InRelease\n",
            "Hit:5 http://archive.ubuntu.com/ubuntu bionic-backports InRelease\n",
            "Hit:6 https://cloud.r-project.org/bin/linux/ubuntu bionic-cran35/ InRelease\n",
            "Hit:7 http://security.ubuntu.com/ubuntu bionic-security InRelease\n",
            "Ign:8 https://developer.download.nvidia.com/compute/cuda/repos/ubuntu1804/x86_64  InRelease\n",
            "Ign:9 https://developer.download.nvidia.com/compute/machine-learning/repos/ubuntu1804/x86_64  InRelease\n",
            "Hit:10 https://developer.download.nvidia.com/compute/cuda/repos/ubuntu1804/x86_64  Release\n",
            "Hit:11 https://developer.download.nvidia.com/compute/machine-learning/repos/ubuntu1804/x86_64  Release\n",
            "Reading package lists... Done\n",
            "Reading package lists... Done\n",
            "Building dependency tree       \n",
            "Reading state information... Done\n",
            "chromium-chromedriver is already the newest version (83.0.4103.61-0ubuntu0.18.04.1).\n",
            "The following package was automatically installed and is no longer required:\n",
            "  libnvidia-common-440\n",
            "Use 'apt autoremove' to remove it.\n",
            "0 upgraded, 0 newly installed, 0 to remove and 49 not upgraded.\n",
            "cp: '/usr/lib/chromium-browser/chromedriver' and '/usr/bin/chromedriver' are the same file\n"
          ],
          "name": "stdout"
        }
      ]
    },
    {
      "cell_type": "markdown",
      "metadata": {
        "id": "kuhZcDh4UHYp",
        "colab_type": "text"
      },
      "source": [
        "And now we will import some modules on our Notebook\n",
        "\n",
        "\n",
        "1.   sys: to setup the path of chrome driver\n",
        "2.   selenium: to emulate the user behaviour\n",
        "3.   pandas: to work with data\n",
        "4.   tqdm: to show a progress bar in our notebook\n",
        "5.   json: to work with json format\n",
        "\n",
        "\n",
        "\n"
      ]
    },
    {
      "cell_type": "code",
      "metadata": {
        "id": "YRt5yEXxA-jW",
        "colab_type": "code",
        "colab": {}
      },
      "source": [
        "import sys\n",
        "sys.path.insert(0,'/usr/lib/chromium-browser/chromedriver')\n",
        "from selenium import webdriver\n",
        "from tqdm import tqdm_notebook as tqdm\n",
        "import pandas\n",
        "import json\n",
        "import pprint"
      ],
      "execution_count": 11,
      "outputs": []
    },
    {
      "cell_type": "markdown",
      "metadata": {
        "id": "ksyefP35VQc2",
        "colab_type": "text"
      },
      "source": [
        "First we need to set the options for the ghost browser.\n",
        "The most important is `--headless` because we are in a \"cloud\" ntotebook. In our local notebook we can remove the `--headless` option.  \n"
      ]
    },
    {
      "cell_type": "code",
      "metadata": {
        "id": "DTfvdy_gBCBU",
        "colab_type": "code",
        "colab": {}
      },
      "source": [
        "chrome_options = webdriver.ChromeOptions()\n",
        "chrome_options.add_argument('--headless')\n",
        "chrome_options.add_argument('--no-sandbox')\n",
        "chrome_options.add_argument('--disable-dev-shm-usage')"
      ],
      "execution_count": 12,
      "outputs": []
    },
    {
      "cell_type": "markdown",
      "metadata": {
        "id": "0DpumOn7VoFw",
        "colab_type": "text"
      },
      "source": [
        "`webdriver` is the most importa object in Selenium.\n",
        "With `webdriver` we can start the phantom browser, emulate the user navigation and scrape our data. \n",
        "\n",
        "Let’s now create a new instance of google chrome.\n",
        "\n",
        "\n",
        "We will navitage to page by a `get` request. With http we can do a get or a post (or others but they are not important for us): https://www.w3schools.com/tags/ref_httpmethods.asp \n",
        "\n",
        "\n",
        "\n",
        "```\n",
        "wd.get(\"https://www.kickstarter.com/discover/advanced?sort=magic&ref=nav_search&page=1\")\n",
        "```\n",
        "\n"
      ]
    },
    {
      "cell_type": "code",
      "metadata": {
        "id": "D6MLvqs9BIzI",
        "colab_type": "code",
        "colab": {
          "base_uri": "https://localhost:8080/",
          "height": 51
        },
        "outputId": "0ac7a9c0-2a3b-4fa2-fd18-02b9dcd923d2"
      },
      "source": [
        "wd = webdriver.Chrome('chromedriver',chrome_options=chrome_options)\n",
        "wd.get(\"https://www.kickstarter.com/discover/advanced?sort=magic&ref=nav_search&page=1\")"
      ],
      "execution_count": 13,
      "outputs": [
        {
          "output_type": "stream",
          "text": [
            "/usr/local/lib/python3.6/dist-packages/ipykernel_launcher.py:1: DeprecationWarning: use options instead of chrome_options\n",
            "  \"\"\"Entry point for launching an IPython kernel.\n"
          ],
          "name": "stderr"
        }
      ]
    },
    {
      "cell_type": "markdown",
      "metadata": {
        "id": "p3Sbfud-WbV-",
        "colab_type": "text"
      },
      "source": [
        "Take a look to the screenshot from our phantom browser.\n",
        "\n",
        "Note:\n",
        "- la language and the locale: It is en_US!\n",
        "- the screen ration: is it the same of our notebook?"
      ]
    },
    {
      "cell_type": "code",
      "metadata": {
        "id": "iBCZSC4dWfKW",
        "colab_type": "code",
        "colab": {
          "base_uri": "https://localhost:8080/",
          "height": 286
        },
        "outputId": "c222cd53-a3a9-4a31-ee11-503108bee7a1"
      },
      "source": [
        "wd.save_screenshot('screenshot.png')\n",
        "\n",
        "%pylab inline\n",
        "import matplotlib.pyplot as plt\n",
        "import matplotlib.image as mpimg\n",
        "img=mpimg.imread('/content/screenshot.png')\n",
        "imgplot = plt.imshow(img)\n",
        "plt.show()"
      ],
      "execution_count": null,
      "outputs": [
        {
          "output_type": "stream",
          "text": [
            "Populating the interactive namespace from numpy and matplotlib\n"
          ],
          "name": "stdout"
        },
        {
          "output_type": "display_data",
          "data": {
            "image/png": "[encoded data removed]",
            "text/plain": [
              "<Figure size 432x288 with 1 Axes>"
            ]
          },
          "metadata": {
            "tags": [],
            "needs_background": "light"
          }
        }
      ]
    },
    {
      "cell_type": "markdown",
      "metadata": {
        "id": "kRr2IAQsa1s_",
        "colab_type": "text"
      },
      "source": [
        "Let's try to extract some information from the page\n",
        "\n",
        "\n",
        "\n",
        "`title` contains the title of our page.\n",
        "\n",
        "\n"
      ]
    },
    {
      "cell_type": "code",
      "metadata": {
        "id": "X033nUzra6uq",
        "colab_type": "code",
        "colab": {
          "base_uri": "https://localhost:8080/",
          "height": 34
        },
        "outputId": "2a586a9e-03f1-4588-eb75-923e43d087a0"
      },
      "source": [
        "print(wd.title)"
      ],
      "execution_count": null,
      "outputs": [
        {
          "output_type": "stream",
          "text": [
            "Discover Projects — Kickstarter\n"
          ],
          "name": "stdout"
        }
      ]
    },
    {
      "cell_type": "markdown",
      "metadata": {
        "id": "C2FL7PA0jXdP",
        "colab_type": "text"
      },
      "source": [
        "### First exercise with *Selenium*\n",
        "\n",
        "Try it yourself... Print the contents of the page on the screen!\n",
        "\n",
        "Complete the code and annotate the different behaviour. Try to use the attributes/methods applied to `wd`\n",
        "\n",
        "- `page_source`\n",
        "- `find_element_by_tag_name(\"body\")`\n",
        "- `find_element_by_tag_name(\"body\").text`\n",
        "\n",
        "\n"
      ]
    },
    {
      "cell_type": "code",
      "metadata": {
        "id": "wkPbJsAPj19o",
        "colab_type": "code",
        "colab": {}
      },
      "source": [
        "print(....)"
      ],
      "execution_count": null,
      "outputs": []
    },
    {
      "cell_type": "markdown",
      "metadata": {
        "id": "zK7Cf_mradiL",
        "colab_type": "text"
      },
      "source": [
        "### How do we extract the values inside a page with CSS Selector?\n",
        "\n",
        "Selenium has a method called `find_elements_by_css_selector`.\n",
        "\n",
        "We will pass our CSS Selector into this method and get a list of selenium elements. Once we have the element, we can extract the text inside it using the `text` function."
      ]
    },
    {
      "cell_type": "code",
      "metadata": {
        "id": "WFuRVKIdbWN3",
        "colab_type": "code",
        "colab": {
          "base_uri": "https://localhost:8080/",
          "height": 34
        },
        "outputId": "d01f2d67-802f-4ee9-c521-8947ad808e55"
      },
      "source": [
        "list_h3 = wd.find_elements_by_css_selector(\"h3\")\n",
        "print(len(list_h3))"
      ],
      "execution_count": null,
      "outputs": [
        {
          "output_type": "stream",
          "text": [
            "17\n"
          ],
          "name": "stdout"
        }
      ]
    },
    {
      "cell_type": "code",
      "metadata": {
        "id": "cRPP5xUrbwcE",
        "colab_type": "code",
        "colab": {
          "base_uri": "https://localhost:8080/",
          "height": 34
        },
        "outputId": "819082ba-518c-464e-8f8f-9300d78b2020"
      },
      "source": [
        "print(list_h3[0].text)"
      ],
      "execution_count": null,
      "outputs": [
        {
          "output_type": "stream",
          "text": [
            "Explore 480,677 projects\n"
          ],
          "name": "stdout"
        }
      ]
    },
    {
      "cell_type": "markdown",
      "metadata": {
        "id": "bAtLMeKVb8Wp",
        "colab_type": "text"
      },
      "source": [
        "### Exercise on *find_elements_by_css_selector*\n",
        "\n",
        "Try to export the list of `p` elements and show the content of the first element.\n",
        "\n",
        "\n"
      ]
    },
    {
      "cell_type": "code",
      "metadata": {
        "id": "6_4-y31fcEYq",
        "colab_type": "code",
        "colab": {}
      },
      "source": [
        "list_p = wd......(\"...\")\n",
        "print(len(list_p))"
      ],
      "execution_count": null,
      "outputs": []
    },
    {
      "cell_type": "markdown",
      "metadata": {
        "id": "A1ETBqlPcQhl",
        "colab_type": "text"
      },
      "source": [
        "# Project List from Kickstarter\n",
        "\n",
        "Let's begin to download the list of projects.\n",
        "\n",
        "The list of projects is defined by the css selection rule\n",
        "`#projects_list > div > div.js-react-proj-card`\n",
        "\n"
      ]
    },
    {
      "cell_type": "code",
      "metadata": {
        "id": "_V1hNO9ZcJy6",
        "colab_type": "code",
        "colab": {
          "base_uri": "https://localhost:8080/",
          "height": 34
        },
        "outputId": "dab78275-73e8-4f62-d136-114fa88b5110"
      },
      "source": [
        "list_projects = wd.find_elements_by_css_selector(\"#projects_list > div > div.js-react-proj-card\")\n",
        "print(len(list_projects))"
      ],
      "execution_count": null,
      "outputs": [
        {
          "output_type": "stream",
          "text": [
            "1\n"
          ],
          "name": "stdout"
        }
      ]
    },
    {
      "cell_type": "markdown",
      "metadata": {
        "id": "k_fSFWX0cktI",
        "colab_type": "text"
      },
      "source": [
        "Gread! We find 12 project!\n",
        "\n",
        "Now, we will extract the attribute from each single element.\n",
        "The scope is to create one dict for each project in the list with the attribute:\n",
        "\n",
        "\n",
        "1.   url\n",
        "2.   title\n",
        "3.   description\n",
        "4.   category\n",
        "5.   location\n",
        "\n"
      ]
    },
    {
      "cell_type": "code",
      "metadata": {
        "id": "1J2xAL6qcj9-",
        "colab_type": "code",
        "colab": {
          "base_uri": "https://localhost:8080/",
          "height": 153
        },
        "outputId": "5ab693bf-7b7f-44f3-b929-7828f4899612"
      },
      "source": [
        "import pprint\n",
        "detail_projects = []\n",
        "for project in list_projects:\n",
        "    title = project.find_elements_by_css_selector(\"h3\")[0].text\n",
        "    url = project.find_elements_by_css_selector(\"a\")[0].get_attribute(\"href\")\n",
        "    if(len(project.find_elements_by_css_selector(\".pb3 a\")) > 5):\n",
        "      description = project.find_elements_by_css_selector(\".mb3 p\")[0].text\n",
        "      category = project.find_elements_by_css_selector(\".pb3 a\")[4].text\n",
        "      location = project.find_elements_by_css_selector(\".pb3 a\")[5].text\n",
        "    else:\n",
        "      description = project.find_elements_by_css_selector(\".mb3 p\")[0].text\n",
        "      category = project.find_elements_by_css_selector(\".pb3 a\")[3].text\n",
        "      location = project.find_elements_by_css_selector(\".pb3 a\")[4].text\n",
        "    project_id = project.get_attribute(\"data-pid\")\n",
        "\n",
        "    detail_projects.append({'url': url,\n",
        "                            'title': title,\n",
        "                            'description': description,\n",
        "                            'category': category,\n",
        "                            'location': location,\n",
        "                            'project_id': project_id})\n",
        "\n",
        "len(detail_projects)\n",
        "pprint.pprint(detail_projects)"
      ],
      "execution_count": null,
      "outputs": [
        {
          "output_type": "stream",
          "text": [
            "5\n",
            "[{'category': 'Accessories',\n",
            "  'description': 'Protective Reusable Cotton Masks. Made In New Orleans, '\n",
            "                 'Lesotho & South Africa.',\n",
            "  'location': 'New Orleans, LA',\n",
            "  'project_id': '1459973818',\n",
            "  'title': 'Mask Up NOLA',\n",
            "  'url': 'https://www.kickstarter.com/projects/1793303326/mask-up-nola?ref=discovery&term=Mask%20Up%20NOLA'}]\n"
          ],
          "name": "stdout"
        }
      ]
    },
    {
      "cell_type": "markdown",
      "metadata": {
        "id": "9Sn0txryfR4c",
        "colab_type": "text"
      },
      "source": [
        "Now let's try downloading all the ads on the front page...\n",
        "and then move on to the second.\n",
        "\n",
        "First we define a `parse_project` function to make the code cleaner and to reuse the function."
      ]
    },
    {
      "cell_type": "code",
      "metadata": {
        "id": "tD3KLUrIfTJd",
        "colab_type": "code",
        "colab": {}
      },
      "source": [
        "def parse_project(project):\n",
        "  project_id = project.get_attribute(\"data-pid\")\n",
        "  title = \"\"\n",
        "  description = \"\"\n",
        "  category = \"\"\n",
        "  location = \"\"\n",
        "  try:\n",
        "    title = project.find_elements_by_css_selector(\"h3\")[0].text\n",
        "    url = project.find_elements_by_css_selector(\"a\")[0].get_attribute(\"href\")\n",
        "    if(len(project.find_elements_by_css_selector(\".pb3 a\")) > 5):\n",
        "      description = project.find_elements_by_css_selector(\".mb3 p\")[0].text\n",
        "      category = project.find_elements_by_css_selector(\".pb3 a\")[4].text\n",
        "      location = project.find_elements_by_css_selector(\".pb3 a\")[5].text\n",
        "    else:\n",
        "      description = project.find_elements_by_css_selector(\".mb3 p\")[0].text\n",
        "      category = project.find_elements_by_css_selector(\".pb3 a\")[3].text\n",
        "      location = project.find_elements_by_css_selector(\".pb3 a\")[4].text\n",
        "  except:\n",
        "    pass\n",
        "  return {'url': url,\n",
        "          'title': title,\n",
        "          'description': description,\n",
        "          'category': category,\n",
        "          'location': location,\n",
        "          'project_id': project_id}\n"
      ],
      "execution_count": null,
      "outputs": []
    },
    {
      "cell_type": "markdown",
      "metadata": {
        "id": "SR-xG0FIgf7u",
        "colab_type": "text"
      },
      "source": [
        "Here's how to download the first two pages of projects..."
      ]
    },
    {
      "cell_type": "code",
      "metadata": {
        "id": "TfWSS_33fbZg",
        "colab_type": "code",
        "colab": {
          "base_uri": "https://localhost:8080/",
          "height": 134,
          "referenced_widgets": [
            "093cda5416824f57b897803981691191",
            "cb94f0c2715045a4ae74bedc60cface4",
            "53a90617c9484d7db9c923a369ac861d",
            "81749ac211054630a1c42e83f2ce4c6c",
            "f5d8c68fd2284c0d9ac1e72e6d4435f9",
            "d3da405dde7546139c39698dc3ecc7ef",
            "e5de951326cf477fa71e9560927e479d",
            "cb34dfac37324698a21d66043471c08a"
          ]
        },
        "outputId": "83aabe5d-9391-49b3-87b2-de737eef0c44"
      },
      "source": [
        "detail_projects = []\n",
        "for num in tqdm(range(1,3)):\n",
        "  wd.get(f\"https://www.kickstarter.com/discover/advanced?sort=popularity&ref=nav_search&page={num}\")\n",
        "  wd.save_screenshot(f'screenshot_{num}.png')\n",
        "  list_projects = wd.find_elements_by_css_selector(\"#projects_list > div > div.js-react-proj-card\")\n",
        "  for project in list_projects:\n",
        "    detail_projects.append(parse_project(project))\n",
        "\n",
        "print(len(detail_projects))"
      ],
      "execution_count": null,
      "outputs": [
        {
          "output_type": "stream",
          "text": [
            "/usr/local/lib/python3.6/dist-packages/ipykernel_launcher.py:2: TqdmDeprecationWarning: This function will be removed in tqdm==5.0.0\n",
            "Please use `tqdm.notebook.tqdm` instead of `tqdm.tqdm_notebook`\n",
            "  \n"
          ],
          "name": "stderr"
        },
        {
          "output_type": "display_data",
          "data": {
            "application/vnd.jupyter.widget-view+json": {
              "model_id": "093cda5416824f57b897803981691191",
              "version_minor": 0,
              "version_major": 2
            },
            "text/plain": [
              "HBox(children=(FloatProgress(value=0.0, max=2.0), HTML(value='')))"
            ]
          },
          "metadata": {
            "tags": []
          }
        },
        {
          "output_type": "stream",
          "text": [
            "\n",
            "24\n"
          ],
          "name": "stdout"
        }
      ]
    },
    {
      "cell_type": "markdown",
      "metadata": {
        "id": "HbjVFLOOgnNx",
        "colab_type": "text"
      },
      "source": [
        "Have you seen the bookstore **tqdm**!\n",
        "Find at this link all the documentation **https://github.com/tqdm/tqdm**:\n",
        "is very useful to make our notebook more nice..."
      ]
    },
    {
      "cell_type": "markdown",
      "metadata": {
        "id": "S9MsWLutg4Oi",
        "colab_type": "text"
      },
      "source": [
        "### How to end scraping?\n",
        "Problem: When do we stop?\n",
        "\n",
        "There are several ways. Some simpler and some more advanced:\n",
        "- We can search inside the page for the ad number and divide it by 12\n",
        "- We can check the status of the request (if (status_code == 200):... for a list of possible http status codes please check https://en.wikipedia.org/wiki/List_of_HTTP_status_codes)\n",
        "- We can check the number of ads found (if > 0...)\n",
        "- Other more advanced techniques...\n",
        "\n",
        "For example, in our case, let's go to verify the presence, or not, of the *Load more* button inside the page. If present, we continue scraping, otherwise we stop.\n",
        "\n",
        "Actually, we can also combine more than one of these techniques.\n",
        "\n",
        "For this exercise we will just download the first 10 pages."
      ]
    },
    {
      "cell_type": "code",
      "metadata": {
        "id": "nkofmsCGgwQA",
        "colab_type": "code",
        "colab": {}
      },
      "source": [
        "import time\n",
        "detail_projects = []\n",
        "for num in tqdm(range(1,10)):\n",
        "  time.sleep(1)\n",
        "  wd.get(f\"https://www.kickstarter.com/discover/advanced?sort=popularity&ref=nav_search&page={num}\")\n",
        "  #wd.save_screenshot(f'screenshot_{num}.png')\n",
        "  list_projects = wd.find_elements_by_css_selector(\"#projects_list > div > div.js-react-proj-card\")\n",
        "  for project in list_projects:\n",
        "    detail_projects.append(parse_project(project))\n",
        "\n",
        "print(len(detail_projects))"
      ],
      "execution_count": null,
      "outputs": []
    },
    {
      "cell_type": "markdown",
      "metadata": {
        "id": "TqxsicNNovfy",
        "colab_type": "text"
      },
      "source": [
        "# Pandas and data processing\n",
        "\n",
        "**Well!**\n",
        "We're starting to see another amazing library for working with data!\n",
        "\n",
        "It's **pandas**: *Python library for data analysis*.\n",
        "\n",
        "Basically, with pandas we can manipulate a data set or a historical series in Python.\n",
        "\n",
        "For now, we start to give a couple of concepts.\n",
        "\n",
        "Pandas is based on two types of data: **Series** and **DataFrame**:\n",
        "- `Series` represents a list of data\n",
        "- `DataFrame` represent a data set in tabular format\n",
        "\n",
        "Each column of a `DataFrame` is a `Series`.\n",
        "\n",
        "We can create a `DataFrame` using the `pd.DataFrame` method by passing our dictionary as an input parameter.\n",
        "\n",
        "A `DataFrame` pandas can be easily exported in *CSV*, *Excel*, ...\n",
        "\n",
        "For more information about `Pandas` see\n",
        "\n",
        "https://pandas.pydata.org/getting_started.html\n"
      ]
    },
    {
      "cell_type": "code",
      "metadata": {
        "id": "MumFgyNypoBo",
        "colab_type": "code",
        "colab": {
          "base_uri": "https://localhost:8080/",
          "height": 204
        },
        "outputId": "7714a4f2-7e29-4df7-c53c-9acf8fe058d1"
      },
      "source": [
        "import pandas as pd\n",
        "ds_detail_projects = pd.DataFrame(detail_projects)\n",
        "ds_detail_projects.set_index(\"project_id\")\n",
        "ds_detail_projects.head()"
      ],
      "execution_count": null,
      "outputs": [
        {
          "output_type": "execute_result",
          "data": {
            "text/html": [
              "<div>\n",
              "<style scoped>\n",
              "    .dataframe tbody tr th:only-of-type {\n",
              "        vertical-align: middle;\n",
              "    }\n",
              "\n",
              "    .dataframe tbody tr th {\n",
              "        vertical-align: top;\n",
              "    }\n",
              "\n",
              "    .dataframe thead th {\n",
              "        text-align: right;\n",
              "    }\n",
              "</style>\n",
              "<table border=\"1\" class=\"dataframe\">\n",
              "  <thead>\n",
              "    <tr style=\"text-align: right;\">\n",
              "      <th></th>\n",
              "      <th>url</th>\n",
              "      <th>title</th>\n",
              "      <th>description</th>\n",
              "      <th>category</th>\n",
              "      <th>location</th>\n",
              "      <th>project_id</th>\n",
              "    </tr>\n",
              "  </thead>\n",
              "  <tbody>\n",
              "    <tr>\n",
              "      <th>0</th>\n",
              "      <td>https://www.kickstarter.com/projects/100349895...</td>\n",
              "      <td>Ananta, A 17.3-inch Touchscreen Portable Monitor</td>\n",
              "      <td>Grow your ideas on a larger touchscreen monito...</td>\n",
              "      <td>Gadgets</td>\n",
              "      <td>Shenzhen, China</td>\n",
              "      <td>256941264</td>\n",
              "    </tr>\n",
              "    <tr>\n",
              "      <th>1</th>\n",
              "      <td>https://www.kickstarter.com/projects/terraplan...</td>\n",
              "      <td>terraplanter - visibly follow the journey from...</td>\n",
              "      <td>Just fill with water and the plant will take o...</td>\n",
              "      <td>Product Design</td>\n",
              "      <td>Long Island, NY</td>\n",
              "      <td>374051904</td>\n",
              "    </tr>\n",
              "    <tr>\n",
              "      <th>2</th>\n",
              "      <td>https://www.kickstarter.com/projects/instaflos...</td>\n",
              "      <td>Instafloss - The 10 Second Floss That Will Mak...</td>\n",
              "      <td>Instafloss is a multi-jet water flosser delive...</td>\n",
              "      <td>Hardware</td>\n",
              "      <td>Miami, FL</td>\n",
              "      <td>748081064</td>\n",
              "    </tr>\n",
              "    <tr>\n",
              "      <th>3</th>\n",
              "      <td>https://www.kickstarter.com/projects/hookey/ho...</td>\n",
              "      <td>Hoo(KEY) - Antimicrobial Silicone Patented No-...</td>\n",
              "      <td>HooKEY is an antimicrobial, anti-scratch, supe...</td>\n",
              "      <td>Gadgets</td>\n",
              "      <td>St. Charles, IL</td>\n",
              "      <td>433085097</td>\n",
              "    </tr>\n",
              "    <tr>\n",
              "      <th>4</th>\n",
              "      <td>https://www.kickstarter.com/projects/ohsnapoff...</td>\n",
              "      <td>Ohsnap Grip: How Smart People Use Smartphones</td>\n",
              "      <td>Super-thin grip, stand, and magnet, now compat...</td>\n",
              "      <td>Product Design</td>\n",
              "      <td>Apex, NC</td>\n",
              "      <td>1158852071</td>\n",
              "    </tr>\n",
              "  </tbody>\n",
              "</table>\n",
              "</div>"
            ],
            "text/plain": [
              "                                                 url  ...  project_id\n",
              "0  https://www.kickstarter.com/projects/100349895...  ...   256941264\n",
              "1  https://www.kickstarter.com/projects/terraplan...  ...   374051904\n",
              "2  https://www.kickstarter.com/projects/instaflos...  ...   748081064\n",
              "3  https://www.kickstarter.com/projects/hookey/ho...  ...   433085097\n",
              "4  https://www.kickstarter.com/projects/ohsnapoff...  ...  1158852071\n",
              "\n",
              "[5 rows x 6 columns]"
            ]
          },
          "metadata": {
            "tags": []
          },
          "execution_count": 123
        }
      ]
    },
    {
      "cell_type": "markdown",
      "metadata": {
        "id": "GwW7Sj7irFDT",
        "colab_type": "text"
      },
      "source": [
        "The `.info()` method provides an indication of the structure and data of the `DataFrame`."
      ]
    },
    {
      "cell_type": "code",
      "metadata": {
        "id": "_tFbyPwcrNY4",
        "colab_type": "code",
        "colab": {
          "base_uri": "https://localhost:8080/",
          "height": 238
        },
        "outputId": "99819298-bc3b-4dea-fe80-a717aa7db42a"
      },
      "source": [
        "ds_detail_projects.info()"
      ],
      "execution_count": null,
      "outputs": [
        {
          "output_type": "stream",
          "text": [
            "<class 'pandas.core.frame.DataFrame'>\n",
            "RangeIndex: 1188 entries, 0 to 1187\n",
            "Data columns (total 6 columns):\n",
            " #   Column       Non-Null Count  Dtype \n",
            "---  ------       --------------  ----- \n",
            " 0   url          1188 non-null   object\n",
            " 1   title        1188 non-null   object\n",
            " 2   description  1188 non-null   object\n",
            " 3   category     1188 non-null   object\n",
            " 4   location     1188 non-null   object\n",
            " 5   project_id   1188 non-null   object\n",
            "dtypes: object(6)\n",
            "memory usage: 55.8+ KB\n"
          ],
          "name": "stdout"
        }
      ]
    },
    {
      "cell_type": "code",
      "metadata": {
        "id": "3lUw4-_BrQDh",
        "colab_type": "code",
        "colab": {}
      },
      "source": [
        "ds_detail_projects.to_csv('ds_projects.csv')"
      ],
      "execution_count": null,
      "outputs": []
    },
    {
      "cell_type": "markdown",
      "metadata": {
        "id": "AXdgP8t3q_A-",
        "colab_type": "text"
      },
      "source": [
        "# Kickstarter Project pages ###\n",
        "\n",
        "Now, the goal is to navigate and download the details of each project and pictures of the houses.\n",
        "\n",
        "**Pandas** provides the *.read_csv* method that allows you to upload in CSV format files within a DataFrame."
      ]
    },
    {
      "cell_type": "code",
      "metadata": {
        "id": "yVnUyfGsvcac",
        "colab_type": "code",
        "colab": {
          "base_uri": "https://localhost:8080/",
          "height": 235
        },
        "outputId": "f2dc14e0-5b07-4f21-c1e8-cec785ac93c8"
      },
      "source": [
        "# open csv file\n",
        "import pandas as pd\n",
        "ds_detail_projects = pd.read_csv(\"ds_projects.csv\", index_col=\"project_id\")\n",
        "ds_detail_projects.head()"
      ],
      "execution_count": null,
      "outputs": [
        {
          "output_type": "execute_result",
          "data": {
            "text/html": [
              "<div>\n",
              "<style scoped>\n",
              "    .dataframe tbody tr th:only-of-type {\n",
              "        vertical-align: middle;\n",
              "    }\n",
              "\n",
              "    .dataframe tbody tr th {\n",
              "        vertical-align: top;\n",
              "    }\n",
              "\n",
              "    .dataframe thead th {\n",
              "        text-align: right;\n",
              "    }\n",
              "</style>\n",
              "<table border=\"1\" class=\"dataframe\">\n",
              "  <thead>\n",
              "    <tr style=\"text-align: right;\">\n",
              "      <th></th>\n",
              "      <th>Unnamed: 0</th>\n",
              "      <th>url</th>\n",
              "      <th>title</th>\n",
              "      <th>description</th>\n",
              "      <th>category</th>\n",
              "      <th>location</th>\n",
              "    </tr>\n",
              "    <tr>\n",
              "      <th>project_id</th>\n",
              "      <th></th>\n",
              "      <th></th>\n",
              "      <th></th>\n",
              "      <th></th>\n",
              "      <th></th>\n",
              "      <th></th>\n",
              "    </tr>\n",
              "  </thead>\n",
              "  <tbody>\n",
              "    <tr>\n",
              "      <th>256941264</th>\n",
              "      <td>0</td>\n",
              "      <td>https://www.kickstarter.com/projects/100349895...</td>\n",
              "      <td>Ananta, A 17.3-inch Touchscreen Portable Monitor</td>\n",
              "      <td>Grow your ideas on a larger touchscreen monito...</td>\n",
              "      <td>Gadgets</td>\n",
              "      <td>Shenzhen, China</td>\n",
              "    </tr>\n",
              "    <tr>\n",
              "      <th>374051904</th>\n",
              "      <td>1</td>\n",
              "      <td>https://www.kickstarter.com/projects/terraplan...</td>\n",
              "      <td>terraplanter - visibly follow the journey from...</td>\n",
              "      <td>Just fill with water and the plant will take o...</td>\n",
              "      <td>Product Design</td>\n",
              "      <td>Long Island, NY</td>\n",
              "    </tr>\n",
              "    <tr>\n",
              "      <th>748081064</th>\n",
              "      <td>2</td>\n",
              "      <td>https://www.kickstarter.com/projects/instaflos...</td>\n",
              "      <td>Instafloss - The 10 Second Floss That Will Mak...</td>\n",
              "      <td>Instafloss is a multi-jet water flosser delive...</td>\n",
              "      <td>Hardware</td>\n",
              "      <td>Miami, FL</td>\n",
              "    </tr>\n",
              "    <tr>\n",
              "      <th>433085097</th>\n",
              "      <td>3</td>\n",
              "      <td>https://www.kickstarter.com/projects/hookey/ho...</td>\n",
              "      <td>Hoo(KEY) - Antimicrobial Silicone Patented No-...</td>\n",
              "      <td>HooKEY is an antimicrobial, anti-scratch, supe...</td>\n",
              "      <td>Gadgets</td>\n",
              "      <td>St. Charles, IL</td>\n",
              "    </tr>\n",
              "    <tr>\n",
              "      <th>1158852071</th>\n",
              "      <td>4</td>\n",
              "      <td>https://www.kickstarter.com/projects/ohsnapoff...</td>\n",
              "      <td>Ohsnap Grip: How Smart People Use Smartphones</td>\n",
              "      <td>Super-thin grip, stand, and magnet, now compat...</td>\n",
              "      <td>Product Design</td>\n",
              "      <td>Apex, NC</td>\n",
              "    </tr>\n",
              "  </tbody>\n",
              "</table>\n",
              "</div>"
            ],
            "text/plain": [
              "            Unnamed: 0  ...         location\n",
              "project_id              ...                 \n",
              "256941264            0  ...  Shenzhen, China\n",
              "374051904            1  ...  Long Island, NY\n",
              "748081064            2  ...        Miami, FL\n",
              "433085097            3  ...  St. Charles, IL\n",
              "1158852071           4  ...         Apex, NC\n",
              "\n",
              "[5 rows x 6 columns]"
            ]
          },
          "metadata": {
            "tags": []
          },
          "execution_count": 126
        }
      ]
    },
    {
      "cell_type": "markdown",
      "metadata": {
        "id": "8VaXQ52Kv2am",
        "colab_type": "text"
      },
      "source": [
        "***For each project we go to the link... how do you think we do it?***\n",
        "\n",
        "Let's try the first 5 projects.\n",
        "\n",
        "\n",
        "\n",
        "These days most of the web apps are using AJAX techniques. When a page is loaded by the browser, the elements within that page may load at different time intervals. Using waits, we can stop our scraping and wait the loading of a element.\n",
        "\n",
        "Selenium Webdriver provides two types of waits - implicit & explicit. An explicit wait makes WebDriver wait for a certain condition to occur before proceeding further with execution. An implicit wait makes WebDriver poll the DOM for a certain amount of time when trying to locate an element.\n"
      ]
    },
    {
      "cell_type": "code",
      "metadata": {
        "id": "7RJTIyFfv-Ig",
        "colab_type": "code",
        "colab": {
          "base_uri": "https://localhost:8080/",
          "height": 187
        },
        "outputId": "9a5a3901-76f6-407b-a8f0-6ff877a24159"
      },
      "source": [
        "from selenium.webdriver.common.by import By\n",
        "from selenium.webdriver.support.ui import WebDriverWait\n",
        "from selenium.webdriver.support import expected_conditions as EC\n",
        "import time\n",
        "details = []\n",
        "for project_id, project in ds_detail_projects.head().iterrows():\n",
        "    time.sleep(10)\n",
        "    link = project[\"url\"]\n",
        "    print(link)\n",
        "    wd.set_window_size(1920, 1080)\n",
        "    wd.get(link)\n",
        "    try:\n",
        "      WebDriverWait(wd, 10).until(\n",
        "          EC.element_to_be_clickable((By.ID, \"back-project-button\"))\n",
        "      )\n",
        "    except:\n",
        "      continue\n",
        "\n",
        "    wd.save_screenshot(f'screenshot_{project_id}.png')\n",
        "    backers = wd.find_elements_by_css_selector(\".type-16.dark-grey-500\")[0].text\n",
        "    goal = wd.find_elements_by_css_selector(\".ksr-green-500\")[0].text\n",
        "    pledged = wd.find_elements_by_css_selector(\"span.money\")[1].text\n",
        "    details.append({'project_id': project_id,\n",
        "                    'backers': backers,\n",
        "                    'goal': goal,\n",
        "                    'pledged': pledged})\n",
        "  \n",
        "len(details)\n",
        "pprint.pprint(details)\n"
      ],
      "execution_count": null,
      "outputs": [
        {
          "output_type": "stream",
          "text": [
            "https://www.kickstarter.com/projects/lawriebrewster/the-book-of-beastly-creatures-stories-rpg-rules-and-artwork?ref=discovery\n",
            "https://www.kickstarter.com/projects/159974695/skedaddleosaurus-bags?ref=discovery\n",
            "https://www.kickstarter.com/projects/brentdickman/merchants-of-the-dark-road?ref=discovery\n",
            "https://www.kickstarter.com/projects/instafloss/instafloss-say-bye-to-painful-time-consuming-flossing?ref=discovery\n",
            "https://www.kickstarter.com/projects/575448464/fire-tower-rising-flames-expansion-reprint?ref=discovery\n",
            "[{'backers': '', 'goal': '', 'pledged': '£6,000', 'project_id': 811926054},\n",
            " {'backers': '', 'goal': '', 'pledged': '$5,000', 'project_id': 632552919},\n",
            " {'backers': '', 'goal': '', 'pledged': '$35,000', 'project_id': 1446671987},\n",
            " {'backers': '', 'goal': '', 'pledged': '$20,000', 'project_id': 748081064},\n",
            " {'backers': '', 'goal': '', 'pledged': '$8,000', 'project_id': 1944804664}]\n"
          ],
          "name": "stdout"
        }
      ]
    },
    {
      "cell_type": "code",
      "metadata": {
        "id": "xf7bDTWTxLlf",
        "colab_type": "code",
        "colab": {}
      },
      "source": [
        "from selenium.webdriver.common.by import By\n",
        "from selenium.webdriver.support.ui import WebDriverWait\n",
        "from selenium.webdriver.support import expected_conditions as EC\n",
        "import time\n",
        "details = []\n",
        "for project_id, project in tqdm(ds_detail_projects.iterrows(), total=ds_detail_projects.shape[0]):\n",
        "    time.sleep(1)\n",
        "    link = project[\"url\"]\n",
        "    backers = 0\n",
        "    goal = 0\n",
        "    pledged = 0\n",
        "    #print(link)\n",
        "    try:\n",
        "      wd.set_window_size(1920, 1080)\n",
        "      wd.get(link)\n",
        "      try:\n",
        "        WebDriverWait(wd, 10).until(\n",
        "            EC.element_to_be_clickable((By.ID, \"back-project-button\"))\n",
        "        )\n",
        "      except:\n",
        "        continue\n",
        "\n",
        "      wd.save_screenshot(f'screenshot_{project_id}.png')\n",
        "      backers_list = wd.find_elements_by_css_selector(\".type-16.dark-grey-500\")\n",
        "      goal_list = wd.find_elements_by_css_selector(\".ksr-green-500\")\n",
        "      pledged_list = wd.find_elements_by_css_selector(\"span.money\")\n",
        "      if(len(backers_list) > 0):\n",
        "        backers = backers_list[0].text\n",
        "      if(len(goal_list) > 0):\n",
        "        goal = goal_list[0].text\n",
        "      if(len(pledged_list) > 1):\n",
        "        pledged = pledged_list[1].text\n",
        "    except Exception as e:\n",
        "      print(e)\n",
        "    details.append({'project_id': project_id,\n",
        "                    'backers': backers,\n",
        "                    'goal': goal,\n",
        "                    'pledged': pledged})\n",
        "  \n",
        "print(len(details))\n",
        "#pprint.pprint(details)\n"
      ],
      "execution_count": null,
      "outputs": []
    },
    {
      "cell_type": "code",
      "metadata": {
        "id": "nmOdNznWXKtj",
        "colab_type": "code",
        "colab": {}
      },
      "source": [
        "len(details)"
      ],
      "execution_count": null,
      "outputs": []
    },
    {
      "cell_type": "markdown",
      "metadata": {
        "id": "fcfGcK4O4R2-",
        "colab_type": "text"
      },
      "source": [
        "Store the data with *pandas*"
      ]
    },
    {
      "cell_type": "code",
      "metadata": {
        "id": "4xik7JIr4J-n",
        "colab_type": "code",
        "colab": {}
      },
      "source": [
        "import pandas as pd\n",
        "ds_details = pd.DataFrame(details)\n",
        "ds_details.set_index(\"project_id\")\n",
        "ds_details.head()"
      ],
      "execution_count": null,
      "outputs": []
    },
    {
      "cell_type": "code",
      "metadata": {
        "id": "pBkNRigl4b9G",
        "colab_type": "code",
        "colab": {}
      },
      "source": [
        "ds_details.info()"
      ],
      "execution_count": null,
      "outputs": []
    },
    {
      "cell_type": "code",
      "metadata": {
        "id": "YSlNICg94fKj",
        "colab_type": "code",
        "colab": {}
      },
      "source": [
        "ds_details.to_csv(\"ds_project_details.csv\")"
      ],
      "execution_count": null,
      "outputs": []
    },
    {
      "cell_type": "markdown",
      "metadata": {
        "id": "dJdurd8345Jp",
        "colab_type": "text"
      },
      "source": [
        "# Kickstarter Project images\n",
        "\n",
        "\n",
        "Now we're going to download Kickstarter images for each project.\n",
        "\n",
        "Our goal is to create a dataset of images and a `Dataframe` composed by:\n",
        "- `project_id`\n",
        "- `image_id`\n",
        "\n",
        "We will use the library `requests`.\n",
        "\n",
        "The `requests` library is python library for making HTTP requests.\n",
        "It abstracts the complexities of making requests behind a simple API so that you can focus on interacting with services and consuming data in your application."
      ]
    },
    {
      "cell_type": "code",
      "metadata": {
        "id": "q1cy5Jzt6ab-",
        "colab_type": "code",
        "colab": {}
      },
      "source": [
        "import time\n",
        "import requests\n",
        "\n",
        "detail_projects = []\n",
        "list_images = []\n",
        "\n",
        "for num in tqdm(range(1,100)):\n",
        "  time.sleep(1)\n",
        "  wd.get(f\"https://www.kickstarter.com/discover/advanced?sort=magic&ref=nav_search&page={num}\")\n",
        "  list_projects = wd.find_elements_by_css_selector(\"#projects_list > div > div.js-react-proj-card\")\n",
        "  for project in list_projects:\n",
        "    try:\n",
        "      project_id = project.get_attribute(\"data-pid\")\n",
        "      src = project.find_element_by_css_selector(\"a img\").get_attribute(\"src\")\n",
        "      list_images.append({\"project_id\": project_id,\n",
        "                          \"img_file\": \"img_\" + str(project_id) + \".jpg\"})\n",
        "      img_file = requests.get(src, stream=True)\n",
        "      if img_file.status_code == 200:\n",
        "        with open(\"/content/images/img_\" + str(project_id) + \".jpg\", 'wb') as f:\n",
        "          f.write(img_file.content)\n",
        "    except Exception as e:\n",
        "      print(e)\n",
        "\n"
      ],
      "execution_count": null,
      "outputs": []
    },
    {
      "cell_type": "code",
      "metadata": {
        "id": "wy5AJ3iUj-DO",
        "colab_type": "code",
        "colab": {}
      },
      "source": [
        "print(len(list_images))"
      ],
      "execution_count": null,
      "outputs": []
    },
    {
      "cell_type": "code",
      "metadata": {
        "id": "BSPk4TWtAvWj",
        "colab_type": "code",
        "colab": {}
      },
      "source": [
        "%pylab inline\n",
        "import matplotlib.pyplot as plt\n",
        "import matplotlib.image as mpimg\n",
        "img=mpimg.imread('/content/images/img_142016465.jpg')\n",
        "imgplot = plt.imshow(img)\n",
        "plt.show()"
      ],
      "execution_count": null,
      "outputs": []
    },
    {
      "cell_type": "code",
      "metadata": {
        "id": "9oq-mP-v8LZl",
        "colab_type": "code",
        "colab": {}
      },
      "source": [
        "import pandas as pd\n",
        "ds_images = pd.DataFrame(list_images)\n",
        "ds_images.set_index(\"project_id\")\n",
        "ds_images.head()"
      ],
      "execution_count": null,
      "outputs": []
    },
    {
      "cell_type": "code",
      "metadata": {
        "id": "v1A0HPUPhmdT",
        "colab_type": "code",
        "colab": {}
      },
      "source": [
        "ds_images.info()"
      ],
      "execution_count": null,
      "outputs": []
    },
    {
      "cell_type": "code",
      "metadata": {
        "id": "2CLUnkOW8O0Q",
        "colab_type": "code",
        "colab": {}
      },
      "source": [
        "ds_images.to_csv(\"ds_images.csv\")"
      ],
      "execution_count": null,
      "outputs": []
    },
    {
      "cell_type": "code",
      "metadata": {
        "id": "v0F53Zz7JRN2",
        "colab_type": "code",
        "colab": {}
      },
      "source": [
        "!zip -r \"/content/images.zip\" \"/content/images/\"\n"
      ],
      "execution_count": null,
      "outputs": []
    },
    {
      "cell_type": "markdown",
      "metadata": {
        "id": "g_f5pD019XW6",
        "colab_type": "text"
      },
      "source": [
        "# API\n",
        "\n",
        "Let's see how to use the **requests** library to hook APIs provided by our suppliers or colleagues."
      ]
    },
    {
      "cell_type": "markdown",
      "metadata": {
        "id": "GuDgoTW29jH_",
        "colab_type": "text"
      },
      "source": [
        "## Crarifai\n",
        "\n",
        "Let's try the services provided by Clarifai to increase the data we have available.\n",
        "\n",
        "\n",
        "First, we need to install the `crarifai` python library.\n",
        "For more details, please visit https://github.com/Clarifai/clarifai-python\n",
        "\n",
        "To install the API client:\n",
        "\n",
        "\n",
        "```\n",
        "pip install clarifai\n",
        "```\n",
        "\n",
        "\n",
        "\n",
        "\n"
      ]
    },
    {
      "cell_type": "code",
      "metadata": {
        "id": "WgBUGy519fzQ",
        "colab_type": "code",
        "colab": {}
      },
      "source": [
        "!pip install clarifai"
      ],
      "execution_count": null,
      "outputs": []
    },
    {
      "cell_type": "code",
      "metadata": {
        "id": "U7O5yiMD-BHm",
        "colab_type": "code",
        "colab": {}
      },
      "source": [
        "from clarifai.rest import ClarifaiApp\n",
        "\n",
        "# setup your key!!!\n",
        "clarifai_key = \"<key>\"\n",
        "app = ClarifaiApp(api_key=clarifai_key)\n",
        "\n",
        "# and use the general model\n",
        "model = app.public_models.general_model"
      ],
      "execution_count": null,
      "outputs": []
    },
    {
      "cell_type": "markdown",
      "metadata": {
        "id": "vi3vpTjo-JlU",
        "colab_type": "text"
      },
      "source": [
        "We will use the `predict_by_filename` method to obtain the **concepts** within the page.\n"
      ]
    },
    {
      "cell_type": "code",
      "metadata": {
        "id": "Kv3BOOAG-PAt",
        "colab_type": "code",
        "colab": {}
      },
      "source": [
        "response = model.predict_by_filename(\"/content/images/img_142016465.jpg\")"
      ],
      "execution_count": null,
      "outputs": []
    },
    {
      "cell_type": "markdown",
      "metadata": {
        "id": "6gNKcVLk-bU-",
        "colab_type": "text"
      },
      "source": [
        "What type of data does that give us back?\n",
        "Let's have a look!"
      ]
    },
    {
      "cell_type": "code",
      "metadata": {
        "id": "vUKxISg_-kht",
        "colab_type": "code",
        "colab": {}
      },
      "source": [
        "pprint.pprint(response)"
      ],
      "execution_count": null,
      "outputs": []
    },
    {
      "cell_type": "markdown",
      "metadata": {
        "id": "W0vFofm3-o67",
        "colab_type": "text"
      },
      "source": [
        "And get the data:"
      ]
    },
    {
      "cell_type": "code",
      "metadata": {
        "id": "bLXAR3GS-oYX",
        "colab_type": "code",
        "colab": {
          "base_uri": "https://localhost:8080/",
          "height": 357
        },
        "outputId": "6c67d866-2096-4a91-f9cd-f6d71cd4bcb4"
      },
      "source": [
        "if(response['status']['description'] == \"Ok\"):\n",
        "    for concept in response[\"outputs\"][0][\"data\"][\"concepts\"]:\n",
        "        name = concept[\"name\"]\n",
        "        value = concept[\"value\"]\n",
        "        print(name + \" \" + str(value))"
      ],
      "execution_count": null,
      "outputs": [
        {
          "output_type": "stream",
          "text": [
            "horizontal 0.9519128203392029\n",
            "isolated 0.9426192045211792\n",
            "no person 0.9122359752655029\n",
            "transportation system 0.9029916524887085\n",
            "business 0.8892199993133545\n",
            "service 0.8800047636032104\n",
            "technology 0.8767427206039429\n",
            "illustration 0.8746852874755859\n",
            "equipment 0.8589984178543091\n",
            "connection 0.8415480852127075\n",
            "wheel 0.8403968811035156\n",
            "desktop 0.8387061357498169\n",
            "vector 0.8360087871551514\n",
            "symbol 0.8336005210876465\n",
            "sport 0.7958953380584717\n",
            "control 0.7861691117286682\n",
            "text 0.7860429286956787\n",
            "modern 0.7815584540367126\n",
            "designing 0.766112208366394\n",
            "focus 0.7455539703369141\n"
          ],
          "name": "stdout"
        }
      ]
    },
    {
      "cell_type": "markdown",
      "metadata": {
        "id": "0RiAZbNkB5Au",
        "colab_type": "text"
      },
      "source": [
        "Now let's go and identify all the concepts for each image of each project."
      ]
    },
    {
      "cell_type": "code",
      "metadata": {
        "id": "uu3J01GhB_w4",
        "colab_type": "code",
        "colab": {}
      },
      "source": [
        "ds_images = pd.read_csv(\"ds_images.csv\", index_col=\"project_id\")\n",
        "\n",
        "img_details = []\n",
        "for project_id, image in tqdm(ds_images.iterrows(), total=ds_images.shape[0]):\n",
        "  try:\n",
        "    response = model.predict_by_filename(\"/content/images/\" + image['img_file'])\n",
        "    if(response['status']['description'] == \"Ok\"):\n",
        "      for concept in response[\"outputs\"][0][\"data\"][\"concepts\"]:\n",
        "          name = concept[\"name\"]\n",
        "          value = concept[\"value\"]\n",
        "          img_details.append({\n",
        "            \"project_id\": project_id,\n",
        "            \"image\": image['img_file'],\n",
        "            \"name\": name,\n",
        "            \"value\": value\n",
        "          })\n",
        "  except Exception as e:\n",
        "    print(e)\n",
        "\n",
        "print(len(img_details))"
      ],
      "execution_count": null,
      "outputs": []
    },
    {
      "cell_type": "code",
      "metadata": {
        "id": "5nIUezSrDTKK",
        "colab_type": "code",
        "colab": {}
      },
      "source": [
        "import pandas as pd\n",
        "ds_img_details = pd.DataFrame(img_details)\n",
        "ds_img_details.set_index(\"image\")\n",
        "ds_img_details.head()"
      ],
      "execution_count": null,
      "outputs": []
    },
    {
      "cell_type": "code",
      "metadata": {
        "id": "VXJF8-Q4ljK7",
        "colab_type": "code",
        "colab": {}
      },
      "source": [
        "ds_img_details.info()"
      ],
      "execution_count": null,
      "outputs": []
    },
    {
      "cell_type": "code",
      "metadata": {
        "id": "1WR4kQBsDXwx",
        "colab_type": "code",
        "colab": {}
      },
      "source": [
        "ds_img_details.to_csv('ds_img_details.csv')"
      ],
      "execution_count": null,
      "outputs": []
    },
    {
      "cell_type": "markdown",
      "metadata": {
        "id": "Kt_AIhQM-6zi",
        "colab_type": "text"
      },
      "source": [
        "# Geocoding\n",
        "\n",
        "What's geocoding?\n",
        "\n"
      ]
    },
    {
      "cell_type": "markdown",
      "metadata": {
        "id": "tBcxapgb_lGp",
        "colab_type": "text"
      },
      "source": [
        "Let's try to geolocalize the projects..."
      ]
    },
    {
      "cell_type": "code",
      "metadata": {
        "id": "B4IO9haO_o7W",
        "colab_type": "code",
        "colab": {}
      },
      "source": [
        "import requests\n",
        "import json\n",
        "\n",
        "address = \"New Orleans, LA\"\n",
        "key = \"<key>\"\n",
        "geocode_url = f\"http://www.mapquestapi.com/geocoding/v1/address?key={key}&location={address}\"\n",
        "response = requests.get(geocode_url)\n",
        "\n",
        "import json\n",
        "geo = json.loads(response.text)\n",
        "pprint.pprint(response.text)"
      ],
      "execution_count": null,
      "outputs": []
    },
    {
      "cell_type": "code",
      "metadata": {
        "id": "LRQ24oZf_0XB",
        "colab_type": "code",
        "colab": {}
      },
      "source": [
        "print(geo['results'][0]['locations'][0]['latLng']['lat'])\n",
        "print(geo['results'][0]['locations'][0]['latLng']['lng'])"
      ],
      "execution_count": null,
      "outputs": []
    },
    {
      "cell_type": "code",
      "metadata": {
        "id": "GQNKNIi1988g",
        "colab_type": "code",
        "colab": {}
      },
      "source": [
        "ds_projects = pd.read_csv(\"ds_projects.csv\", index_col=\"project_id\")\n",
        "ds_projects.info()"
      ],
      "execution_count": null,
      "outputs": []
    },
    {
      "cell_type": "code",
      "metadata": {
        "id": "feuWng0zDudp",
        "colab_type": "code",
        "colab": {}
      },
      "source": [
        "ds_projects = pd.read_csv(\"ds_projects.csv\", index_col=\"project_id\")\n",
        "\n",
        "import time\n",
        "project_location = []\n",
        "for project_id, project in tqdm(ds_projects.iterrows(), total=ds_projects.shape[0]):\n",
        "  address = project['location']\n",
        "  if(address is None or address == NaN):\n",
        "    print(str(project_id) + \"- \" + project['location'])\n",
        "  else:\n",
        "    key = \"<key>\"\n",
        "    try:\n",
        "      geocode_url = f\"http://www.mapquestapi.com/geocoding/v1/address?key={key}&location={address}\"\n",
        "      response = requests.get(geocode_url)\n",
        "      if(response.status_code == 200):\n",
        "        geo = json.loads(response.text)\n",
        "        lat = geo['results'][0]['locations'][0]['latLng']['lat']\n",
        "        lng = geo['results'][0]['locations'][0]['latLng']['lng']\n",
        "        project_location.append({\n",
        "              \"project_id\": project_id,\n",
        "              \"lat\": lat,\n",
        "              \"lng\": lng\n",
        "            })\n",
        "    except Exception as e:\n",
        "      print(e)\n",
        "    \n",
        "\n",
        "print(len(project_location))"
      ],
      "execution_count": null,
      "outputs": []
    },
    {
      "cell_type": "code",
      "metadata": {
        "id": "KdlXXE24E9Es",
        "colab_type": "code",
        "colab": {}
      },
      "source": [
        "import pandas as pd\n",
        "ds_project_location = pd.DataFrame(project_location)\n",
        "ds_project_location.set_index(\"project_id\")\n",
        "ds_project_location.head(20)"
      ],
      "execution_count": null,
      "outputs": []
    },
    {
      "cell_type": "code",
      "metadata": {
        "id": "abHeZZM0mXmL",
        "colab_type": "code",
        "colab": {}
      },
      "source": [
        "ds_project_location.info()"
      ],
      "execution_count": null,
      "outputs": []
    },
    {
      "cell_type": "code",
      "metadata": {
        "id": "sg8TZopsFC3b",
        "colab_type": "code",
        "colab": {}
      },
      "source": [
        "ds_project_location.to_csv('ds_project_location.csv')"
      ],
      "execution_count": null,
      "outputs": []
    },
    {
      "cell_type": "markdown",
      "metadata": {
        "id": "ZzLc28joArbf",
        "colab_type": "text"
      },
      "source": [
        "# Scraping Kickstarter by `JSON` \n",
        "\n",
        "\n",
        "This section shows an anternative way to scrape data from Kickstarter.\n",
        "For each project, Kickstarter publishes a JSON field in the attribute `data-project`.\n",
        "With Selenium and JSON libs we can extract the field, parse it and export the data to a new, more powerfull, dataset."
      ]
    },
    {
      "cell_type": "code",
      "metadata": {
        "id": "nS6TrRmdGAq5",
        "colab_type": "code",
        "colab": {}
      },
      "source": [
        "import json\n",
        "import datetime"
      ],
      "execution_count": 32,
      "outputs": []
    },
    {
      "cell_type": "code",
      "metadata": {
        "id": "zcSi_oLBAz92",
        "colab_type": "code",
        "colab": {}
      },
      "source": [
        "def parse_project_by_dataproject(project):\n",
        "  data_project = project.get_attribute(\"data-project\")\n",
        "  data = json.loads(data_project)\n",
        "  title = \"\"\n",
        "  description = \"\"\n",
        "  category = \"\"\n",
        "  location = \"\"\n",
        "  goal = 0.0\n",
        "  pledged = 0.0\n",
        "  state = ''\n",
        "  country = ''\n",
        "  currency = ''\n",
        "  deadline = None\n",
        "  created_at = None\n",
        "  launched_at = None\n",
        "  backers_count = 0\n",
        "  usd_pledged = 0\n",
        "  creator = ''\n",
        "  percent_funded = 0.0\n",
        "  try:\n",
        "    title = data['name']\n",
        "    url = data['urls']['web']['project']\n",
        "    description = data['blurb']\n",
        "    category = data['category']['name']\n",
        "    location = data['location']['displayable_name']\n",
        "    goal = data['goal']\n",
        "    pledged = data['pledged']\n",
        "    state = data['state']\n",
        "    currency = data['currency']\n",
        "    country = data['country']\n",
        "    deadline = datetime.datetime.fromtimestamp(data['deadline']).strftime('%Y-%m-%d %H:%M:%S.%f')\n",
        "    created_at = datetime.datetime.fromtimestamp(data['created_at']).strftime('%Y-%m-%d %H:%M:%S.%f')\n",
        "    launched_at = datetime.datetime.fromtimestamp(data['launched_at']).strftime('%Y-%m-%d %H:%M:%S.%f')\n",
        "    backers_count = data['backers_count']\n",
        "    usd_pledged = data['usd_pledged']\n",
        "    creator = data['creator']['name']\n",
        "    percent_funded = data['percent_funded']\n",
        "  except Exception as ex:\n",
        "    print(ex)\n",
        "    raise ex\n",
        "  return {'goal': goal,\n",
        "          'creator': creator,\n",
        "          'state': state,\n",
        "          'pledged': pledged,\n",
        "          'currency': currency,\n",
        "          'country': country,\n",
        "          'launched_at': launched_at,\n",
        "          'created_at': created_at,\n",
        "          'deadline': deadline,\n",
        "          'backers_count': backers_count,\n",
        "          'usd_pledged': usd_pledged,\n",
        "          'percent_funded': percent_funded,\n",
        "          'url': url,\n",
        "          'title': title,\n",
        "          'description': description,\n",
        "          'category': category,\n",
        "          'location': location,\n",
        "          'project_id': data['id']}\n"
      ],
      "execution_count": 39,
      "outputs": []
    },
    {
      "cell_type": "code",
      "metadata": {
        "id": "kL_mY5zYBQU0",
        "colab_type": "code",
        "colab": {
          "base_uri": "https://localhost:8080/",
          "height": 100,
          "referenced_widgets": [
            "5e2fbb53e3cf4b1497b43466a038d1b4",
            "9107fc4bcda144b49ef41a761b7fd3bc",
            "c65e28c29f1842bc96d60a28f9971ee0",
            "3632102bb3bc4a5687be086fcf56ccd7",
            "614779b71bcc47569ded7a2f7f0b0d67",
            "3ea803442c5a47da92d9b5d2165ebc92",
            "a368b429c0fa451290196e12cbecabb5",
            "92e2c475050d4f28a48c102fd9f32f89"
          ]
        },
        "outputId": "36246105-7d25-4fd1-c6e1-5ce50659e439"
      },
      "source": [
        "import time\n",
        "detail_projects = []\n",
        "for num in tqdm(range(1,1000)):\n",
        "  time.sleep(1)\n",
        "  wd.get(f\"https://www.kickstarter.com/discover/advanced?sort=popularity&ref=nav_search&page={num}\")\n",
        "  #wd.save_screenshot(f'screenshot_{num}.png')\n",
        "  list_projects = wd.find_elements_by_css_selector(\"#projects_list > div > div.js-react-proj-card\")\n",
        "  for project in list_projects:\n",
        "    detail_projects.append(parse_project_by_dataproject(project))\n",
        "\n",
        "print(len(detail_projects))"
      ],
      "execution_count": null,
      "outputs": [
        {
          "output_type": "stream",
          "text": [
            "/usr/local/lib/python3.6/dist-packages/ipykernel_launcher.py:3: TqdmDeprecationWarning: This function will be removed in tqdm==5.0.0\n",
            "Please use `tqdm.notebook.tqdm` instead of `tqdm.tqdm_notebook`\n",
            "  This is separate from the ipykernel package so we can avoid doing imports until\n"
          ],
          "name": "stderr"
        },
        {
          "output_type": "display_data",
          "data": {
            "application/vnd.jupyter.widget-view+json": {
              "model_id": "5e2fbb53e3cf4b1497b43466a038d1b4",
              "version_minor": 0,
              "version_major": 2
            },
            "text/plain": [
              "HBox(children=(FloatProgress(value=0.0, max=999.0), HTML(value='')))"
            ]
          },
          "metadata": {
            "tags": []
          }
        }
      ]
    },
    {
      "cell_type": "code",
      "metadata": {
        "id": "al8G45INDsEJ",
        "colab_type": "code",
        "colab": {
          "base_uri": "https://localhost:8080/",
          "height": 564
        },
        "outputId": "0a08768f-da73-44f3-d961-7c6e22101b94"
      },
      "source": [
        "import pandas as pd\n",
        "ds_detail_projects = pd.DataFrame(detail_projects)\n",
        "ds_detail_projects.set_index(\"project_id\")\n",
        "ds_detail_projects.head()"
      ],
      "execution_count": 42,
      "outputs": [
        {
          "output_type": "execute_result",
          "data": {
            "text/html": [
              "<div>\n",
              "<style scoped>\n",
              "    .dataframe tbody tr th:only-of-type {\n",
              "        vertical-align: middle;\n",
              "    }\n",
              "\n",
              "    .dataframe tbody tr th {\n",
              "        vertical-align: top;\n",
              "    }\n",
              "\n",
              "    .dataframe thead th {\n",
              "        text-align: right;\n",
              "    }\n",
              "</style>\n",
              "<table border=\"1\" class=\"dataframe\">\n",
              "  <thead>\n",
              "    <tr style=\"text-align: right;\">\n",
              "      <th></th>\n",
              "      <th>goal</th>\n",
              "      <th>creator</th>\n",
              "      <th>state</th>\n",
              "      <th>pledged</th>\n",
              "      <th>currency</th>\n",
              "      <th>country</th>\n",
              "      <th>launched_at</th>\n",
              "      <th>created_at</th>\n",
              "      <th>deadline</th>\n",
              "      <th>backers_count</th>\n",
              "      <th>usd_pledged</th>\n",
              "      <th>percent_funded</th>\n",
              "      <th>url</th>\n",
              "      <th>title</th>\n",
              "      <th>description</th>\n",
              "      <th>category</th>\n",
              "      <th>location</th>\n",
              "      <th>project_id</th>\n",
              "    </tr>\n",
              "  </thead>\n",
              "  <tbody>\n",
              "    <tr>\n",
              "      <th>0</th>\n",
              "      <td>100000.0</td>\n",
              "      <td>EcoFlow</td>\n",
              "      <td>live</td>\n",
              "      <td>1657696.10</td>\n",
              "      <td>USD</td>\n",
              "      <td>US</td>\n",
              "      <td>2020-05-12 13:45:04.000000</td>\n",
              "      <td>2020-04-28 12:23:29.000000</td>\n",
              "      <td>2020-06-26 13:45:04.000000</td>\n",
              "      <td>2495</td>\n",
              "      <td>1657696.1</td>\n",
              "      <td>1657.69610</td>\n",
              "      <td>https://www.kickstarter.com/projects/ecoflow/e...</td>\n",
              "      <td>EcoFlow R600 - Modular Portable Power Station</td>\n",
              "      <td>Modular Design for Increased Capacity; \\n600W ...</td>\n",
              "      <td>Hardware</td>\n",
              "      <td>San Francisco, CA</td>\n",
              "      <td>673765219</td>\n",
              "    </tr>\n",
              "    <tr>\n",
              "      <th>1</th>\n",
              "      <td>50000.0</td>\n",
              "      <td>Stronghold Games</td>\n",
              "      <td>live</td>\n",
              "      <td>1310657.50</td>\n",
              "      <td>USD</td>\n",
              "      <td>US</td>\n",
              "      <td>2020-06-16 15:01:47.000000</td>\n",
              "      <td>2020-05-05 15:04:16.000000</td>\n",
              "      <td>2020-07-03 15:01:47.000000</td>\n",
              "      <td>11576</td>\n",
              "      <td>1310657.5</td>\n",
              "      <td>2621.31500</td>\n",
              "      <td>https://www.kickstarter.com/projects/stronghol...</td>\n",
              "      <td>Terraforming Mars Big Box + 3D Tiles!</td>\n",
              "      <td>3D tiles and storage solution that include new...</td>\n",
              "      <td>Tabletop Games</td>\n",
              "      <td>Boynton Beach, FL</td>\n",
              "      <td>637007911</td>\n",
              "    </tr>\n",
              "    <tr>\n",
              "      <th>2</th>\n",
              "      <td>20000.0</td>\n",
              "      <td>Instafloss</td>\n",
              "      <td>live</td>\n",
              "      <td>565664.05</td>\n",
              "      <td>USD</td>\n",
              "      <td>US</td>\n",
              "      <td>2020-06-09 15:00:02.000000</td>\n",
              "      <td>2020-06-01 18:23:45.000000</td>\n",
              "      <td>2020-07-09 15:00:02.000000</td>\n",
              "      <td>4849</td>\n",
              "      <td>565664.05</td>\n",
              "      <td>2828.32025</td>\n",
              "      <td>https://www.kickstarter.com/projects/instaflos...</td>\n",
              "      <td>Instafloss - The 10 Second Floss That Will Mak...</td>\n",
              "      <td>Instafloss is a multi-jet water flosser delive...</td>\n",
              "      <td>Hardware</td>\n",
              "      <td>Miami, FL</td>\n",
              "      <td>748081064</td>\n",
              "    </tr>\n",
              "    <tr>\n",
              "      <th>3</th>\n",
              "      <td>5000.0</td>\n",
              "      <td>Rafi Yitzhaki</td>\n",
              "      <td>live</td>\n",
              "      <td>57883.00</td>\n",
              "      <td>USD</td>\n",
              "      <td>US</td>\n",
              "      <td>2020-05-26 13:06:18.000000</td>\n",
              "      <td>2020-03-28 21:11:27.000000</td>\n",
              "      <td>2020-06-26 07:00:00.000000</td>\n",
              "      <td>1503</td>\n",
              "      <td>57883.0</td>\n",
              "      <td>1157.66000</td>\n",
              "      <td>https://www.kickstarter.com/projects/hookey/ho...</td>\n",
              "      <td>Hoo(KEY) - Antimicrobial Silicone Patented No-...</td>\n",
              "      <td>HooKEY is an antimicrobial, anti-scratch, supe...</td>\n",
              "      <td>Gadgets</td>\n",
              "      <td>St. Charles, IL</td>\n",
              "      <td>433085097</td>\n",
              "    </tr>\n",
              "    <tr>\n",
              "      <th>4</th>\n",
              "      <td>10000.0</td>\n",
              "      <td>Ananta</td>\n",
              "      <td>live</td>\n",
              "      <td>144160.00</td>\n",
              "      <td>USD</td>\n",
              "      <td>US</td>\n",
              "      <td>2020-06-09 12:00:25.000000</td>\n",
              "      <td>2020-05-28 05:49:08.000000</td>\n",
              "      <td>2020-07-24 12:00:25.000000</td>\n",
              "      <td>379</td>\n",
              "      <td>144160.0</td>\n",
              "      <td>1441.60000</td>\n",
              "      <td>https://www.kickstarter.com/projects/100349895...</td>\n",
              "      <td>Ananta, A 17.3-inch Touchscreen Portable Monitor</td>\n",
              "      <td>Grow your ideas on a larger touchscreen monito...</td>\n",
              "      <td>Product Design</td>\n",
              "      <td>Shenzhen, China</td>\n",
              "      <td>256941264</td>\n",
              "    </tr>\n",
              "  </tbody>\n",
              "</table>\n",
              "</div>"
            ],
            "text/plain": [
              "       goal           creator  ...           location  project_id\n",
              "0  100000.0           EcoFlow  ...  San Francisco, CA   673765219\n",
              "1   50000.0  Stronghold Games  ...  Boynton Beach, FL   637007911\n",
              "2   20000.0        Instafloss  ...          Miami, FL   748081064\n",
              "3    5000.0     Rafi Yitzhaki  ...    St. Charles, IL   433085097\n",
              "4   10000.0            Ananta  ...    Shenzhen, China   256941264\n",
              "\n",
              "[5 rows x 18 columns]"
            ]
          },
          "metadata": {
            "tags": []
          },
          "execution_count": 42
        }
      ]
    },
    {
      "cell_type": "code",
      "metadata": {
        "id": "Df56tbszGw6B",
        "colab_type": "code",
        "colab": {
          "base_uri": "https://localhost:8080/",
          "height": 442
        },
        "outputId": "f29f04b6-0397-4ecb-d2c9-e5d0541e75ab"
      },
      "source": [
        "ds_detail_projects.info()"
      ],
      "execution_count": 43,
      "outputs": [
        {
          "output_type": "stream",
          "text": [
            "<class 'pandas.core.frame.DataFrame'>\n",
            "RangeIndex: 12 entries, 0 to 11\n",
            "Data columns (total 18 columns):\n",
            " #   Column          Non-Null Count  Dtype  \n",
            "---  ------          --------------  -----  \n",
            " 0   goal            12 non-null     float64\n",
            " 1   creator         12 non-null     object \n",
            " 2   state           12 non-null     object \n",
            " 3   pledged         12 non-null     float64\n",
            " 4   currency        12 non-null     object \n",
            " 5   country         12 non-null     object \n",
            " 6   launched_at     12 non-null     object \n",
            " 7   created_at      12 non-null     object \n",
            " 8   deadline        12 non-null     object \n",
            " 9   backers_count   12 non-null     int64  \n",
            " 10  usd_pledged     12 non-null     object \n",
            " 11  percent_funded  12 non-null     float64\n",
            " 12  url             12 non-null     object \n",
            " 13  title           12 non-null     object \n",
            " 14  description     12 non-null     object \n",
            " 15  category        12 non-null     object \n",
            " 16  location        12 non-null     object \n",
            " 17  project_id      12 non-null     int64  \n",
            "dtypes: float64(3), int64(2), object(13)\n",
            "memory usage: 1.8+ KB\n"
          ],
          "name": "stdout"
        }
      ]
    },
    {
      "cell_type": "code",
      "metadata": {
        "id": "tQSXGikHGsp9",
        "colab_type": "code",
        "colab": {}
      },
      "source": [
        "ds_detail_projects.to_csv('ds_projects.csv')"
      ],
      "execution_count": 44,
      "outputs": []
    }
  ],
  "metadata": {
    "colab": {
      "name": "2_Web_Scraping_with_Selenium",
      "provenance": [],
      "collapsed_sections": [],
      "toc_visible": true
    },
    "kernelspec": {
      "name": "python3",
      "display_name": "Python 3"
    },
    "widgets": {
      "application/vnd.jupyter.widget-state+json": {
        "093cda5416824f57b897803981691191": {
          "model_module": "@jupyter-widgets/controls",
          "model_name": "HBoxModel",
          "state": {
            "_view_name": "HBoxView",
            "_dom_classes": [],
            "_model_name": "HBoxModel",
            "_view_module": "@jupyter-widgets/controls",
            "_model_module_version": "1.5.0",
            "_view_count": null,
            "_view_module_version": "1.5.0",
            "box_style": "",
            "layout": "IPY_MODEL_cb94f0c2715045a4ae74bedc60cface4",
            "_model_module": "@jupyter-widgets/controls",
            "children": [
              "IPY_MODEL_53a90617c9484d7db9c923a369ac861d",
              "IPY_MODEL_81749ac211054630a1c42e83f2ce4c6c"
            ]
          }
        },
        "cb94f0c2715045a4ae74bedc60cface4": {
          "model_module": "@jupyter-widgets/base",
          "model_name": "LayoutModel",
          "state": {
            "_view_name": "LayoutView",
            "grid_template_rows": null,
            "right": null,
            "justify_content": null,
            "_view_module": "@jupyter-widgets/base",
            "overflow": null,
            "_model_module_version": "1.2.0",
            "_view_count": null,
            "flex_flow": null,
            "width": null,
            "min_width": null,
            "border": null,
            "align_items": null,
            "bottom": null,
            "_model_module": "@jupyter-widgets/base",
            "top": null,
            "grid_column": null,
            "overflow_y": null,
            "overflow_x": null,
            "grid_auto_flow": null,
            "grid_area": null,
            "grid_template_columns": null,
            "flex": null,
            "_model_name": "LayoutModel",
            "justify_items": null,
            "grid_row": null,
            "max_height": null,
            "align_content": null,
            "visibility": null,
            "align_self": null,
            "height": null,
            "min_height": null,
            "padding": null,
            "grid_auto_rows": null,
            "grid_gap": null,
            "max_width": null,
            "order": null,
            "_view_module_version": "1.2.0",
            "grid_template_areas": null,
            "object_position": null,
            "object_fit": null,
            "grid_auto_columns": null,
            "margin": null,
            "display": null,
            "left": null
          }
        },
        "53a90617c9484d7db9c923a369ac861d": {
          "model_module": "@jupyter-widgets/controls",
          "model_name": "FloatProgressModel",
          "state": {
            "_view_name": "ProgressView",
            "style": "IPY_MODEL_f5d8c68fd2284c0d9ac1e72e6d4435f9",
            "_dom_classes": [],
            "description": "100%",
            "_model_name": "FloatProgressModel",
            "bar_style": "success",
            "max": 2,
            "_view_module": "@jupyter-widgets/controls",
            "_model_module_version": "1.5.0",
            "value": 2,
            "_view_count": null,
            "_view_module_version": "1.5.0",
            "orientation": "horizontal",
            "min": 0,
            "description_tooltip": null,
            "_model_module": "@jupyter-widgets/controls",
            "layout": "IPY_MODEL_d3da405dde7546139c39698dc3ecc7ef"
          }
        },
        "81749ac211054630a1c42e83f2ce4c6c": {
          "model_module": "@jupyter-widgets/controls",
          "model_name": "HTMLModel",
          "state": {
            "_view_name": "HTMLView",
            "style": "IPY_MODEL_e5de951326cf477fa71e9560927e479d",
            "_dom_classes": [],
            "description": "",
            "_model_name": "HTMLModel",
            "placeholder": "​",
            "_view_module": "@jupyter-widgets/controls",
            "_model_module_version": "1.5.0",
            "value": " 2/2 [00:08&lt;00:00,  4.36s/it]",
            "_view_count": null,
            "_view_module_version": "1.5.0",
            "description_tooltip": null,
            "_model_module": "@jupyter-widgets/controls",
            "layout": "IPY_MODEL_cb34dfac37324698a21d66043471c08a"
          }
        },
        "f5d8c68fd2284c0d9ac1e72e6d4435f9": {
          "model_module": "@jupyter-widgets/controls",
          "model_name": "ProgressStyleModel",
          "state": {
            "_view_name": "StyleView",
            "_model_name": "ProgressStyleModel",
            "description_width": "initial",
            "_view_module": "@jupyter-widgets/base",
            "_model_module_version": "1.5.0",
            "_view_count": null,
            "_view_module_version": "1.2.0",
            "bar_color": null,
            "_model_module": "@jupyter-widgets/controls"
          }
        },
        "d3da405dde7546139c39698dc3ecc7ef": {
          "model_module": "@jupyter-widgets/base",
          "model_name": "LayoutModel",
          "state": {
            "_view_name": "LayoutView",
            "grid_template_rows": null,
            "right": null,
            "justify_content": null,
            "_view_module": "@jupyter-widgets/base",
            "overflow": null,
            "_model_module_version": "1.2.0",
            "_view_count": null,
            "flex_flow": null,
            "width": null,
            "min_width": null,
            "border": null,
            "align_items": null,
            "bottom": null,
            "_model_module": "@jupyter-widgets/base",
            "top": null,
            "grid_column": null,
            "overflow_y": null,
            "overflow_x": null,
            "grid_auto_flow": null,
            "grid_area": null,
            "grid_template_columns": null,
            "flex": null,
            "_model_name": "LayoutModel",
            "justify_items": null,
            "grid_row": null,
            "max_height": null,
            "align_content": null,
            "visibility": null,
            "align_self": null,
            "height": null,
            "min_height": null,
            "padding": null,
            "grid_auto_rows": null,
            "grid_gap": null,
            "max_width": null,
            "order": null,
            "_view_module_version": "1.2.0",
            "grid_template_areas": null,
            "object_position": null,
            "object_fit": null,
            "grid_auto_columns": null,
            "margin": null,
            "display": null,
            "left": null
          }
        },
        "e5de951326cf477fa71e9560927e479d": {
          "model_module": "@jupyter-widgets/controls",
          "model_name": "DescriptionStyleModel",
          "state": {
            "_view_name": "StyleView",
            "_model_name": "DescriptionStyleModel",
            "description_width": "",
            "_view_module": "@jupyter-widgets/base",
            "_model_module_version": "1.5.0",
            "_view_count": null,
            "_view_module_version": "1.2.0",
            "_model_module": "@jupyter-widgets/controls"
          }
        },
        "cb34dfac37324698a21d66043471c08a": {
          "model_module": "@jupyter-widgets/base",
          "model_name": "LayoutModel",
          "state": {
            "_view_name": "LayoutView",
            "grid_template_rows": null,
            "right": null,
            "justify_content": null,
            "_view_module": "@jupyter-widgets/base",
            "overflow": null,
            "_model_module_version": "1.2.0",
            "_view_count": null,
            "flex_flow": null,
            "width": null,
            "min_width": null,
            "border": null,
            "align_items": null,
            "bottom": null,
            "_model_module": "@jupyter-widgets/base",
            "top": null,
            "grid_column": null,
            "overflow_y": null,
            "overflow_x": null,
            "grid_auto_flow": null,
            "grid_area": null,
            "grid_template_columns": null,
            "flex": null,
            "_model_name": "LayoutModel",
            "justify_items": null,
            "grid_row": null,
            "max_height": null,
            "align_content": null,
            "visibility": null,
            "align_self": null,
            "height": null,
            "min_height": null,
            "padding": null,
            "grid_auto_rows": null,
            "grid_gap": null,
            "max_width": null,
            "order": null,
            "_view_module_version": "1.2.0",
            "grid_template_areas": null,
            "object_position": null,
            "object_fit": null,
            "grid_auto_columns": null,
            "margin": null,
            "display": null,
            "left": null
          }
        },
        "5e2fbb53e3cf4b1497b43466a038d1b4": {
          "model_module": "@jupyter-widgets/controls",
          "model_name": "HBoxModel",
          "state": {
            "_view_name": "HBoxView",
            "_dom_classes": [],
            "_model_name": "HBoxModel",
            "_view_module": "@jupyter-widgets/controls",
            "_model_module_version": "1.5.0",
            "_view_count": null,
            "_view_module_version": "1.5.0",
            "box_style": "",
            "layout": "IPY_MODEL_9107fc4bcda144b49ef41a761b7fd3bc",
            "_model_module": "@jupyter-widgets/controls",
            "children": [
              "IPY_MODEL_c65e28c29f1842bc96d60a28f9971ee0",
              "IPY_MODEL_3632102bb3bc4a5687be086fcf56ccd7"
            ]
          }
        },
        "9107fc4bcda144b49ef41a761b7fd3bc": {
          "model_module": "@jupyter-widgets/base",
          "model_name": "LayoutModel",
          "state": {
            "_view_name": "LayoutView",
            "grid_template_rows": null,
            "right": null,
            "justify_content": null,
            "_view_module": "@jupyter-widgets/base",
            "overflow": null,
            "_model_module_version": "1.2.0",
            "_view_count": null,
            "flex_flow": null,
            "width": null,
            "min_width": null,
            "border": null,
            "align_items": null,
            "bottom": null,
            "_model_module": "@jupyter-widgets/base",
            "top": null,
            "grid_column": null,
            "overflow_y": null,
            "overflow_x": null,
            "grid_auto_flow": null,
            "grid_area": null,
            "grid_template_columns": null,
            "flex": null,
            "_model_name": "LayoutModel",
            "justify_items": null,
            "grid_row": null,
            "max_height": null,
            "align_content": null,
            "visibility": null,
            "align_self": null,
            "height": null,
            "min_height": null,
            "padding": null,
            "grid_auto_rows": null,
            "grid_gap": null,
            "max_width": null,
            "order": null,
            "_view_module_version": "1.2.0",
            "grid_template_areas": null,
            "object_position": null,
            "object_fit": null,
            "grid_auto_columns": null,
            "margin": null,
            "display": null,
            "left": null
          }
        },
        "c65e28c29f1842bc96d60a28f9971ee0": {
          "model_module": "@jupyter-widgets/controls",
          "model_name": "FloatProgressModel",
          "state": {
            "_view_name": "ProgressView",
            "style": "IPY_MODEL_614779b71bcc47569ded7a2f7f0b0d67",
            "_dom_classes": [],
            "description": "  4%",
            "_model_name": "FloatProgressModel",
            "bar_style": "",
            "max": 999,
            "_view_module": "@jupyter-widgets/controls",
            "_model_module_version": "1.5.0",
            "value": 44,
            "_view_count": null,
            "_view_module_version": "1.5.0",
            "orientation": "horizontal",
            "min": 0,
            "description_tooltip": null,
            "_model_module": "@jupyter-widgets/controls",
            "layout": "IPY_MODEL_3ea803442c5a47da92d9b5d2165ebc92"
          }
        },
        "3632102bb3bc4a5687be086fcf56ccd7": {
          "model_module": "@jupyter-widgets/controls",
          "model_name": "HTMLModel",
          "state": {
            "_view_name": "HTMLView",
            "style": "IPY_MODEL_a368b429c0fa451290196e12cbecabb5",
            "_dom_classes": [],
            "description": "",
            "_model_name": "HTMLModel",
            "placeholder": "​",
            "_view_module": "@jupyter-widgets/controls",
            "_model_module_version": "1.5.0",
            "value": " 43/999 [02:00&lt;45:28,  2.85s/it]",
            "_view_count": null,
            "_view_module_version": "1.5.0",
            "description_tooltip": null,
            "_model_module": "@jupyter-widgets/controls",
            "layout": "IPY_MODEL_92e2c475050d4f28a48c102fd9f32f89"
          }
        },
        "614779b71bcc47569ded7a2f7f0b0d67": {
          "model_module": "@jupyter-widgets/controls",
          "model_name": "ProgressStyleModel",
          "state": {
            "_view_name": "StyleView",
            "_model_name": "ProgressStyleModel",
            "description_width": "initial",
            "_view_module": "@jupyter-widgets/base",
            "_model_module_version": "1.5.0",
            "_view_count": null,
            "_view_module_version": "1.2.0",
            "bar_color": null,
            "_model_module": "@jupyter-widgets/controls"
          }
        },
        "3ea803442c5a47da92d9b5d2165ebc92": {
          "model_module": "@jupyter-widgets/base",
          "model_name": "LayoutModel",
          "state": {
            "_view_name": "LayoutView",
            "grid_template_rows": null,
            "right": null,
            "justify_content": null,
            "_view_module": "@jupyter-widgets/base",
            "overflow": null,
            "_model_module_version": "1.2.0",
            "_view_count": null,
            "flex_flow": null,
            "width": null,
            "min_width": null,
            "border": null,
            "align_items": null,
            "bottom": null,
            "_model_module": "@jupyter-widgets/base",
            "top": null,
            "grid_column": null,
            "overflow_y": null,
            "overflow_x": null,
            "grid_auto_flow": null,
            "grid_area": null,
            "grid_template_columns": null,
            "flex": null,
            "_model_name": "LayoutModel",
            "justify_items": null,
            "grid_row": null,
            "max_height": null,
            "align_content": null,
            "visibility": null,
            "align_self": null,
            "height": null,
            "min_height": null,
            "padding": null,
            "grid_auto_rows": null,
            "grid_gap": null,
            "max_width": null,
            "order": null,
            "_view_module_version": "1.2.0",
            "grid_template_areas": null,
            "object_position": null,
            "object_fit": null,
            "grid_auto_columns": null,
            "margin": null,
            "display": null,
            "left": null
          }
        },
        "a368b429c0fa451290196e12cbecabb5": {
          "model_module": "@jupyter-widgets/controls",
          "model_name": "DescriptionStyleModel",
          "state": {
            "_view_name": "StyleView",
            "_model_name": "DescriptionStyleModel",
            "description_width": "",
            "_view_module": "@jupyter-widgets/base",
            "_model_module_version": "1.5.0",
            "_view_count": null,
            "_view_module_version": "1.2.0",
            "_model_module": "@jupyter-widgets/controls"
          }
        },
        "92e2c475050d4f28a48c102fd9f32f89": {
          "model_module": "@jupyter-widgets/base",
          "model_name": "LayoutModel",
          "state": {
            "_view_name": "LayoutView",
            "grid_template_rows": null,
            "right": null,
            "justify_content": null,
            "_view_module": "@jupyter-widgets/base",
            "overflow": null,
            "_model_module_version": "1.2.0",
            "_view_count": null,
            "flex_flow": null,
            "width": null,
            "min_width": null,
            "border": null,
            "align_items": null,
            "bottom": null,
            "_model_module": "@jupyter-widgets/base",
            "top": null,
            "grid_column": null,
            "overflow_y": null,
            "overflow_x": null,
            "grid_auto_flow": null,
            "grid_area": null,
            "grid_template_columns": null,
            "flex": null,
            "_model_name": "LayoutModel",
            "justify_items": null,
            "grid_row": null,
            "max_height": null,
            "align_content": null,
            "visibility": null,
            "align_self": null,
            "height": null,
            "min_height": null,
            "padding": null,
            "grid_auto_rows": null,
            "grid_gap": null,
            "max_width": null,
            "order": null,
            "_view_module_version": "1.2.0",
            "grid_template_areas": null,
            "object_position": null,
            "object_fit": null,
            "grid_auto_columns": null,
            "margin": null,
            "display": null,
            "left": null
          }
        }
      }
    }
  },
  "nbformat": 4,
  "nbformat_minor": 0
}