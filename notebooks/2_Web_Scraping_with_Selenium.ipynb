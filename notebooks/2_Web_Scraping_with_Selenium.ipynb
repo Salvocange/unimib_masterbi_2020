{
  "cells": [
    {
      "cell_type": "markdown",
      "metadata": {
        "id": "VYfg3I_fSt6e",
        "colab_type": "text"
      },
      "source": [
        "# WebScraping with Selenium\n",
        "\n",
        "This notebook shows how use selenium to scrape data from Kickstarter.com\n",
        "The scope is only to understand the capabilities of web scraping and prepare a dataset for academic purporse.\n",
        "\n",
        "Let’s begin writing our scraper!\n",
        "\n",
        "We will first install important modules and packages for our Notebook\n",
        "\n",
        "\n",
        "*   Selenium\n",
        "*   Chromium-chromedriver\n",
        "\n",
        "<a href=\"https://colab.research.google.com/drive/1_WyM24eXWf-pdcqJKCcsb1pWwnbEWRi8?authuser=2#scrollTo=VYfg3I_fSt6e\"><img align=\"left\" src=\"https://colab.research.google.com/assets/colab-badge.svg\" alt=\"Open in Colab\" title=\"Open and Execute in Google Colaboratory\"></a>\n"
      ]
    },
    {
      "cell_type": "code",
      "metadata": {
        "id": "6E11q1711nmO",
        "colab_type": "code",
        "colab": {
          "base_uri": "https://localhost:8080/",
          "height": 1000
        },
        "outputId": "b1f274ac-8a86-4943-b995-7966ca83b5c1"
      },
      "source": [
        "!pip install selenium\n",
        "!apt-get update\n",
        "!apt install chromium-chromedriver\n",
        "!cp /usr/lib/chromium-browser/chromedriver /usr/bin"
      ],
      "execution_count": null,
      "outputs": []
    },
    {
      "cell_type": "markdown",
      "metadata": {
        "id": "kuhZcDh4UHYp",
        "colab_type": "text"
      },
      "source": [
        "And now we will import some modules on our Notebook\n",
        "\n",
        "\n",
        "1.   sys: to setup the path of chrome driver\n",
        "2.   selenium: to emulate the user behaviour\n",
        "3.   pandas: to work with data\n",
        "4.   tqdm: to show a progress bar in our notebook\n",
        "5.   json: to work with json format\n",
        "\n",
        "\n",
        "\n"
      ]
    },
    {
      "cell_type": "code",
      "metadata": {
        "id": "YRt5yEXxA-jW",
        "colab_type": "code",
        "colab": {}
      },
      "source": [
        "import sys\n",
        "sys.path.insert(0,'/usr/lib/chromium-browser/chromedriver')\n",
        "from selenium import webdriver\n",
        "from tqdm import tqdm_notebook as tqdm\n",
        "import pandas\n",
        "import json\n",
        "import pprint"
      ],
      "execution_count": null,
      "outputs": []
    },
    {
      "cell_type": "markdown",
      "metadata": {
        "id": "ksyefP35VQc2",
        "colab_type": "text"
      },
      "source": [
        "First we need to set the options for the ghost browser.\n",
        "The most important is `--headless` because we are in a \"cloud\" ntotebook. In our local notebook we can remove the `--headless` option.  \n"
      ]
    },
    {
      "cell_type": "code",
      "metadata": {
        "id": "DTfvdy_gBCBU",
        "colab_type": "code",
        "colab": {}
      },
      "source": [
        "chrome_options = webdriver.ChromeOptions()\n",
        "chrome_options.add_argument('--headless')\n",
        "chrome_options.add_argument('--no-sandbox')\n",
        "chrome_options.add_argument('--disable-dev-shm-usage')"
      ],
      "execution_count": null,
      "outputs": []
    },
    {
      "cell_type": "markdown",
      "metadata": {
        "id": "0DpumOn7VoFw",
        "colab_type": "text"
      },
      "source": [
        "`webdriver` is the most importa object in Selenium.\n",
        "With `webdriver` we can start the phantom browser, emulate the user navigation and scrape our data. \n",
        "\n",
        "Let’s now create a new instance of google chrome.\n",
        "\n",
        "\n",
        "We will navitage to page by a `get` request. With http we can do a get or a post (or others but they are not important for us): https://www.w3schools.com/tags/ref_httpmethods.asp \n",
        "\n",
        "\n",
        "\n",
        "```\n",
        "wd.get(\"https://www.kickstarter.com/discover/advanced?sort=magic&ref=nav_search&page=1\")\n",
        "```\n",
        "\n"
      ]
    },
    {
      "cell_type": "code",
      "metadata": {
        "id": "D6MLvqs9BIzI",
        "colab_type": "code",
        "outputId": "e59fba67-9285-4bad-993d-9aabb48c1877",
        "colab": {
          "base_uri": "https://localhost:8080/",
          "height": 51
        }
      },
      "source": [
        "wd = webdriver.Chrome('chromedriver',chrome_options=chrome_options)\n",
        "wd.get(\"https://www.kickstarter.com/discover/advanced?sort=magic&ref=nav_search&page=1\")"
      ],
      "execution_count": null,
      "outputs": []
    },
    {
      "cell_type": "markdown",
      "metadata": {
        "id": "p3Sbfud-WbV-",
        "colab_type": "text"
      },
      "source": [
        "Take a look to the screenshot from our phantom browser.\n",
        "\n",
        "Note:\n",
        "- la language and the locale: It is en_US!\n",
        "- the screen ration: is it the same of our notebook?"
      ]
    },
    {
      "cell_type": "code",
      "metadata": {
        "id": "iBCZSC4dWfKW",
        "colab_type": "code",
        "outputId": "d8136cea-825a-4bfb-fe53-5523550ef04f",
        "colab": {
          "base_uri": "https://localhost:8080/",
          "height": 286
        }
      },
      "source": [
        "wd.save_screenshot('screenshot.png')\n",
        "\n",
        "%pylab inline\n",
        "import matplotlib.pyplot as plt\n",
        "import matplotlib.image as mpimg\n",
        "img=mpimg.imread('/content/screenshot.png')\n",
        "imgplot = plt.imshow(img)\n",
        "plt.show()"
      ],
      "execution_count": null,
      "outputs": []
    },
    {
      "cell_type": "markdown",
      "metadata": {
        "id": "kRr2IAQsa1s_",
        "colab_type": "text"
      },
      "source": [
        "Let's try to extract some information from the page\n",
        "\n",
        "\n",
        "\n",
        "`title` contains the title of our page.\n",
        "\n",
        "\n"
      ]
    },
    {
      "cell_type": "code",
      "metadata": {
        "id": "X033nUzra6uq",
        "colab_type": "code",
        "outputId": "2a586a9e-03f1-4588-eb75-923e43d087a0",
        "colab": {
          "base_uri": "https://localhost:8080/",
          "height": 34
        }
      },
      "source": [
        "print(wd.title)"
      ],
      "execution_count": null,
      "outputs": []
    },
    {
      "cell_type": "markdown",
      "metadata": {
        "id": "C2FL7PA0jXdP",
        "colab_type": "text"
      },
      "source": [
        "### First exercise with *Selenium*\n",
        "\n",
        "Try it yourself... Print the contents of the page on the screen!\n",
        "\n",
        "Complete the code and annotate the different behaviour. Try to use the attributes/methods applied to `wd`\n",
        "\n",
        "- `page_source`\n",
        "- `find_element_by_tag_name(\"body\")`\n",
        "- `find_element_by_tag_name(\"body\").text`\n",
        "\n",
        "\n"
      ]
    },
    {
      "cell_type": "code",
      "metadata": {
        "id": "wkPbJsAPj19o",
        "colab_type": "code",
        "colab": {}
      },
      "source": [
        "print(....)"
      ],
      "execution_count": null,
      "outputs": []
    },
    {
      "cell_type": "markdown",
      "metadata": {
        "id": "zK7Cf_mradiL",
        "colab_type": "text"
      },
      "source": [
        "### How do we extract the values inside a page with CSS Selector?\n",
        "\n",
        "Selenium has a method called `find_elements_by_css_selector`.\n",
        "\n",
        "We will pass our CSS Selector into this method and get a list of selenium elements. Once we have the element, we can extract the text inside it using the `text` function."
      ]
    },
    {
      "cell_type": "code",
      "metadata": {
        "id": "WFuRVKIdbWN3",
        "colab_type": "code",
        "outputId": "d01f2d67-802f-4ee9-c521-8947ad808e55",
        "colab": {
          "base_uri": "https://localhost:8080/",
          "height": 34
        }
      },
      "source": [
        "list_h3 = wd.find_elements_by_css_selector(\"h3\")\n",
        "print(len(list_h3))"
      ],
      "execution_count": null,
      "outputs": []
    },
    {
      "cell_type": "code",
      "metadata": {
        "id": "cRPP5xUrbwcE",
        "colab_type": "code",
        "outputId": "819082ba-518c-464e-8f8f-9300d78b2020",
        "colab": {
          "base_uri": "https://localhost:8080/",
          "height": 34
        }
      },
      "source": [
        "print(list_h3[0].text)"
      ],
      "execution_count": null,
      "outputs": []
    },
    {
      "cell_type": "markdown",
      "metadata": {
        "id": "bAtLMeKVb8Wp",
        "colab_type": "text"
      },
      "source": [
        "### Exercise on *find_elements_by_css_selector*\n",
        "\n",
        "Try to export the list of `p` elements and show the content of the first element.\n",
        "\n",
        "\n"
      ]
    },
    {
      "cell_type": "code",
      "metadata": {
        "id": "6_4-y31fcEYq",
        "colab_type": "code",
        "colab": {}
      },
      "source": [
        "list_p = wd......(\"...\")\n",
        "print(len(list_p))"
      ],
      "execution_count": null,
      "outputs": []
    },
    {
      "cell_type": "markdown",
      "metadata": {
        "id": "A1ETBqlPcQhl",
        "colab_type": "text"
      },
      "source": [
        "# Project List from Kickstarter\n",
        "\n",
        "Let's begin to download the list of projects.\n",
        "\n",
        "The list of projects is defined by the css selection rule\n",
        "`#projects_list > div > div.js-react-proj-card`\n",
        "\n"
      ]
    },
    {
      "cell_type": "code",
      "metadata": {
        "id": "_V1hNO9ZcJy6",
        "colab_type": "code",
        "outputId": "dab57107-aa32-43bd-9b6c-f2827bfa3382",
        "colab": {
          "base_uri": "https://localhost:8080/",
          "height": 34
        }
      },
      "source": [
        "list_projects = wd.find_elements_by_css_selector(\"#projects_list > div > div.js-react-proj-card\")\n",
        "print(len(list_projects))"
      ],
      "execution_count": null,
      "outputs": []
    },
    {
      "cell_type": "markdown",
      "metadata": {
        "id": "k_fSFWX0cktI",
        "colab_type": "text"
      },
      "source": [
        "Gread! We find 12 project!\n",
        "\n",
        "Now, we will extract the attribute from each single element.\n",
        "The scope is to create one dict for each project in the list with the attribute:\n",
        "\n",
        "\n",
        "1.   url\n",
        "2.   title\n",
        "3.   description\n",
        "4.   category\n",
        "5.   location\n",
        "\n"
      ]
    },
    {
      "cell_type": "code",
      "metadata": {
        "id": "1J2xAL6qcj9-",
        "colab_type": "code",
        "outputId": "20be5d86-08c9-481f-cefa-899d5f79d417",
        "colab": {
          "base_uri": "https://localhost:8080/",
          "height": 1000
        }
      },
      "source": [
        "import pprint\n",
        "detail_projects = []\n",
        "for project in list_projects:\n",
        "    title = project.find_elements_by_css_selector(\"h3\")[0].text\n",
        "    url = project.find_elements_by_css_selector(\"a\")[0].get_attribute(\"href\")\n",
        "    description = project.find_elements_by_css_selector(\".mb3 p\")[0].text\n",
        "    category = project.find_elements_by_css_selector(\".pb3 a\")[4].text\n",
        "    location = project.find_elements_by_css_selector(\".pb3 a\")[5].text\n",
        "    project_id = project.get_attribute(\"data-pid\")\n",
        "\n",
        "    detail_projects.append({'url': url,\n",
        "                            'title': title,\n",
        "                            'description': description,\n",
        "                            'category': category,\n",
        "                            'location': location,\n",
        "                            'project_id': project_id})\n",
        "\n",
        "len(detail_projects)\n",
        "pprint.pprint(detail_projects)"
      ],
      "execution_count": null,
      "outputs": []
    },
    {
      "cell_type": "markdown",
      "metadata": {
        "id": "9Sn0txryfR4c",
        "colab_type": "text"
      },
      "source": [
        "Now let's try downloading all the ads on the front page...\n",
        "and then move on to the second.\n",
        "\n",
        "First we define a `parse_project` function to make the code cleaner and to reuse the function."
      ]
    },
    {
      "cell_type": "code",
      "metadata": {
        "id": "tD3KLUrIfTJd",
        "colab_type": "code",
        "colab": {}
      },
      "source": [
        "def parse_project(project):\n",
        "  project_id = project.get_attribute(\"data-pid\")\n",
        "  title = \"\"\n",
        "  description = \"\"\n",
        "  category = \"\"\n",
        "  location = \"\"\n",
        "  try:\n",
        "    title = project.find_elements_by_css_selector(\"h3\")[0].text\n",
        "    url = project.find_elements_by_css_selector(\"a\")[0].get_attribute(\"href\")\n",
        "    description = project.find_elements_by_css_selector(\".mb3 p\")[0].text\n",
        "    category = project.find_elements_by_css_selector(\".pb3 a\")[4].text\n",
        "    location = project.find_elements_by_css_selector(\".pb3 a\")[5].text\n",
        "  except:\n",
        "    pass\n",
        "  return {'url': url,\n",
        "          'title': title,\n",
        "          'description': description,\n",
        "          'category': category,\n",
        "          'location': location,\n",
        "          'project_id': project_id}\n"
      ],
      "execution_count": null,
      "outputs": []
    },
    {
      "cell_type": "markdown",
      "metadata": {
        "id": "SR-xG0FIgf7u",
        "colab_type": "text"
      },
      "source": [
        "Here's how to download the first two pages of projects..."
      ]
    },
    {
      "cell_type": "code",
      "metadata": {
        "id": "TfWSS_33fbZg",
        "colab_type": "code",
        "outputId": "b251be0f-d0f8-4663-d89f-255bb351f249",
        "colab": {
          "base_uri": "https://localhost:8080/",
          "height": 134,
          "referenced_widgets": [
            "de490277ca9b4462841157b06215c1a1",
            "e1acbfea40a84a0bbc2c4858727af799",
            "dc1e9347c9e0436fb0cef8c3eca5e55d",
            "f6c997650d60416f94605e0b29e8d78f",
            "02ee26fc429240ac9cdb694d3cde5fa0",
            "29a4237772374e76b14ad730ed598141",
            "92b713b08d6c4673bc1acf0e41f01e5f",
            "447d9a95a5934a8f8c5aff3db3c258cb"
          ]
        }
      },
      "source": [
        "detail_projects = []\n",
        "for num in tqdm(range(1,3)):\n",
        "  wd.get(f\"https://www.kickstarter.com/discover/advanced?sort=magic&ref=nav_search&page={num}\")\n",
        "  wd.save_screenshot(f'screenshot_{num}.png')\n",
        "  list_projects = wd.find_elements_by_css_selector(\"#projects_list > div > div.js-react-proj-card\")\n",
        "  for project in list_projects:\n",
        "    detail_projects.append(parse_project(project))\n",
        "\n",
        "print(len(detail_projects))"
      ],
      "execution_count": null,
      "outputs": []
    },
    {
      "cell_type": "markdown",
      "metadata": {
        "id": "HbjVFLOOgnNx",
        "colab_type": "text"
      },
      "source": [
        "Have you seen the bookstore **tqdm**!\n",
        "Find at this link all the documentation **https://github.com/tqdm/tqdm**:\n",
        "is very useful to make our notebook more nice..."
      ]
    },
    {
      "cell_type": "markdown",
      "metadata": {
        "id": "S9MsWLutg4Oi",
        "colab_type": "text"
      },
      "source": [
        "### How to end scraping?\n",
        "Problem: When do we stop?\n",
        "\n",
        "There are several ways. Some simpler and some more advanced:\n",
        "- We can search inside the page for the ad number and divide it by 12\n",
        "- We can check the status of the request (if (status_code == 200):... for a list of possible http status codes please check https://en.wikipedia.org/wiki/List_of_HTTP_status_codes)\n",
        "- We can check the number of ads found (if > 0...)\n",
        "- Other more advanced techniques...\n",
        "\n",
        "For example, in our case, let's go to verify the presence, or not, of the *Load more* button inside the page. If present, we continue scraping, otherwise we stop.\n",
        "\n",
        "Actually, we can also combine more than one of these techniques.\n",
        "\n",
        "For this exercise we will just download the first 10 pages."
      ]
    },
    {
      "cell_type": "code",
      "metadata": {
        "id": "nkofmsCGgwQA",
        "colab_type": "code",
        "outputId": "a925dbec-e13d-458b-cceb-0d7cc0bfe4c3",
        "colab": {
          "base_uri": "https://localhost:8080/",
          "height": 100,
          "referenced_widgets": [
            "ee27906a32874fc780a15974ad3b9434",
            "39641d9056c4487aa7bb0d04bd300102",
            "c088f569d3604f0da467b69eeebc8a17",
            "b3dbb64df86146c78c99f0bcbe75e93d",
            "af837eabe26844818b326e23788552ee",
            "d712d50832ef454e82c36780fa4b5224",
            "827e9649f57d4f31b79abef787a8a833",
            "60e3f7a5f129415db1fc51a0c247309e"
          ]
        }
      },
      "source": [
        "import time\n",
        "detail_projects = []\n",
        "for num in tqdm(range(1,100)):\n",
        "  time.sleep(1)\n",
        "  wd.get(f\"https://www.kickstarter.com/discover/advanced?sort=magic&ref=nav_search&page={num}\")\n",
        "  wd.save_screenshot(f'screenshot_{num}.png')\n",
        "  list_projects = wd.find_elements_by_css_selector(\"#projects_list > div > div.js-react-proj-card\")\n",
        "  for project in list_projects:\n",
        "    detail_projects.append(parse_project(project))\n",
        "\n",
        "print(len(detail_projects))"
      ],
      "execution_count": null,
      "outputs": []
    },
    {
      "cell_type": "markdown",
      "metadata": {
        "id": "TqxsicNNovfy",
        "colab_type": "text"
      },
      "source": [
        "# Pandas and data processing\n",
        "\n",
        "**Well!**\n",
        "We're starting to see another amazing library for working with data!\n",
        "\n",
        "It's **pandas**: *Python library for data analysis*.\n",
        "\n",
        "Basically, with pandas we can manipulate a data set or a historical series in Python.\n",
        "\n",
        "For now, we start to give a couple of concepts.\n",
        "\n",
        "Pandas is based on two types of data: **Series** and **DataFrame**:\n",
        "- `Series` represents a list of data\n",
        "- `DataFrame` represent a data set in tabular format\n",
        "\n",
        "Each column of a `DataFrame` is a `Series`.\n",
        "\n",
        "We can create a `DataFrame` using the `pd.DataFrame` method by passing our dictionary as an input parameter.\n",
        "\n",
        "A `DataFrame` pandas can be easily exported in *CSV*, *Excel*, ...\n",
        "\n",
        "For more information about `Pandas` see\n",
        "\n",
        "https://pandas.pydata.org/getting_started.html\n"
      ]
    },
    {
      "cell_type": "code",
      "metadata": {
        "id": "MumFgyNypoBo",
        "colab_type": "code",
        "outputId": "81db74de-7d76-45ed-f54d-4228d41eb3b9",
        "colab": {
          "base_uri": "https://localhost:8080/",
          "height": 204
        }
      },
      "source": [
        "import pandas as pd\n",
        "ds_detail_projects = pd.DataFrame(detail_projects)\n",
        "ds_detail_projects.set_index(\"project_id\")\n",
        "ds_detail_projects.head()"
      ],
      "execution_count": null,
      "outputs": []
    },
    {
      "cell_type": "markdown",
      "metadata": {
        "id": "GwW7Sj7irFDT",
        "colab_type": "text"
      },
      "source": [
        "The `.info()` method provides an indication of the structure and data of the `DataFrame`."
      ]
    },
    {
      "cell_type": "code",
      "metadata": {
        "id": "_tFbyPwcrNY4",
        "colab_type": "code",
        "outputId": "670c8ae6-c17d-4fb7-b50c-6b91c163740f",
        "colab": {
          "base_uri": "https://localhost:8080/",
          "height": 238
        }
      },
      "source": [
        "ds_detail_projects.info()"
      ],
      "execution_count": null,
      "outputs": []
    },
    {
      "cell_type": "code",
      "metadata": {
        "id": "3lUw4-_BrQDh",
        "colab_type": "code",
        "colab": {}
      },
      "source": [
        "ds_detail_projects.to_csv('ds_projects.csv')"
      ],
      "execution_count": null,
      "outputs": []
    },
    {
      "cell_type": "markdown",
      "metadata": {
        "id": "AXdgP8t3q_A-",
        "colab_type": "text"
      },
      "source": [
        "# Kickstarter Project pages ###\n",
        "\n",
        "Now, the goal is to navigate and download the details of each project and pictures of the houses.\n",
        "\n",
        "**Pandas** provides the *.read_csv* method that allows you to upload in CSV format files within a DataFrame."
      ]
    },
    {
      "cell_type": "code",
      "metadata": {
        "id": "yVnUyfGsvcac",
        "colab_type": "code",
        "outputId": "266ed5af-2587-4740-92a0-19f065e17f3b",
        "colab": {
          "base_uri": "https://localhost:8080/",
          "height": 235
        }
      },
      "source": [
        "# open csv file\n",
        "import pandas as pd\n",
        "ds_detail_projects = pd.read_csv(\"ds_projects.csv\", index_col=\"project_id\")\n",
        "ds_detail_projects.head()"
      ],
      "execution_count": null,
      "outputs": []
    },
    {
      "cell_type": "markdown",
      "metadata": {
        "id": "8VaXQ52Kv2am",
        "colab_type": "text"
      },
      "source": [
        "***For each project we go to the link... how do you think we do it?***\n",
        "\n",
        "Let's try the first 5 projects.\n",
        "\n",
        "\n",
        "\n",
        "These days most of the web apps are using AJAX techniques. When a page is loaded by the browser, the elements within that page may load at different time intervals. Using waits, we can stop our scraping and wait the loading of a element.\n",
        "\n",
        "Selenium Webdriver provides two types of waits - implicit & explicit. An explicit wait makes WebDriver wait for a certain condition to occur before proceeding further with execution. An implicit wait makes WebDriver poll the DOM for a certain amount of time when trying to locate an element.\n"
      ]
    },
    {
      "cell_type": "code",
      "metadata": {
        "id": "7RJTIyFfv-Ig",
        "colab_type": "code",
        "outputId": "9a5a3901-76f6-407b-a8f0-6ff877a24159",
        "colab": {
          "base_uri": "https://localhost:8080/",
          "height": 187
        }
      },
      "source": [
        "from selenium.webdriver.common.by import By\n",
        "from selenium.webdriver.support.ui import WebDriverWait\n",
        "from selenium.webdriver.support import expected_conditions as EC\n",
        "import time\n",
        "details = []\n",
        "for project_id, project in ds_detail_projects.head().iterrows():\n",
        "    time.sleep(10)\n",
        "    link = project[\"url\"]\n",
        "    print(link)\n",
        "    wd.set_window_size(1920, 1080)\n",
        "    wd.get(link)\n",
        "    try:\n",
        "      WebDriverWait(wd, 10).until(\n",
        "          EC.element_to_be_clickable((By.ID, \"back-project-button\"))\n",
        "      )\n",
        "    except:\n",
        "      continue\n",
        "\n",
        "    wd.save_screenshot(f'screenshot_{project_id}.png')\n",
        "    backers = wd.find_elements_by_css_selector(\".type-16.dark-grey-500\")[0].text\n",
        "    goal = wd.find_elements_by_css_selector(\".ksr-green-500\")[0].text\n",
        "    pledged = wd.find_elements_by_css_selector(\"span.money\")[1].text\n",
        "    details.append({'project_id': project_id,\n",
        "                    'backers': backers,\n",
        "                    'goal': goal,\n",
        "                    'pledged': pledged})\n",
        "  \n",
        "len(details)\n",
        "pprint.pprint(details)\n"
      ],
      "execution_count": null,
      "outputs": []
    },
    {
      "cell_type": "code",
      "metadata": {
        "id": "xf7bDTWTxLlf",
        "colab_type": "code",
        "outputId": "a7d95f50-0a35-44f8-d429-fc0be91153be",
        "colab": {
          "base_uri": "https://localhost:8080/",
          "height": 1000
        }
      },
      "source": [
        "from selenium.webdriver.common.by import By\n",
        "from selenium.webdriver.support.ui import WebDriverWait\n",
        "from selenium.webdriver.support import expected_conditions as EC\n",
        "import time\n",
        "details = []\n",
        "for project_id, project in ds_detail_projects.iterrows():\n",
        "    time.sleep(2)\n",
        "    link = project[\"url\"]\n",
        "    backers = 0\n",
        "    goal = 0\n",
        "    pledged = 0\n",
        "    #print(link)\n",
        "    try:\n",
        "      wd.set_window_size(1920, 1080)\n",
        "      wd.get(link)\n",
        "      try:\n",
        "        WebDriverWait(wd, 10).until(\n",
        "            EC.element_to_be_clickable((By.ID, \"back-project-button\"))\n",
        "        )\n",
        "      except:\n",
        "        continue\n",
        "\n",
        "      wd.save_screenshot(f'screenshot_{project_id}.png')\n",
        "      backers_list = wd.find_elements_by_css_selector(\".type-16.dark-grey-500\")\n",
        "      goal_list = wd.find_elements_by_css_selector(\".ksr-green-500\")\n",
        "      pledged_list = wd.find_elements_by_css_selector(\"span.money\")\n",
        "      if(len(backers_list) > 0):\n",
        "        backers = int(backers_list[0].text.replace(\",\", \"\"))\n",
        "      if(len(goal_list) > 0):\n",
        "        goal = int(goal_list[0].text.replace(\",\", \"\").replace(\"$\", \"\").replace(\"US\", \"\"))\n",
        "      if(len(pledged_list) > 1):\n",
        "        pledged = int(pledged_list[1].text.replace(\",\", \"\").replace(\"$\", \"\").replace(\"US\", \"\"))\n",
        "    except Exception as e:\n",
        "      print(e)\n",
        "    details.append({'project_id': project_id,\n",
        "                    'backers': backers,\n",
        "                    'goal': goal,\n",
        "                    'pledged': pledged})\n",
        "  \n",
        "print(len(details))\n",
        "#pprint.pprint(details)\n"
      ],
      "execution_count": null,
      "outputs": []
    },
    {
      "cell_type": "code",
      "metadata": {
        "id": "nmOdNznWXKtj",
        "colab_type": "code",
        "colab": {}
      },
      "source": [
        "len(details)"
      ],
      "execution_count": null,
      "outputs": []
    },
    {
      "cell_type": "markdown",
      "metadata": {
        "id": "fcfGcK4O4R2-",
        "colab_type": "text"
      },
      "source": [
        "Store the data with *pandas*"
      ]
    },
    {
      "cell_type": "code",
      "metadata": {
        "id": "4xik7JIr4J-n",
        "colab_type": "code",
        "colab": {}
      },
      "source": [
        "import pandas as pd\n",
        "ds_details = pd.DataFrame(details)\n",
        "ds_details.set_index(\"project_id\")\n",
        "ds_details.head()"
      ],
      "execution_count": null,
      "outputs": []
    },
    {
      "cell_type": "code",
      "metadata": {
        "id": "pBkNRigl4b9G",
        "colab_type": "code",
        "colab": {}
      },
      "source": [
        "ds_details.info()"
      ],
      "execution_count": null,
      "outputs": []
    },
    {
      "cell_type": "code",
      "metadata": {
        "id": "YSlNICg94fKj",
        "colab_type": "code",
        "colab": {}
      },
      "source": [
        "ds_details.to_csv(\"ds_project_details.csv\")"
      ],
      "execution_count": null,
      "outputs": []
    },
    {
      "cell_type": "markdown",
      "metadata": {
        "id": "dJdurd8345Jp",
        "colab_type": "text"
      },
      "source": [
        "# Kickstarter Project images\n",
        "\n",
        "\n",
        "Now we're going to download Kickstarter images for each project.\n",
        "\n",
        "Our goal is to create a dataset of images and a `Dataframe` composed by:\n",
        "- `project_id`\n",
        "- `image_id`\n",
        "\n",
        "We will use the library `requests`.\n",
        "\n",
        "The `requests` library is python library for making HTTP requests.\n",
        "It abstracts the complexities of making requests behind a simple API so that you can focus on interacting with services and consuming data in your application."
      ]
    },
    {
      "cell_type": "code",
      "metadata": {
        "id": "q1cy5Jzt6ab-",
        "colab_type": "code",
        "colab": {}
      },
      "source": [
        "import time\n",
        "import requests\n",
        "\n",
        "detail_projects = []\n",
        "wd.get(\"https://www.kickstarter.com/discover/advanced?ref=nav_search&term=\")\n",
        "for num in tqdm(range(1,100)):\n",
        "  time.sleep(10)\n",
        "  list_projects = wd.find_elements_by_css_selector(\"#projects_list > div > div.js-react-proj-card\")\n",
        "  list_images = []\n",
        "  for project in list_projects:\n",
        "    try:\n",
        "      project_id = project.get_attribute(\"data-pid\")\n",
        "      src = project.find_element_by_css_selector(\"a img\").get_attribute(\"src\")\n",
        "      img_file = requests.get(src, stream=True)\n",
        "      if img_file.status_code == 200:\n",
        "        with open(\"/content/images/img_\" + str(project_id) + \".jpg\", 'wb') as f:\n",
        "          f.write(img_file.content)\n",
        "        list_images.append({\n",
        "            \"project_id\": project_id,\n",
        "            \"img_file\": \"img_\" + str(project_id) + \".jpg\"})\n",
        "    except Exception as e:\n",
        "      print(e)\n",
        "  load_more = wd.find_elements_by_css_selector(\".load_more\")\n",
        "  if(len(load_more)) > 0:\n",
        "    load_more[0].click()\n",
        "  else:\n",
        "    break\n",
        "\n",
        "print(len(list_images))"
      ],
      "execution_count": null,
      "outputs": []
    },
    {
      "cell_type": "code",
      "metadata": {
        "id": "BSPk4TWtAvWj",
        "colab_type": "code",
        "outputId": "26a43c4f-9d85-490c-c6f2-aab0566f7459",
        "colab": {
          "base_uri": "https://localhost:8080/",
          "height": 308
        }
      },
      "source": [
        "%pylab inline\n",
        "import matplotlib.pyplot as plt\n",
        "import matplotlib.image as mpimg\n",
        "img=mpimg.imread('/content/images/img_142016465.jpg')\n",
        "imgplot = plt.imshow(img)\n",
        "plt.show()"
      ],
      "execution_count": null,
      "outputs": []
    },
    {
      "cell_type": "code",
      "metadata": {
        "id": "9oq-mP-v8LZl",
        "colab_type": "code",
        "outputId": "55aa50e1-f379-4452-819a-4705574419c1",
        "colab": {
          "base_uri": "https://localhost:8080/",
          "height": 204
        }
      },
      "source": [
        "import pandas as pd\n",
        "ds_images = pd.DataFrame(list_images)\n",
        "ds_images.set_index(\"project_id\")\n",
        "ds_images.head()"
      ],
      "execution_count": null,
      "outputs": []
    },
    {
      "cell_type": "code",
      "metadata": {
        "id": "2CLUnkOW8O0Q",
        "colab_type": "code",
        "colab": {}
      },
      "source": [
        "ds_images.to_csv(\"ds_images.csv\")"
      ],
      "execution_count": null,
      "outputs": []
    },
    {
      "cell_type": "code",
      "metadata": {
        "id": "v0F53Zz7JRN2",
        "colab_type": "code",
        "outputId": "8e1ceab1-df65-4756-d1a4-e96f2b33e097",
        "colab": {
          "base_uri": "https://localhost:8080/",
          "height": 425
        }
      },
      "source": [
        "!zip -r \"/content/images.zip\" \"/content/images/\"\n"
      ],
      "execution_count": null,
      "outputs": []
    },
    {
      "cell_type": "markdown",
      "metadata": {
        "id": "g_f5pD019XW6",
        "colab_type": "text"
      },
      "source": [
        "# API\n",
        "\n",
        "Let's see how to use the **requests** library to hook APIs provided by our suppliers or colleagues."
      ]
    },
    {
      "cell_type": "markdown",
      "metadata": {
        "id": "GuDgoTW29jH_",
        "colab_type": "text"
      },
      "source": [
        "## Crarifai\n",
        "\n",
        "Let's try the services provided by Clarifai to increase the data we have available.\n",
        "\n",
        "\n",
        "First, we need to install the `crarifai` python library.\n",
        "For more details, please visit https://github.com/Clarifai/clarifai-python\n",
        "\n",
        "To install the API client:\n",
        "\n",
        "\n",
        "```\n",
        "pip install clarifai\n",
        "```\n",
        "\n",
        "\n",
        "\n",
        "\n"
      ]
    },
    {
      "cell_type": "code",
      "metadata": {
        "id": "WgBUGy519fzQ",
        "colab_type": "code",
        "colab": {}
      },
      "source": [
        "!pip install clarifai"
      ],
      "execution_count": null,
      "outputs": []
    },
    {
      "cell_type": "code",
      "metadata": {
        "id": "U7O5yiMD-BHm",
        "colab_type": "code",
        "colab": {}
      },
      "source": [
        "from clarifai.rest import ClarifaiApp\n",
        "\n",
        "# setup your key!!!\n",
        "clarifai_key = \"<your_key>\"\n",
        "app = ClarifaiApp(api_key=clarifai_key)\n",
        "\n",
        "# and use the general model\n",
        "model = app.public_models.general_model"
      ],
      "execution_count": null,
      "outputs": []
    },
    {
      "cell_type": "markdown",
      "metadata": {
        "id": "vi3vpTjo-JlU",
        "colab_type": "text"
      },
      "source": [
        "We will use the `predict_by_filename` method to obtain the **concepts** within the page.\n"
      ]
    },
    {
      "cell_type": "code",
      "metadata": {
        "id": "Kv3BOOAG-PAt",
        "colab_type": "code",
        "colab": {}
      },
      "source": [
        "response = model.predict_by_filename(\"/content/images/img_142016465.jpg\")"
      ],
      "execution_count": null,
      "outputs": []
    },
    {
      "cell_type": "markdown",
      "metadata": {
        "id": "6gNKcVLk-bU-",
        "colab_type": "text"
      },
      "source": [
        "What type of data does that give us back?\n",
        "Let's have a look!"
      ]
    },
    {
      "cell_type": "code",
      "metadata": {
        "id": "vUKxISg_-kht",
        "colab_type": "code",
        "colab": {}
      },
      "source": [
        "pprint.pprint(response)"
      ],
      "execution_count": null,
      "outputs": []
    },
    {
      "cell_type": "markdown",
      "metadata": {
        "id": "W0vFofm3-o67",
        "colab_type": "text"
      },
      "source": [
        "And get the data:"
      ]
    },
    {
      "cell_type": "code",
      "metadata": {
        "id": "bLXAR3GS-oYX",
        "colab_type": "code",
        "outputId": "d2b147e7-157e-457a-a061-56f717f72ab4",
        "colab": {
          "base_uri": "https://localhost:8080/",
          "height": 357
        }
      },
      "source": [
        "if(response['status']['description'] == \"Ok\"):\n",
        "    for concept in response[\"outputs\"][0][\"data\"][\"concepts\"]:\n",
        "        name = concept[\"name\"]\n",
        "        value = concept[\"value\"]\n",
        "        print(name + \" \" + str(value))"
      ],
      "execution_count": null,
      "outputs": []
    },
    {
      "cell_type": "markdown",
      "metadata": {
        "id": "0RiAZbNkB5Au",
        "colab_type": "text"
      },
      "source": [
        "Now let's go and identify all the concepts for each image of each project."
      ]
    },
    {
      "cell_type": "code",
      "metadata": {
        "id": "uu3J01GhB_w4",
        "colab_type": "code",
        "outputId": "88e81e2a-e468-4f24-ec2c-eaa685d7f63d",
        "colab": {
          "base_uri": "https://localhost:8080/",
          "height": 34
        }
      },
      "source": [
        "ds_images = pd.read_csv(\"ds_images.csv\", index_col=\"project_id\")\n",
        "\n",
        "img_details = []\n",
        "for project_id, image in ds_images.iterrows():\n",
        "  try:\n",
        "    response = model.predict_by_filename(\"/content/images/\" + image['img_file'])\n",
        "    if(response['status']['description'] == \"Ok\"):\n",
        "      for concept in response[\"outputs\"][0][\"data\"][\"concepts\"]:\n",
        "          name = concept[\"name\"]\n",
        "          value = concept[\"value\"]\n",
        "          img_details.append({\n",
        "            \"project_id\": project_id,\n",
        "            \"image\": image['img_file'],\n",
        "            \"name\": name,\n",
        "            \"value\": value\n",
        "          })\n",
        "  except Exception as e:\n",
        "    print(e)\n",
        "\n",
        "print(len(img_details))"
      ],
      "execution_count": null,
      "outputs": []
    },
    {
      "cell_type": "code",
      "metadata": {
        "id": "5nIUezSrDTKK",
        "colab_type": "code",
        "outputId": "d4961bd4-b2f0-47ed-cbfb-3a8036084b56",
        "colab": {
          "base_uri": "https://localhost:8080/",
          "height": 204
        }
      },
      "source": [
        "import pandas as pd\n",
        "ds_img_details = pd.DataFrame(img_details)\n",
        "ds_img_details.set_index(\"image\")\n",
        "ds_img_details.head()"
      ],
      "execution_count": null,
      "outputs": []
    },
    {
      "cell_type": "code",
      "metadata": {
        "id": "1WR4kQBsDXwx",
        "colab_type": "code",
        "colab": {}
      },
      "source": [
        "ds_img_details.to_csv('ds_img_details.csv')"
      ],
      "execution_count": null,
      "outputs": []
    },
    {
      "cell_type": "markdown",
      "metadata": {
        "id": "Kt_AIhQM-6zi",
        "colab_type": "text"
      },
      "source": [
        "# Geocoding\n",
        "\n",
        "What's geocoding?\n",
        "\n"
      ]
    },
    {
      "cell_type": "markdown",
      "metadata": {
        "id": "tBcxapgb_lGp",
        "colab_type": "text"
      },
      "source": [
        "Let's try to geolocalize the projects..."
      ]
    },
    {
      "cell_type": "code",
      "metadata": {
        "id": "B4IO9haO_o7W",
        "colab_type": "code",
        "outputId": "d2370303-31b1-4d84-d7d6-21e316c1ead2",
        "colab": {
          "base_uri": "https://localhost:8080/",
          "height": 139
        }
      },
      "source": [
        "address = \"via finazzi 46, carvico(bg)\"\n",
        "key = \"<your_key>\"\n",
        "geocode_url = f\"http://www.mapquestapi.com/geocoding/v1/address?key={key}&location={address}\"\n",
        "response = requests.get(geocode_url)\n",
        "\n",
        "import json\n",
        "geo = json.loads(response.text)\n",
        "pprint.pprint(response.text)"
      ],
      "execution_count": null,
      "outputs": []
    },
    {
      "cell_type": "code",
      "metadata": {
        "id": "LRQ24oZf_0XB",
        "colab_type": "code",
        "outputId": "3526b876-f823-4572-9c74-369a924b8947",
        "colab": {
          "base_uri": "https://localhost:8080/",
          "height": 51
        }
      },
      "source": [
        "print(geo['results'][0]['locations'][0]['latLng']['lat'])\n",
        "print(geo['results'][0]['locations'][0]['latLng']['lng'])"
      ],
      "execution_count": null,
      "outputs": []
    },
    {
      "cell_type": "code",
      "metadata": {
        "id": "feuWng0zDudp",
        "colab_type": "code",
        "outputId": "a3f7fe5d-3555-46ad-af4f-e1e8e5bee090",
        "colab": {
          "base_uri": "https://localhost:8080/",
          "height": 34
        }
      },
      "source": [
        "ds_projects = pd.read_csv(\"ds_projects.csv\", index_col=\"project_id\")\n",
        "\n",
        "project_location = []\n",
        "for project_id, project in ds_projects.iterrows():\n",
        "  address = project['location']\n",
        "  key = \"<your_key>\"\n",
        "  try:\n",
        "    geocode_url = f\"http://www.mapquestapi.com/geocoding/v1/address?key={key}&location={address}\"\n",
        "    response = requests.get(geocode_url)\n",
        "    if(response.status_code == 200):\n",
        "      geo = json.loads(response.text)\n",
        "      lat = geo['results'][0]['locations'][0]['latLng']['lat']\n",
        "      lng = geo['results'][0]['locations'][0]['latLng']['lng']\n",
        "      project_location.append({\n",
        "            \"project_id\": project_id,\n",
        "            \"lat\": lat,\n",
        "            \"lng\": lng\n",
        "          })\n",
        "  except Exception as e:\n",
        "    print(e)\n",
        "    \n",
        "\n",
        "print(len(project_location))"
      ],
      "execution_count": null,
      "outputs": []
    },
    {
      "cell_type": "code",
      "metadata": {
        "id": "KdlXXE24E9Es",
        "colab_type": "code",
        "outputId": "8f0e727c-c712-4b7b-b161-96b4549e5e8a",
        "colab": {
          "base_uri": "https://localhost:8080/",
          "height": 204
        }
      },
      "source": [
        "import pandas as pd\n",
        "ds_project_location = pd.DataFrame(project_location)\n",
        "ds_project_location.set_index(\"project_id\")\n",
        "ds_project_location.head()"
      ],
      "execution_count": null,
      "outputs": []
    },
    {
      "cell_type": "code",
      "metadata": {
        "id": "sg8TZopsFC3b",
        "colab_type": "code",
        "colab": {}
      },
      "source": [
        "ds_project_location.to_csv('ds_project_location.csv')"
      ],
      "execution_count": null,
      "outputs": []
    }
  ],
  "metadata": {
    "colab": {
      "name": "2_Web_Scraping_with_Selenium",
      "provenance": [],
      "collapsed_sections": [],
      "toc_visible": true
    },
    "kernelspec": {
      "name": "python3",
      "display_name": "Python 3"
    },
    "widgets": {
      "application/vnd.jupyter.widget-state+json": {
        "de490277ca9b4462841157b06215c1a1": {
          "model_module": "@jupyter-widgets/controls",
          "model_name": "HBoxModel",
          "state": {
            "_view_name": "HBoxView",
            "_dom_classes": [],
            "_model_name": "HBoxModel",
            "_view_module": "@jupyter-widgets/controls",
            "_model_module_version": "1.5.0",
            "_view_count": null,
            "_view_module_version": "1.5.0",
            "box_style": "",
            "layout": "IPY_MODEL_e1acbfea40a84a0bbc2c4858727af799",
            "_model_module": "@jupyter-widgets/controls",
            "children": [
              "IPY_MODEL_dc1e9347c9e0436fb0cef8c3eca5e55d",
              "IPY_MODEL_f6c997650d60416f94605e0b29e8d78f"
            ]
          }
        },
        "e1acbfea40a84a0bbc2c4858727af799": {
          "model_module": "@jupyter-widgets/base",
          "model_name": "LayoutModel",
          "state": {
            "_view_name": "LayoutView",
            "grid_template_rows": null,
            "right": null,
            "justify_content": null,
            "_view_module": "@jupyter-widgets/base",
            "overflow": null,
            "_model_module_version": "1.2.0",
            "_view_count": null,
            "flex_flow": null,
            "width": null,
            "min_width": null,
            "border": null,
            "align_items": null,
            "bottom": null,
            "_model_module": "@jupyter-widgets/base",
            "top": null,
            "grid_column": null,
            "overflow_y": null,
            "overflow_x": null,
            "grid_auto_flow": null,
            "grid_area": null,
            "grid_template_columns": null,
            "flex": null,
            "_model_name": "LayoutModel",
            "justify_items": null,
            "grid_row": null,
            "max_height": null,
            "align_content": null,
            "visibility": null,
            "align_self": null,
            "height": null,
            "min_height": null,
            "padding": null,
            "grid_auto_rows": null,
            "grid_gap": null,
            "max_width": null,
            "order": null,
            "_view_module_version": "1.2.0",
            "grid_template_areas": null,
            "object_position": null,
            "object_fit": null,
            "grid_auto_columns": null,
            "margin": null,
            "display": null,
            "left": null
          }
        },
        "dc1e9347c9e0436fb0cef8c3eca5e55d": {
          "model_module": "@jupyter-widgets/controls",
          "model_name": "FloatProgressModel",
          "state": {
            "_view_name": "ProgressView",
            "style": "IPY_MODEL_02ee26fc429240ac9cdb694d3cde5fa0",
            "_dom_classes": [],
            "description": "100%",
            "_model_name": "FloatProgressModel",
            "bar_style": "success",
            "max": 2,
            "_view_module": "@jupyter-widgets/controls",
            "_model_module_version": "1.5.0",
            "value": 2,
            "_view_count": null,
            "_view_module_version": "1.5.0",
            "orientation": "horizontal",
            "min": 0,
            "description_tooltip": null,
            "_model_module": "@jupyter-widgets/controls",
            "layout": "IPY_MODEL_29a4237772374e76b14ad730ed598141"
          }
        },
        "f6c997650d60416f94605e0b29e8d78f": {
          "model_module": "@jupyter-widgets/controls",
          "model_name": "HTMLModel",
          "state": {
            "_view_name": "HTMLView",
            "style": "IPY_MODEL_92b713b08d6c4673bc1acf0e41f01e5f",
            "_dom_classes": [],
            "description": "",
            "_model_name": "HTMLModel",
            "placeholder": "​",
            "_view_module": "@jupyter-widgets/controls",
            "_model_module_version": "1.5.0",
            "value": " 2/2 [00:25&lt;00:00, 12.84s/it]",
            "_view_count": null,
            "_view_module_version": "1.5.0",
            "description_tooltip": null,
            "_model_module": "@jupyter-widgets/controls",
            "layout": "IPY_MODEL_447d9a95a5934a8f8c5aff3db3c258cb"
          }
        },
        "02ee26fc429240ac9cdb694d3cde5fa0": {
          "model_module": "@jupyter-widgets/controls",
          "model_name": "ProgressStyleModel",
          "state": {
            "_view_name": "StyleView",
            "_model_name": "ProgressStyleModel",
            "description_width": "initial",
            "_view_module": "@jupyter-widgets/base",
            "_model_module_version": "1.5.0",
            "_view_count": null,
            "_view_module_version": "1.2.0",
            "bar_color": null,
            "_model_module": "@jupyter-widgets/controls"
          }
        },
        "29a4237772374e76b14ad730ed598141": {
          "model_module": "@jupyter-widgets/base",
          "model_name": "LayoutModel",
          "state": {
            "_view_name": "LayoutView",
            "grid_template_rows": null,
            "right": null,
            "justify_content": null,
            "_view_module": "@jupyter-widgets/base",
            "overflow": null,
            "_model_module_version": "1.2.0",
            "_view_count": null,
            "flex_flow": null,
            "width": null,
            "min_width": null,
            "border": null,
            "align_items": null,
            "bottom": null,
            "_model_module": "@jupyter-widgets/base",
            "top": null,
            "grid_column": null,
            "overflow_y": null,
            "overflow_x": null,
            "grid_auto_flow": null,
            "grid_area": null,
            "grid_template_columns": null,
            "flex": null,
            "_model_name": "LayoutModel",
            "justify_items": null,
            "grid_row": null,
            "max_height": null,
            "align_content": null,
            "visibility": null,
            "align_self": null,
            "height": null,
            "min_height": null,
            "padding": null,
            "grid_auto_rows": null,
            "grid_gap": null,
            "max_width": null,
            "order": null,
            "_view_module_version": "1.2.0",
            "grid_template_areas": null,
            "object_position": null,
            "object_fit": null,
            "grid_auto_columns": null,
            "margin": null,
            "display": null,
            "left": null
          }
        },
        "92b713b08d6c4673bc1acf0e41f01e5f": {
          "model_module": "@jupyter-widgets/controls",
          "model_name": "DescriptionStyleModel",
          "state": {
            "_view_name": "StyleView",
            "_model_name": "DescriptionStyleModel",
            "description_width": "",
            "_view_module": "@jupyter-widgets/base",
            "_model_module_version": "1.5.0",
            "_view_count": null,
            "_view_module_version": "1.2.0",
            "_model_module": "@jupyter-widgets/controls"
          }
        },
        "447d9a95a5934a8f8c5aff3db3c258cb": {
          "model_module": "@jupyter-widgets/base",
          "model_name": "LayoutModel",
          "state": {
            "_view_name": "LayoutView",
            "grid_template_rows": null,
            "right": null,
            "justify_content": null,
            "_view_module": "@jupyter-widgets/base",
            "overflow": null,
            "_model_module_version": "1.2.0",
            "_view_count": null,
            "flex_flow": null,
            "width": null,
            "min_width": null,
            "border": null,
            "align_items": null,
            "bottom": null,
            "_model_module": "@jupyter-widgets/base",
            "top": null,
            "grid_column": null,
            "overflow_y": null,
            "overflow_x": null,
            "grid_auto_flow": null,
            "grid_area": null,
            "grid_template_columns": null,
            "flex": null,
            "_model_name": "LayoutModel",
            "justify_items": null,
            "grid_row": null,
            "max_height": null,
            "align_content": null,
            "visibility": null,
            "align_self": null,
            "height": null,
            "min_height": null,
            "padding": null,
            "grid_auto_rows": null,
            "grid_gap": null,
            "max_width": null,
            "order": null,
            "_view_module_version": "1.2.0",
            "grid_template_areas": null,
            "object_position": null,
            "object_fit": null,
            "grid_auto_columns": null,
            "margin": null,
            "display": null,
            "left": null
          }
        },
        "ee27906a32874fc780a15974ad3b9434": {
          "model_module": "@jupyter-widgets/controls",
          "model_name": "HBoxModel",
          "state": {
            "_view_name": "HBoxView",
            "_dom_classes": [],
            "_model_name": "HBoxModel",
            "_view_module": "@jupyter-widgets/controls",
            "_model_module_version": "1.5.0",
            "_view_count": null,
            "_view_module_version": "1.5.0",
            "box_style": "",
            "layout": "IPY_MODEL_39641d9056c4487aa7bb0d04bd300102",
            "_model_module": "@jupyter-widgets/controls",
            "children": [
              "IPY_MODEL_c088f569d3604f0da467b69eeebc8a17",
              "IPY_MODEL_b3dbb64df86146c78c99f0bcbe75e93d"
            ]
          }
        },
        "39641d9056c4487aa7bb0d04bd300102": {
          "model_module": "@jupyter-widgets/base",
          "model_name": "LayoutModel",
          "state": {
            "_view_name": "LayoutView",
            "grid_template_rows": null,
            "right": null,
            "justify_content": null,
            "_view_module": "@jupyter-widgets/base",
            "overflow": null,
            "_model_module_version": "1.2.0",
            "_view_count": null,
            "flex_flow": null,
            "width": null,
            "min_width": null,
            "border": null,
            "align_items": null,
            "bottom": null,
            "_model_module": "@jupyter-widgets/base",
            "top": null,
            "grid_column": null,
            "overflow_y": null,
            "overflow_x": null,
            "grid_auto_flow": null,
            "grid_area": null,
            "grid_template_columns": null,
            "flex": null,
            "_model_name": "LayoutModel",
            "justify_items": null,
            "grid_row": null,
            "max_height": null,
            "align_content": null,
            "visibility": null,
            "align_self": null,
            "height": null,
            "min_height": null,
            "padding": null,
            "grid_auto_rows": null,
            "grid_gap": null,
            "max_width": null,
            "order": null,
            "_view_module_version": "1.2.0",
            "grid_template_areas": null,
            "object_position": null,
            "object_fit": null,
            "grid_auto_columns": null,
            "margin": null,
            "display": null,
            "left": null
          }
        },
        "c088f569d3604f0da467b69eeebc8a17": {
          "model_module": "@jupyter-widgets/controls",
          "model_name": "FloatProgressModel",
          "state": {
            "_view_name": "ProgressView",
            "style": "IPY_MODEL_af837eabe26844818b326e23788552ee",
            "_dom_classes": [],
            "description": " 65%",
            "_model_name": "FloatProgressModel",
            "bar_style": "",
            "max": 99,
            "_view_module": "@jupyter-widgets/controls",
            "_model_module_version": "1.5.0",
            "value": 64,
            "_view_count": null,
            "_view_module_version": "1.5.0",
            "orientation": "horizontal",
            "min": 0,
            "description_tooltip": null,
            "_model_module": "@jupyter-widgets/controls",
            "layout": "IPY_MODEL_d712d50832ef454e82c36780fa4b5224"
          }
        },
        "b3dbb64df86146c78c99f0bcbe75e93d": {
          "model_module": "@jupyter-widgets/controls",
          "model_name": "HTMLModel",
          "state": {
            "_view_name": "HTMLView",
            "style": "IPY_MODEL_827e9649f57d4f31b79abef787a8a833",
            "_dom_classes": [],
            "description": "",
            "_model_name": "HTMLModel",
            "placeholder": "​",
            "_view_module": "@jupyter-widgets/controls",
            "_model_module_version": "1.5.0",
            "value": " 64/99 [04:22&lt;02:20,  4.03s/it]",
            "_view_count": null,
            "_view_module_version": "1.5.0",
            "description_tooltip": null,
            "_model_module": "@jupyter-widgets/controls",
            "layout": "IPY_MODEL_60e3f7a5f129415db1fc51a0c247309e"
          }
        },
        "af837eabe26844818b326e23788552ee": {
          "model_module": "@jupyter-widgets/controls",
          "model_name": "ProgressStyleModel",
          "state": {
            "_view_name": "StyleView",
            "_model_name": "ProgressStyleModel",
            "description_width": "initial",
            "_view_module": "@jupyter-widgets/base",
            "_model_module_version": "1.5.0",
            "_view_count": null,
            "_view_module_version": "1.2.0",
            "bar_color": null,
            "_model_module": "@jupyter-widgets/controls"
          }
        },
        "d712d50832ef454e82c36780fa4b5224": {
          "model_module": "@jupyter-widgets/base",
          "model_name": "LayoutModel",
          "state": {
            "_view_name": "LayoutView",
            "grid_template_rows": null,
            "right": null,
            "justify_content": null,
            "_view_module": "@jupyter-widgets/base",
            "overflow": null,
            "_model_module_version": "1.2.0",
            "_view_count": null,
            "flex_flow": null,
            "width": null,
            "min_width": null,
            "border": null,
            "align_items": null,
            "bottom": null,
            "_model_module": "@jupyter-widgets/base",
            "top": null,
            "grid_column": null,
            "overflow_y": null,
            "overflow_x": null,
            "grid_auto_flow": null,
            "grid_area": null,
            "grid_template_columns": null,
            "flex": null,
            "_model_name": "LayoutModel",
            "justify_items": null,
            "grid_row": null,
            "max_height": null,
            "align_content": null,
            "visibility": null,
            "align_self": null,
            "height": null,
            "min_height": null,
            "padding": null,
            "grid_auto_rows": null,
            "grid_gap": null,
            "max_width": null,
            "order": null,
            "_view_module_version": "1.2.0",
            "grid_template_areas": null,
            "object_position": null,
            "object_fit": null,
            "grid_auto_columns": null,
            "margin": null,
            "display": null,
            "left": null
          }
        },
        "827e9649f57d4f31b79abef787a8a833": {
          "model_module": "@jupyter-widgets/controls",
          "model_name": "DescriptionStyleModel",
          "state": {
            "_view_name": "StyleView",
            "_model_name": "DescriptionStyleModel",
            "description_width": "",
            "_view_module": "@jupyter-widgets/base",
            "_model_module_version": "1.5.0",
            "_view_count": null,
            "_view_module_version": "1.2.0",
            "_model_module": "@jupyter-widgets/controls"
          }
        },
        "60e3f7a5f129415db1fc51a0c247309e": {
          "model_module": "@jupyter-widgets/base",
          "model_name": "LayoutModel",
          "state": {
            "_view_name": "LayoutView",
            "grid_template_rows": null,
            "right": null,
            "justify_content": null,
            "_view_module": "@jupyter-widgets/base",
            "overflow": null,
            "_model_module_version": "1.2.0",
            "_view_count": null,
            "flex_flow": null,
            "width": null,
            "min_width": null,
            "border": null,
            "align_items": null,
            "bottom": null,
            "_model_module": "@jupyter-widgets/base",
            "top": null,
            "grid_column": null,
            "overflow_y": null,
            "overflow_x": null,
            "grid_auto_flow": null,
            "grid_area": null,
            "grid_template_columns": null,
            "flex": null,
            "_model_name": "LayoutModel",
            "justify_items": null,
            "grid_row": null,
            "max_height": null,
            "align_content": null,
            "visibility": null,
            "align_self": null,
            "height": null,
            "min_height": null,
            "padding": null,
            "grid_auto_rows": null,
            "grid_gap": null,
            "max_width": null,
            "order": null,
            "_view_module_version": "1.2.0",
            "grid_template_areas": null,
            "object_position": null,
            "object_fit": null,
            "grid_auto_columns": null,
            "margin": null,
            "display": null,
            "left": null
          }
        }
      }
    }
  },
  "nbformat": 4,
  "nbformat_minor": 0
}