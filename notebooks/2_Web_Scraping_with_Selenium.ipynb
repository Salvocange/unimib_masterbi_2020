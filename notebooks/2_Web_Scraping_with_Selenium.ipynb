{
  "cells": [
    {
      "cell_type": "markdown",
      "metadata": {
        "id": "VYfg3I_fSt6e",
        "colab_type": "text"
      },
      "source": [
        "# WebScraping with Selenium\n",
        "\n",
        "This notebook shows how use selenium to scrape data from Kickstarter.com\n",
        "The scope is only to understand the capabilities of web scraping and prepare a dataset for academic purporse.\n",
        "\n",
        "Let’s begin writing our scraper!\n",
        "\n",
        "We will first install important modules and packages for our Notebook\n",
        "\n",
        "\n",
        "*   Selenium\n",
        "*   Chromium-chromedriver\n",
        "\n",
        "<a href=\"https://colab.research.google.com/drive/1_WyM24eXWf-pdcqJKCcsb1pWwnbEWRi8?authuser=2#scrollTo=VYfg3I_fSt6e\"><img align=\"left\" src=\"https://colab.research.google.com/assets/colab-badge.svg\" alt=\"Open in Colab\" title=\"Open and Execute in Google Colaboratory\"></a>\n"
      ]
    },
    {
      "cell_type": "code",
      "metadata": {
        "id": "6E11q1711nmO",
        "colab_type": "code",
        "colab": {
          "base_uri": "https://localhost:8080/",
          "height": 34
        },
        "outputId": "14f9115e-1e68-4133-db14-ca8b8741fb3a"
      },
      "source": [
        "!pip install selenium\n",
        "!apt-get update\n",
        "!apt install chromium-chromedriver\n",
        "!cp /usr/lib/chromium-browser/chromedriver /usr/bin"
      ],
      "execution_count": 38,
      "outputs": [
        {
          "output_type": "stream",
          "text": [
            "cp: '/usr/lib/chromium-browser/chromedriver' and '/usr/bin/chromedriver' are the same file\n"
          ],
          "name": "stdout"
        }
      ]
    },
    {
      "cell_type": "markdown",
      "metadata": {
        "id": "kuhZcDh4UHYp",
        "colab_type": "text"
      },
      "source": [
        "And now we will import some modules on our Notebook\n",
        "\n",
        "\n",
        "1.   sys: to setup the path of chrome driver\n",
        "2.   selenium: to emulate the user behaviour\n",
        "3.   pandas: to work with data\n",
        "4.   tqdm: to show a progress bar in our notebook\n",
        "5.   json: to work with json format\n",
        "\n",
        "\n",
        "\n"
      ]
    },
    {
      "cell_type": "code",
      "metadata": {
        "id": "YRt5yEXxA-jW",
        "colab_type": "code",
        "colab": {}
      },
      "source": [
        "import sys\n",
        "sys.path.insert(0,'/usr/lib/chromium-browser/chromedriver')\n",
        "from selenium import webdriver\n",
        "from tqdm import tqdm_notebook as tqdm\n",
        "import pandas\n",
        "import json\n",
        "import pprint"
      ],
      "execution_count": 0,
      "outputs": []
    },
    {
      "cell_type": "markdown",
      "metadata": {
        "id": "ksyefP35VQc2",
        "colab_type": "text"
      },
      "source": [
        "First we need to set the options for the ghost browser.\n",
        "The most important is `--headless` because we are in a \"cloud\" ntotebook. In our local notebook we can remove the `--headless` option.  \n"
      ]
    },
    {
      "cell_type": "code",
      "metadata": {
        "id": "DTfvdy_gBCBU",
        "colab_type": "code",
        "colab": {}
      },
      "source": [
        "chrome_options = webdriver.ChromeOptions()\n",
        "chrome_options.add_argument('--headless')\n",
        "chrome_options.add_argument('--no-sandbox')\n",
        "chrome_options.add_argument('--disable-dev-shm-usage')"
      ],
      "execution_count": 0,
      "outputs": []
    },
    {
      "cell_type": "markdown",
      "metadata": {
        "id": "0DpumOn7VoFw",
        "colab_type": "text"
      },
      "source": [
        "`webdriver` is the most importa object in Selenium.\n",
        "With `webdriver` we can start the phantom browser, emulate the user navigation and scrape our data. \n",
        "\n",
        "Let’s now create a new instance of google chrome.\n",
        "\n",
        "\n",
        "We will navitage to page by a `get` request. With http we can do a get or a post (or others but they are not important for us): https://www.w3schools.com/tags/ref_httpmethods.asp \n",
        "\n",
        "\n",
        "\n",
        "```\n",
        "wd.get(\"https://www.kickstarter.com/discover/advanced?sort=magic&ref=nav_search&page=1\")\n",
        "```\n",
        "\n"
      ]
    },
    {
      "cell_type": "code",
      "metadata": {
        "id": "D6MLvqs9BIzI",
        "colab_type": "code",
        "outputId": "87171b48-9b7d-423c-c1d3-8d086a6f19f9",
        "colab": {
          "base_uri": "https://localhost:8080/",
          "height": 51
        }
      },
      "source": [
        "wd = webdriver.Chrome('chromedriver',chrome_options=chrome_options)\n",
        "wd.get(\"https://www.kickstarter.com/discover/advanced?sort=magic&ref=nav_search&page=1\")"
      ],
      "execution_count": 56,
      "outputs": [
        {
          "output_type": "stream",
          "text": [
            "/usr/local/lib/python3.6/dist-packages/ipykernel_launcher.py:1: DeprecationWarning: use options instead of chrome_options\n",
            "  \"\"\"Entry point for launching an IPython kernel.\n"
          ],
          "name": "stderr"
        }
      ]
    },
    {
      "cell_type": "markdown",
      "metadata": {
        "id": "p3Sbfud-WbV-",
        "colab_type": "text"
      },
      "source": [
        "Take a look to the screenshot from our phantom browser.\n",
        "\n",
        "Note:\n",
        "- la language and the locale: It is en_US!\n",
        "- the screen ration: is it the same of our notebook?"
      ]
    },
    {
      "cell_type": "code",
      "metadata": {
        "id": "iBCZSC4dWfKW",
        "colab_type": "code",
        "outputId": "d8136cea-825a-4bfb-fe53-5523550ef04f",
        "colab": {
          "base_uri": "https://localhost:8080/",
          "height": 286
        }
      },
      "source": [
        "wd.save_screenshot('screenshot.png')\n",
        "\n",
        "%pylab inline\n",
        "import matplotlib.pyplot as plt\n",
        "import matplotlib.image as mpimg\n",
        "img=mpimg.imread('/content/screenshot.png')\n",
        "imgplot = plt.imshow(img)\n",
        "plt.show()"
      ],
      "execution_count": 5,
      "outputs": [
        {
          "output_type": "stream",
          "text": [
            "Populating the interactive namespace from numpy and matplotlib\n"
          ],
          "name": "stdout"
        },
        {
          "output_type": "display_data",
          "data": {
            "image/png": "[encoded data removed]",
            "text/plain": [
              "<Figure size 432x288 with 1 Axes>"
            ]
          },
          "metadata": {
            "tags": [],
            "needs_background": "light"
          }
        }
      ]
    },
    {
      "cell_type": "markdown",
      "metadata": {
        "id": "kRr2IAQsa1s_",
        "colab_type": "text"
      },
      "source": [
        "Let's try to extract some information from the page\n",
        "\n",
        "\n",
        "\n",
        "`title` contains the title of our page.\n",
        "\n",
        "\n"
      ]
    },
    {
      "cell_type": "code",
      "metadata": {
        "id": "X033nUzra6uq",
        "colab_type": "code",
        "outputId": "2a586a9e-03f1-4588-eb75-923e43d087a0",
        "colab": {
          "base_uri": "https://localhost:8080/",
          "height": 34
        }
      },
      "source": [
        "print(wd.title)"
      ],
      "execution_count": 6,
      "outputs": [
        {
          "output_type": "stream",
          "text": [
            "Discover Projects — Kickstarter\n"
          ],
          "name": "stdout"
        }
      ]
    },
    {
      "cell_type": "markdown",
      "metadata": {
        "id": "C2FL7PA0jXdP",
        "colab_type": "text"
      },
      "source": [
        "### First exercise with *Selenium*\n",
        "\n",
        "Try it yourself... Print the contents of the page on the screen!\n",
        "\n",
        "Complete the code and annotate the different behaviour. Try to use the attributes/methods applied to `wd`\n",
        "\n",
        "- `page_source`\n",
        "- `find_element_by_tag_name(\"body\")`\n",
        "- `find_element_by_tag_name(\"body\").text`\n",
        "\n",
        "\n"
      ]
    },
    {
      "cell_type": "code",
      "metadata": {
        "id": "wkPbJsAPj19o",
        "colab_type": "code",
        "colab": {}
      },
      "source": [
        "print(....)"
      ],
      "execution_count": 0,
      "outputs": []
    },
    {
      "cell_type": "markdown",
      "metadata": {
        "id": "zK7Cf_mradiL",
        "colab_type": "text"
      },
      "source": [
        "### How do we extract the values inside a page with CSS Selector?\n",
        "\n",
        "Selenium has a method called `find_elements_by_css_selector`.\n",
        "\n",
        "We will pass our CSS Selector into this method and get a list of selenium elements. Once we have the element, we can extract the text inside it using the `text` function."
      ]
    },
    {
      "cell_type": "code",
      "metadata": {
        "id": "WFuRVKIdbWN3",
        "colab_type": "code",
        "outputId": "d01f2d67-802f-4ee9-c521-8947ad808e55",
        "colab": {
          "base_uri": "https://localhost:8080/",
          "height": 34
        }
      },
      "source": [
        "list_h3 = wd.find_elements_by_css_selector(\"h3\")\n",
        "print(len(list_h3))"
      ],
      "execution_count": 7,
      "outputs": [
        {
          "output_type": "stream",
          "text": [
            "17\n"
          ],
          "name": "stdout"
        }
      ]
    },
    {
      "cell_type": "code",
      "metadata": {
        "id": "cRPP5xUrbwcE",
        "colab_type": "code",
        "outputId": "819082ba-518c-464e-8f8f-9300d78b2020",
        "colab": {
          "base_uri": "https://localhost:8080/",
          "height": 34
        }
      },
      "source": [
        "print(list_h3[0].text)"
      ],
      "execution_count": 0,
      "outputs": [
        {
          "output_type": "stream",
          "text": [
            "Explore 480,677 projects\n"
          ],
          "name": "stdout"
        }
      ]
    },
    {
      "cell_type": "markdown",
      "metadata": {
        "id": "bAtLMeKVb8Wp",
        "colab_type": "text"
      },
      "source": [
        "### Exercise on *find_elements_by_css_selector*\n",
        "\n",
        "Try to export the list of `p` elements and show the content of the first element.\n",
        "\n",
        "\n"
      ]
    },
    {
      "cell_type": "code",
      "metadata": {
        "id": "6_4-y31fcEYq",
        "colab_type": "code",
        "colab": {}
      },
      "source": [
        "list_p = wd......(\"...\")\n",
        "print(len(list_p))"
      ],
      "execution_count": 0,
      "outputs": []
    },
    {
      "cell_type": "markdown",
      "metadata": {
        "id": "A1ETBqlPcQhl",
        "colab_type": "text"
      },
      "source": [
        "# Project List from Kickstarter\n",
        "\n",
        "Let's begin to download the list of projects.\n",
        "\n",
        "The list of projects is defined by the css selection rule\n",
        "`#projects_list > div > div.js-react-proj-card`\n",
        "\n"
      ]
    },
    {
      "cell_type": "code",
      "metadata": {
        "id": "_V1hNO9ZcJy6",
        "colab_type": "code",
        "outputId": "dab57107-aa32-43bd-9b6c-f2827bfa3382",
        "colab": {
          "base_uri": "https://localhost:8080/",
          "height": 34
        }
      },
      "source": [
        "list_projects = wd.find_elements_by_css_selector(\"#projects_list > div > div.js-react-proj-card\")\n",
        "print(len(list_projects))"
      ],
      "execution_count": 8,
      "outputs": [
        {
          "output_type": "stream",
          "text": [
            "12\n"
          ],
          "name": "stdout"
        }
      ]
    },
    {
      "cell_type": "markdown",
      "metadata": {
        "id": "k_fSFWX0cktI",
        "colab_type": "text"
      },
      "source": [
        "Gread! We find 12 project!\n",
        "\n",
        "Now, we will extract the attribute from each single element.\n",
        "The scope is to create one dict for each project in the list with the attribute:\n",
        "\n",
        "\n",
        "1.   url\n",
        "2.   title\n",
        "3.   description\n",
        "4.   category\n",
        "5.   location\n",
        "\n"
      ]
    },
    {
      "cell_type": "code",
      "metadata": {
        "id": "1J2xAL6qcj9-",
        "colab_type": "code",
        "colab": {}
      },
      "source": [
        "import pprint\n",
        "detail_projects = []\n",
        "for project in list_projects:\n",
        "    title = project.find_elements_by_css_selector(\"h3\")[0].text\n",
        "    url = project.find_elements_by_css_selector(\"a\")[0].get_attribute(\"href\")\n",
        "    description = project.find_elements_by_css_selector(\".mb3 p\")[0].text\n",
        "    category = project.find_elements_by_css_selector(\".pb3 a\")[4].text\n",
        "    location = project.find_elements_by_css_selector(\".pb3 a\")[5].text\n",
        "    project_id = project.get_attribute(\"data-pid\")\n",
        "\n",
        "    detail_projects.append({'url': url,\n",
        "                            'title': title,\n",
        "                            'description': description,\n",
        "                            'category': category,\n",
        "                            'location': location,\n",
        "                            'project_id': project_id})\n",
        "\n",
        "len(detail_projects)\n",
        "pprint.pprint(detail_projects)"
      ],
      "execution_count": 0,
      "outputs": []
    },
    {
      "cell_type": "markdown",
      "metadata": {
        "id": "9Sn0txryfR4c",
        "colab_type": "text"
      },
      "source": [
        "Now let's try downloading all the ads on the front page...\n",
        "and then move on to the second.\n",
        "\n",
        "First we define a `parse_project` function to make the code cleaner and to reuse the function."
      ]
    },
    {
      "cell_type": "code",
      "metadata": {
        "id": "tD3KLUrIfTJd",
        "colab_type": "code",
        "colab": {}
      },
      "source": [
        "def parse_project(project):\n",
        "  project_id = project.get_attribute(\"data-pid\")\n",
        "  title = \"\"\n",
        "  description = \"\"\n",
        "  category = \"\"\n",
        "  location = \"\"\n",
        "  try:\n",
        "    title = project.find_elements_by_css_selector(\"h3\")[0].text\n",
        "    url = project.find_elements_by_css_selector(\"a\")[0].get_attribute(\"href\")\n",
        "    description = project.find_elements_by_css_selector(\".mb3 p\")[0].text\n",
        "    category = project.find_elements_by_css_selector(\".pb3 a\")[4].text\n",
        "    location = project.find_elements_by_css_selector(\".pb3 a\")[5].text\n",
        "  except:\n",
        "    pass\n",
        "  return {'url': url,\n",
        "          'title': title,\n",
        "          'description': description,\n",
        "          'category': category,\n",
        "          'location': location,\n",
        "          'project_id': project_id}\n"
      ],
      "execution_count": 0,
      "outputs": []
    },
    {
      "cell_type": "markdown",
      "metadata": {
        "id": "SR-xG0FIgf7u",
        "colab_type": "text"
      },
      "source": [
        "Here's how to download the first two pages of projects..."
      ]
    },
    {
      "cell_type": "code",
      "metadata": {
        "id": "TfWSS_33fbZg",
        "colab_type": "code",
        "outputId": "b251be0f-d0f8-4663-d89f-255bb351f249",
        "colab": {
          "base_uri": "https://localhost:8080/",
          "height": 134,
          "referenced_widgets": [
            "de490277ca9b4462841157b06215c1a1",
            "e1acbfea40a84a0bbc2c4858727af799",
            "dc1e9347c9e0436fb0cef8c3eca5e55d",
            "f6c997650d60416f94605e0b29e8d78f",
            "02ee26fc429240ac9cdb694d3cde5fa0",
            "29a4237772374e76b14ad730ed598141",
            "92b713b08d6c4673bc1acf0e41f01e5f",
            "447d9a95a5934a8f8c5aff3db3c258cb"
          ]
        }
      },
      "source": [
        "detail_projects = []\n",
        "for num in tqdm(range(1,3)):\n",
        "  wd.get(f\"https://www.kickstarter.com/discover/advanced?sort=magic&ref=nav_search&page={num}\")\n",
        "  wd.save_screenshot(f'screenshot_{num}.png')\n",
        "  list_projects = wd.find_elements_by_css_selector(\"#projects_list > div > div.js-react-proj-card\")\n",
        "  for project in list_projects:\n",
        "    detail_projects.append(parse_project(project))\n",
        "\n",
        "print(len(detail_projects))"
      ],
      "execution_count": 14,
      "outputs": [
        {
          "output_type": "stream",
          "text": [
            "/usr/local/lib/python3.6/dist-packages/ipykernel_launcher.py:2: TqdmDeprecationWarning: This function will be removed in tqdm==5.0.0\n",
            "Please use `tqdm.notebook.tqdm` instead of `tqdm.tqdm_notebook`\n",
            "  \n"
          ],
          "name": "stderr"
        },
        {
          "output_type": "display_data",
          "data": {
            "application/vnd.jupyter.widget-view+json": {
              "model_id": "de490277ca9b4462841157b06215c1a1",
              "version_minor": 0,
              "version_major": 2
            },
            "text/plain": [
              "HBox(children=(FloatProgress(value=0.0, max=2.0), HTML(value='')))"
            ]
          },
          "metadata": {
            "tags": []
          }
        },
        {
          "output_type": "stream",
          "text": [
            "\n",
            "24\n"
          ],
          "name": "stdout"
        }
      ]
    },
    {
      "cell_type": "markdown",
      "metadata": {
        "id": "HbjVFLOOgnNx",
        "colab_type": "text"
      },
      "source": [
        "Have you seen the bookstore **tqdm**!\n",
        "Find at this link all the documentation **https://github.com/tqdm/tqdm**:\n",
        "is very useful to make our notebook more nice..."
      ]
    },
    {
      "cell_type": "markdown",
      "metadata": {
        "id": "S9MsWLutg4Oi",
        "colab_type": "text"
      },
      "source": [
        "### How to end scraping?\n",
        "Problem: When do we stop?\n",
        "\n",
        "There are several ways. Some simpler and some more advanced:\n",
        "- We can search inside the page for the ad number and divide it by 12\n",
        "- We can check the status of the request (if (status_code == 200):... for a list of possible http status codes please check https://en.wikipedia.org/wiki/List_of_HTTP_status_codes)\n",
        "- We can check the number of ads found (if > 0...)\n",
        "- Other more advanced techniques...\n",
        "\n",
        "For example, in our case, let's go to verify the presence, or not, of the *Load more* button inside the page. If present, we continue scraping, otherwise we stop.\n",
        "\n",
        "Actually, we can also combine more than one of these techniques.\n",
        "\n",
        "For this exercise we will just download the first 10 pages."
      ]
    },
    {
      "cell_type": "code",
      "metadata": {
        "id": "nkofmsCGgwQA",
        "colab_type": "code",
        "outputId": "a925dbec-e13d-458b-cceb-0d7cc0bfe4c3",
        "colab": {
          "base_uri": "https://localhost:8080/",
          "height": 134,
          "referenced_widgets": [
            "ee27906a32874fc780a15974ad3b9434",
            "39641d9056c4487aa7bb0d04bd300102",
            "c088f569d3604f0da467b69eeebc8a17",
            "b3dbb64df86146c78c99f0bcbe75e93d",
            "af837eabe26844818b326e23788552ee",
            "d712d50832ef454e82c36780fa4b5224",
            "827e9649f57d4f31b79abef787a8a833",
            "60e3f7a5f129415db1fc51a0c247309e"
          ]
        }
      },
      "source": [
        "import time\n",
        "detail_projects = []\n",
        "for num in tqdm(range(1,100)):\n",
        "  time.sleep(1)\n",
        "  wd.get(f\"https://www.kickstarter.com/discover/advanced?sort=magic&ref=nav_search&page={num}\")\n",
        "  wd.save_screenshot(f'screenshot_{num}.png')\n",
        "  list_projects = wd.find_elements_by_css_selector(\"#projects_list > div > div.js-react-proj-card\")\n",
        "  for project in list_projects:\n",
        "    detail_projects.append(parse_project(project))\n",
        "\n",
        "print(len(detail_projects))"
      ],
      "execution_count": 21,
      "outputs": [
        {
          "output_type": "stream",
          "text": [
            "/usr/local/lib/python3.6/dist-packages/ipykernel_launcher.py:3: TqdmDeprecationWarning: This function will be removed in tqdm==5.0.0\n",
            "Please use `tqdm.notebook.tqdm` instead of `tqdm.tqdm_notebook`\n",
            "  This is separate from the ipykernel package so we can avoid doing imports until\n"
          ],
          "name": "stderr"
        },
        {
          "output_type": "display_data",
          "data": {
            "application/vnd.jupyter.widget-view+json": {
              "model_id": "ee27906a32874fc780a15974ad3b9434",
              "version_minor": 0,
              "version_major": 2
            },
            "text/plain": [
              "HBox(children=(FloatProgress(value=0.0, max=99.0), HTML(value='')))"
            ]
          },
          "metadata": {
            "tags": []
          }
        },
        {
          "output_type": "stream",
          "text": [
            "\n",
            "1188\n"
          ],
          "name": "stdout"
        }
      ]
    },
    {
      "cell_type": "markdown",
      "metadata": {
        "id": "TqxsicNNovfy",
        "colab_type": "text"
      },
      "source": [
        "# Pandas and data processing\n",
        "\n",
        "**Well!**\n",
        "We're starting to see another amazing library for working with data!\n",
        "\n",
        "It's **pandas**: *Python library for data analysis*.\n",
        "\n",
        "Basically, with pandas we can manipulate a data set or a historical series in Python.\n",
        "\n",
        "For now, we start to give a couple of concepts.\n",
        "\n",
        "Pandas is based on two types of data: **Series** and **DataFrame**:\n",
        "- `Series` represents a list of data\n",
        "- `DataFrame` represent a data set in tabular format\n",
        "\n",
        "Each column of a `DataFrame` is a `Series`.\n",
        "\n",
        "We can create a `DataFrame` using the `pd.DataFrame` method by passing our dictionary as an input parameter.\n",
        "\n",
        "A `DataFrame` pandas can be easily exported in *CSV*, *Excel*, ...\n",
        "\n",
        "For more information about `Pandas` see\n",
        "\n",
        "https://pandas.pydata.org/getting_started.html\n"
      ]
    },
    {
      "cell_type": "code",
      "metadata": {
        "id": "MumFgyNypoBo",
        "colab_type": "code",
        "outputId": "95e723a1-e8a9-4d99-902d-6e763a5d910f",
        "colab": {
          "base_uri": "https://localhost:8080/",
          "height": 204
        }
      },
      "source": [
        "import pandas as pd\n",
        "ds_detail_projects = pd.DataFrame(detail_projects)\n",
        "ds_detail_projects.set_index(\"project_id\")\n",
        "ds_detail_projects.head()"
      ],
      "execution_count": 35,
      "outputs": [
        {
          "output_type": "execute_result",
          "data": {
            "text/html": [
              "<div>\n",
              "<style scoped>\n",
              "    .dataframe tbody tr th:only-of-type {\n",
              "        vertical-align: middle;\n",
              "    }\n",
              "\n",
              "    .dataframe tbody tr th {\n",
              "        vertical-align: top;\n",
              "    }\n",
              "\n",
              "    .dataframe thead th {\n",
              "        text-align: right;\n",
              "    }\n",
              "</style>\n",
              "<table border=\"1\" class=\"dataframe\">\n",
              "  <thead>\n",
              "    <tr style=\"text-align: right;\">\n",
              "      <th></th>\n",
              "      <th>url</th>\n",
              "      <th>title</th>\n",
              "      <th>description</th>\n",
              "      <th>category</th>\n",
              "      <th>location</th>\n",
              "      <th>project_id</th>\n",
              "    </tr>\n",
              "  </thead>\n",
              "  <tbody>\n",
              "    <tr>\n",
              "      <th>0</th>\n",
              "      <td>https://www.kickstarter.com/projects/ryze-ups/...</td>\n",
              "      <td>RYZE-UPS: The Modern Pull-Up Bar</td>\n",
              "      <td>Pull-up handles that fold to the size of a boo...</td>\n",
              "      <td>Product Design</td>\n",
              "      <td>Salt Lake City, UT</td>\n",
              "      <td>374785399</td>\n",
              "    </tr>\n",
              "    <tr>\n",
              "      <th>1</th>\n",
              "      <td>https://www.kickstarter.com/projects/francesca...</td>\n",
              "      <td>Doctor Li and the Crown-wearing Virus</td>\n",
              "      <td>A children's book about the global pandemic fr...</td>\n",
              "      <td>Children's Books</td>\n",
              "      <td>Los Angeles, CA</td>\n",
              "      <td>1949440126</td>\n",
              "    </tr>\n",
              "    <tr>\n",
              "      <th>2</th>\n",
              "      <td>https://www.kickstarter.com/projects/strangeho...</td>\n",
              "      <td>Strange Horizons 2021</td>\n",
              "      <td>A free weekly speculative fiction magazine wit...</td>\n",
              "      <td>Literary Journals</td>\n",
              "      <td>Baltimore, MD</td>\n",
              "      <td>1602201731</td>\n",
              "    </tr>\n",
              "    <tr>\n",
              "      <th>3</th>\n",
              "      <td>https://www.kickstarter.com/projects/travishan...</td>\n",
              "      <td>Bristol 1350: A Medieval Game of Racing, Plagu...</td>\n",
              "      <td>Be on the first cart out of town while avoidin...</td>\n",
              "      <td>Tabletop Games</td>\n",
              "      <td>Columbus, OH</td>\n",
              "      <td>125859400</td>\n",
              "    </tr>\n",
              "    <tr>\n",
              "      <th>4</th>\n",
              "      <td>https://www.kickstarter.com/projects/princesso...</td>\n",
              "      <td>Princess Or...</td>\n",
              "      <td>Need help printing and marketing a book for yo...</td>\n",
              "      <td>Children's Books</td>\n",
              "      <td>Dayton, OH</td>\n",
              "      <td>1376306706</td>\n",
              "    </tr>\n",
              "  </tbody>\n",
              "</table>\n",
              "</div>"
            ],
            "text/plain": [
              "                                                 url  ...  project_id\n",
              "0  https://www.kickstarter.com/projects/ryze-ups/...  ...   374785399\n",
              "1  https://www.kickstarter.com/projects/francesca...  ...  1949440126\n",
              "2  https://www.kickstarter.com/projects/strangeho...  ...  1602201731\n",
              "3  https://www.kickstarter.com/projects/travishan...  ...   125859400\n",
              "4  https://www.kickstarter.com/projects/princesso...  ...  1376306706\n",
              "\n",
              "[5 rows x 6 columns]"
            ]
          },
          "metadata": {
            "tags": []
          },
          "execution_count": 35
        }
      ]
    },
    {
      "cell_type": "markdown",
      "metadata": {
        "id": "GwW7Sj7irFDT",
        "colab_type": "text"
      },
      "source": [
        "The `.info()` method provides an indication of the structure and data of the `DataFrame`."
      ]
    },
    {
      "cell_type": "code",
      "metadata": {
        "id": "_tFbyPwcrNY4",
        "colab_type": "code",
        "outputId": "6db79954-8d62-42e9-98d0-c383f30dc5f2",
        "colab": {
          "base_uri": "https://localhost:8080/",
          "height": 238
        }
      },
      "source": [
        "ds_detail_projects.info()"
      ],
      "execution_count": 33,
      "outputs": [
        {
          "output_type": "stream",
          "text": [
            "<class 'pandas.core.frame.DataFrame'>\n",
            "Int64Index: 1188 entries, 374785399 to 1929062368\n",
            "Data columns (total 6 columns):\n",
            " #   Column       Non-Null Count  Dtype \n",
            "---  ------       --------------  ----- \n",
            " 0   Unnamed: 0   1188 non-null   int64 \n",
            " 1   url          1188 non-null   object\n",
            " 2   title        1188 non-null   object\n",
            " 3   description  1188 non-null   object\n",
            " 4   category     1188 non-null   object\n",
            " 5   location     231 non-null    object\n",
            "dtypes: int64(1), object(5)\n",
            "memory usage: 65.0+ KB\n"
          ],
          "name": "stdout"
        }
      ]
    },
    {
      "cell_type": "code",
      "metadata": {
        "id": "3lUw4-_BrQDh",
        "colab_type": "code",
        "colab": {}
      },
      "source": [
        "ds_detail_projects.to_csv('ds_projects.csv')"
      ],
      "execution_count": 0,
      "outputs": []
    },
    {
      "cell_type": "markdown",
      "metadata": {
        "id": "AXdgP8t3q_A-",
        "colab_type": "text"
      },
      "source": [
        "# Kickstarter Project pages ###\n",
        "\n",
        "Now, the goal is to navigate and download the details of each project and pictures of the houses.\n",
        "\n",
        "**Pandas** provides the *.read_csv* method that allows you to upload in CSV format files within a DataFrame."
      ]
    },
    {
      "cell_type": "code",
      "metadata": {
        "id": "yVnUyfGsvcac",
        "colab_type": "code",
        "outputId": "ac854791-6bfd-4439-e5c9-ed9d0b429078",
        "colab": {
          "base_uri": "https://localhost:8080/",
          "height": 235
        }
      },
      "source": [
        "# open csv file\n",
        "import pandas as pd\n",
        "ds_detail_projects = pd.read_csv(\"ds_projects.csv\", index_col=\"project_id\")\n",
        "ds_detail_projects.head()"
      ],
      "execution_count": 72,
      "outputs": [
        {
          "output_type": "execute_result",
          "data": {
            "text/html": [
              "<div>\n",
              "<style scoped>\n",
              "    .dataframe tbody tr th:only-of-type {\n",
              "        vertical-align: middle;\n",
              "    }\n",
              "\n",
              "    .dataframe tbody tr th {\n",
              "        vertical-align: top;\n",
              "    }\n",
              "\n",
              "    .dataframe thead th {\n",
              "        text-align: right;\n",
              "    }\n",
              "</style>\n",
              "<table border=\"1\" class=\"dataframe\">\n",
              "  <thead>\n",
              "    <tr style=\"text-align: right;\">\n",
              "      <th></th>\n",
              "      <th>Unnamed: 0</th>\n",
              "      <th>url</th>\n",
              "      <th>title</th>\n",
              "      <th>description</th>\n",
              "      <th>category</th>\n",
              "      <th>location</th>\n",
              "    </tr>\n",
              "    <tr>\n",
              "      <th>project_id</th>\n",
              "      <th></th>\n",
              "      <th></th>\n",
              "      <th></th>\n",
              "      <th></th>\n",
              "      <th></th>\n",
              "      <th></th>\n",
              "    </tr>\n",
              "  </thead>\n",
              "  <tbody>\n",
              "    <tr>\n",
              "      <th>374785399</th>\n",
              "      <td>0</td>\n",
              "      <td>https://www.kickstarter.com/projects/ryze-ups/...</td>\n",
              "      <td>RYZE-UPS: The Modern Pull-Up Bar</td>\n",
              "      <td>Pull-up handles that fold to the size of a boo...</td>\n",
              "      <td>Product Design</td>\n",
              "      <td>Salt Lake City, UT</td>\n",
              "    </tr>\n",
              "    <tr>\n",
              "      <th>1949440126</th>\n",
              "      <td>1</td>\n",
              "      <td>https://www.kickstarter.com/projects/francesca...</td>\n",
              "      <td>Doctor Li and the Crown-wearing Virus</td>\n",
              "      <td>A children's book about the global pandemic fr...</td>\n",
              "      <td>Children's Books</td>\n",
              "      <td>Los Angeles, CA</td>\n",
              "    </tr>\n",
              "    <tr>\n",
              "      <th>1602201731</th>\n",
              "      <td>2</td>\n",
              "      <td>https://www.kickstarter.com/projects/strangeho...</td>\n",
              "      <td>Strange Horizons 2021</td>\n",
              "      <td>A free weekly speculative fiction magazine wit...</td>\n",
              "      <td>Literary Journals</td>\n",
              "      <td>Baltimore, MD</td>\n",
              "    </tr>\n",
              "    <tr>\n",
              "      <th>125859400</th>\n",
              "      <td>3</td>\n",
              "      <td>https://www.kickstarter.com/projects/travishan...</td>\n",
              "      <td>Bristol 1350: A Medieval Game of Racing, Plagu...</td>\n",
              "      <td>Be on the first cart out of town while avoidin...</td>\n",
              "      <td>Tabletop Games</td>\n",
              "      <td>Columbus, OH</td>\n",
              "    </tr>\n",
              "    <tr>\n",
              "      <th>1376306706</th>\n",
              "      <td>4</td>\n",
              "      <td>https://www.kickstarter.com/projects/princesso...</td>\n",
              "      <td>Princess Or...</td>\n",
              "      <td>Need help printing and marketing a book for yo...</td>\n",
              "      <td>Children's Books</td>\n",
              "      <td>Dayton, OH</td>\n",
              "    </tr>\n",
              "  </tbody>\n",
              "</table>\n",
              "</div>"
            ],
            "text/plain": [
              "            Unnamed: 0  ...            location\n",
              "project_id              ...                    \n",
              "374785399            0  ...  Salt Lake City, UT\n",
              "1949440126           1  ...     Los Angeles, CA\n",
              "1602201731           2  ...       Baltimore, MD\n",
              "125859400            3  ...        Columbus, OH\n",
              "1376306706           4  ...          Dayton, OH\n",
              "\n",
              "[5 rows x 6 columns]"
            ]
          },
          "metadata": {
            "tags": []
          },
          "execution_count": 72
        }
      ]
    },
    {
      "cell_type": "markdown",
      "metadata": {
        "id": "8VaXQ52Kv2am",
        "colab_type": "text"
      },
      "source": [
        "***For each project we go to the link... how do you think we do it?***\n",
        "\n",
        "Let's try the first 5 projects.\n",
        "\n",
        "\n",
        "\n",
        "These days most of the web apps are using AJAX techniques. When a page is loaded by the browser, the elements within that page may load at different time intervals. Using waits, we can stop our scraping and wait the loading of a element.\n",
        "\n",
        "Selenium Webdriver provides two types of waits - implicit & explicit. An explicit wait makes WebDriver wait for a certain condition to occur before proceeding further with execution. An implicit wait makes WebDriver poll the DOM for a certain amount of time when trying to locate an element.\n"
      ]
    },
    {
      "cell_type": "code",
      "metadata": {
        "id": "7RJTIyFfv-Ig",
        "colab_type": "code",
        "outputId": "9a5a3901-76f6-407b-a8f0-6ff877a24159",
        "colab": {
          "base_uri": "https://localhost:8080/",
          "height": 187
        }
      },
      "source": [
        "from selenium.webdriver.common.by import By\n",
        "from selenium.webdriver.support.ui import WebDriverWait\n",
        "from selenium.webdriver.support import expected_conditions as EC\n",
        "import time\n",
        "details = []\n",
        "for project_id, project in ds_detail_projects.head().iterrows():\n",
        "    time.sleep(10)\n",
        "    link = project[\"url\"]\n",
        "    print(link)\n",
        "    wd.set_window_size(1920, 1080)\n",
        "    wd.get(link)\n",
        "    try:\n",
        "      WebDriverWait(wd, 10).until(\n",
        "          EC.element_to_be_clickable((By.ID, \"back-project-button\"))\n",
        "      )\n",
        "    except:\n",
        "      continue\n",
        "\n",
        "    wd.save_screenshot(f'screenshot_{project_id}.png')\n",
        "    backers = wd.find_elements_by_css_selector(\".type-16.dark-grey-500\")[0].text\n",
        "    goal = wd.find_elements_by_css_selector(\".ksr-green-500\")[0].text\n",
        "    pledged = wd.find_elements_by_css_selector(\"span.money\")[1].text\n",
        "    details.append({'project_id': project_id,\n",
        "                    'backers': backers,\n",
        "                    'goal': goal,\n",
        "                    'pledged': pledged})\n",
        "  \n",
        "len(details)\n",
        "pprint.pprint(details)\n"
      ],
      "execution_count": 0,
      "outputs": [
        {
          "output_type": "stream",
          "text": [
            "https://www.kickstarter.com/projects/lawriebrewster/the-book-of-beastly-creatures-stories-rpg-rules-and-artwork?ref=discovery\n",
            "https://www.kickstarter.com/projects/159974695/skedaddleosaurus-bags?ref=discovery\n",
            "https://www.kickstarter.com/projects/brentdickman/merchants-of-the-dark-road?ref=discovery\n",
            "https://www.kickstarter.com/projects/instafloss/instafloss-say-bye-to-painful-time-consuming-flossing?ref=discovery\n",
            "https://www.kickstarter.com/projects/575448464/fire-tower-rising-flames-expansion-reprint?ref=discovery\n",
            "[{'backers': '', 'goal': '', 'pledged': '£6,000', 'project_id': 811926054},\n",
            " {'backers': '', 'goal': '', 'pledged': '$5,000', 'project_id': 632552919},\n",
            " {'backers': '', 'goal': '', 'pledged': '$35,000', 'project_id': 1446671987},\n",
            " {'backers': '', 'goal': '', 'pledged': '$20,000', 'project_id': 748081064},\n",
            " {'backers': '', 'goal': '', 'pledged': '$8,000', 'project_id': 1944804664}]\n"
          ],
          "name": "stdout"
        }
      ]
    },
    {
      "cell_type": "code",
      "metadata": {
        "id": "xf7bDTWTxLlf",
        "colab_type": "code",
        "colab": {}
      },
      "source": [
        "from selenium.webdriver.common.by import By\n",
        "from selenium.webdriver.support.ui import WebDriverWait\n",
        "from selenium.webdriver.support import expected_conditions as EC\n",
        "import time\n",
        "details = []\n",
        "for project_id, project in ds_detail_projects.iterrows():\n",
        "    time.sleep(2)\n",
        "    link = project[\"url\"]\n",
        "    backers = 0\n",
        "    goal = 0\n",
        "    pledged = 0\n",
        "    #print(link)\n",
        "    try:\n",
        "      wd.set_window_size(1920, 1080)\n",
        "      wd.get(link)\n",
        "      try:\n",
        "        WebDriverWait(wd, 10).until(\n",
        "            EC.element_to_be_clickable((By.ID, \"back-project-button\"))\n",
        "        )\n",
        "      except:\n",
        "        continue\n",
        "\n",
        "      wd.save_screenshot(f'screenshot_{project_id}.png')\n",
        "      backers_list = wd.find_elements_by_css_selector(\".type-16.dark-grey-500\")\n",
        "      goal_list = wd.find_elements_by_css_selector(\".ksr-green-500\")\n",
        "      pledged_list = wd.find_elements_by_css_selector(\"span.money\")\n",
        "      if(len(backers_list) > 0):\n",
        "        backers = int(backers_list[0].text.replace(\",\", \"\"))\n",
        "      if(len(goal_list) > 0):\n",
        "        goal = int(goal_list[0].text.replace(\",\", \"\").replace(\"$\", \"\").replace(\"US\", \"\"))\n",
        "      if(len(pledged_list) > 1):\n",
        "        pledged = int(pledged_list[1].text.replace(\",\", \"\").replace(\"$\", \"\").replace(\"US\", \"\"))\n",
        "    except Exception as e:\n",
        "      print(e)\n",
        "    details.append({'project_id': project_id,\n",
        "                    'backers': backers,\n",
        "                    'goal': goal,\n",
        "                    'pledged': pledged})\n",
        "  \n",
        "print(len(details))\n",
        "#pprint.pprint(details)\n"
      ],
      "execution_count": 0,
      "outputs": []
    },
    {
      "cell_type": "code",
      "metadata": {
        "id": "nmOdNznWXKtj",
        "colab_type": "code",
        "colab": {}
      },
      "source": [
        "len(details)"
      ],
      "execution_count": 0,
      "outputs": []
    },
    {
      "cell_type": "markdown",
      "metadata": {
        "id": "fcfGcK4O4R2-",
        "colab_type": "text"
      },
      "source": [
        "Store the data with *pandas*"
      ]
    },
    {
      "cell_type": "code",
      "metadata": {
        "id": "4xik7JIr4J-n",
        "colab_type": "code",
        "colab": {}
      },
      "source": [
        "import pandas as pd\n",
        "ds_details = pd.DataFrame(details)\n",
        "ds_details.set_index(\"project_id\")\n",
        "ds_details.head()"
      ],
      "execution_count": 0,
      "outputs": []
    },
    {
      "cell_type": "code",
      "metadata": {
        "id": "pBkNRigl4b9G",
        "colab_type": "code",
        "colab": {}
      },
      "source": [
        "ds_details.info()"
      ],
      "execution_count": 0,
      "outputs": []
    },
    {
      "cell_type": "code",
      "metadata": {
        "id": "YSlNICg94fKj",
        "colab_type": "code",
        "colab": {}
      },
      "source": [
        "ds_details.to_csv(\"ds_project_details.csv\")"
      ],
      "execution_count": 0,
      "outputs": []
    },
    {
      "cell_type": "markdown",
      "metadata": {
        "id": "dJdurd8345Jp",
        "colab_type": "text"
      },
      "source": [
        "# Kickstarter Project images\n",
        "\n",
        "\n",
        "Now we're going to download Kickstarter images for each project.\n",
        "\n",
        "Our goal is to create a dataset of images and a `Dataframe` composed by:\n",
        "- `project_id`\n",
        "- `image_id`\n",
        "\n",
        "We will use the library `requests`.\n",
        "\n",
        "The `requests` library is python library for making HTTP requests.\n",
        "It abstracts the complexities of making requests behind a simple API so that you can focus on interacting with services and consuming data in your application."
      ]
    },
    {
      "cell_type": "code",
      "metadata": {
        "id": "q1cy5Jzt6ab-",
        "colab_type": "code",
        "colab": {}
      },
      "source": [
        "import time\n",
        "import requests\n",
        "\n",
        "detail_projects = []\n",
        "list_images = []\n",
        "\n",
        "for num in tqdm(range(1,100)):\n",
        "  time.sleep(1)\n",
        "  wd.get(f\"https://www.kickstarter.com/discover/advanced?sort=magic&ref=nav_search&page={num}\")\n",
        "  list_projects = wd.find_elements_by_css_selector(\"#projects_list > div > div.js-react-proj-card\")\n",
        "  for project in list_projects:\n",
        "    try:\n",
        "      project_id = project.get_attribute(\"data-pid\")\n",
        "      src = project.find_element_by_css_selector(\"a img\").get_attribute(\"src\")\n",
        "      list_images.append({\"project_id\": project_id,\n",
        "                          \"img_file\": \"img_\" + str(project_id) + \".jpg\"})\n",
        "      img_file = requests.get(src, stream=True)\n",
        "      if img_file.status_code == 200:\n",
        "        with open(\"/content/images/img_\" + str(project_id) + \".jpg\", 'wb') as f:\n",
        "          f.write(img_file.content)\n",
        "    except Exception as e:\n",
        "      print(e)\n",
        "\n"
      ],
      "execution_count": 0,
      "outputs": []
    },
    {
      "cell_type": "code",
      "metadata": {
        "id": "wy5AJ3iUj-DO",
        "colab_type": "code",
        "colab": {
          "base_uri": "https://localhost:8080/",
          "height": 34
        },
        "outputId": "942e0267-5488-47cf-c431-c03ce17082a0"
      },
      "source": [
        "print(len(list_images))"
      ],
      "execution_count": 74,
      "outputs": [
        {
          "output_type": "stream",
          "text": [
            "1188\n"
          ],
          "name": "stdout"
        }
      ]
    },
    {
      "cell_type": "code",
      "metadata": {
        "id": "BSPk4TWtAvWj",
        "colab_type": "code",
        "outputId": "c2d731fa-9b92-4ead-ea70-fc85fb8257cd",
        "colab": {
          "base_uri": "https://localhost:8080/",
          "height": 257
        }
      },
      "source": [
        "%pylab inline\n",
        "import matplotlib.pyplot as plt\n",
        "import matplotlib.image as mpimg\n",
        "img=mpimg.imread('/content/images/img_142016465.jpg')\n",
        "imgplot = plt.imshow(img)\n",
        "plt.show()"
      ],
      "execution_count": 75,
      "outputs": [
        {
          "output_type": "stream",
          "text": [
            "Populating the interactive namespace from numpy and matplotlib\n"
          ],
          "name": "stdout"
        },
        {
          "output_type": "display_data",
          "data": {
            "image/png": "[encoded data removed]",
            "text/plain": [
              "<Figure size 432x288 with 1 Axes>"
            ]
          },
          "metadata": {
            "tags": [],
            "needs_background": "light"
          }
        }
      ]
    },
    {
      "cell_type": "code",
      "metadata": {
        "id": "9oq-mP-v8LZl",
        "colab_type": "code",
        "outputId": "f38f7ff7-0982-4e16-aba9-277a2a3e1da5",
        "colab": {
          "base_uri": "https://localhost:8080/",
          "height": 204
        }
      },
      "source": [
        "import pandas as pd\n",
        "ds_images = pd.DataFrame(list_images)\n",
        "ds_images.set_index(\"project_id\")\n",
        "ds_images.head()"
      ],
      "execution_count": 76,
      "outputs": [
        {
          "output_type": "execute_result",
          "data": {
            "text/html": [
              "<div>\n",
              "<style scoped>\n",
              "    .dataframe tbody tr th:only-of-type {\n",
              "        vertical-align: middle;\n",
              "    }\n",
              "\n",
              "    .dataframe tbody tr th {\n",
              "        vertical-align: top;\n",
              "    }\n",
              "\n",
              "    .dataframe thead th {\n",
              "        text-align: right;\n",
              "    }\n",
              "</style>\n",
              "<table border=\"1\" class=\"dataframe\">\n",
              "  <thead>\n",
              "    <tr style=\"text-align: right;\">\n",
              "      <th></th>\n",
              "      <th>project_id</th>\n",
              "      <th>img_file</th>\n",
              "    </tr>\n",
              "  </thead>\n",
              "  <tbody>\n",
              "    <tr>\n",
              "      <th>0</th>\n",
              "      <td>374785399</td>\n",
              "      <td>img_374785399.jpg</td>\n",
              "    </tr>\n",
              "    <tr>\n",
              "      <th>1</th>\n",
              "      <td>1949440126</td>\n",
              "      <td>img_1949440126.jpg</td>\n",
              "    </tr>\n",
              "    <tr>\n",
              "      <th>2</th>\n",
              "      <td>1602201731</td>\n",
              "      <td>img_1602201731.jpg</td>\n",
              "    </tr>\n",
              "    <tr>\n",
              "      <th>3</th>\n",
              "      <td>125859400</td>\n",
              "      <td>img_125859400.jpg</td>\n",
              "    </tr>\n",
              "    <tr>\n",
              "      <th>4</th>\n",
              "      <td>1376306706</td>\n",
              "      <td>img_1376306706.jpg</td>\n",
              "    </tr>\n",
              "  </tbody>\n",
              "</table>\n",
              "</div>"
            ],
            "text/plain": [
              "   project_id            img_file\n",
              "0   374785399   img_374785399.jpg\n",
              "1  1949440126  img_1949440126.jpg\n",
              "2  1602201731  img_1602201731.jpg\n",
              "3   125859400   img_125859400.jpg\n",
              "4  1376306706  img_1376306706.jpg"
            ]
          },
          "metadata": {
            "tags": []
          },
          "execution_count": 76
        }
      ]
    },
    {
      "cell_type": "code",
      "metadata": {
        "id": "v1A0HPUPhmdT",
        "colab_type": "code",
        "colab": {
          "base_uri": "https://localhost:8080/",
          "height": 170
        },
        "outputId": "54c2fc62-4d3c-40bb-881e-bc072f946173"
      },
      "source": [
        "ds_images.info()"
      ],
      "execution_count": 63,
      "outputs": [
        {
          "output_type": "stream",
          "text": [
            "<class 'pandas.core.frame.DataFrame'>\n",
            "RangeIndex: 1188 entries, 0 to 1187\n",
            "Data columns (total 2 columns):\n",
            " #   Column      Non-Null Count  Dtype \n",
            "---  ------      --------------  ----- \n",
            " 0   project_id  1188 non-null   int64 \n",
            " 1   img_file    1188 non-null   object\n",
            "dtypes: int64(1), object(1)\n",
            "memory usage: 18.7+ KB\n"
          ],
          "name": "stdout"
        }
      ]
    },
    {
      "cell_type": "code",
      "metadata": {
        "id": "2CLUnkOW8O0Q",
        "colab_type": "code",
        "colab": {}
      },
      "source": [
        "ds_images.to_csv(\"ds_images.csv\")"
      ],
      "execution_count": 0,
      "outputs": []
    },
    {
      "cell_type": "code",
      "metadata": {
        "id": "v0F53Zz7JRN2",
        "colab_type": "code",
        "colab": {}
      },
      "source": [
        "!zip -r \"/content/images.zip\" \"/content/images/\"\n"
      ],
      "execution_count": 0,
      "outputs": []
    },
    {
      "cell_type": "markdown",
      "metadata": {
        "id": "g_f5pD019XW6",
        "colab_type": "text"
      },
      "source": [
        "# API\n",
        "\n",
        "Let's see how to use the **requests** library to hook APIs provided by our suppliers or colleagues."
      ]
    },
    {
      "cell_type": "markdown",
      "metadata": {
        "id": "GuDgoTW29jH_",
        "colab_type": "text"
      },
      "source": [
        "## Crarifai\n",
        "\n",
        "Let's try the services provided by Clarifai to increase the data we have available.\n",
        "\n",
        "\n",
        "First, we need to install the `crarifai` python library.\n",
        "For more details, please visit https://github.com/Clarifai/clarifai-python\n",
        "\n",
        "To install the API client:\n",
        "\n",
        "\n",
        "```\n",
        "pip install clarifai\n",
        "```\n",
        "\n",
        "\n",
        "\n",
        "\n"
      ]
    },
    {
      "cell_type": "code",
      "metadata": {
        "id": "WgBUGy519fzQ",
        "colab_type": "code",
        "colab": {}
      },
      "source": [
        "!pip install clarifai"
      ],
      "execution_count": 0,
      "outputs": []
    },
    {
      "cell_type": "code",
      "metadata": {
        "id": "U7O5yiMD-BHm",
        "colab_type": "code",
        "colab": {}
      },
      "source": [
        "from clarifai.rest import ClarifaiApp\n",
        "\n",
        "# setup your key!!!\n",
        "clarifai_key = \"<your_key>\"\n",
        "app = ClarifaiApp(api_key=clarifai_key)\n",
        "\n",
        "# and use the general model\n",
        "model = app.public_models.general_model"
      ],
      "execution_count": 0,
      "outputs": []
    },
    {
      "cell_type": "markdown",
      "metadata": {
        "id": "vi3vpTjo-JlU",
        "colab_type": "text"
      },
      "source": [
        "We will use the `predict_by_filename` method to obtain the **concepts** within the page.\n"
      ]
    },
    {
      "cell_type": "code",
      "metadata": {
        "id": "Kv3BOOAG-PAt",
        "colab_type": "code",
        "colab": {}
      },
      "source": [
        "response = model.predict_by_filename(\"/content/images/img_142016465.jpg\")"
      ],
      "execution_count": 0,
      "outputs": []
    },
    {
      "cell_type": "markdown",
      "metadata": {
        "id": "6gNKcVLk-bU-",
        "colab_type": "text"
      },
      "source": [
        "What type of data does that give us back?\n",
        "Let's have a look!"
      ]
    },
    {
      "cell_type": "code",
      "metadata": {
        "id": "vUKxISg_-kht",
        "colab_type": "code",
        "colab": {}
      },
      "source": [
        "pprint.pprint(response)"
      ],
      "execution_count": 0,
      "outputs": []
    },
    {
      "cell_type": "markdown",
      "metadata": {
        "id": "W0vFofm3-o67",
        "colab_type": "text"
      },
      "source": [
        "And get the data:"
      ]
    },
    {
      "cell_type": "code",
      "metadata": {
        "id": "bLXAR3GS-oYX",
        "colab_type": "code",
        "outputId": "6c67d866-2096-4a91-f9cd-f6d71cd4bcb4",
        "colab": {
          "base_uri": "https://localhost:8080/",
          "height": 357
        }
      },
      "source": [
        "if(response['status']['description'] == \"Ok\"):\n",
        "    for concept in response[\"outputs\"][0][\"data\"][\"concepts\"]:\n",
        "        name = concept[\"name\"]\n",
        "        value = concept[\"value\"]\n",
        "        print(name + \" \" + str(value))"
      ],
      "execution_count": 70,
      "outputs": [
        {
          "output_type": "stream",
          "text": [
            "horizontal 0.9519128203392029\n",
            "isolated 0.9426192045211792\n",
            "no person 0.9122359752655029\n",
            "transportation system 0.9029916524887085\n",
            "business 0.8892199993133545\n",
            "service 0.8800047636032104\n",
            "technology 0.8767427206039429\n",
            "illustration 0.8746852874755859\n",
            "equipment 0.8589984178543091\n",
            "connection 0.8415480852127075\n",
            "wheel 0.8403968811035156\n",
            "desktop 0.8387061357498169\n",
            "vector 0.8360087871551514\n",
            "symbol 0.8336005210876465\n",
            "sport 0.7958953380584717\n",
            "control 0.7861691117286682\n",
            "text 0.7860429286956787\n",
            "modern 0.7815584540367126\n",
            "designing 0.766112208366394\n",
            "focus 0.7455539703369141\n"
          ],
          "name": "stdout"
        }
      ]
    },
    {
      "cell_type": "markdown",
      "metadata": {
        "id": "0RiAZbNkB5Au",
        "colab_type": "text"
      },
      "source": [
        "Now let's go and identify all the concepts for each image of each project."
      ]
    },
    {
      "cell_type": "code",
      "metadata": {
        "id": "uu3J01GhB_w4",
        "colab_type": "code",
        "colab": {}
      },
      "source": [
        "ds_images = pd.read_csv(\"ds_images.csv\", index_col=\"project_id\")\n",
        "\n",
        "img_details = []\n",
        "for project_id, image in tqdm(ds_images.iterrows(), total=ds_images.shape[0]):\n",
        "  try:\n",
        "    response = model.predict_by_filename(\"/content/images/\" + image['img_file'])\n",
        "    if(response['status']['description'] == \"Ok\"):\n",
        "      for concept in response[\"outputs\"][0][\"data\"][\"concepts\"]:\n",
        "          name = concept[\"name\"]\n",
        "          value = concept[\"value\"]\n",
        "          img_details.append({\n",
        "            \"project_id\": project_id,\n",
        "            \"image\": image['img_file'],\n",
        "            \"name\": name,\n",
        "            \"value\": value\n",
        "          })\n",
        "  except Exception as e:\n",
        "    print(e)\n",
        "\n",
        "print(len(img_details))"
      ],
      "execution_count": 0,
      "outputs": []
    },
    {
      "cell_type": "code",
      "metadata": {
        "id": "5nIUezSrDTKK",
        "colab_type": "code",
        "outputId": "51bd2da1-4793-44a2-bb18-62411a71cff7",
        "colab": {
          "base_uri": "https://localhost:8080/",
          "height": 204
        }
      },
      "source": [
        "import pandas as pd\n",
        "ds_img_details = pd.DataFrame(img_details)\n",
        "ds_img_details.set_index(\"image\")\n",
        "ds_img_details.head()"
      ],
      "execution_count": 79,
      "outputs": [
        {
          "output_type": "execute_result",
          "data": {
            "text/html": [
              "<div>\n",
              "<style scoped>\n",
              "    .dataframe tbody tr th:only-of-type {\n",
              "        vertical-align: middle;\n",
              "    }\n",
              "\n",
              "    .dataframe tbody tr th {\n",
              "        vertical-align: top;\n",
              "    }\n",
              "\n",
              "    .dataframe thead th {\n",
              "        text-align: right;\n",
              "    }\n",
              "</style>\n",
              "<table border=\"1\" class=\"dataframe\">\n",
              "  <thead>\n",
              "    <tr style=\"text-align: right;\">\n",
              "      <th></th>\n",
              "      <th>project_id</th>\n",
              "      <th>image</th>\n",
              "      <th>name</th>\n",
              "      <th>value</th>\n",
              "    </tr>\n",
              "  </thead>\n",
              "  <tbody>\n",
              "    <tr>\n",
              "      <th>0</th>\n",
              "      <td>374785399</td>\n",
              "      <td>img_374785399.jpg</td>\n",
              "      <td>indoors</td>\n",
              "      <td>0.972585</td>\n",
              "    </tr>\n",
              "    <tr>\n",
              "      <th>1</th>\n",
              "      <td>374785399</td>\n",
              "      <td>img_374785399.jpg</td>\n",
              "      <td>woman</td>\n",
              "      <td>0.963287</td>\n",
              "    </tr>\n",
              "    <tr>\n",
              "      <th>2</th>\n",
              "      <td>374785399</td>\n",
              "      <td>img_374785399.jpg</td>\n",
              "      <td>people</td>\n",
              "      <td>0.946491</td>\n",
              "    </tr>\n",
              "    <tr>\n",
              "      <th>3</th>\n",
              "      <td>374785399</td>\n",
              "      <td>img_374785399.jpg</td>\n",
              "      <td>man</td>\n",
              "      <td>0.939974</td>\n",
              "    </tr>\n",
              "    <tr>\n",
              "      <th>4</th>\n",
              "      <td>374785399</td>\n",
              "      <td>img_374785399.jpg</td>\n",
              "      <td>business</td>\n",
              "      <td>0.934942</td>\n",
              "    </tr>\n",
              "  </tbody>\n",
              "</table>\n",
              "</div>"
            ],
            "text/plain": [
              "   project_id              image      name     value\n",
              "0   374785399  img_374785399.jpg   indoors  0.972585\n",
              "1   374785399  img_374785399.jpg     woman  0.963287\n",
              "2   374785399  img_374785399.jpg    people  0.946491\n",
              "3   374785399  img_374785399.jpg       man  0.939974\n",
              "4   374785399  img_374785399.jpg  business  0.934942"
            ]
          },
          "metadata": {
            "tags": []
          },
          "execution_count": 79
        }
      ]
    },
    {
      "cell_type": "code",
      "metadata": {
        "id": "VXJF8-Q4ljK7",
        "colab_type": "code",
        "colab": {
          "base_uri": "https://localhost:8080/",
          "height": 204
        },
        "outputId": "3a6b370d-99ef-40d9-92e7-fd653b97fd2a"
      },
      "source": [
        "ds_img_details.info()"
      ],
      "execution_count": 80,
      "outputs": [
        {
          "output_type": "stream",
          "text": [
            "<class 'pandas.core.frame.DataFrame'>\n",
            "RangeIndex: 17420 entries, 0 to 17419\n",
            "Data columns (total 4 columns):\n",
            " #   Column      Non-Null Count  Dtype  \n",
            "---  ------      --------------  -----  \n",
            " 0   project_id  17420 non-null  int64  \n",
            " 1   image       17420 non-null  object \n",
            " 2   name        17420 non-null  object \n",
            " 3   value       17420 non-null  float64\n",
            "dtypes: float64(1), int64(1), object(2)\n",
            "memory usage: 544.5+ KB\n"
          ],
          "name": "stdout"
        }
      ]
    },
    {
      "cell_type": "code",
      "metadata": {
        "id": "1WR4kQBsDXwx",
        "colab_type": "code",
        "colab": {}
      },
      "source": [
        "ds_img_details.to_csv('ds_img_details.csv')"
      ],
      "execution_count": 0,
      "outputs": []
    },
    {
      "cell_type": "markdown",
      "metadata": {
        "id": "Kt_AIhQM-6zi",
        "colab_type": "text"
      },
      "source": [
        "# Geocoding\n",
        "\n",
        "What's geocoding?\n",
        "\n"
      ]
    },
    {
      "cell_type": "markdown",
      "metadata": {
        "id": "tBcxapgb_lGp",
        "colab_type": "text"
      },
      "source": [
        "Let's try to geolocalize the projects..."
      ]
    },
    {
      "cell_type": "code",
      "metadata": {
        "id": "B4IO9haO_o7W",
        "colab_type": "code",
        "outputId": "1f12510d-b4f8-4831-f04a-4abc610a42fd",
        "colab": {
          "base_uri": "https://localhost:8080/",
          "height": 139
        }
      },
      "source": [
        "import requests\n",
        "import json\n",
        "\n",
        "address = \"via finazzi 46, carvico(bg)\"\n",
        "key = \"<your_key>\"\n",
        "geocode_url = f\"http://www.mapquestapi.com/geocoding/v1/address?key={key}&location={address}\"\n",
        "response = requests.get(geocode_url)\n",
        "\n",
        "import json\n",
        "geo = json.loads(response.text)\n",
        "pprint.pprint(response.text)"
      ],
      "execution_count": 27,
      "outputs": [
        {
          "output_type": "stream",
          "text": [
            "('{\"info\":{\"statuscode\":0,\"copyright\":{\"text\":\"\\\\u00A9 2020 MapQuest, '\n",
            " 'Inc.\",\"imageUrl\":\"http://api.mqcdn.com/res/mqlogo.gif\",\"imageAltText\":\"\\\\u00A9 '\n",
            " '2020 MapQuest, '\n",
            " 'Inc.\"},\"messages\":[]},\"options\":{\"maxResults\":-1,\"thumbMaps\":true,\"ignoreLatLngInput\":false},\"results\":[{\"providedLocation\":{\"location\":\"via '\n",
            " 'finazzi 46, '\n",
            " 'carvico(bg)\"},\"locations\":[{\"street\":\"\",\"adminArea6\":\"\",\"adminArea6Type\":\"Neighborhood\",\"adminArea5\":\"Carvico\",\"adminArea5Type\":\"City\",\"adminArea4\":\"BG\",\"adminArea4Type\":\"County\",\"adminArea3\":\"Lombardy\",\"adminArea3Type\":\"State\",\"adminArea1\":\"IT\",\"adminArea1Type\":\"Country\",\"postalCode\":\"\",\"geocodeQualityCode\":\"A5XAX\",\"geocodeQuality\":\"CITY\",\"dragPoint\":false,\"sideOfStreet\":\"N\",\"linkId\":\"282493759\",\"unknownInput\":\"\",\"type\":\"s\",\"latLng\":{\"lat\":45.703779,\"lng\":9.482249},\"displayLatLng\":{\"lat\":45.703779,\"lng\":9.482249},\"mapUrl\":\"http://www.mapquestapi.com/staticmap/v5/map?key=r3xgNwBAviBMdOj4Op90kvyy2iO1CDGz&type=map&size=225,160&locations=45.703779,9.482249|marker-sm-50318A-1&scalebar=true&zoom=12&rand=1884162508\"}]}]}')\n"
          ],
          "name": "stdout"
        }
      ]
    },
    {
      "cell_type": "code",
      "metadata": {
        "id": "LRQ24oZf_0XB",
        "colab_type": "code",
        "outputId": "367cb61c-3023-43f5-91d2-248c79e44aee",
        "colab": {
          "base_uri": "https://localhost:8080/",
          "height": 51
        }
      },
      "source": [
        "print(geo['results'][0]['locations'][0]['latLng']['lat'])\n",
        "print(geo['results'][0]['locations'][0]['latLng']['lng'])"
      ],
      "execution_count": 28,
      "outputs": [
        {
          "output_type": "stream",
          "text": [
            "45.703779\n",
            "9.482249\n"
          ],
          "name": "stdout"
        }
      ]
    },
    {
      "cell_type": "code",
      "metadata": {
        "id": "feuWng0zDudp",
        "colab_type": "code",
        "outputId": "37a65831-038c-4b16-c063-330c5a0dd286",
        "colab": {
          "base_uri": "https://localhost:8080/",
          "height": 100,
          "referenced_widgets": [
            "a2f4d8a15a424acc84cf35089c999b7a",
            "3e9d230828104a538671e3b392f315b4",
            "2aa115508f404b54ab754d8ab1d41e08",
            "88774de566f54247a6cc4ef1e8bf1c39",
            "32108eb5e57c4a42a2f9a8447f311cf5",
            "4c233d2fef9b4d648101475100a2ef9c",
            "326dbb7bc8fd4ca9990b0d90a1a2a802",
            "a9695a19db35496aa5f1b38e8e048d82"
          ]
        }
      },
      "source": [
        "ds_projects = pd.read_csv(\"ds_projects.csv\", index_col=\"project_id\")\n",
        "\n",
        "import time\n",
        "project_location = []\n",
        "for project_id, project in tqdm(ds_projects.iterrows(), total=ds_projects.shape[0]):\n",
        "  time.sleep(1)\n",
        "  address = project['location']\n",
        "  key = \"<your_key>\"\n",
        "  try:\n",
        "    geocode_url = f\"http://www.mapquestapi.com/geocoding/v1/address?key={key}&location={address}\"\n",
        "    response = requests.get(geocode_url)\n",
        "    if(response.status_code == 200):\n",
        "      geo = json.loads(response.text)\n",
        "      lat = geo['results'][0]['locations'][0]['latLng']['lat']\n",
        "      lng = geo['results'][0]['locations'][0]['latLng']['lng']\n",
        "      project_location.append({\n",
        "            \"project_id\": project_id,\n",
        "            \"lat\": lat,\n",
        "            \"lng\": lng\n",
        "          })\n",
        "  except Exception as e:\n",
        "    print(e)\n",
        "    \n",
        "\n",
        "print(len(project_location))"
      ],
      "execution_count": 0,
      "outputs": [
        {
          "output_type": "stream",
          "text": [
            "/usr/local/lib/python3.6/dist-packages/ipykernel_launcher.py:5: TqdmDeprecationWarning: This function will be removed in tqdm==5.0.0\n",
            "Please use `tqdm.notebook.tqdm` instead of `tqdm.tqdm_notebook`\n",
            "  \"\"\"\n"
          ],
          "name": "stderr"
        },
        {
          "output_type": "display_data",
          "data": {
            "application/vnd.jupyter.widget-view+json": {
              "model_id": "a2f4d8a15a424acc84cf35089c999b7a",
              "version_minor": 0,
              "version_major": 2
            },
            "text/plain": [
              "HBox(children=(FloatProgress(value=0.0, max=1188.0), HTML(value='')))"
            ]
          },
          "metadata": {
            "tags": []
          }
        }
      ]
    },
    {
      "cell_type": "code",
      "metadata": {
        "id": "KdlXXE24E9Es",
        "colab_type": "code",
        "outputId": "8f0e727c-c712-4b7b-b161-96b4549e5e8a",
        "colab": {
          "base_uri": "https://localhost:8080/",
          "height": 204
        }
      },
      "source": [
        "import pandas as pd\n",
        "ds_project_location = pd.DataFrame(project_location)\n",
        "ds_project_location.set_index(\"project_id\")\n",
        "ds_project_location.head(20)"
      ],
      "execution_count": 0,
      "outputs": [
        {
          "output_type": "execute_result",
          "data": {
            "text/html": [
              "<div>\n",
              "<style scoped>\n",
              "    .dataframe tbody tr th:only-of-type {\n",
              "        vertical-align: middle;\n",
              "    }\n",
              "\n",
              "    .dataframe tbody tr th {\n",
              "        vertical-align: top;\n",
              "    }\n",
              "\n",
              "    .dataframe thead th {\n",
              "        text-align: right;\n",
              "    }\n",
              "</style>\n",
              "<table border=\"1\" class=\"dataframe\">\n",
              "  <thead>\n",
              "    <tr style=\"text-align: right;\">\n",
              "      <th></th>\n",
              "      <th>project_id</th>\n",
              "      <th>lat</th>\n",
              "      <th>lng</th>\n",
              "    </tr>\n",
              "  </thead>\n",
              "  <tbody>\n",
              "    <tr>\n",
              "      <th>0</th>\n",
              "      <td>1010744379</td>\n",
              "      <td>51.500150</td>\n",
              "      <td>-0.126240</td>\n",
              "    </tr>\n",
              "    <tr>\n",
              "      <th>1</th>\n",
              "      <td>1015125619</td>\n",
              "      <td>32.080590</td>\n",
              "      <td>-81.090103</td>\n",
              "    </tr>\n",
              "    <tr>\n",
              "      <th>2</th>\n",
              "      <td>1774324319</td>\n",
              "      <td>42.358894</td>\n",
              "      <td>-71.056742</td>\n",
              "    </tr>\n",
              "    <tr>\n",
              "      <th>3</th>\n",
              "      <td>245959053</td>\n",
              "      <td>40.713054</td>\n",
              "      <td>-74.007228</td>\n",
              "    </tr>\n",
              "    <tr>\n",
              "      <th>4</th>\n",
              "      <td>1949440126</td>\n",
              "      <td>34.052238</td>\n",
              "      <td>-118.243344</td>\n",
              "    </tr>\n",
              "  </tbody>\n",
              "</table>\n",
              "</div>"
            ],
            "text/plain": [
              "   project_id        lat         lng\n",
              "0  1010744379  51.500150   -0.126240\n",
              "1  1015125619  32.080590  -81.090103\n",
              "2  1774324319  42.358894  -71.056742\n",
              "3   245959053  40.713054  -74.007228\n",
              "4  1949440126  34.052238 -118.243344"
            ]
          },
          "metadata": {
            "tags": []
          },
          "execution_count": 84
        }
      ]
    },
    {
      "cell_type": "code",
      "metadata": {
        "id": "abHeZZM0mXmL",
        "colab_type": "code",
        "colab": {}
      },
      "source": [
        "ds_project_location.info()"
      ],
      "execution_count": 0,
      "outputs": []
    },
    {
      "cell_type": "code",
      "metadata": {
        "id": "sg8TZopsFC3b",
        "colab_type": "code",
        "colab": {}
      },
      "source": [
        "ds_project_location.to_csv('ds_project_location.csv')"
      ],
      "execution_count": 0,
      "outputs": []
    }
  ],
  "metadata": {
    "colab": {
      "name": "2_Web_Scraping_with_Selenium",
      "provenance": [],
      "collapsed_sections": [],
      "toc_visible": true
    },
    "kernelspec": {
      "name": "python3",
      "display_name": "Python 3"
    },
    "widgets": {
      "application/vnd.jupyter.widget-state+json": {
        "de490277ca9b4462841157b06215c1a1": {
          "model_module": "@jupyter-widgets/controls",
          "model_name": "HBoxModel",
          "state": {
            "_view_name": "HBoxView",
            "_dom_classes": [],
            "_model_name": "HBoxModel",
            "_view_module": "@jupyter-widgets/controls",
            "_model_module_version": "1.5.0",
            "_view_count": null,
            "_view_module_version": "1.5.0",
            "box_style": "",
            "layout": "IPY_MODEL_e1acbfea40a84a0bbc2c4858727af799",
            "_model_module": "@jupyter-widgets/controls",
            "children": [
              "IPY_MODEL_dc1e9347c9e0436fb0cef8c3eca5e55d",
              "IPY_MODEL_f6c997650d60416f94605e0b29e8d78f"
            ]
          }
        },
        "e1acbfea40a84a0bbc2c4858727af799": {
          "model_module": "@jupyter-widgets/base",
          "model_name": "LayoutModel",
          "state": {
            "_view_name": "LayoutView",
            "grid_template_rows": null,
            "right": null,
            "justify_content": null,
            "_view_module": "@jupyter-widgets/base",
            "overflow": null,
            "_model_module_version": "1.2.0",
            "_view_count": null,
            "flex_flow": null,
            "width": null,
            "min_width": null,
            "border": null,
            "align_items": null,
            "bottom": null,
            "_model_module": "@jupyter-widgets/base",
            "top": null,
            "grid_column": null,
            "overflow_y": null,
            "overflow_x": null,
            "grid_auto_flow": null,
            "grid_area": null,
            "grid_template_columns": null,
            "flex": null,
            "_model_name": "LayoutModel",
            "justify_items": null,
            "grid_row": null,
            "max_height": null,
            "align_content": null,
            "visibility": null,
            "align_self": null,
            "height": null,
            "min_height": null,
            "padding": null,
            "grid_auto_rows": null,
            "grid_gap": null,
            "max_width": null,
            "order": null,
            "_view_module_version": "1.2.0",
            "grid_template_areas": null,
            "object_position": null,
            "object_fit": null,
            "grid_auto_columns": null,
            "margin": null,
            "display": null,
            "left": null
          }
        },
        "dc1e9347c9e0436fb0cef8c3eca5e55d": {
          "model_module": "@jupyter-widgets/controls",
          "model_name": "FloatProgressModel",
          "state": {
            "_view_name": "ProgressView",
            "style": "IPY_MODEL_02ee26fc429240ac9cdb694d3cde5fa0",
            "_dom_classes": [],
            "description": "100%",
            "_model_name": "FloatProgressModel",
            "bar_style": "success",
            "max": 2,
            "_view_module": "@jupyter-widgets/controls",
            "_model_module_version": "1.5.0",
            "value": 2,
            "_view_count": null,
            "_view_module_version": "1.5.0",
            "orientation": "horizontal",
            "min": 0,
            "description_tooltip": null,
            "_model_module": "@jupyter-widgets/controls",
            "layout": "IPY_MODEL_29a4237772374e76b14ad730ed598141"
          }
        },
        "f6c997650d60416f94605e0b29e8d78f": {
          "model_module": "@jupyter-widgets/controls",
          "model_name": "HTMLModel",
          "state": {
            "_view_name": "HTMLView",
            "style": "IPY_MODEL_92b713b08d6c4673bc1acf0e41f01e5f",
            "_dom_classes": [],
            "description": "",
            "_model_name": "HTMLModel",
            "placeholder": "​",
            "_view_module": "@jupyter-widgets/controls",
            "_model_module_version": "1.5.0",
            "value": " 2/2 [00:25&lt;00:00, 12.84s/it]",
            "_view_count": null,
            "_view_module_version": "1.5.0",
            "description_tooltip": null,
            "_model_module": "@jupyter-widgets/controls",
            "layout": "IPY_MODEL_447d9a95a5934a8f8c5aff3db3c258cb"
          }
        },
        "02ee26fc429240ac9cdb694d3cde5fa0": {
          "model_module": "@jupyter-widgets/controls",
          "model_name": "ProgressStyleModel",
          "state": {
            "_view_name": "StyleView",
            "_model_name": "ProgressStyleModel",
            "description_width": "initial",
            "_view_module": "@jupyter-widgets/base",
            "_model_module_version": "1.5.0",
            "_view_count": null,
            "_view_module_version": "1.2.0",
            "bar_color": null,
            "_model_module": "@jupyter-widgets/controls"
          }
        },
        "29a4237772374e76b14ad730ed598141": {
          "model_module": "@jupyter-widgets/base",
          "model_name": "LayoutModel",
          "state": {
            "_view_name": "LayoutView",
            "grid_template_rows": null,
            "right": null,
            "justify_content": null,
            "_view_module": "@jupyter-widgets/base",
            "overflow": null,
            "_model_module_version": "1.2.0",
            "_view_count": null,
            "flex_flow": null,
            "width": null,
            "min_width": null,
            "border": null,
            "align_items": null,
            "bottom": null,
            "_model_module": "@jupyter-widgets/base",
            "top": null,
            "grid_column": null,
            "overflow_y": null,
            "overflow_x": null,
            "grid_auto_flow": null,
            "grid_area": null,
            "grid_template_columns": null,
            "flex": null,
            "_model_name": "LayoutModel",
            "justify_items": null,
            "grid_row": null,
            "max_height": null,
            "align_content": null,
            "visibility": null,
            "align_self": null,
            "height": null,
            "min_height": null,
            "padding": null,
            "grid_auto_rows": null,
            "grid_gap": null,
            "max_width": null,
            "order": null,
            "_view_module_version": "1.2.0",
            "grid_template_areas": null,
            "object_position": null,
            "object_fit": null,
            "grid_auto_columns": null,
            "margin": null,
            "display": null,
            "left": null
          }
        },
        "92b713b08d6c4673bc1acf0e41f01e5f": {
          "model_module": "@jupyter-widgets/controls",
          "model_name": "DescriptionStyleModel",
          "state": {
            "_view_name": "StyleView",
            "_model_name": "DescriptionStyleModel",
            "description_width": "",
            "_view_module": "@jupyter-widgets/base",
            "_model_module_version": "1.5.0",
            "_view_count": null,
            "_view_module_version": "1.2.0",
            "_model_module": "@jupyter-widgets/controls"
          }
        },
        "447d9a95a5934a8f8c5aff3db3c258cb": {
          "model_module": "@jupyter-widgets/base",
          "model_name": "LayoutModel",
          "state": {
            "_view_name": "LayoutView",
            "grid_template_rows": null,
            "right": null,
            "justify_content": null,
            "_view_module": "@jupyter-widgets/base",
            "overflow": null,
            "_model_module_version": "1.2.0",
            "_view_count": null,
            "flex_flow": null,
            "width": null,
            "min_width": null,
            "border": null,
            "align_items": null,
            "bottom": null,
            "_model_module": "@jupyter-widgets/base",
            "top": null,
            "grid_column": null,
            "overflow_y": null,
            "overflow_x": null,
            "grid_auto_flow": null,
            "grid_area": null,
            "grid_template_columns": null,
            "flex": null,
            "_model_name": "LayoutModel",
            "justify_items": null,
            "grid_row": null,
            "max_height": null,
            "align_content": null,
            "visibility": null,
            "align_self": null,
            "height": null,
            "min_height": null,
            "padding": null,
            "grid_auto_rows": null,
            "grid_gap": null,
            "max_width": null,
            "order": null,
            "_view_module_version": "1.2.0",
            "grid_template_areas": null,
            "object_position": null,
            "object_fit": null,
            "grid_auto_columns": null,
            "margin": null,
            "display": null,
            "left": null
          }
        },
        "ee27906a32874fc780a15974ad3b9434": {
          "model_module": "@jupyter-widgets/controls",
          "model_name": "HBoxModel",
          "state": {
            "_view_name": "HBoxView",
            "_dom_classes": [],
            "_model_name": "HBoxModel",
            "_view_module": "@jupyter-widgets/controls",
            "_model_module_version": "1.5.0",
            "_view_count": null,
            "_view_module_version": "1.5.0",
            "box_style": "",
            "layout": "IPY_MODEL_39641d9056c4487aa7bb0d04bd300102",
            "_model_module": "@jupyter-widgets/controls",
            "children": [
              "IPY_MODEL_c088f569d3604f0da467b69eeebc8a17",
              "IPY_MODEL_b3dbb64df86146c78c99f0bcbe75e93d"
            ]
          }
        },
        "39641d9056c4487aa7bb0d04bd300102": {
          "model_module": "@jupyter-widgets/base",
          "model_name": "LayoutModel",
          "state": {
            "_view_name": "LayoutView",
            "grid_template_rows": null,
            "right": null,
            "justify_content": null,
            "_view_module": "@jupyter-widgets/base",
            "overflow": null,
            "_model_module_version": "1.2.0",
            "_view_count": null,
            "flex_flow": null,
            "width": null,
            "min_width": null,
            "border": null,
            "align_items": null,
            "bottom": null,
            "_model_module": "@jupyter-widgets/base",
            "top": null,
            "grid_column": null,
            "overflow_y": null,
            "overflow_x": null,
            "grid_auto_flow": null,
            "grid_area": null,
            "grid_template_columns": null,
            "flex": null,
            "_model_name": "LayoutModel",
            "justify_items": null,
            "grid_row": null,
            "max_height": null,
            "align_content": null,
            "visibility": null,
            "align_self": null,
            "height": null,
            "min_height": null,
            "padding": null,
            "grid_auto_rows": null,
            "grid_gap": null,
            "max_width": null,
            "order": null,
            "_view_module_version": "1.2.0",
            "grid_template_areas": null,
            "object_position": null,
            "object_fit": null,
            "grid_auto_columns": null,
            "margin": null,
            "display": null,
            "left": null
          }
        },
        "c088f569d3604f0da467b69eeebc8a17": {
          "model_module": "@jupyter-widgets/controls",
          "model_name": "FloatProgressModel",
          "state": {
            "_view_name": "ProgressView",
            "style": "IPY_MODEL_af837eabe26844818b326e23788552ee",
            "_dom_classes": [],
            "description": "100%",
            "_model_name": "FloatProgressModel",
            "bar_style": "success",
            "max": 99,
            "_view_module": "@jupyter-widgets/controls",
            "_model_module_version": "1.5.0",
            "value": 99,
            "_view_count": null,
            "_view_module_version": "1.5.0",
            "orientation": "horizontal",
            "min": 0,
            "description_tooltip": null,
            "_model_module": "@jupyter-widgets/controls",
            "layout": "IPY_MODEL_d712d50832ef454e82c36780fa4b5224"
          }
        },
        "b3dbb64df86146c78c99f0bcbe75e93d": {
          "model_module": "@jupyter-widgets/controls",
          "model_name": "HTMLModel",
          "state": {
            "_view_name": "HTMLView",
            "style": "IPY_MODEL_827e9649f57d4f31b79abef787a8a833",
            "_dom_classes": [],
            "description": "",
            "_model_name": "HTMLModel",
            "placeholder": "​",
            "_view_module": "@jupyter-widgets/controls",
            "_model_module_version": "1.5.0",
            "value": " 99/99 [09:02&lt;00:00,  5.48s/it]",
            "_view_count": null,
            "_view_module_version": "1.5.0",
            "description_tooltip": null,
            "_model_module": "@jupyter-widgets/controls",
            "layout": "IPY_MODEL_60e3f7a5f129415db1fc51a0c247309e"
          }
        },
        "af837eabe26844818b326e23788552ee": {
          "model_module": "@jupyter-widgets/controls",
          "model_name": "ProgressStyleModel",
          "state": {
            "_view_name": "StyleView",
            "_model_name": "ProgressStyleModel",
            "description_width": "initial",
            "_view_module": "@jupyter-widgets/base",
            "_model_module_version": "1.5.0",
            "_view_count": null,
            "_view_module_version": "1.2.0",
            "bar_color": null,
            "_model_module": "@jupyter-widgets/controls"
          }
        },
        "d712d50832ef454e82c36780fa4b5224": {
          "model_module": "@jupyter-widgets/base",
          "model_name": "LayoutModel",
          "state": {
            "_view_name": "LayoutView",
            "grid_template_rows": null,
            "right": null,
            "justify_content": null,
            "_view_module": "@jupyter-widgets/base",
            "overflow": null,
            "_model_module_version": "1.2.0",
            "_view_count": null,
            "flex_flow": null,
            "width": null,
            "min_width": null,
            "border": null,
            "align_items": null,
            "bottom": null,
            "_model_module": "@jupyter-widgets/base",
            "top": null,
            "grid_column": null,
            "overflow_y": null,
            "overflow_x": null,
            "grid_auto_flow": null,
            "grid_area": null,
            "grid_template_columns": null,
            "flex": null,
            "_model_name": "LayoutModel",
            "justify_items": null,
            "grid_row": null,
            "max_height": null,
            "align_content": null,
            "visibility": null,
            "align_self": null,
            "height": null,
            "min_height": null,
            "padding": null,
            "grid_auto_rows": null,
            "grid_gap": null,
            "max_width": null,
            "order": null,
            "_view_module_version": "1.2.0",
            "grid_template_areas": null,
            "object_position": null,
            "object_fit": null,
            "grid_auto_columns": null,
            "margin": null,
            "display": null,
            "left": null
          }
        },
        "827e9649f57d4f31b79abef787a8a833": {
          "model_module": "@jupyter-widgets/controls",
          "model_name": "DescriptionStyleModel",
          "state": {
            "_view_name": "StyleView",
            "_model_name": "DescriptionStyleModel",
            "description_width": "",
            "_view_module": "@jupyter-widgets/base",
            "_model_module_version": "1.5.0",
            "_view_count": null,
            "_view_module_version": "1.2.0",
            "_model_module": "@jupyter-widgets/controls"
          }
        },
        "60e3f7a5f129415db1fc51a0c247309e": {
          "model_module": "@jupyter-widgets/base",
          "model_name": "LayoutModel",
          "state": {
            "_view_name": "LayoutView",
            "grid_template_rows": null,
            "right": null,
            "justify_content": null,
            "_view_module": "@jupyter-widgets/base",
            "overflow": null,
            "_model_module_version": "1.2.0",
            "_view_count": null,
            "flex_flow": null,
            "width": null,
            "min_width": null,
            "border": null,
            "align_items": null,
            "bottom": null,
            "_model_module": "@jupyter-widgets/base",
            "top": null,
            "grid_column": null,
            "overflow_y": null,
            "overflow_x": null,
            "grid_auto_flow": null,
            "grid_area": null,
            "grid_template_columns": null,
            "flex": null,
            "_model_name": "LayoutModel",
            "justify_items": null,
            "grid_row": null,
            "max_height": null,
            "align_content": null,
            "visibility": null,
            "align_self": null,
            "height": null,
            "min_height": null,
            "padding": null,
            "grid_auto_rows": null,
            "grid_gap": null,
            "max_width": null,
            "order": null,
            "_view_module_version": "1.2.0",
            "grid_template_areas": null,
            "object_position": null,
            "object_fit": null,
            "grid_auto_columns": null,
            "margin": null,
            "display": null,
            "left": null
          }
        },
        "a2f4d8a15a424acc84cf35089c999b7a": {
          "model_module": "@jupyter-widgets/controls",
          "model_name": "HBoxModel",
          "state": {
            "_view_name": "HBoxView",
            "_dom_classes": [],
            "_model_name": "HBoxModel",
            "_view_module": "@jupyter-widgets/controls",
            "_model_module_version": "1.5.0",
            "_view_count": null,
            "_view_module_version": "1.5.0",
            "box_style": "",
            "layout": "IPY_MODEL_3e9d230828104a538671e3b392f315b4",
            "_model_module": "@jupyter-widgets/controls",
            "children": [
              "IPY_MODEL_2aa115508f404b54ab754d8ab1d41e08",
              "IPY_MODEL_88774de566f54247a6cc4ef1e8bf1c39"
            ]
          }
        },
        "3e9d230828104a538671e3b392f315b4": {
          "model_module": "@jupyter-widgets/base",
          "model_name": "LayoutModel",
          "state": {
            "_view_name": "LayoutView",
            "grid_template_rows": null,
            "right": null,
            "justify_content": null,
            "_view_module": "@jupyter-widgets/base",
            "overflow": null,
            "_model_module_version": "1.2.0",
            "_view_count": null,
            "flex_flow": null,
            "width": null,
            "min_width": null,
            "border": null,
            "align_items": null,
            "bottom": null,
            "_model_module": "@jupyter-widgets/base",
            "top": null,
            "grid_column": null,
            "overflow_y": null,
            "overflow_x": null,
            "grid_auto_flow": null,
            "grid_area": null,
            "grid_template_columns": null,
            "flex": null,
            "_model_name": "LayoutModel",
            "justify_items": null,
            "grid_row": null,
            "max_height": null,
            "align_content": null,
            "visibility": null,
            "align_self": null,
            "height": null,
            "min_height": null,
            "padding": null,
            "grid_auto_rows": null,
            "grid_gap": null,
            "max_width": null,
            "order": null,
            "_view_module_version": "1.2.0",
            "grid_template_areas": null,
            "object_position": null,
            "object_fit": null,
            "grid_auto_columns": null,
            "margin": null,
            "display": null,
            "left": null
          }
        },
        "2aa115508f404b54ab754d8ab1d41e08": {
          "model_module": "@jupyter-widgets/controls",
          "model_name": "FloatProgressModel",
          "state": {
            "_view_name": "ProgressView",
            "style": "IPY_MODEL_32108eb5e57c4a42a2f9a8447f311cf5",
            "_dom_classes": [],
            "description": " 10%",
            "_model_name": "FloatProgressModel",
            "bar_style": "",
            "max": 1188,
            "_view_module": "@jupyter-widgets/controls",
            "_model_module_version": "1.5.0",
            "value": 118,
            "_view_count": null,
            "_view_module_version": "1.5.0",
            "orientation": "horizontal",
            "min": 0,
            "description_tooltip": null,
            "_model_module": "@jupyter-widgets/controls",
            "layout": "IPY_MODEL_4c233d2fef9b4d648101475100a2ef9c"
          }
        },
        "88774de566f54247a6cc4ef1e8bf1c39": {
          "model_module": "@jupyter-widgets/controls",
          "model_name": "HTMLModel",
          "state": {
            "_view_name": "HTMLView",
            "style": "IPY_MODEL_326dbb7bc8fd4ca9990b0d90a1a2a802",
            "_dom_classes": [],
            "description": "",
            "_model_name": "HTMLModel",
            "placeholder": "​",
            "_view_module": "@jupyter-widgets/controls",
            "_model_module_version": "1.5.0",
            "value": " 118/1188 [02:13&lt;19:41,  1.10s/it]",
            "_view_count": null,
            "_view_module_version": "1.5.0",
            "description_tooltip": null,
            "_model_module": "@jupyter-widgets/controls",
            "layout": "IPY_MODEL_a9695a19db35496aa5f1b38e8e048d82"
          }
        },
        "32108eb5e57c4a42a2f9a8447f311cf5": {
          "model_module": "@jupyter-widgets/controls",
          "model_name": "ProgressStyleModel",
          "state": {
            "_view_name": "StyleView",
            "_model_name": "ProgressStyleModel",
            "description_width": "initial",
            "_view_module": "@jupyter-widgets/base",
            "_model_module_version": "1.5.0",
            "_view_count": null,
            "_view_module_version": "1.2.0",
            "bar_color": null,
            "_model_module": "@jupyter-widgets/controls"
          }
        },
        "4c233d2fef9b4d648101475100a2ef9c": {
          "model_module": "@jupyter-widgets/base",
          "model_name": "LayoutModel",
          "state": {
            "_view_name": "LayoutView",
            "grid_template_rows": null,
            "right": null,
            "justify_content": null,
            "_view_module": "@jupyter-widgets/base",
            "overflow": null,
            "_model_module_version": "1.2.0",
            "_view_count": null,
            "flex_flow": null,
            "width": null,
            "min_width": null,
            "border": null,
            "align_items": null,
            "bottom": null,
            "_model_module": "@jupyter-widgets/base",
            "top": null,
            "grid_column": null,
            "overflow_y": null,
            "overflow_x": null,
            "grid_auto_flow": null,
            "grid_area": null,
            "grid_template_columns": null,
            "flex": null,
            "_model_name": "LayoutModel",
            "justify_items": null,
            "grid_row": null,
            "max_height": null,
            "align_content": null,
            "visibility": null,
            "align_self": null,
            "height": null,
            "min_height": null,
            "padding": null,
            "grid_auto_rows": null,
            "grid_gap": null,
            "max_width": null,
            "order": null,
            "_view_module_version": "1.2.0",
            "grid_template_areas": null,
            "object_position": null,
            "object_fit": null,
            "grid_auto_columns": null,
            "margin": null,
            "display": null,
            "left": null
          }
        },
        "326dbb7bc8fd4ca9990b0d90a1a2a802": {
          "model_module": "@jupyter-widgets/controls",
          "model_name": "DescriptionStyleModel",
          "state": {
            "_view_name": "StyleView",
            "_model_name": "DescriptionStyleModel",
            "description_width": "",
            "_view_module": "@jupyter-widgets/base",
            "_model_module_version": "1.5.0",
            "_view_count": null,
            "_view_module_version": "1.2.0",
            "_model_module": "@jupyter-widgets/controls"
          }
        },
        "a9695a19db35496aa5f1b38e8e048d82": {
          "model_module": "@jupyter-widgets/base",
          "model_name": "LayoutModel",
          "state": {
            "_view_name": "LayoutView",
            "grid_template_rows": null,
            "right": null,
            "justify_content": null,
            "_view_module": "@jupyter-widgets/base",
            "overflow": null,
            "_model_module_version": "1.2.0",
            "_view_count": null,
            "flex_flow": null,
            "width": null,
            "min_width": null,
            "border": null,
            "align_items": null,
            "bottom": null,
            "_model_module": "@jupyter-widgets/base",
            "top": null,
            "grid_column": null,
            "overflow_y": null,
            "overflow_x": null,
            "grid_auto_flow": null,
            "grid_area": null,
            "grid_template_columns": null,
            "flex": null,
            "_model_name": "LayoutModel",
            "justify_items": null,
            "grid_row": null,
            "max_height": null,
            "align_content": null,
            "visibility": null,
            "align_self": null,
            "height": null,
            "min_height": null,
            "padding": null,
            "grid_auto_rows": null,
            "grid_gap": null,
            "max_width": null,
            "order": null,
            "_view_module_version": "1.2.0",
            "grid_template_areas": null,
            "object_position": null,
            "object_fit": null,
            "grid_auto_columns": null,
            "margin": null,
            "display": null,
            "left": null
          }
        }
      }
    }
  },
  "nbformat": 4,
  "nbformat_minor": 0
}