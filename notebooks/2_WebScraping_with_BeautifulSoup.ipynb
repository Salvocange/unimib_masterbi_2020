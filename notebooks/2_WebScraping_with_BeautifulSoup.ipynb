{
 "cells": [
  {
   "cell_type": "markdown",
   "metadata": {},
   "source": [
    "# Web Scraping con BeautifulSoup4\n",
    "\n",
    "In questo notebook vedremo come effettuare lo scraping di Immobiliare.it con **BeautifulSoup4**\n",
    "\n",
    "\n",
    "## Import delle librerie\n",
    "Per prima cosa importiamo le librerie necessarie:\n",
    "- la libreria **requests** ci servirà per scaricare il contenuto della pagina\n",
    "- la libreria *bs4* è BeautifulSoup4\n",
    "- la libreria csv ci servirà per salvare i dati in formato CSV, oppure vederemo l'utilizzo di **pandas**\n",
    "- tqdm ci fornisce una barra di avanzamento per verificare lo stato del caricamento\n",
    "- json, è la libreria python per lavorare (e fare il parse) di un file in formato json"
   ]
  },
  {
   "cell_type": "code",
   "execution_count": 1,
   "metadata": {},
   "outputs": [],
   "source": [
    "import requests\n",
    "import bs4\n",
    "import csv\n",
    "from tqdm import tqdm_notebook as tqdm\n",
    "import json\n",
    "import pprint"
   ]
  },
  {
   "cell_type": "markdown",
   "metadata": {},
   "source": [
    "## La libreria requests\n",
    "\n",
    "\n",
    "**requests, use the HTTP protocol to exchange data over the web**\n",
    "\n",
    "La libreria requests ci permette di ottenere il contenuto di una pagina web. In generale, dato un indirizzo web possiamo usare la libreria requests per fare il download di qualsiasi tipo di risorsa.\n",
    "\n",
    "Impostiamo l'indirizzo URL da cui partire a scaricare (copiamo da Google Chrome l'indirizzo....)."
   ]
  },
  {
   "cell_type": "code",
   "execution_count": 2,
   "metadata": {},
   "outputs": [],
   "source": [
    "num=1\n",
    "webpage = f\"https://www.immobiliare.it/vendita-case/milano-provincia/?criterio=rilevanza&pag={num}\""
   ]
  },
  {
   "cell_type": "markdown",
   "metadata": {},
   "source": [
    "Attraverso f-strings (*formatted literal string*) riusciamo ad inizializzare velocemente l'indirizzo che ci serve. Partiremo dalla pagina *1* di www.immobiliare.it"
   ]
  },
  {
   "cell_type": "code",
   "execution_count": 3,
   "metadata": {},
   "outputs": [
    {
     "name": "stdout",
     "output_type": "stream",
     "text": [
      "https://www.immobiliare.it/vendita-case/milano-provincia/?criterio=rilevanza&pag=1\n"
     ]
    }
   ],
   "source": [
    "print(webpage)"
   ]
  },
  {
   "cell_type": "markdown",
   "metadata": {},
   "source": [
    "Usiamo la **request** per scaricare il contenuto HTML della pagina web (simuliamo la chiamata del browset web).\n",
    "\n",
    "Il metodo **get** effettua una richiesta di tipo GET come quella che facciamo quando navighiamo con un browser.\n",
    "La risposta viene salvata nella variabile **response** che contiene:\n",
    "- *response.status_code* lo stato della nostra chiama (se 200 tutto ok...)\n",
    "- *response.content* la risposta in byte\n",
    "- *response.text* il contenuto della risposta in formato testuale"
   ]
  },
  {
   "cell_type": "code",
   "execution_count": null,
   "metadata": {},
   "outputs": [],
   "source": [
    "response = requests.get(webpage)\n",
    "print(\"Status: \" + str(response.status_code))\n",
    "print(\"Text: \" + str(response.text))"
   ]
  },
  {
   "cell_type": "markdown",
   "metadata": {},
   "source": [
    "\n",
    "## BeautifulSoup\n",
    "Passiamo il contenuto della pagina a **BS4**.\n",
    "\n",
    "BS4 fa il parse del documento e restituisci il corrisponde albero. Possiamo usare diversi tipi di **parser**, quello di default è quello che ci serve per fare la maggior parte del lavoro: **html.parser**\n",
    "\n",
    "\n",
    "Cosa è un parser?\n",
    "Un parser riceve in input un file in formato strutturato (es. xml, json, ...) e restituisce un documenti navigabile attraverso API ad alto livello.\n"
   ]
  },
  {
   "cell_type": "code",
   "execution_count": 8,
   "metadata": {},
   "outputs": [],
   "source": [
    "doc = bs4.BeautifulSoup(response.text)"
   ]
  },
  {
   "cell_type": "markdown",
   "metadata": {},
   "source": [
    "Qualche funzione di base di BS4\n",
    "\n",
    "doc.title\n",
    "doc.head\n",
    "doc.body\n",
    "\n",
    "**Provate a complatare il codice.**\n",
    "Che cosa restituiscono?"
   ]
  },
  {
   "cell_type": "code",
   "execution_count": null,
   "metadata": {},
   "outputs": [],
   "source": [
    "doc.t..."
   ]
  },
  {
   "cell_type": "code",
   "execution_count": null,
   "metadata": {},
   "outputs": [],
   "source": [
    "doc.h..."
   ]
  },
  {
   "cell_type": "code",
   "execution_count": null,
   "metadata": {},
   "outputs": [],
   "source": [
    "doc.b..."
   ]
  },
  {
   "cell_type": "markdown",
   "metadata": {},
   "source": [
    "Cerchiamo tutti gli annunci nella pagina.\n",
    "Possiamo usare diversi metodi:\n",
    "- **find**: restituisce UN solo elemento\n",
    "- **find_all**: restituisce una lista di elementi\n",
    "- **select**: posso specificare una query per ritornare tutti gli elementi che corrispondono\n",
    "\n",
    "Per ognuno dei due metodi posso specificare delle condizioni:\n",
    "- id=\"my_id\" --> seleziona per id dell'elemento\n",
    "- class_=\"my_class\" --> seleziona per classe\n",
    "\n",
    "\n",
    "Proviamo ad estrarre tutti i tag paragrafo **p** dalla pagina."
   ]
  },
  {
   "cell_type": "code",
   "execution_count": 22,
   "metadata": {},
   "outputs": [
    {
     "data": {
      "text/plain": [
       "65"
      ]
     },
     "execution_count": 22,
     "metadata": {},
     "output_type": "execute_result"
    }
   ],
   "source": [
    "p = doc.find_all(\"p\")\n",
    "len(p)"
   ]
  },
  {
   "cell_type": "markdown",
   "metadata": {},
   "source": [
    "Provate ora ad estrarre tutti i titoli **h1**... quanti sono? cosa contengono?"
   ]
  },
  {
   "cell_type": "code",
   "execution_count": null,
   "metadata": {},
   "outputs": [],
   "source": [
    "h1 = doc.....\n",
    "print(len(...))\n",
    "print(h1[0].text)"
   ]
  },
  {
   "cell_type": "markdown",
   "metadata": {},
   "source": [
    "Cerchiamo tutti gli annunci nella pagina."
   ]
  },
  {
   "cell_type": "code",
   "execution_count": 14,
   "metadata": {},
   "outputs": [],
   "source": [
    "annunci = doc.find(id=\"listing-container\").find_all('li',class_=\"listing-item--wide\")"
   ]
  },
  {
   "cell_type": "code",
   "execution_count": 15,
   "metadata": {},
   "outputs": [
    {
     "data": {
      "text/plain": [
       "25"
      ]
     },
     "execution_count": 15,
     "metadata": {},
     "output_type": "execute_result"
    }
   ],
   "source": [
    "len(annunci)"
   ]
  },
  {
   "cell_type": "markdown",
   "metadata": {},
   "source": [
    "25 Annunci !!! Perfetto!\n"
   ]
  },
  {
   "cell_type": "markdown",
   "metadata": {},
   "source": [
    "Andiamo ad esportare i dati degli annunci delle case in vendita.\n",
    "\n",
    "**Provate a completare il codice per estrarre tutti gli attributi:**\n"
   ]
  },
  {
   "cell_type": "code",
   "execution_count": null,
   "metadata": {},
   "outputs": [],
   "source": [
    "annunci_list = []\n",
    "for annuncio in annunci:\n",
    "    titolo = annuncio.find(\"p\",class_=\"titolo\").text\n",
    "    #\n",
    "    # estraiamo il campo data-id che rappresenta l'id dell'annuncio\n",
    "    #\n",
    "    #\n",
    "    annuncio_id = annuncio[\"data-id\"]\n",
    "    url = annuncio.find(\"p\",class_=\"titolo\").find(\"a\")[\"href\"]\n",
    "    prezzo = annuncio.find(...,...).text\n",
    "    descrizione_breve = annuncio.find(\"div\",class_=\"descrizione\").text\n",
    "    #\n",
    "    # appendiamo il record alla nostra lista di annunci\n",
    "    #\n",
    "    annunci_list.append({'id': annuncio_id, 'titolo': titolo, 'link': url, \n",
    "                         'prezzo': prezzo, 'descrizione_breve': descrizione_breve})\n",
    "\n",
    "len(annunci_list)"
   ]
  },
  {
   "cell_type": "markdown",
   "metadata": {},
   "source": [
    "Ora andiamo a scaricare tutti gli annunci di Immobiliare.it relativi alla provincia di Milano.\n",
    "Dobbiamo *ciclare* sulle pagine finché non troviamo più annunci...\n",
    "\n",
    "\n",
    "\n",
    "Primo passo cerchiamo di scaricare 10 pagine...\n",
    "\n",
    "**Completate la funzione in base all'esempio singolo**"
   ]
  },
  {
   "cell_type": "code",
   "execution_count": 16,
   "metadata": {},
   "outputs": [],
   "source": [
    "def parse_annuncio(annuncio):\n",
    "    titolo = annuncio.find(\"p\",class_=\"titolo\").text\n",
    "    #\n",
    "    # estraiamo il campo data-id che rappresenta l'id dell'annuncio\n",
    "    #\n",
    "    #\n",
    "    annuncio_id = annuncio[\"data-id\"]\n",
    "    url = annuncio.find(\"p\",class_=\"titolo\").find(\"a\")[\"href\"]\n",
    "    prezzo = annuncio.find(\"li\",class_=\"lif__pricing\").text\n",
    "    descrizione_breve = annuncio.find(\"div\",class_=\"descrizione\").text\n",
    "    #\n",
    "    # ritorniamo il record\n",
    "    #\n",
    "    return {'id': annuncio_id, 'titolo': titolo, 'link': url, \n",
    "                         'prezzo': prezzo, 'descrizione_breve': descrizione_breve}\n"
   ]
  },
  {
   "cell_type": "markdown",
   "metadata": {},
   "source": [
    "**A questo punto facciamo un ciclo fino alla pagina 10... provate a completarlo!**"
   ]
  },
  {
   "cell_type": "code",
   "execution_count": 17,
   "metadata": {},
   "outputs": [
    {
     "data": {
      "application/vnd.jupyter.widget-view+json": {
       "model_id": "90fe1c8d68934124b31a693de7acb2c6",
       "version_major": 2,
       "version_minor": 0
      },
      "text/plain": [
       "HBox(children=(IntProgress(value=0, max=10), HTML(value='')))"
      ]
     },
     "metadata": {},
     "output_type": "display_data"
    },
    {
     "name": "stdout",
     "output_type": "stream",
     "text": [
      "\n",
      "250\n"
     ]
    }
   ],
   "source": [
    "annunci_list = []\n",
    "for num in tqdm(range(1,11)):\n",
    "    webpage = f\"https://www.immobiliare.it/vendita-case/milano-provincia/?criterio=rilevanza&pag={num}\"\n",
    "    response = requests.get(webpage)\n",
    "    doc = bs4.BeautifulSoup(response.text)\n",
    "    annunci = doc.find(id=\"listing-container\").find_all('li',class_=\"listing-item--wide\")\n",
    "    for annuncio in annunci:\n",
    "        annunci_list.append(parse_annuncio(annuncio))\n",
    "\n",
    "print(len(annunci_list))\n",
    "        "
   ]
  },
  {
   "cell_type": "markdown",
   "metadata": {},
   "source": [
    "Avete visto la libreria **tqdm**!\n",
    "Trovate a questo link tutta la documentazione **https://github.com/tqdm/tqdm**:\n",
    "è molto utile per rendere più piacevole il nostro notebook"
   ]
  },
  {
   "cell_type": "markdown",
   "metadata": {},
   "source": [
    "## Come terminare lo scraping?\n",
    "\n",
    "Problema: *quando mi fermo?*\n",
    "- Posso cercare all'interno della pagina il numero di annuncio e dividerlo per 25\n",
    "- Posso controllare lo stato della request (se != 200...)\n",
    "- Posso controllare il numero di annunci trovati (se > 0....)\n",
    "- Altre tecniche più avanzate\n",
    "\n",
    "Per questo esercizio scegliamo di fermarci a 100 pagine..."
   ]
  },
  {
   "cell_type": "code",
   "execution_count": null,
   "metadata": {},
   "outputs": [],
   "source": [
    "annunci_list = []\n",
    "for num in tqdm(range(1,101)):\n",
    "    webpage = f\"https://www.immobiliare.it/vendita-case/milano-provincia/?criterio=rilevanza&pag={num}\"\n",
    "    response = requests.get(webpage)\n",
    "    doc = bs4.BeautifulSoup(response.text)\n",
    "    annunci = doc.find(id=\"listing-container\").find_all('li',class_=\"listing-item--wide\")\n",
    "    for annuncio in annunci:\n",
    "        try:\n",
    "            annunci_list.append(parse_annuncio(annuncio))\n",
    "        except:\n",
    "            pass\n",
    "\n",
    "print(len(annunci_list))"
   ]
  },
  {
   "cell_type": "markdown",
   "metadata": {},
   "source": [
    "## Pandas\n",
    "\n",
    "**Bene!** Iniziamo a vedere un'altra libreria fondamentale per lavorare con i dati!\n",
    "Si tratta di **pandas**: *Python library for data analisys*\n",
    "In pratica con pandas possiamo manipolare un set di dati o una serie storica in Python.\n",
    "\n",
    "Per ora iniziamo solo a dare un paio di concetti.\n",
    "\n",
    "Alla base di Pandas ci sono due tipi di dati: **Series** ed **DataFrame**:\n",
    "- Series rappresenta una lista di dati\n",
    "- DataFrame rappresentano un set di dati in formato tabellare\n",
    "\n",
    "Ogni colonna di un DataFrame è una Series.\n",
    "\n",
    "Possiamo crare un **DataFrame** utilizzato il metodo *pd.DataFrame* passando in input come parametro il nostro dizionario.\n",
    "\n",
    "Un DataFrame pandas può essere facilmente esportato in formato CSV, Excel, ...\n"
   ]
  },
  {
   "cell_type": "code",
   "execution_count": null,
   "metadata": {},
   "outputs": [],
   "source": [
    "import pandas as pd\n",
    "ds_annunci = pd.DataFrame(annunci_list)\n",
    "ds_annunci.set_index(\"id\")\n",
    "ds_annunci.head()"
   ]
  },
  {
   "cell_type": "markdown",
   "metadata": {},
   "source": [
    "Il metodo **.info()** fornisce indicazione sulla struttura e sui dati del DataFrame."
   ]
  },
  {
   "cell_type": "code",
   "execution_count": null,
   "metadata": {},
   "outputs": [],
   "source": [
    "ds_annunci.info()"
   ]
  },
  {
   "cell_type": "code",
   "execution_count": 23,
   "metadata": {},
   "outputs": [],
   "source": [
    "ds_annunci.to_csv(\"/home/master/immobiliare_annunci.csv\")"
   ]
  },
  {
   "cell_type": "markdown",
   "metadata": {},
   "source": [
    "## Le pagine degli annunci ###\n",
    "Ora l'obiettivo è scaricare i dettagli dei singoli annunci e le immagini delle case.\n",
    "\n",
    "**Pandas** fornisce il metodo *.read_csv* che permette di caricare in file in formato CSV all'interno di un DataFrame.\n"
   ]
  },
  {
   "cell_type": "code",
   "execution_count": 5,
   "metadata": {},
   "outputs": [
    {
     "data": {
      "text/html": [
       "<div>\n",
       "<style scoped>\n",
       "    .dataframe tbody tr th:only-of-type {\n",
       "        vertical-align: middle;\n",
       "    }\n",
       "\n",
       "    .dataframe tbody tr th {\n",
       "        vertical-align: top;\n",
       "    }\n",
       "\n",
       "    .dataframe thead th {\n",
       "        text-align: right;\n",
       "    }\n",
       "</style>\n",
       "<table border=\"1\" class=\"dataframe\">\n",
       "  <thead>\n",
       "    <tr style=\"text-align: right;\">\n",
       "      <th></th>\n",
       "      <th>Unnamed: 0</th>\n",
       "      <th>descrizione_breve</th>\n",
       "      <th>link</th>\n",
       "      <th>prezzo</th>\n",
       "      <th>titolo</th>\n",
       "    </tr>\n",
       "    <tr>\n",
       "      <th>id</th>\n",
       "      <th></th>\n",
       "      <th></th>\n",
       "      <th></th>\n",
       "      <th></th>\n",
       "      <th></th>\n",
       "    </tr>\n",
       "  </thead>\n",
       "  <tbody>\n",
       "    <tr>\n",
       "      <th>60469012</th>\n",
       "      <td>0</td>\n",
       "      <td>\\nSplendido 2 locali ultimo piano, centro stor...</td>\n",
       "      <td>https://www.immobiliare.it/60469012-Vendita-Bi...</td>\n",
       "      <td>\\n                    € 107.000\\n</td>\n",
       "      <td>\\n\\n                        Bilocale via Moden...</td>\n",
       "    </tr>\n",
       "    <tr>\n",
       "      <th>72525508</th>\n",
       "      <td>1</td>\n",
       "      <td>\\nSegrate, tre locali\\nSegrate, in posizione c...</td>\n",
       "      <td>https://www.immobiliare.it/72525508-Vendita-Tr...</td>\n",
       "      <td>\\n                    € 269.000\\n</td>\n",
       "      <td>\\n\\n                        Trilocale via 1 Ma...</td>\n",
       "    </tr>\n",
       "    <tr>\n",
       "      <th>72531510</th>\n",
       "      <td>2</td>\n",
       "      <td>\\nSegrate, due locali\\nSegrate, ideale per gio...</td>\n",
       "      <td>https://www.immobiliare.it/72531510-Vendita-Bi...</td>\n",
       "      <td>\\n                    € 116.000\\n</td>\n",
       "      <td>\\n\\n                        Bilocale via Roma,...</td>\n",
       "    </tr>\n",
       "    <tr>\n",
       "      <th>72717754</th>\n",
       "      <td>3</td>\n",
       "      <td>\\nAdiacenze p.zza piola vendesi splendido appa...</td>\n",
       "      <td>https://www.immobiliare.it/72717754-Vendita-Ap...</td>\n",
       "      <td>\\n                    € 980.000\\n</td>\n",
       "      <td>\\n\\n                        Appartamento via L...</td>\n",
       "    </tr>\n",
       "    <tr>\n",
       "      <th>72673202</th>\n",
       "      <td>4</td>\n",
       "      <td>\\nAd.ze piazzale bologna vendesi trilocale da ...</td>\n",
       "      <td>https://www.immobiliare.it/72673202-Vendita-Tr...</td>\n",
       "      <td>\\n                    € 185.000\\n</td>\n",
       "      <td>\\n\\n                        Trilocale via Dome...</td>\n",
       "    </tr>\n",
       "  </tbody>\n",
       "</table>\n",
       "</div>"
      ],
      "text/plain": [
       "          Unnamed: 0                                  descrizione_breve  \\\n",
       "id                                                                        \n",
       "60469012           0  \\nSplendido 2 locali ultimo piano, centro stor...   \n",
       "72525508           1  \\nSegrate, tre locali\\nSegrate, in posizione c...   \n",
       "72531510           2  \\nSegrate, due locali\\nSegrate, ideale per gio...   \n",
       "72717754           3  \\nAdiacenze p.zza piola vendesi splendido appa...   \n",
       "72673202           4  \\nAd.ze piazzale bologna vendesi trilocale da ...   \n",
       "\n",
       "                                                       link  \\\n",
       "id                                                            \n",
       "60469012  https://www.immobiliare.it/60469012-Vendita-Bi...   \n",
       "72525508  https://www.immobiliare.it/72525508-Vendita-Tr...   \n",
       "72531510  https://www.immobiliare.it/72531510-Vendita-Bi...   \n",
       "72717754  https://www.immobiliare.it/72717754-Vendita-Ap...   \n",
       "72673202  https://www.immobiliare.it/72673202-Vendita-Tr...   \n",
       "\n",
       "                                                     prezzo  \\\n",
       "id                                                            \n",
       "60469012  \\n                    € 107.000\\n                   \n",
       "72525508  \\n                    € 269.000\\n                   \n",
       "72531510  \\n                    € 116.000\\n                   \n",
       "72717754  \\n                    € 980.000\\n                   \n",
       "72673202  \\n                    € 185.000\\n                   \n",
       "\n",
       "                                                     titolo  \n",
       "id                                                           \n",
       "60469012  \\n\\n                        Bilocale via Moden...  \n",
       "72525508  \\n\\n                        Trilocale via 1 Ma...  \n",
       "72531510  \\n\\n                        Bilocale via Roma,...  \n",
       "72717754  \\n\\n                        Appartamento via L...  \n",
       "72673202  \\n\\n                        Trilocale via Dome...  "
      ]
     },
     "execution_count": 5,
     "metadata": {},
     "output_type": "execute_result"
    }
   ],
   "source": [
    "# aprimo il file csv\n",
    "import pandas as pd\n",
    "ds_annunci = pd.read_csv(\"/home/master/dataset/immobiliare/immobiliare_annunci.csv\", index_col=\"id\")\n",
    "ds_annunci.head()"
   ]
  },
  {
   "cell_type": "markdown",
   "metadata": {},
   "source": [
    "**Per ogni annuncio andiamo a richiamre il link... come facciamo secondo voi?**\n",
    "Facciamo una prova con i primi 5 annunci.\n"
   ]
  },
  {
   "cell_type": "code",
   "execution_count": null,
   "metadata": {},
   "outputs": [],
   "source": [
    "dettagli = []\n",
    "for annuncio_id, annuncio in ds_annunci.head().iterrows():\n",
    "    link = annuncio[\"link\"]\n",
    "    response = requests.get(link)\n",
    "    doc = bs4.BeautifulSoup(response.text)\n",
    "    descrizione = doc.select(...)[0].text\n",
    "    caratteristiche = doc.select(\"div.im-property__features ul.list-piped > li\")\n",
    "    indirizzo = doc.select(.....).....\n",
    "    locali = caratteristiche[0].text\n",
    "    superficie = caratteristiche[1].text\n",
    "    bagni = caratteristiche[2].text\n",
    "    piano = caratteristiche[3].text\n",
    "    garanzia = caratteristiche[4].text\n",
    "    dettagli.append({'id': annuncio_id, 'descrizione': ..., 'locali': ...,\n",
    "                     'superficie': ..., 'bagni': ...,\n",
    "                     'piano': ..., 'garanzia': ..., 'indirizzo': indirizzo})\n",
    "    # scarichiamo le immagini\n",
    "    imgs = doc.select(\"div.showcase__item > img\")\n",
    "    i = 0\n",
    "    for img in imgs:\n",
    "        src = img['src']\n",
    "        img_file = requests.get(src, stream=True)\n",
    "        if img_file.status_code == 200:\n",
    "            with open(\"/home/master/dataset/immobiliare/immagini/img_\" + str(annuncio_id) + \"_\" + str(i) + \".jpg\", 'wb') as f:\n",
    "                f.write(img_file.content)\n",
    "            i = i+1\n",
    "len(dettagli)"
   ]
  },
  {
   "cell_type": "code",
   "execution_count": null,
   "metadata": {},
   "outputs": [],
   "source": [
    "import pandas as pd\n",
    "ds_dettagli = pd.DataFrame(dettagli)\n",
    "ds_dettagli.set_index(\"id\")\n",
    "ds_dettagli.head()"
   ]
  },
  {
   "cell_type": "markdown",
   "metadata": {},
   "source": [
    "Ok procediamo cercando di fare qualcosa di più strutturato...."
   ]
  },
  {
   "cell_type": "code",
   "execution_count": 35,
   "metadata": {},
   "outputs": [
    {
     "data": {
      "text/html": [
       "<div>\n",
       "<style scoped>\n",
       "    .dataframe tbody tr th:only-of-type {\n",
       "        vertical-align: middle;\n",
       "    }\n",
       "\n",
       "    .dataframe tbody tr th {\n",
       "        vertical-align: top;\n",
       "    }\n",
       "\n",
       "    .dataframe thead th {\n",
       "        text-align: right;\n",
       "    }\n",
       "</style>\n",
       "<table border=\"1\" class=\"dataframe\">\n",
       "  <thead>\n",
       "    <tr style=\"text-align: right;\">\n",
       "      <th></th>\n",
       "      <th>Unnamed: 0</th>\n",
       "      <th>descrizione_breve</th>\n",
       "      <th>link</th>\n",
       "      <th>prezzo</th>\n",
       "      <th>titolo</th>\n",
       "    </tr>\n",
       "    <tr>\n",
       "      <th>id</th>\n",
       "      <th></th>\n",
       "      <th></th>\n",
       "      <th></th>\n",
       "      <th></th>\n",
       "      <th></th>\n",
       "    </tr>\n",
       "  </thead>\n",
       "  <tbody>\n",
       "    <tr>\n",
       "      <th>60469012</th>\n",
       "      <td>0</td>\n",
       "      <td>\\nSplendido 2 locali ultimo piano, centro stor...</td>\n",
       "      <td>https://www.immobiliare.it/60469012-Vendita-Bi...</td>\n",
       "      <td>\\n                    € 107.000\\n</td>\n",
       "      <td>\\n\\n                        Bilocale via Moden...</td>\n",
       "    </tr>\n",
       "    <tr>\n",
       "      <th>72525508</th>\n",
       "      <td>1</td>\n",
       "      <td>\\nSegrate, tre locali\\nSegrate, in posizione c...</td>\n",
       "      <td>https://www.immobiliare.it/72525508-Vendita-Tr...</td>\n",
       "      <td>\\n                    € 269.000\\n</td>\n",
       "      <td>\\n\\n                        Trilocale via 1 Ma...</td>\n",
       "    </tr>\n",
       "    <tr>\n",
       "      <th>72531510</th>\n",
       "      <td>2</td>\n",
       "      <td>\\nSegrate, due locali\\nSegrate, ideale per gio...</td>\n",
       "      <td>https://www.immobiliare.it/72531510-Vendita-Bi...</td>\n",
       "      <td>\\n                    € 116.000\\n</td>\n",
       "      <td>\\n\\n                        Bilocale via Roma,...</td>\n",
       "    </tr>\n",
       "    <tr>\n",
       "      <th>72717754</th>\n",
       "      <td>3</td>\n",
       "      <td>\\nAdiacenze p.zza piola vendesi splendido appa...</td>\n",
       "      <td>https://www.immobiliare.it/72717754-Vendita-Ap...</td>\n",
       "      <td>\\n                    € 980.000\\n</td>\n",
       "      <td>\\n\\n                        Appartamento via L...</td>\n",
       "    </tr>\n",
       "    <tr>\n",
       "      <th>72673202</th>\n",
       "      <td>4</td>\n",
       "      <td>\\nAd.ze piazzale bologna vendesi trilocale da ...</td>\n",
       "      <td>https://www.immobiliare.it/72673202-Vendita-Tr...</td>\n",
       "      <td>\\n                    € 185.000\\n</td>\n",
       "      <td>\\n\\n                        Trilocale via Dome...</td>\n",
       "    </tr>\n",
       "  </tbody>\n",
       "</table>\n",
       "</div>"
      ],
      "text/plain": [
       "          Unnamed: 0                                  descrizione_breve  \\\n",
       "id                                                                        \n",
       "60469012           0  \\nSplendido 2 locali ultimo piano, centro stor...   \n",
       "72525508           1  \\nSegrate, tre locali\\nSegrate, in posizione c...   \n",
       "72531510           2  \\nSegrate, due locali\\nSegrate, ideale per gio...   \n",
       "72717754           3  \\nAdiacenze p.zza piola vendesi splendido appa...   \n",
       "72673202           4  \\nAd.ze piazzale bologna vendesi trilocale da ...   \n",
       "\n",
       "                                                       link  \\\n",
       "id                                                            \n",
       "60469012  https://www.immobiliare.it/60469012-Vendita-Bi...   \n",
       "72525508  https://www.immobiliare.it/72525508-Vendita-Tr...   \n",
       "72531510  https://www.immobiliare.it/72531510-Vendita-Bi...   \n",
       "72717754  https://www.immobiliare.it/72717754-Vendita-Ap...   \n",
       "72673202  https://www.immobiliare.it/72673202-Vendita-Tr...   \n",
       "\n",
       "                                                     prezzo  \\\n",
       "id                                                            \n",
       "60469012  \\n                    € 107.000\\n                   \n",
       "72525508  \\n                    € 269.000\\n                   \n",
       "72531510  \\n                    € 116.000\\n                   \n",
       "72717754  \\n                    € 980.000\\n                   \n",
       "72673202  \\n                    € 185.000\\n                   \n",
       "\n",
       "                                                     titolo  \n",
       "id                                                           \n",
       "60469012  \\n\\n                        Bilocale via Moden...  \n",
       "72525508  \\n\\n                        Trilocale via 1 Ma...  \n",
       "72531510  \\n\\n                        Bilocale via Roma,...  \n",
       "72717754  \\n\\n                        Appartamento via L...  \n",
       "72673202  \\n\\n                        Trilocale via Dome...  "
      ]
     },
     "execution_count": 35,
     "metadata": {},
     "output_type": "execute_result"
    }
   ],
   "source": [
    "ds_annunci.head()"
   ]
  },
  {
   "cell_type": "code",
   "execution_count": null,
   "metadata": {},
   "outputs": [],
   "source": [
    "dettagli = []\n",
    "for annuncio_id, annuncio in tqdm(ds_annunci.head().iterrows(), total=ds_annunci.head().shape[0]):\n",
    "    try:\n",
    "        link = annuncio[\"link\"]\n",
    "        response = requests.get(link)\n",
    "        doc = bs4.BeautifulSoup(response.text)\n",
    "        descrizione = doc.select(\"div#description\")[0].text\n",
    "        caratteristiche = doc.select(\"div.im-property__features ul.list-piped > li .text-bold\")\n",
    "        indirizzo = doc.select(\"span.im-address__content\")[0].text\n",
    "        ## dati\n",
    "        dati = doc.select(\"dd.col-xs-12.col-sm-8 > span\")\n",
    "        tipologia = \"\"\n",
    "        if(len(dati)>0):\n",
    "            tipologia=dati[0].text\n",
    "        locali = \"\"\n",
    "        superficie = \"\"\n",
    "        bagni = \"\"\n",
    "        piano = \"\"\n",
    "        garanzia = \"\"\n",
    "        try:\n",
    "            locali = caratteristiche[0].text if(len(caratteristiche)>=1) else \"\"\n",
    "            superficie = caratteristiche[1].text if(len(caratteristiche)>=2) else \"\"\n",
    "            bagni = caratteristiche[2].text if(len(caratteristiche)>=3) else \"\"\n",
    "            piano = caratteristiche[3].text if(len(caratteristiche)>=4) else \"\"\n",
    "            garanzia = caratteristiche[4].text if(len(caratteristiche)>=5) else \"\"\n",
    "        except:\n",
    "            pass\n",
    "        \n",
    "        ## caratteristiche\n",
    "        fibra_ottica = \"N\"\n",
    "        porta_blindata = \"N\"\n",
    "        arredato = \"N\"\n",
    "        giardiano = \"N\"\n",
    "        tags = doc.select(\"span.label-gray\")\n",
    "        for tag in tags:\n",
    "            if tag.text == \"Fibra ottica\": fibra_ottica = \"Y\"\n",
    "            if tag.text == \"Porta blindata\": porta_blindata = \"Y\"\n",
    "            if tag.text == \"Giardino comune\": giardino = \"Y\"\n",
    "            if tag.text == \"Arredato\": arredato = \"Y\"\n",
    "        \n",
    "        dettagli.append({'id': annuncio_id, 'descrizione': descrizione, 'locali': locali,\n",
    "                         'superficie': superficie, 'bagni': bagni,\n",
    "                         'piano': piano, 'garanzia': garanzia, 'indirizzo': indirizzo,\n",
    "                         'tipologia': tipologia, 'link': link, 'fibra_ottica': fibra_ottica,\n",
    "                        \"arredato\": arredato, 'porta_blindata': porta_blindata})\n",
    "        \n",
    "        imgs = doc.select(\"div.showcase__item > img\")\n",
    "        i = 0\n",
    "        for img in imgs:\n",
    "            src = img['src']\n",
    "            img_file = requests.get(src, stream=True)\n",
    "            if img_file.status_code == 200:\n",
    "                with open(\"/home/master/dataset/immobiliare/immagini/img_\" + str(annuncio_id) + \"_\" + str(i) + \".jpg\", 'wb') as f:\n",
    "                    f.write(img_file.content)\n",
    "                i = i+1\n",
    "    except:\n",
    "        pass\n",
    "\n",
    "\n",
    "len(dettagli)"
   ]
  },
  {
   "cell_type": "code",
   "execution_count": null,
   "metadata": {},
   "outputs": [],
   "source": [
    "import pandas as pd\n",
    "ds_dettagli = pd.DataFrame(dettagli)\n",
    "ds_dettagli.set_index(\"id\")\n",
    "ds_dettagli.head()"
   ]
  },
  {
   "cell_type": "code",
   "execution_count": null,
   "metadata": {},
   "outputs": [],
   "source": [
    "ds_dettagli.info()"
   ]
  },
  {
   "cell_type": "code",
   "execution_count": null,
   "metadata": {},
   "outputs": [],
   "source": [
    "## per evitare di vedere dati troncati\n",
    "#pd.set_option('display.max_colwidth', -1)\n",
    "print(ds_dettagli[[\"link\"]])"
   ]
  },
  {
   "cell_type": "code",
   "execution_count": null,
   "metadata": {},
   "outputs": [],
   "source": [
    "ds_dettagli.to_csv(\"/home/master/dataset/immobiliare/immobiliare_dettagli.csv\")"
   ]
  },
  {
   "cell_type": "markdown",
   "metadata": {},
   "source": [
    "# API\n",
    "\n",
    "Vediamo come utilizzare la libreria **requests** per agganciare API messe a disposizione dai nostri fornitori o dai nostri colleghi.\n",
    "\n",
    "## Crarifai\n",
    "Proviamo i servizi messi a disposizione da Clarifai per aumentare i dati che abbiamo a disposizione."
   ]
  },
  {
   "cell_type": "code",
   "execution_count": 24,
   "metadata": {},
   "outputs": [],
   "source": [
    "from clarifai.rest import ClarifaiApp\n",
    "\n",
    "# impostate la vostra chiave!!!!\n",
    "clarifai_key = \"41a0bb727c0c462d8cd09aa359fa9649\"\n",
    "app = ClarifaiApp(api_key=clarifai_key)\n",
    "\n",
    "# usiamo il modello generale\n",
    "model = app.public_models.general_model"
   ]
  },
  {
   "cell_type": "markdown",
   "metadata": {},
   "source": [
    "Utilizziamo il metodo **predict_by_filename** per ottenere i **concetti** all'interno della pagina."
   ]
  },
  {
   "cell_type": "code",
   "execution_count": null,
   "metadata": {},
   "outputs": [],
   "source": [
    "\n",
    "response = model.predict_by_filename(\"/home/master/dataset/immobiliare_orig/immagini/img_73748534_0.jpg\")"
   ]
  },
  {
   "cell_type": "markdown",
   "metadata": {},
   "source": [
    "Controlliamo il contenuto della risposta. Ci interessa trovare tutti i concenti contenuti e il loro score."
   ]
  },
  {
   "cell_type": "code",
   "execution_count": 8,
   "metadata": {},
   "outputs": [
    {
     "name": "stdout",
     "output_type": "stream",
     "text": [
      "{'status': {'code': 10000, 'description': 'Ok', 'req_id': '89465528daa645e2abb73d985762be49'}, 'outputs': [{'id': '5aaf84c1be8f4b7cb1dc40a692133e62', 'status': {'code': 10000, 'description': 'Ok'}, 'created_at': '2019-05-22T10:02:33.499186393Z', 'model': {'id': 'aaa03c23b3724a16a56b629203edc62c', 'name': 'general', 'created_at': '2016-03-09T17:11:39.608845Z', 'app_id': 'main', 'output_info': {'message': 'Show output_info with: GET /models/{model_id}/output_info', 'type': 'concept', 'type_ext': 'concept'}, 'model_version': {'id': 'aa9ca48295b37401f8af92ad1af0d91d', 'created_at': '2016-07-13T01:19:12.147644Z', 'status': {'code': 21100, 'description': 'Model trained successfully'}}, 'display_name': 'General'}, 'input': {'id': '95e397413b5f4b49ae961824e5f5f9ca', 'data': {'image': {'url': 'https://s3.amazonaws.com/clarifai-api/img3/prod/orig/00eb67caa5984d29a2a4b953dee98649/4b2de98cfe2e90b3efaff347a0587eea', 'base64': 'dHJ1ZQ=='}}}, 'data': {'concepts': [{'id': 'ai_c9n7SB25', 'name': 'furniture', 'value': 0.9990891218185425, 'app_id': 'main'}, {'id': 'ai_pPxqdnP5', 'name': 'room', 'value': 0.9975548386573792, 'app_id': 'main'}, {'id': 'ai_Pf2b7clG', 'name': 'indoors', 'value': 0.9934395551681519, 'app_id': 'main'}, {'id': 'ai_lWJnj5XV', 'name': 'interior design', 'value': 0.9901063442230225, 'app_id': 'main'}, {'id': 'ai_xxnGcd42', 'name': 'seat', 'value': 0.988335371017456, 'app_id': 'main'}, {'id': 'ai_VTlCx2f2', 'name': 'window', 'value': 0.980469822883606, 'app_id': 'main'}, {'id': 'ai_bJt1PfQ5', 'name': 'bedroom', 'value': 0.9745944738388062, 'app_id': 'main'}, {'id': 'ai_TXJ61ckM', 'name': 'lamp', 'value': 0.973411500453949, 'app_id': 'main'}, {'id': 'ai_x3vjxJsW', 'name': 'home', 'value': 0.9732177257537842, 'app_id': 'main'}, {'id': 'ai_8LWlDfFD', 'name': 'table', 'value': 0.9710896611213684, 'app_id': 'main'}, {'id': 'ai_GzMCzJF9', 'name': 'chair', 'value': 0.9704452157020569, 'app_id': 'main'}, {'id': 'ai_9Dcdh0PK', 'name': 'house', 'value': 0.9665247797966003, 'app_id': 'main'}, {'id': 'ai_B2TBwp8F', 'name': 'bed', 'value': 0.9629145264625549, 'app_id': 'main'}, {'id': 'ai_j09mzT6j', 'name': 'family', 'value': 0.9598959684371948, 'app_id': 'main'}, {'id': 'ai_XfLPtf7R', 'name': 'sofa', 'value': 0.9572453498840332, 'app_id': 'main'}, {'id': 'ai_lbNgcptP', 'name': 'rug', 'value': 0.9556664228439331, 'app_id': 'main'}, {'id': 'ai_9zQjWfGP', 'name': 'cushion', 'value': 0.9493708610534668, 'app_id': 'main'}, {'id': 'ai_dNV4Fh7B', 'name': 'curtain', 'value': 0.9439741969108582, 'app_id': 'main'}, {'id': 'ai_CpP10lgd', 'name': 'trading floor', 'value': 0.9394346475601196, 'app_id': 'main'}, {'id': 'ai_N8lt4NQt', 'name': 'pillow', 'value': 0.9329138994216919, 'app_id': 'main'}]}}]}\n"
     ]
    }
   ],
   "source": [
    "print(response)"
   ]
  },
  {
   "cell_type": "markdown",
   "metadata": {},
   "source": [
    "Recuperiamo i dati..."
   ]
  },
  {
   "cell_type": "code",
   "execution_count": 6,
   "metadata": {},
   "outputs": [
    {
     "name": "stdout",
     "output_type": "stream",
     "text": [
      "furniture 0.9990891218185425\n",
      "room 0.9975548386573792\n",
      "indoors 0.9934395551681519\n",
      "interior design 0.9901063442230225\n",
      "seat 0.988335371017456\n",
      "window 0.980469822883606\n",
      "bedroom 0.9745944738388062\n",
      "lamp 0.973411500453949\n",
      "home 0.9732177257537842\n",
      "table 0.9710896611213684\n",
      "chair 0.9704452157020569\n",
      "house 0.9665247797966003\n",
      "bed 0.9629145264625549\n",
      "family 0.9598959684371948\n",
      "sofa 0.9572453498840332\n",
      "rug 0.9556664228439331\n",
      "cushion 0.9493708610534668\n",
      "curtain 0.9439741969108582\n",
      "trading floor 0.9394346475601196\n",
      "pillow 0.9329138994216919\n"
     ]
    }
   ],
   "source": [
    "if(response['status']['description'] == \"Ok\"):\n",
    "    for concept in response[\"outputs\"][0][\"data\"][\"concepts\"]:\n",
    "        name = concept[\"name\"]\n",
    "        value = concept[\"value\"]\n",
    "        print(name + \" \" + str(value))"
   ]
  },
  {
   "cell_type": "markdown",
   "metadata": {},
   "source": [
    "# Geocoding\n",
    "\n",
    "Cosa è il geocoding?"
   ]
  },
  {
   "cell_type": "markdown",
   "metadata": {},
   "source": [
    "Localizziamo ora la casa in vendita con le API di **MapQuest**\n",
    "\n"
   ]
  },
  {
   "cell_type": "code",
   "execution_count": 31,
   "metadata": {},
   "outputs": [],
   "source": [
    "indirizzo = \"via finazzi 46, carvico(bg)\"\n",
    "key = \"r3xgNwBAviBMdOj4Op90kvyy2iO1CDGz\"\n",
    "geocode_url = f\"http://www.mapquestapi.com/geocoding/v1/address?key={key}&location={indirizzo}\"\n",
    "response = requests.get(geocode_url)"
   ]
  },
  {
   "cell_type": "code",
   "execution_count": 34,
   "metadata": {},
   "outputs": [
    {
     "name": "stdout",
     "output_type": "stream",
     "text": [
      "{\"info\":{\"statuscode\":0,\"copyright\":{\"text\":\"\\u00A9 2019 MapQuest, Inc.\",\"imageUrl\":\"http://api.mqcdn.com/res/mqlogo.gif\",\"imageAltText\":\"\\u00A9 2019 MapQuest, Inc.\"},\"messages\":[]},\"options\":{\"maxResults\":-1,\"thumbMaps\":true,\"ignoreLatLngInput\":false},\"results\":[{\"providedLocation\":{\"location\":\"via finazzi 46, carvico(bg)\"},\"locations\":[{\"street\":\"\",\"adminArea6\":\"\",\"adminArea6Type\":\"Neighborhood\",\"adminArea5\":\"Carvico\",\"adminArea5Type\":\"City\",\"adminArea4\":\"BG\",\"adminArea4Type\":\"County\",\"adminArea3\":\"Lombardy\",\"adminArea3Type\":\"State\",\"adminArea1\":\"IT\",\"adminArea1Type\":\"Country\",\"postalCode\":\"\",\"geocodeQualityCode\":\"A5XAX\",\"geocodeQuality\":\"CITY\",\"dragPoint\":false,\"sideOfStreet\":\"N\",\"linkId\":\"282493759\",\"unknownInput\":\"\",\"type\":\"s\",\"latLng\":{\"lat\":45.703779,\"lng\":9.482249},\"displayLatLng\":{\"lat\":45.703779,\"lng\":9.482249},\"mapUrl\":\"http://www.mapquestapi.com/staticmap/v5/map?key=r3xgNwBAviBMdOj4Op90kvyy2iO1CDGz&type=map&size=225,160&locations=45.703779,9.482249|marker-sm-50318A-1&scalebar=true&zoom=12&rand=-540050133\"}]}]}\n"
     ]
    }
   ],
   "source": [
    "import json\n",
    "geo = json.loads(response.text)\n",
    "print(response.text)"
   ]
  },
  {
   "cell_type": "code",
   "execution_count": 40,
   "metadata": {},
   "outputs": [
    {
     "name": "stdout",
     "output_type": "stream",
     "text": [
      "45.703779\n",
      "9.482249\n"
     ]
    }
   ],
   "source": [
    "print(geo['results'][0]['locations'][0]['latLng']['lat'])\n",
    "print(geo['results'][0]['locations'][0]['latLng']['lng'])"
   ]
  },
  {
   "cell_type": "markdown",
   "metadata": {},
   "source": [
    "## Scraping completo da Immobiliare.it"
   ]
  },
  {
   "cell_type": "code",
   "execution_count": 11,
   "metadata": {},
   "outputs": [
    {
     "name": "stdout",
     "output_type": "stream",
     "text": [
      "<class 'pandas.core.frame.DataFrame'>\n",
      "Int64Index: 2460 entries, 60469012 to 73303904\n",
      "Data columns (total 5 columns):\n",
      "Unnamed: 0           2460 non-null int64\n",
      "descrizione_breve    2460 non-null object\n",
      "link                 2460 non-null object\n",
      "prezzo               2460 non-null object\n",
      "titolo               2460 non-null object\n",
      "dtypes: int64(1), object(4)\n",
      "memory usage: 115.3+ KB\n"
     ]
    }
   ],
   "source": [
    "ds_annunci.info()"
   ]
  },
  {
   "cell_type": "markdown",
   "metadata": {},
   "source": [
    "Aggiungiamo al nostro codice la chiamata a Clarify. Abbiamo solo 5.000 chiamate,\n",
    "quindi ci limitiamo alla prima immagine."
   ]
  },
  {
   "cell_type": "code",
   "execution_count": null,
   "metadata": {},
   "outputs": [],
   "source": [
    "dettagli = []\n",
    "immagini = []\n",
    "for annuncio_id, annuncio in tqdm(ds_annunci.iterrows(), total=ds_annunci.shape[0]):\n",
    "    try:\n",
    "        link = annuncio[\"link\"]\n",
    "        response = requests.get(link)\n",
    "        doc = bs4.BeautifulSoup(response.text)\n",
    "        descrizione = doc.select(\"div#description\")[0].text\n",
    "        caratteristiche = doc.select(\"div.im-property__features ul.list-piped > li .text-bold\")\n",
    "        indirizzo = doc.select(\"span.im-address__content\")[0].text\n",
    "        ## dati\n",
    "        dati = doc.select(\"dd.col-xs-12.col-sm-8 > span\")\n",
    "        tipologia = \"\"\n",
    "        if(len(dati)>0):\n",
    "            tipologia=dati[0].text\n",
    "        locali = \"\"\n",
    "        superficie = \"\"\n",
    "        bagni = \"\"\n",
    "        piano = \"\"\n",
    "        garanzia = \"\"\n",
    "        try:\n",
    "            locali = caratteristiche[0].text if(len(caratteristiche)>=1) else \"\"\n",
    "            superficie = caratteristiche[1].text if(len(caratteristiche)>=2) else \"\"\n",
    "            bagni = caratteristiche[2].text if(len(caratteristiche)>=3) else \"\"\n",
    "            piano = caratteristiche[3].text if(len(caratteristiche)>=4) else \"\"\n",
    "            garanzia = caratteristiche[4].text if(len(caratteristiche)>=5) else \"\"\n",
    "        except:\n",
    "            pass\n",
    "        \n",
    "        ## caratteristiche\n",
    "        fibra_ottica = \"N\"\n",
    "        porta_blindata = \"N\"\n",
    "        arredato = \"N\"\n",
    "        giardiano = \"N\"\n",
    "        tags = doc.select(\"span.label-gray\")\n",
    "        for tag in tags:\n",
    "            if tag.text == \"Fibra ottica\": fibra_ottica = \"Y\"\n",
    "            if tag.text == \"Porta blindata\": porta_blindata = \"Y\"\n",
    "            if tag.text == \"Giardino comune\": giardino = \"Y\"\n",
    "            if tag.text == \"Arredato\": arredato = \"Y\"\n",
    "        \n",
    "        ## geocoding\n",
    "        lat = \"\"\n",
    "        lon = \"\"\n",
    "        try:\n",
    "            key = \"r3xgNwBAviBMdOj4Op90kvyy2iO1CDGz\"\n",
    "            geocode_url = f\"http://www.mapquestapi.com/geocoding/v1/address?key={key}&location={indirizzo}\"\n",
    "            response = requests.get(geocode_url)\n",
    "            geo = json.loads(response.text)\n",
    "            lat = geo['results'][0]['locations'][0]['latLng']['lat']\n",
    "            lon = geo['results'][0]['locations'][0]['latLng']['lon']\n",
    "        except:\n",
    "            pass\n",
    "        \n",
    "        dettagli.append({'id': annuncio_id, 'descrizione': descrizione, 'locali': locali,\n",
    "                         'superficie': superficie, 'bagni': bagni,\n",
    "                         'piano': piano, 'garanzia': garanzia, 'indirizzo': indirizzo,\n",
    "                         'tipologia': tipologia, 'link': link, 'fibra_ottica': fibra_ottica,\n",
    "                        \"arredato\": arredato, 'porta_blindata': porta_blindata, 'lat': lat, 'lon': lon})\n",
    "        \n",
    "        ## immagini\n",
    "        imgs = doc.select(\"div.showcase__item > img\")\n",
    "        i = 0\n",
    "        for img in imgs:\n",
    "            src = img['src']\n",
    "            img_file = requests.get(src, stream=True)\n",
    "            if img_file.status_code == 200:\n",
    "                with open(\"/home/master/dataset/immobiliare/immagini/img_\" + str(annuncio_id) + \"_\" + str(i) + \".jpg\", 'wb') as f:\n",
    "                    f.write(img_file.content)\n",
    "                i = i+1\n",
    "            if(i==1):\n",
    "                filename = \"/home/master/dataset/immobiliare/immagini/img_\" + str(annuncio_id) + \"_0.jpg\"\n",
    "                response = model.predict_by_filename(filename) \n",
    "                if(response['status']['description'] == \"Ok\"):\n",
    "                    for concept in response[\"outputs\"][0][\"data\"][\"concepts\"]:\n",
    "                        name = concept[\"name\"]\n",
    "                        value = concept[\"value\"]\n",
    "                        immagini.append({'id': annuncio_id, 'immagine': filename, 'name': name,\n",
    "                         'value': value, 'src': src})\n",
    "    except:\n",
    "        pass\n",
    "\n",
    "\n",
    "len(dettagli)"
   ]
  },
  {
   "cell_type": "code",
   "execution_count": 15,
   "metadata": {},
   "outputs": [
    {
     "data": {
      "text/html": [
       "<div>\n",
       "<style scoped>\n",
       "    .dataframe tbody tr th:only-of-type {\n",
       "        vertical-align: middle;\n",
       "    }\n",
       "\n",
       "    .dataframe tbody tr th {\n",
       "        vertical-align: top;\n",
       "    }\n",
       "\n",
       "    .dataframe thead th {\n",
       "        text-align: right;\n",
       "    }\n",
       "</style>\n",
       "<table border=\"1\" class=\"dataframe\">\n",
       "  <thead>\n",
       "    <tr style=\"text-align: right;\">\n",
       "      <th></th>\n",
       "      <th>id</th>\n",
       "      <th>immagine</th>\n",
       "      <th>name</th>\n",
       "      <th>src</th>\n",
       "      <th>value</th>\n",
       "    </tr>\n",
       "  </thead>\n",
       "  <tbody>\n",
       "    <tr>\n",
       "      <th>0</th>\n",
       "      <td>72525508</td>\n",
       "      <td>/home/master/dataset/immobiliare/immagini/img_...</td>\n",
       "      <td>architecture</td>\n",
       "      <td>https://pic.im-cdn.it/image/777419290/m-c.jpg</td>\n",
       "      <td>0.995366</td>\n",
       "    </tr>\n",
       "    <tr>\n",
       "      <th>1</th>\n",
       "      <td>72525508</td>\n",
       "      <td>/home/master/dataset/immobiliare/immagini/img_...</td>\n",
       "      <td>building</td>\n",
       "      <td>https://pic.im-cdn.it/image/777419290/m-c.jpg</td>\n",
       "      <td>0.992247</td>\n",
       "    </tr>\n",
       "    <tr>\n",
       "      <th>2</th>\n",
       "      <td>72525508</td>\n",
       "      <td>/home/master/dataset/immobiliare/immagini/img_...</td>\n",
       "      <td>house</td>\n",
       "      <td>https://pic.im-cdn.it/image/777419290/m-c.jpg</td>\n",
       "      <td>0.991236</td>\n",
       "    </tr>\n",
       "    <tr>\n",
       "      <th>3</th>\n",
       "      <td>72525508</td>\n",
       "      <td>/home/master/dataset/immobiliare/immagini/img_...</td>\n",
       "      <td>home</td>\n",
       "      <td>https://pic.im-cdn.it/image/777419290/m-c.jpg</td>\n",
       "      <td>0.986825</td>\n",
       "    </tr>\n",
       "    <tr>\n",
       "      <th>4</th>\n",
       "      <td>72525508</td>\n",
       "      <td>/home/master/dataset/immobiliare/immagini/img_...</td>\n",
       "      <td>city</td>\n",
       "      <td>https://pic.im-cdn.it/image/777419290/m-c.jpg</td>\n",
       "      <td>0.967805</td>\n",
       "    </tr>\n",
       "  </tbody>\n",
       "</table>\n",
       "</div>"
      ],
      "text/plain": [
       "         id                                           immagine          name  \\\n",
       "0  72525508  /home/master/dataset/immobiliare/immagini/img_...  architecture   \n",
       "1  72525508  /home/master/dataset/immobiliare/immagini/img_...      building   \n",
       "2  72525508  /home/master/dataset/immobiliare/immagini/img_...         house   \n",
       "3  72525508  /home/master/dataset/immobiliare/immagini/img_...          home   \n",
       "4  72525508  /home/master/dataset/immobiliare/immagini/img_...          city   \n",
       "\n",
       "                                             src     value  \n",
       "0  https://pic.im-cdn.it/image/777419290/m-c.jpg  0.995366  \n",
       "1  https://pic.im-cdn.it/image/777419290/m-c.jpg  0.992247  \n",
       "2  https://pic.im-cdn.it/image/777419290/m-c.jpg  0.991236  \n",
       "3  https://pic.im-cdn.it/image/777419290/m-c.jpg  0.986825  \n",
       "4  https://pic.im-cdn.it/image/777419290/m-c.jpg  0.967805  "
      ]
     },
     "execution_count": 15,
     "metadata": {},
     "output_type": "execute_result"
    }
   ],
   "source": [
    "import pandas as pd\n",
    "ds_dettagli = pd.DataFrame(dettagli)\n",
    "ds_dettagli.set_index(\"id\")\n",
    "ds_dettagli.head()\n",
    "\n",
    "\n",
    "ds_immagini = pd.DataFrame(immagini)\n",
    "ds_immagini.head()"
   ]
  },
  {
   "cell_type": "code",
   "execution_count": 16,
   "metadata": {},
   "outputs": [],
   "source": [
    "ds_dettagli.to_csv(\"/home/master/dataset/immobiliare/immobiliare_dettagli.csv\")\n",
    "ds_immagini.to_csv(\"/home/master/dataset/immobiliare/immobiliare_immagini.csv\")"
   ]
  },
  {
   "cell_type": "code",
   "execution_count": 17,
   "metadata": {},
   "outputs": [
    {
     "name": "stdout",
     "output_type": "stream",
     "text": [
      "<class 'pandas.core.frame.DataFrame'>\n",
      "RangeIndex: 11840 entries, 0 to 11839\n",
      "Data columns (total 5 columns):\n",
      "id          11840 non-null int64\n",
      "immagine    11840 non-null object\n",
      "name        11840 non-null object\n",
      "src         11840 non-null object\n",
      "value       11840 non-null float64\n",
      "dtypes: float64(1), int64(1), object(3)\n",
      "memory usage: 462.6+ KB\n"
     ]
    }
   ],
   "source": [
    "ds_immagini.info()"
   ]
  },
  {
   "cell_type": "code",
   "execution_count": null,
   "metadata": {},
   "outputs": [],
   "source": []
  }
 ],
 "metadata": {
  "kernelspec": {
   "display_name": "Python 3",
   "language": "python",
   "name": "python3"
  },
  "language_info": {
   "codemirror_mode": {
    "name": "ipython",
    "version": 3
   },
   "file_extension": ".py",
   "mimetype": "text/x-python",
   "name": "python",
   "nbconvert_exporter": "python",
   "pygments_lexer": "ipython3",
   "version": "3.6.4"
  }
 },
 "nbformat": 4,
 "nbformat_minor": 2
}
